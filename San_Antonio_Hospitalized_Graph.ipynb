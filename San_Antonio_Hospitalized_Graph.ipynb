{
 "cells": [
  {
   "cell_type": "code",
   "execution_count": 1,
   "metadata": {},
   "outputs": [],
   "source": [
    "import pandas as pd\n",
    "import matplotlib.pyplot as plt\n",
    "import numpy as np\n",
    "import datetime"
   ]
  },
  {
   "cell_type": "code",
   "execution_count": 2,
   "metadata": {},
   "outputs": [
    {
     "name": "stdout",
     "output_type": "stream",
     "text": [
      "-rwxr-xr-x 1 ldhagen ldhagen 76203 Jun  9 16:22 \u001b[0m\u001b[01;32m'../fixed Texas COVID-19 Active Case Data by County.xlsx'\u001b[0m*\r\n",
      "-rw-r--r-- 1 ldhagen ldhagen 71145 Jun  9 16:05 '../Texas COVID-19 Fatality Count Data by County.xlsx'\r\n",
      "-rw-r--r-- 1 ldhagen ldhagen 16562 Jun  9 16:00 '../Texas COVID-19 Hospitalizations by TSA.xlsx'\r\n",
      "-rw-r--r-- 1 ldhagen ldhagen 81879 Jun  9 16:00 '../Cumulative Tests over Time by County.xlsx'\r\n",
      "-rw-r--r-- 1 ldhagen ldhagen 75221 Jun  9 16:00 '../Texas COVID-19 Active Case Data by County.xlsx'\r\n",
      "-rw-r--r-- 1 ldhagen ldhagen 85488 Jun  9 16:00 '../Texas COVID-19 Case Count Data by County.xlsx'\r\n"
     ]
    }
   ],
   "source": [
    "ls -alt ../*.xlsx"
   ]
  },
  {
   "cell_type": "code",
   "execution_count": 3,
   "metadata": {},
   "outputs": [],
   "source": [
    "df_Texas_Covid_case = pd.read_excel(\"../Texas COVID-19 Hospitalizations by TSA.xlsx\", header=2)"
   ]
  },
  {
   "cell_type": "code",
   "execution_count": 4,
   "metadata": {},
   "outputs": [],
   "source": [
    "a = df_Texas_Covid_case.set_index('TSA Name')"
   ]
  },
  {
   "cell_type": "code",
   "execution_count": 5,
   "metadata": {},
   "outputs": [
    {
     "data": {
      "text/plain": [
       "Timestamp('2020-04-08 00:00:00')"
      ]
     },
     "execution_count": 5,
     "metadata": {},
     "output_type": "execute_result"
    }
   ],
   "source": [
    "a.T['San Antonio'][1:].index[0]"
   ]
  },
  {
   "cell_type": "code",
   "execution_count": 6,
   "metadata": {},
   "outputs": [
    {
     "name": "stdout",
     "output_type": "stream",
     "text": [
      "2020-04-08 00:00:00 69\n",
      "2020-04-09 00:00:00 62\n",
      "2020-04-10 00:00:00 62\n",
      "2020-04-11 00:00:00 62\n",
      "2020-04-12 00:00:00 57\n",
      "2020-04-13 00:00:00 57\n",
      "2020-04-14 00:00:00 64\n",
      "2020-04-15 00:00:00 65\n",
      "2020-04-16 00:00:00 30\n",
      "2020-04-17 00:00:00 47\n",
      "2020-04-18 00:00:00 52\n",
      "2020-04-19 00:00:00 46\n",
      "2020-04-20 00:00:00 38\n",
      "2020-04-21 00:00:00 45\n",
      "2020-04-22 00:00:00 109\n",
      "2020-04-23 00:00:00 80\n",
      "2020-04-24 00:00:00 63\n",
      "2020-04-25 00:00:00 53\n",
      "2020-04-26 00:00:00 60\n",
      "2020-04-27 00:00:00 59\n",
      "2020-04-28 00:00:00 59\n",
      "2020-04-29 00:00:00 58\n",
      "2020-04-30 00:00:00 53\n",
      "2020-05-01 00:00:00 54\n",
      "2020-05-02 00:00:00 57\n",
      "2020-05-03 00:00:00 61\n",
      "2020-05-04 00:00:00 56\n",
      "2020-05-05 00:00:00 67\n",
      "2020-05-06 00:00:00 69\n",
      "2020-05-07 00:00:00 56\n",
      "2020-05-08 00:00:00 68\n",
      "2020-05-09 00:00:00 71\n",
      "2020-05-10 00:00:00 59\n",
      "2020-05-11 00:00:00 53\n",
      "2020-05-12 00:00:00 72\n",
      "2020-05-13 00:00:00 71\n",
      "2020-05-14 00:00:00 61\n",
      "2020-05-15 00:00:00 65\n",
      "2020-05-16 00:00:00 76\n",
      "2020-05-17 00:00:00 82\n",
      "2020-05-18 00:00:00 80\n",
      "2020-05-19 00:00:00 84\n",
      "2020-05-20 00:00:00 93\n",
      "2020-05-21 00:00:00 95\n",
      "2020-05-22 00:00:00 90\n",
      "2020-05-23 00:00:00 96\n",
      "2020-05-24 00:00:00 93\n",
      "2020-05-25 00:00:00 87\n",
      "2020-05-26 00:00:00 90\n",
      "2020-05-27 00:00:00 108\n",
      "2020-05-28 00:00:00 106\n",
      "2020-05-29 00:00:00 107\n",
      "2020-05-30 00:00:00 98\n",
      "2020-05-31 00:00:00 90\n",
      "2020-06-01 00:00:00 105\n",
      "2020-06-02 00:00:00 87\n",
      "2020-06-03 00:00:00 101\n",
      "2020-06-04 00:00:00 74\n",
      "2020-06-05 00:00:00 111\n",
      "2020-06-06 00:00:00 98\n",
      "2020-06-07 00:00:00 94\n",
      "2020-06-08 00:00:00 99\n",
      "2020-06-09 00:00:00 119\n"
     ]
    }
   ],
   "source": [
    "count = 0\n",
    "dated_dict = {}\n",
    "for x in a.T['San Antonio'][1:]:\n",
    "    print(a.T['San Antonio'][1:].index[count], x)\n",
    "    dated_dict[a.T['San Antonio'][1:].index[count]] = x\n",
    "    count += 1"
   ]
  },
  {
   "cell_type": "code",
   "execution_count": 7,
   "metadata": {},
   "outputs": [],
   "source": [
    "dated_df = pd.DataFrame(dated_dict.items(), columns=['Date', 'Hospitalized'])"
   ]
  },
  {
   "cell_type": "code",
   "execution_count": 8,
   "metadata": {},
   "outputs": [],
   "source": [
    "c = dated_df.set_index('Date')"
   ]
  },
  {
   "cell_type": "code",
   "execution_count": 9,
   "metadata": {},
   "outputs": [
    {
     "data": {
      "image/png": "[encoded data removed]",
      "text/plain": [
       "<Figure size 432x288 with 1 Axes>"
      ]
     },
     "metadata": {
      "needs_background": "light"
     },
     "output_type": "display_data"
    }
   ],
   "source": [
    "import datetime\n",
    "import matplotlib.dates as mdates\n",
    "months = mdates.MonthLocator()\n",
    "days = mdates.DayLocator()\n",
    "timeFmt = mdates.DateFormatter('%b %Y')\n",
    "fig, ax = plt.subplots()\n",
    "ax.xaxis.set_major_locator(months)\n",
    "ax.xaxis.set_major_formatter(timeFmt)\n",
    "ax.xaxis.set_minor_locator(days)\n",
    "plt.xlabel('Date',color='black')\n",
    "plt.ylabel('Number Hospitalized',color='black')\n",
    "plt.plot(c)\n",
    "plt.title('San Antonio Area Hospitalized COVID19 Cases')\n",
    "plt.savefig('San Antonio Hospitalized.png')"
   ]
  },
  {
   "cell_type": "code",
   "execution_count": 10,
   "metadata": {},
   "outputs": [
    {
     "data": {
      "text/html": [
       "<div>\n",
       "<style scoped>\n",
       "    .dataframe tbody tr th:only-of-type {\n",
       "        vertical-align: middle;\n",
       "    }\n",
       "\n",
       "    .dataframe tbody tr th {\n",
       "        vertical-align: top;\n",
       "    }\n",
       "\n",
       "    .dataframe thead th {\n",
       "        text-align: right;\n",
       "    }\n",
       "</style>\n",
       "<table border=\"1\" class=\"dataframe\">\n",
       "  <thead>\n",
       "    <tr style=\"text-align: right;\">\n",
       "      <th></th>\n",
       "      <th>Hospitalized</th>\n",
       "    </tr>\n",
       "    <tr>\n",
       "      <th>Date</th>\n",
       "      <th></th>\n",
       "    </tr>\n",
       "  </thead>\n",
       "  <tbody>\n",
       "    <tr>\n",
       "      <th>2020-04-08</th>\n",
       "      <td>69</td>\n",
       "    </tr>\n",
       "    <tr>\n",
       "      <th>2020-04-09</th>\n",
       "      <td>62</td>\n",
       "    </tr>\n",
       "    <tr>\n",
       "      <th>2020-04-10</th>\n",
       "      <td>62</td>\n",
       "    </tr>\n",
       "    <tr>\n",
       "      <th>2020-04-11</th>\n",
       "      <td>62</td>\n",
       "    </tr>\n",
       "    <tr>\n",
       "      <th>2020-04-12</th>\n",
       "      <td>57</td>\n",
       "    </tr>\n",
       "    <tr>\n",
       "      <th>...</th>\n",
       "      <td>...</td>\n",
       "    </tr>\n",
       "    <tr>\n",
       "      <th>2020-06-05</th>\n",
       "      <td>111</td>\n",
       "    </tr>\n",
       "    <tr>\n",
       "      <th>2020-06-06</th>\n",
       "      <td>98</td>\n",
       "    </tr>\n",
       "    <tr>\n",
       "      <th>2020-06-07</th>\n",
       "      <td>94</td>\n",
       "    </tr>\n",
       "    <tr>\n",
       "      <th>2020-06-08</th>\n",
       "      <td>99</td>\n",
       "    </tr>\n",
       "    <tr>\n",
       "      <th>2020-06-09</th>\n",
       "      <td>119</td>\n",
       "    </tr>\n",
       "  </tbody>\n",
       "</table>\n",
       "<p>63 rows × 1 columns</p>\n",
       "</div>"
      ],
      "text/plain": [
       "            Hospitalized\n",
       "Date                    \n",
       "2020-04-08            69\n",
       "2020-04-09            62\n",
       "2020-04-10            62\n",
       "2020-04-11            62\n",
       "2020-04-12            57\n",
       "...                  ...\n",
       "2020-06-05           111\n",
       "2020-06-06            98\n",
       "2020-06-07            94\n",
       "2020-06-08            99\n",
       "2020-06-09           119\n",
       "\n",
       "[63 rows x 1 columns]"
      ]
     },
     "execution_count": 10,
     "metadata": {},
     "output_type": "execute_result"
    }
   ],
   "source": [
    "c"
   ]
  },
  {
   "cell_type": "code",
   "execution_count": null,
   "metadata": {},
   "outputs": [],
   "source": []
  }
 ],
 "metadata": {
  "kernelspec": {
   "display_name": "Python 3",
   "language": "python",
   "name": "python3"
  },
  "language_info": {
   "codemirror_mode": {
    "name": "ipython",
    "version": 3
   },
   "file_extension": ".py",
   "mimetype": "text/x-python",
   "name": "python",
   "nbconvert_exporter": "python",
   "pygments_lexer": "ipython3",
   "version": "3.7.3"
  }
 },
 "nbformat": 4,
 "nbformat_minor": 2
}
