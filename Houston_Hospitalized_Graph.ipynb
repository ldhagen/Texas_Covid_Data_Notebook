{
 "cells": [
  {
   "cell_type": "code",
   "execution_count": 1,
   "metadata": {},
   "outputs": [],
   "source": [
    "import pandas as pd\n",
    "import matplotlib.pyplot as plt\n",
    "import numpy as np\n",
    "import datetime"
   ]
  },
  {
   "cell_type": "code",
   "execution_count": 2,
   "metadata": {},
   "outputs": [
    {
     "name": "stdout",
     "output_type": "stream",
     "text": [
      "-rwxrwxrwx 1 ldhagen ldhagen  22908 Jun 23 16:28 \u001b[0m\u001b[01;32m'../Texas COVID-19 Hospitalizations by TSA.xlsx'\u001b[0m*\r\n",
      "-rwxrwxrwx 1 ldhagen ldhagen 106852 Jun 23 16:28 \u001b[01;32m'../Cumulative Tests over Time by County.xlsx'\u001b[0m*\r\n",
      "-rwxrwxrwx 1 ldhagen ldhagen  88687 Jun 23 16:28 \u001b[01;32m'../Texas COVID-19 Active Case Data by County.xlsx'\u001b[0m*\r\n",
      "-rwxrwxrwx 1 ldhagen ldhagen 103217 Jun 23 16:28 \u001b[01;32m'../Texas COVID-19 Fatality Count Data by County.xlsx'\u001b[0m*\r\n",
      "-rwxrwxrwx 1 ldhagen ldhagen  98780 Jun 23 16:28 \u001b[01;32m'../Texas COVID-19 Case Count Data by County.xlsx'\u001b[0m*\r\n",
      "-rwxrwxrwx 1 ldhagen ldhagen  51646 Jun 23 16:20 \u001b[01;32m'../CaseCountData (1).xlsx'\u001b[0m*\r\n",
      "-rwxrwxrwx 1 ldhagen ldhagen  49924 Jun 22 16:00  \u001b[01;32m../CaseCountData.xlsx\u001b[0m*\r\n"
     ]
    }
   ],
   "source": [
    "ls -alt ../*.xlsx"
   ]
  },
  {
   "cell_type": "code",
   "execution_count": 3,
   "metadata": {},
   "outputs": [],
   "source": [
    "df_Texas_Covid_case = pd.read_excel(\"../Texas COVID-19 Hospitalizations by TSA.xlsx\", header=2)"
   ]
  },
  {
   "cell_type": "code",
   "execution_count": 4,
   "metadata": {},
   "outputs": [],
   "source": [
    "a = df_Texas_Covid_case.set_index('TSA Name')"
   ]
  },
  {
   "cell_type": "code",
   "execution_count": 5,
   "metadata": {},
   "outputs": [
    {
     "data": {
      "text/plain": [
       "Index(['Amarillo', 'Lubbock', 'Wichita Falls', 'Abilene', 'Dallas/Ft. Worth',\n",
       "       'Paris', 'Longview/Tyler', 'Lufkin', 'El Paso', 'Midland/Odessa',\n",
       "       'San Angelo', 'Belton/Killeen', 'Waco', 'Bryan/College Station',\n",
       "       'Austin', 'San Antonio', 'Houston', 'Galveston', 'Victoria', 'Laredo',\n",
       "       'Corpus Christi', 'Lower Rio Grande Valley', 'Statewide Total'],\n",
       "      dtype='object', name='TSA Name')"
      ]
     },
     "execution_count": 5,
     "metadata": {},
     "output_type": "execute_result"
    }
   ],
   "source": [
    "a.index"
   ]
  },
  {
   "cell_type": "code",
   "execution_count": 6,
   "metadata": {},
   "outputs": [
    {
     "data": {
      "text/plain": [
       "Timestamp('2020-04-08 00:00:00')"
      ]
     },
     "execution_count": 6,
     "metadata": {},
     "output_type": "execute_result"
    }
   ],
   "source": [
    "a.T['Houston'][1:].index[0]"
   ]
  },
  {
   "cell_type": "code",
   "execution_count": 7,
   "metadata": {},
   "outputs": [],
   "source": [
    "count = 0\n",
    "dated_dict = {}\n",
    "for x in a.T['Houston'][1:]:\n",
    "  #  print(a.T['San Antonio'][1:].index[count], x)\n",
    "    dated_dict[a.T['Houston'][1:].index[count]] = x\n",
    "    count += 1"
   ]
  },
  {
   "cell_type": "code",
   "execution_count": 8,
   "metadata": {},
   "outputs": [],
   "source": [
    "dated_df = pd.DataFrame(dated_dict.items(), columns=['Date', 'Hospitalized'])"
   ]
  },
  {
   "cell_type": "code",
   "execution_count": 9,
   "metadata": {},
   "outputs": [],
   "source": [
    "c = dated_df.set_index('Date')"
   ]
  },
  {
   "cell_type": "code",
   "execution_count": 10,
   "metadata": {},
   "outputs": [
    {
     "data": {
      "image/png": "[encoded data removed]",
      "text/plain": [
       "<Figure size 720x360 with 1 Axes>"
      ]
     },
     "metadata": {
      "needs_background": "light"
     },
     "output_type": "display_data"
    }
   ],
   "source": [
    "import datetime\n",
    "import matplotlib.dates as mdates\n",
    "months = mdates.MonthLocator()\n",
    "days = mdates.DayLocator()\n",
    "timeFmt = mdates.DateFormatter('%b %Y')\n",
    "fig, ax = plt.subplots()\n",
    "fig.set_size_inches(10,5)\n",
    "ax.xaxis.set_major_locator(months)\n",
    "ax.xaxis.set_major_formatter(timeFmt)\n",
    "ax.xaxis.set_minor_locator(days)\n",
    "plt.xlabel('Date',color='black')\n",
    "plt.ylabel('Number Hospitalized',color='black')\n",
    "plt.plot(c)\n",
    "plt.title('Houston Area Hospitalized COVID19 Cases')\n",
    "plt.savefig('Houston Hospitalized.png')"
   ]
  },
  {
   "cell_type": "code",
   "execution_count": 11,
   "metadata": {},
   "outputs": [
    {
     "data": {
      "text/html": [
       "<div>\n",
       "<style scoped>\n",
       "    .dataframe tbody tr th:only-of-type {\n",
       "        vertical-align: middle;\n",
       "    }\n",
       "\n",
       "    .dataframe tbody tr th {\n",
       "        vertical-align: top;\n",
       "    }\n",
       "\n",
       "    .dataframe thead th {\n",
       "        text-align: right;\n",
       "    }\n",
       "</style>\n",
       "<table border=\"1\" class=\"dataframe\">\n",
       "  <thead>\n",
       "    <tr style=\"text-align: right;\">\n",
       "      <th></th>\n",
       "      <th>Hospitalized</th>\n",
       "    </tr>\n",
       "    <tr>\n",
       "      <th>Date</th>\n",
       "      <th></th>\n",
       "    </tr>\n",
       "  </thead>\n",
       "  <tbody>\n",
       "    <tr>\n",
       "      <th>2020-04-08</th>\n",
       "      <td>495</td>\n",
       "    </tr>\n",
       "    <tr>\n",
       "      <th>2020-04-09</th>\n",
       "      <td>570</td>\n",
       "    </tr>\n",
       "    <tr>\n",
       "      <th>2020-04-10</th>\n",
       "      <td>582</td>\n",
       "    </tr>\n",
       "    <tr>\n",
       "      <th>2020-04-11</th>\n",
       "      <td>610</td>\n",
       "    </tr>\n",
       "    <tr>\n",
       "      <th>2020-04-12</th>\n",
       "      <td>516</td>\n",
       "    </tr>\n",
       "    <tr>\n",
       "      <th>...</th>\n",
       "      <td>...</td>\n",
       "    </tr>\n",
       "    <tr>\n",
       "      <th>2020-06-19</th>\n",
       "      <td>1031</td>\n",
       "    </tr>\n",
       "    <tr>\n",
       "      <th>2020-06-20</th>\n",
       "      <td>1040</td>\n",
       "    </tr>\n",
       "    <tr>\n",
       "      <th>2020-06-21</th>\n",
       "      <td>1062</td>\n",
       "    </tr>\n",
       "    <tr>\n",
       "      <th>2020-06-22</th>\n",
       "      <td>1185</td>\n",
       "    </tr>\n",
       "    <tr>\n",
       "      <th>2020-06-23</th>\n",
       "      <td>1293</td>\n",
       "    </tr>\n",
       "  </tbody>\n",
       "</table>\n",
       "<p>77 rows × 1 columns</p>\n",
       "</div>"
      ],
      "text/plain": [
       "            Hospitalized\n",
       "Date                    \n",
       "2020-04-08           495\n",
       "2020-04-09           570\n",
       "2020-04-10           582\n",
       "2020-04-11           610\n",
       "2020-04-12           516\n",
       "...                  ...\n",
       "2020-06-19          1031\n",
       "2020-06-20          1040\n",
       "2020-06-21          1062\n",
       "2020-06-22          1185\n",
       "2020-06-23          1293\n",
       "\n",
       "[77 rows x 1 columns]"
      ]
     },
     "execution_count": 11,
     "metadata": {},
     "output_type": "execute_result"
    }
   ],
   "source": [
    "c"
   ]
  },
  {
   "cell_type": "code",
   "execution_count": 12,
   "metadata": {},
   "outputs": [],
   "source": [
    "x = c.diff(periods = 1)"
   ]
  },
  {
   "cell_type": "code",
   "execution_count": 13,
   "metadata": {},
   "outputs": [],
   "source": [
    "x.rename(columns={'Hospitalized':'Daily Change'}, inplace=True)"
   ]
  },
  {
   "cell_type": "code",
   "execution_count": 14,
   "metadata": {},
   "outputs": [
    {
     "data": {
      "image/png": "[encoded data removed]",
      "text/plain": [
       "<Figure size 720x360 with 1 Axes>"
      ]
     },
     "metadata": {
      "needs_background": "light"
     },
     "output_type": "display_data"
    }
   ],
   "source": [
    "months = mdates.MonthLocator()\n",
    "days = mdates.DayLocator()\n",
    "timeFmt = mdates.DateFormatter('%b %Y')\n",
    "fig, ax = plt.subplots()\n",
    "fig.set_size_inches(10,5)\n",
    "ax.xaxis.set_major_locator(months)\n",
    "ax.xaxis.set_major_formatter(timeFmt)\n",
    "ax.xaxis.set_minor_locator(days)\n",
    "plt.xlabel('Date',color='black')\n",
    "plt.ylabel('New Cases',color='black')\n",
    "plt.title('Houston Hospitalized Daily Change')\n",
    "plt.bar(x.index,x['Daily Change'])\n",
    "fig.savefig('HoustonHospChangeDaily.png')"
   ]
  },
  {
   "cell_type": "code",
   "execution_count": null,
   "metadata": {},
   "outputs": [],
   "source": []
  }
 ],
 "metadata": {
  "kernelspec": {
   "display_name": "Python 3",
   "language": "python",
   "name": "python3"
  },
  "language_info": {
   "codemirror_mode": {
    "name": "ipython",
    "version": 3
   },
   "file_extension": ".py",
   "mimetype": "text/x-python",
   "name": "python",
   "nbconvert_exporter": "python",
   "pygments_lexer": "ipython3",
   "version": "3.8.2"
  }
 },
 "nbformat": 4,
 "nbformat_minor": 2
}
