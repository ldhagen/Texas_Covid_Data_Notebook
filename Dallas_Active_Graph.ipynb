{
 "cells": [
  {
   "cell_type": "code",
   "execution_count": 1,
   "metadata": {},
   "outputs": [],
   "source": [
    "import pandas as pd\n",
    "import matplotlib.pyplot as plt\n",
    "import numpy as np\n",
    "import datetime"
   ]
  },
  {
   "cell_type": "code",
   "execution_count": 2,
   "metadata": {},
   "outputs": [
    {
     "name": "stdout",
     "output_type": "stream",
     "text": [
      "total 1376\r\n",
      "-rw------- 1 ldhagen ldhagen  10017 Jun  9 12:50  nohup.out\r\n",
      "drwxr-xr-x 4 ldhagen ldhagen   4096 Jun  9 12:50  Texas_Covid_Data_Notebook\r\n",
      "drwxr-xr-x 4 ldhagen ldhagen   4096 Jun  9 12:26  .\r\n",
      "-rwxr-xr-x 1 ldhagen ldhagen  73996 Jun  9 12:24 'fixed Texas COVID-19 Active Case Data by County.xlsx'\r\n",
      "-rw-r--r-- 1 ldhagen ldhagen  16414 Jun  8 20:38 'Texas COVID-19 Hospitalizations by TSA.xlsx'\r\n",
      "-rw-r--r-- 1 ldhagen ldhagen  76453 Jun  8 20:37 'Cumulative Tests over Time by County.xlsx'\r\n",
      "-rw-r--r-- 1 ldhagen ldhagen  74040 Jun  8 20:37 'Texas COVID-19 Active Case Data by County.xlsx'\r\n",
      "-rw-r--r-- 1 ldhagen ldhagen  70518 Jun  8 20:37 'Texas COVID-19 Fatality Count Data by County.xlsx'\r\n",
      "-rw-r--r-- 1 ldhagen ldhagen  84520 Jun  8 20:37 'Texas COVID-19 Case Count Data by County.xlsx'\r\n",
      "drwxr-xr-x 4 ldhagen ldhagen   4096 Jun  7 20:24  ..\r\n",
      "-rw-r--r-- 1 ldhagen ldhagen 955719 Jun  6 17:57  ME097_WS_San_Geronimo_180_D_2020_06_06_17_57_19_CDT_1.csv\r\n",
      "drwxr-xr-x 2 ldhagen ldhagen   4096 Jun  4 19:59  .ipynb_checkpoints\r\n",
      "-rw-r--r-- 1 ldhagen ldhagen     72 Jun  4 19:59  Untitled1.ipynb\r\n",
      "-rw-r--r-- 1 ldhagen ldhagen     72 Jun  2 18:26  Untitled.ipynb\r\n"
     ]
    }
   ],
   "source": [
    "!ls -alt .."
   ]
  },
  {
   "cell_type": "code",
   "execution_count": 3,
   "metadata": {},
   "outputs": [],
   "source": [
    "df_Texas_Covid_case = pd.read_excel(\"../fixed Texas COVID-19 Active Case Data by County.xlsx\",header=2)"
   ]
  },
  {
   "cell_type": "code",
   "execution_count": 4,
   "metadata": {},
   "outputs": [],
   "source": [
    "a = df_Texas_Covid_case.set_index('County')"
   ]
  },
  {
   "cell_type": "code",
   "execution_count": 5,
   "metadata": {},
   "outputs": [],
   "source": [
    "b = a.T.Dallas[a.columns[1:]]"
   ]
  },
  {
   "cell_type": "code",
   "execution_count": 6,
   "metadata": {},
   "outputs": [
    {
     "data": {
      "text/plain": [
       "Unnamed: 0                  NaN\n",
       "Active\\r\\nCases\\r\\n4-7     1035\n",
       "Active\\r\\nCases\\r\\n4-8     1111\n",
       "Active\\r\\nCases\\r\\n4-9     1067\n",
       "Active\\r\\nCases\\r\\n4-10    1122\n",
       "                           ... \n",
       "Active\\r\\nCases\\r\\n6-3     3581\n",
       "Active\\r\\nCases\\r\\n6-4     3781\n",
       "Active\\nCases\\n6-5         3733\n",
       "Active\\nCases\\n6-6         3814\n",
       "Active\\nCases\\n6-8         3916\n",
       "Name: Dallas, Length: 63, dtype: object"
      ]
     },
     "execution_count": 6,
     "metadata": {},
     "output_type": "execute_result"
    }
   ],
   "source": [
    "a.T.Dallas"
   ]
  },
  {
   "cell_type": "markdown",
   "metadata": {},
   "source": [
    "count = 0\n",
    "for x in a.T[1:]:\n",
    "    "
   ]
  },
  {
   "cell_type": "code",
   "execution_count": 7,
   "metadata": {},
   "outputs": [
    {
     "data": {
      "text/plain": [
       "'4'"
      ]
     },
     "execution_count": 7,
     "metadata": {},
     "output_type": "execute_result"
    }
   ],
   "source": [
    "b.index[0].split('\\n')[2].split('-')[0]"
   ]
  },
  {
   "cell_type": "code",
   "execution_count": 8,
   "metadata": {},
   "outputs": [],
   "source": [
    "dated_dict = {}\n",
    "count = 0\n",
    "for x in b:\n",
    "    month_temp = int(b.index[count].split('\\n')[2].split('-')[0])\n",
    "    day_temp = int(b.index[count].split('\\n')[2].split('-')[1])\n",
    "    dated_dict[datetime.datetime(2020, month_temp, day_temp)] = b[count]\n",
    "    count += 1"
   ]
  },
  {
   "cell_type": "code",
   "execution_count": 9,
   "metadata": {},
   "outputs": [],
   "source": [
    "dated_df = pd.DataFrame(dated_dict.items(), columns=['Date', 'Active Cases'])"
   ]
  },
  {
   "cell_type": "code",
   "execution_count": 10,
   "metadata": {},
   "outputs": [],
   "source": [
    "c = dated_df.set_index('Date')"
   ]
  },
  {
   "cell_type": "code",
   "execution_count": 11,
   "metadata": {},
   "outputs": [
    {
     "data": {
      "image/png": "[encoded data removed]",
      "text/plain": [
       "<Figure size 432x288 with 1 Axes>"
      ]
     },
     "metadata": {
      "needs_background": "light"
     },
     "output_type": "display_data"
    }
   ],
   "source": [
    "import datetime\n",
    "import matplotlib.dates as mdates\n",
    "months = mdates.MonthLocator()\n",
    "days = mdates.DayLocator()\n",
    "timeFmt = mdates.DateFormatter('%b %Y')\n",
    "fig, ax = plt.subplots()\n",
    "ax.xaxis.set_major_locator(months)\n",
    "ax.xaxis.set_major_formatter(timeFmt)\n",
    "ax.xaxis.set_minor_locator(days)\n",
    "plt.xlabel('Date',color='black')\n",
    "plt.ylabel('Number Active',color='black')\n",
    "plt.plot(c)\n",
    "plt.title('Dallas County Active COVID19 Cases')\n",
    "plt.savefig('DallasActive.png')"
   ]
  },
  {
   "cell_type": "code",
   "execution_count": null,
   "metadata": {},
   "outputs": [],
   "source": []
  }
 ],
 "metadata": {
  "kernelspec": {
   "display_name": "Python 3",
   "language": "python",
   "name": "python3"
  },
  "language_info": {
   "codemirror_mode": {
    "name": "ipython",
    "version": 3
   },
   "file_extension": ".py",
   "mimetype": "text/x-python",
   "name": "python",
   "nbconvert_exporter": "python",
   "pygments_lexer": "ipython3",
   "version": "3.7.3"
  }
 },
 "nbformat": 4,
 "nbformat_minor": 2
}
