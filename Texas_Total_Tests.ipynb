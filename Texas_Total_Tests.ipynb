{
 "cells": [
  {
   "cell_type": "code",
   "execution_count": 1,
   "metadata": {},
   "outputs": [],
   "source": [
    "import pandas as pd\n",
    "import matplotlib.pyplot as plt\n",
    "import numpy as np\n",
    "import datetime"
   ]
  },
  {
   "cell_type": "code",
   "execution_count": 2,
   "metadata": {},
   "outputs": [
    {
     "name": "stdout",
     "output_type": "stream",
     "text": [
      " CoVID-19_Dashboard_Data.csv\r\n",
      "'Cumulative Tests over Time by County.xlsx'\r\n",
      " Prison_Notebook\r\n",
      "'Texas COVID-19 Active Case Data by County.xlsx'\r\n",
      "'Texas COVID-19 Case Count Data by County.xlsx'\r\n",
      "'Texas COVID-19 Fatality Count Data by County.xlsx'\r\n",
      "'Texas COVID-19 Hospitalizations by TSA.xlsx'\r\n",
      " Texas_Covid_Data_Notebook\r\n",
      " jup_work\r\n",
      " nohup.out\r\n",
      " working\r\n"
     ]
    }
   ],
   "source": [
    "!ls .."
   ]
  },
  {
   "cell_type": "code",
   "execution_count": 3,
   "metadata": {},
   "outputs": [],
   "source": [
    "df_tests = pd.read_excel(\"../Cumulative Tests over Time by County.xlsx\",header=1)"
   ]
  },
  {
   "cell_type": "code",
   "execution_count": 4,
   "metadata": {},
   "outputs": [
    {
     "data": {
      "text/html": [
       "<div>\n",
       "<style scoped>\n",
       "    .dataframe tbody tr th:only-of-type {\n",
       "        vertical-align: middle;\n",
       "    }\n",
       "\n",
       "    .dataframe tbody tr th {\n",
       "        vertical-align: top;\n",
       "    }\n",
       "\n",
       "    .dataframe thead th {\n",
       "        text-align: right;\n",
       "    }\n",
       "</style>\n",
       "<table border=\"1\" class=\"dataframe\">\n",
       "  <thead>\n",
       "    <tr style=\"text-align: right;\">\n",
       "      <th></th>\n",
       "      <th>County</th>\n",
       "      <th>Tests Through April 21</th>\n",
       "      <th>Tests Through April 22</th>\n",
       "      <th>Tests Through April 23</th>\n",
       "      <th>Tests Through April 24</th>\n",
       "      <th>Tests Through April 25</th>\n",
       "      <th>Tests Through April 26</th>\n",
       "      <th>Tests Through April 27</th>\n",
       "      <th>Tests Through April 28</th>\n",
       "      <th>Tests Through April 29</th>\n",
       "      <th>...</th>\n",
       "      <th>Tests Through June 15</th>\n",
       "      <th>Tests Through June 16</th>\n",
       "      <th>Tests Through June 17</th>\n",
       "      <th>Tests Through June 18</th>\n",
       "      <th>Tests Through June 19</th>\n",
       "      <th>Tests Through June 20</th>\n",
       "      <th>Tests Through June 21</th>\n",
       "      <th>Tests Through June 22</th>\n",
       "      <th>Tests Through June 23</th>\n",
       "      <th>Tests Through June 23.1</th>\n",
       "    </tr>\n",
       "  </thead>\n",
       "  <tbody>\n",
       "    <tr>\n",
       "      <th>14</th>\n",
       "      <td>Bexar</td>\n",
       "      <td>10274.0</td>\n",
       "      <td>10804.0</td>\n",
       "      <td>11020.0</td>\n",
       "      <td>9231.0</td>\n",
       "      <td>9316.0</td>\n",
       "      <td>9501.0</td>\n",
       "      <td>9584.0</td>\n",
       "      <td>9667.0</td>\n",
       "      <td>10014.0</td>\n",
       "      <td>...</td>\n",
       "      <td>55240.0</td>\n",
       "      <td>56360.0</td>\n",
       "      <td>56856.0</td>\n",
       "      <td>57849.0</td>\n",
       "      <td>59999.0</td>\n",
       "      <td>61152.0</td>\n",
       "      <td>62316.0</td>\n",
       "      <td>63752.0</td>\n",
       "      <td>66467.0</td>\n",
       "      <td>67524.0</td>\n",
       "    </tr>\n",
       "  </tbody>\n",
       "</table>\n",
       "<p>1 rows × 66 columns</p>\n",
       "</div>"
      ],
      "text/plain": [
       "   County  Tests Through April 21  Tests Through April 22  \\\n",
       "14  Bexar                 10274.0                 10804.0   \n",
       "\n",
       "    Tests Through April 23  Tests Through April 24  Tests Through April 25  \\\n",
       "14                 11020.0                  9231.0                  9316.0   \n",
       "\n",
       "    Tests Through April 26  Tests Through April 27  Tests Through April 28  \\\n",
       "14                  9501.0                  9584.0                  9667.0   \n",
       "\n",
       "    Tests Through April 29  ...  Tests Through June 15  Tests Through June 16  \\\n",
       "14                 10014.0  ...                55240.0                56360.0   \n",
       "\n",
       "    Tests Through June 17  Tests Through June 18  Tests Through June 19  \\\n",
       "14                56856.0                57849.0                59999.0   \n",
       "\n",
       "   Tests Through June 20  Tests Through June 21  Tests Through June 22  \\\n",
       "14               61152.0                62316.0                63752.0   \n",
       "\n",
       "    Tests Through June 23  Tests Through June 23.1  \n",
       "14                66467.0                  67524.0  \n",
       "\n",
       "[1 rows x 66 columns]"
      ]
     },
     "execution_count": 4,
     "metadata": {},
     "output_type": "execute_result"
    }
   ],
   "source": [
    "df_tests[df_tests[\"County\"] == 'Bexar']"
   ]
  },
  {
   "cell_type": "code",
   "execution_count": 5,
   "metadata": {},
   "outputs": [
    {
     "data": {
      "text/html": [
       "<div>\n",
       "<style scoped>\n",
       "    .dataframe tbody tr th:only-of-type {\n",
       "        vertical-align: middle;\n",
       "    }\n",
       "\n",
       "    .dataframe tbody tr th {\n",
       "        vertical-align: top;\n",
       "    }\n",
       "\n",
       "    .dataframe thead th {\n",
       "        text-align: right;\n",
       "    }\n",
       "</style>\n",
       "<table border=\"1\" class=\"dataframe\">\n",
       "  <thead>\n",
       "    <tr style=\"text-align: right;\">\n",
       "      <th></th>\n",
       "      <th>County</th>\n",
       "      <th>Tests Through April 21</th>\n",
       "      <th>Tests Through April 22</th>\n",
       "      <th>Tests Through April 23</th>\n",
       "      <th>Tests Through April 24</th>\n",
       "      <th>Tests Through April 25</th>\n",
       "      <th>Tests Through April 26</th>\n",
       "      <th>Tests Through April 27</th>\n",
       "      <th>Tests Through April 28</th>\n",
       "      <th>Tests Through April 29</th>\n",
       "      <th>...</th>\n",
       "      <th>Tests Through June 15</th>\n",
       "      <th>Tests Through June 16</th>\n",
       "      <th>Tests Through June 17</th>\n",
       "      <th>Tests Through June 18</th>\n",
       "      <th>Tests Through June 19</th>\n",
       "      <th>Tests Through June 20</th>\n",
       "      <th>Tests Through June 21</th>\n",
       "      <th>Tests Through June 22</th>\n",
       "      <th>Tests Through June 23</th>\n",
       "      <th>Tests Through June 23.1</th>\n",
       "    </tr>\n",
       "  </thead>\n",
       "  <tbody>\n",
       "    <tr>\n",
       "      <th>0</th>\n",
       "      <td>Anderson</td>\n",
       "      <td>270.0</td>\n",
       "      <td>282.0</td>\n",
       "      <td>297.0</td>\n",
       "      <td>329.0</td>\n",
       "      <td>337.0</td>\n",
       "      <td>337.0</td>\n",
       "      <td>360.0</td>\n",
       "      <td>360.0</td>\n",
       "      <td>397.0</td>\n",
       "      <td>...</td>\n",
       "      <td>2568.0</td>\n",
       "      <td>2679.0</td>\n",
       "      <td>2703.0</td>\n",
       "      <td>2713.0</td>\n",
       "      <td>2723.0</td>\n",
       "      <td>2736.0</td>\n",
       "      <td>3309.0</td>\n",
       "      <td>5058.0</td>\n",
       "      <td>5730.0</td>\n",
       "      <td>5803.0</td>\n",
       "    </tr>\n",
       "    <tr>\n",
       "      <th>1</th>\n",
       "      <td>Andrews</td>\n",
       "      <td>2.0</td>\n",
       "      <td>2.0</td>\n",
       "      <td>5.0</td>\n",
       "      <td>6.0</td>\n",
       "      <td>6.0</td>\n",
       "      <td>6.0</td>\n",
       "      <td>6.0</td>\n",
       "      <td>6.0</td>\n",
       "      <td>6.0</td>\n",
       "      <td>...</td>\n",
       "      <td>68.0</td>\n",
       "      <td>72.0</td>\n",
       "      <td>76.0</td>\n",
       "      <td>77.0</td>\n",
       "      <td>81.0</td>\n",
       "      <td>89.0</td>\n",
       "      <td>91.0</td>\n",
       "      <td>95.0</td>\n",
       "      <td>95.0</td>\n",
       "      <td>95.0</td>\n",
       "    </tr>\n",
       "    <tr>\n",
       "      <th>2</th>\n",
       "      <td>Angelina</td>\n",
       "      <td>282.0</td>\n",
       "      <td>311.0</td>\n",
       "      <td>431.0</td>\n",
       "      <td>434.0</td>\n",
       "      <td>469.0</td>\n",
       "      <td>468.0</td>\n",
       "      <td>544.0</td>\n",
       "      <td>552.0</td>\n",
       "      <td>626.0</td>\n",
       "      <td>...</td>\n",
       "      <td>2896.0</td>\n",
       "      <td>3002.0</td>\n",
       "      <td>3151.0</td>\n",
       "      <td>3354.0</td>\n",
       "      <td>3407.0</td>\n",
       "      <td>3460.0</td>\n",
       "      <td>3599.0</td>\n",
       "      <td>3662.0</td>\n",
       "      <td>3772.0</td>\n",
       "      <td>3793.0</td>\n",
       "    </tr>\n",
       "    <tr>\n",
       "      <th>3</th>\n",
       "      <td>Aransas</td>\n",
       "      <td>16.0</td>\n",
       "      <td>17.0</td>\n",
       "      <td>15.0</td>\n",
       "      <td>24.0</td>\n",
       "      <td>27.0</td>\n",
       "      <td>27.0</td>\n",
       "      <td>27.0</td>\n",
       "      <td>27.0</td>\n",
       "      <td>28.0</td>\n",
       "      <td>...</td>\n",
       "      <td>316.0</td>\n",
       "      <td>317.0</td>\n",
       "      <td>318.0</td>\n",
       "      <td>324.0</td>\n",
       "      <td>331.0</td>\n",
       "      <td>335.0</td>\n",
       "      <td>337.0</td>\n",
       "      <td>342.0</td>\n",
       "      <td>356.0</td>\n",
       "      <td>356.0</td>\n",
       "    </tr>\n",
       "    <tr>\n",
       "      <th>4</th>\n",
       "      <td>Archer</td>\n",
       "      <td>8.0</td>\n",
       "      <td>9.0</td>\n",
       "      <td>13.0</td>\n",
       "      <td>18.0</td>\n",
       "      <td>20.0</td>\n",
       "      <td>20.0</td>\n",
       "      <td>20.0</td>\n",
       "      <td>20.0</td>\n",
       "      <td>20.0</td>\n",
       "      <td>...</td>\n",
       "      <td>78.0</td>\n",
       "      <td>79.0</td>\n",
       "      <td>79.0</td>\n",
       "      <td>82.0</td>\n",
       "      <td>81.0</td>\n",
       "      <td>83.0</td>\n",
       "      <td>89.0</td>\n",
       "      <td>94.0</td>\n",
       "      <td>98.0</td>\n",
       "      <td>99.0</td>\n",
       "    </tr>\n",
       "  </tbody>\n",
       "</table>\n",
       "<p>5 rows × 66 columns</p>\n",
       "</div>"
      ],
      "text/plain": [
       "     County  Tests Through April 21  Tests Through April 22  \\\n",
       "0  Anderson                   270.0                   282.0   \n",
       "1   Andrews                     2.0                     2.0   \n",
       "2  Angelina                   282.0                   311.0   \n",
       "3   Aransas                    16.0                    17.0   \n",
       "4    Archer                     8.0                     9.0   \n",
       "\n",
       "   Tests Through April 23  Tests Through April 24  Tests Through April 25  \\\n",
       "0                   297.0                   329.0                   337.0   \n",
       "1                     5.0                     6.0                     6.0   \n",
       "2                   431.0                   434.0                   469.0   \n",
       "3                    15.0                    24.0                    27.0   \n",
       "4                    13.0                    18.0                    20.0   \n",
       "\n",
       "   Tests Through April 26  Tests Through April 27  Tests Through April 28  \\\n",
       "0                   337.0                   360.0                   360.0   \n",
       "1                     6.0                     6.0                     6.0   \n",
       "2                   468.0                   544.0                   552.0   \n",
       "3                    27.0                    27.0                    27.0   \n",
       "4                    20.0                    20.0                    20.0   \n",
       "\n",
       "   Tests Through April 29  ...  Tests Through June 15  Tests Through June 16  \\\n",
       "0                   397.0  ...                 2568.0                 2679.0   \n",
       "1                     6.0  ...                   68.0                   72.0   \n",
       "2                   626.0  ...                 2896.0                 3002.0   \n",
       "3                    28.0  ...                  316.0                  317.0   \n",
       "4                    20.0  ...                   78.0                   79.0   \n",
       "\n",
       "   Tests Through June 17  Tests Through June 18  Tests Through June 19  \\\n",
       "0                 2703.0                 2713.0                 2723.0   \n",
       "1                   76.0                   77.0                   81.0   \n",
       "2                 3151.0                 3354.0                 3407.0   \n",
       "3                  318.0                  324.0                  331.0   \n",
       "4                   79.0                   82.0                   81.0   \n",
       "\n",
       "  Tests Through June 20  Tests Through June 21  Tests Through June 22  \\\n",
       "0                2736.0                 3309.0                 5058.0   \n",
       "1                  89.0                   91.0                   95.0   \n",
       "2                3460.0                 3599.0                 3662.0   \n",
       "3                 335.0                  337.0                  342.0   \n",
       "4                  83.0                   89.0                   94.0   \n",
       "\n",
       "   Tests Through June 23  Tests Through June 23.1  \n",
       "0                 5730.0                   5803.0  \n",
       "1                   95.0                     95.0  \n",
       "2                 3772.0                   3793.0  \n",
       "3                  356.0                    356.0  \n",
       "4                   98.0                     99.0  \n",
       "\n",
       "[5 rows x 66 columns]"
      ]
     },
     "execution_count": 5,
     "metadata": {},
     "output_type": "execute_result"
    }
   ],
   "source": [
    "df_tests[:5]"
   ]
  },
  {
   "cell_type": "code",
   "execution_count": 6,
   "metadata": {},
   "outputs": [],
   "source": [
    "a = df_tests.set_index('County')"
   ]
  },
  {
   "cell_type": "code",
   "execution_count": 7,
   "metadata": {},
   "outputs": [],
   "source": [
    "b = a.T.TOTAL[a.columns[1:]]"
   ]
  },
  {
   "cell_type": "code",
   "execution_count": 8,
   "metadata": {},
   "outputs": [
    {
     "data": {
      "text/plain": [
       "Tests Through April 22          216783\n",
       "Tests Through April 23          225078\n",
       "Tests Through April 24          242547\n",
       "Tests Through April 25          262816\n",
       "Tests Through April 26          276021\n",
       "                              ...     \n",
       "Tests Through June 20      1.69012e+06\n",
       "Tests Through June 21      1.71518e+06\n",
       "Tests Through June 22       1.7677e+06\n",
       "Tests Through June 23      1.80564e+06\n",
       "Tests Through June 23.1    1.83604e+06\n",
       "Name: TOTAL, Length: 64, dtype: object"
      ]
     },
     "execution_count": 8,
     "metadata": {},
     "output_type": "execute_result"
    }
   ],
   "source": [
    "b"
   ]
  },
  {
   "cell_type": "code",
   "execution_count": 9,
   "metadata": {},
   "outputs": [
    {
     "name": "stdout",
     "output_type": "stream",
     "text": [
      "-55 -56\n",
      "Tests Through May 1 21475.0\n",
      "-54 -55\n",
      "Tests Through May 2 28873.0\n",
      "-53 -54\n",
      "Tests Through May 3 9912.0\n",
      "-52 -53\n",
      "Tests Through May 4 16838.0\n",
      "-51 -52\n",
      "Tests Through May 5* 19812.0\n",
      "-50 -51\n",
      "Tests Through May 6 11728.0\n",
      "-49 -50\n",
      "Tests Through May 7 16224.0\n",
      "-48 -49\n",
      "Tests Through May 8 21956.0\n",
      "-47 -48\n",
      "Tests Through May 9 12176.0\n",
      "-46 -47\n",
      "Tests Through May 10 24684.0\n",
      "-45 -46\n",
      "Tests Through May 11 11719.0\n",
      "-44 -45\n",
      "Tests Through May 12 12475.0\n",
      "-43 -44\n",
      "Tests Through May 13 49259.0\n",
      "-42 -43\n",
      "Tests Through May 14 35853.0\n",
      "-41 -42\n",
      "Tests Through May 15 22708.0\n",
      "-40 -41\n",
      "Tests Through May 16 32479.0\n",
      "-39 -40\n",
      "Tests Through May 17 14805.0\n",
      "-38 -39\n",
      "Tests Through May 18 29737.0\n",
      "-37 -38\n",
      "Tests Through May 19 21924.0\n",
      "-36 -37\n",
      "Tests Through May 20 25304.0\n",
      "-35 -36\n",
      "Tests Through May 21 30192.0\n",
      "-34 -35\n",
      "Tests Through May 22 34004.0\n",
      "-33 -34\n",
      "Tests Through May 23 36498.0\n",
      "-32 -33\n",
      "Tests Through May 24 15419.0\n",
      "-31 -32\n",
      "Tests Through May 25 19720.0\n",
      "-30 -31\n",
      "Tests Through May 26 37165.0\n",
      "-29 -30\n",
      "Tests Through May 27 18622.0\n",
      "-28 -29\n",
      "Tests Through May 28 28133.0\n",
      "-27 -28\n",
      "Tests Through May 29 37455.0\n",
      "-26 -27\n",
      "Tests Through May 30 27344.0\n",
      "-25 -26\n",
      "Tests Through May 31 18698.0\n",
      "-24 -25\n",
      "Tests Through June 1 20185.0\n",
      "-23 -24\n",
      "Tests Through June 2 23598.0\n",
      "-22 -23\n",
      "Tests Through June 3 33594.0\n",
      "-21 -22\n",
      "Tests Through June 4 24080.0\n",
      "-20 -21\n",
      "Tests Through June 5 34239.0\n",
      "-19 -20\n",
      "Tests Through June 6 9768.0\n",
      "-18 -19\n",
      "Tests Through June 7 36944.0\n",
      "-17 -18\n",
      "Tests Through June 8 30240.0\n",
      "-16 -17\n",
      "Tests Through June 9 15910.0\n",
      "-15 -16\n",
      "Tests Through June 10 46844.0\n",
      "-14 -15\n",
      "Tests Through June 11 21238.0\n",
      "-13 -14\n",
      "Tests Through June 12 34238.0\n",
      "-12 -13\n",
      "Tests Through June 13 38581.0\n",
      "-11 -12\n",
      "Tests Through June 14 20901.0\n",
      "-10 -11\n",
      "Tests Through June 15 35164.0\n",
      "-9 -10\n",
      "Tests Through June 16 23419.0\n",
      "-8 -9\n",
      "Tests Through June 17 38103.0\n",
      "-7 -8\n",
      "Tests Through June 18 16388.0\n",
      "-6 -7\n",
      "Tests Through June 19 45926.0\n",
      "-5 -6\n",
      "Tests Through June 20 67273.0\n",
      "-4 -5\n",
      "Tests Through June 21 25053.0\n",
      "-3 -4\n",
      "Tests Through June 22 52524.0\n",
      "-2 -3\n",
      "Tests Through June 23 37941.0\n",
      "-1 -2\n",
      "Tests Through June 23.1 30395.0\n"
     ]
    }
   ],
   "source": [
    "for x in range(-55,0,1):\n",
    "    print(x, x-1)\n",
    "    print(b.index[x], b[x]- b[x-1])"
   ]
  },
  {
   "cell_type": "code",
   "execution_count": 10,
   "metadata": {},
   "outputs": [
    {
     "data": {
      "text/plain": [
       "30395.0"
      ]
     },
     "execution_count": 10,
     "metadata": {},
     "output_type": "execute_result"
    }
   ],
   "source": [
    "b[-1] - b[-2]"
   ]
  },
  {
   "cell_type": "code",
   "execution_count": 11,
   "metadata": {},
   "outputs": [
    {
     "data": {
      "text/plain": [
       "'June 7'"
      ]
     },
     "execution_count": 11,
     "metadata": {},
     "output_type": "execute_result"
    }
   ],
   "source": [
    "b.index[-18][14:]"
   ]
  },
  {
   "cell_type": "code",
   "execution_count": 12,
   "metadata": {},
   "outputs": [
    {
     "data": {
      "text/plain": [
       "pandas.core.series.Series"
      ]
     },
     "execution_count": 12,
     "metadata": {},
     "output_type": "execute_result"
    }
   ],
   "source": [
    "type(b)"
   ]
  },
  {
   "cell_type": "code",
   "execution_count": 13,
   "metadata": {},
   "outputs": [
    {
     "name": "stdout",
     "output_type": "stream",
     "text": [
      "April 22\n",
      "April 23\n",
      "April 24\n",
      "April 25\n",
      "April 26\n",
      "April 27\n",
      "April 28\n",
      "April 29\n",
      "April 30\n",
      "May 1\n",
      "May 2\n",
      "May 3\n",
      "May 4\n",
      "May 5*\n",
      "May 6\n",
      "May 7\n",
      "May 8\n",
      "May 9\n",
      "May 10\n",
      "May 11\n",
      "May 12\n",
      "May 13\n",
      "May 14\n",
      "May 15\n",
      "May 16\n",
      "May 17\n",
      "May 18\n",
      "May 19\n",
      "May 20\n",
      "May 21\n",
      "May 22\n",
      "May 23\n",
      "May 24\n",
      "May 25\n",
      "May 26\n",
      "May 27\n",
      "May 28\n",
      "May 29\n",
      "May 30\n",
      "May 31\n",
      "June 1\n",
      "June 2\n",
      "June 3\n",
      "June 4\n",
      "June 5\n",
      "June 6\n",
      "June 7\n",
      "June 8\n",
      "June 9\n",
      "June 10\n",
      "June 11\n",
      "June 12\n",
      "June 13\n",
      "June 14\n",
      "June 15\n",
      "June 16\n",
      "June 17\n",
      "June 18\n",
      "June 19\n",
      "June 20\n",
      "June 21\n",
      "June 22\n",
      "June 23\n",
      "June 23.1\n",
      "Tests Through May 5\n"
     ]
    }
   ],
   "source": [
    "for z in b.index:\n",
    "    print(z[14:])\n",
    "for z in b.index:\n",
    "    if z.endswith('*'):\n",
    "        print(z[:-1])"
   ]
  },
  {
   "cell_type": "code",
   "execution_count": 14,
   "metadata": {},
   "outputs": [
    {
     "name": "stdout",
     "output_type": "stream",
     "text": [
      "April 22\n",
      "April 23\n",
      "April 24\n",
      "April 25\n",
      "April 26\n",
      "April 27\n",
      "April 28\n",
      "April 29\n",
      "April 30\n",
      "May 1\n",
      "May 2\n",
      "May 3\n",
      "May 4\n",
      "May 5\n",
      "May 6\n",
      "May 7\n",
      "May 8\n",
      "May 9\n",
      "May 10\n",
      "May 11\n",
      "May 12\n",
      "May 13\n",
      "May 14\n",
      "May 15\n",
      "May 16\n",
      "May 17\n",
      "May 18\n",
      "May 19\n",
      "May 20\n",
      "May 21\n",
      "May 22\n",
      "May 23\n",
      "May 24\n",
      "May 25\n",
      "May 26\n",
      "May 27\n",
      "May 28\n",
      "May 29\n",
      "May 30\n",
      "May 31\n",
      "June 1\n",
      "June 2\n",
      "June 3\n",
      "June 4\n",
      "June 5\n",
      "June 6\n",
      "June 7\n",
      "June 8\n",
      "June 9\n",
      "June 10\n",
      "June 11\n",
      "June 12\n",
      "June 13\n",
      "June 14\n",
      "June 15\n",
      "June 16\n",
      "June 17\n",
      "June 18\n",
      "June 19\n",
      "June 20\n",
      "June 21\n",
      "June 22\n",
      "June 23\n",
      "June 23.1\n"
     ]
    }
   ],
   "source": [
    "for z in b.index:\n",
    "    if z.endswith('*'):\n",
    "        z = (z[:-1]) #address May 5*\n",
    "    print(z[14:])"
   ]
  },
  {
   "cell_type": "code",
   "execution_count": 15,
   "metadata": {},
   "outputs": [],
   "source": [
    "zz = df_total_tests = pd.DataFrame(b)"
   ]
  },
  {
   "cell_type": "code",
   "execution_count": 16,
   "metadata": {},
   "outputs": [
    {
     "data": {
      "text/plain": [
       "pandas.core.frame.DataFrame"
      ]
     },
     "execution_count": 16,
     "metadata": {},
     "output_type": "execute_result"
    }
   ],
   "source": [
    "type(zz)"
   ]
  },
  {
   "cell_type": "code",
   "execution_count": 17,
   "metadata": {},
   "outputs": [],
   "source": [
    "new_dates = []\n",
    "for z in b.index:\n",
    "    if z.endswith('*'):\n",
    "        z = (z[:-1]) #address May 5*\n",
    "    new_dates.append(z[14:])"
   ]
  },
  {
   "cell_type": "code",
   "execution_count": 18,
   "metadata": {},
   "outputs": [],
   "source": [
    "zz['Simple_str_dates'] = new_dates"
   ]
  },
  {
   "cell_type": "code",
   "execution_count": 19,
   "metadata": {},
   "outputs": [
    {
     "data": {
      "text/html": [
       "<div>\n",
       "<style scoped>\n",
       "    .dataframe tbody tr th:only-of-type {\n",
       "        vertical-align: middle;\n",
       "    }\n",
       "\n",
       "    .dataframe tbody tr th {\n",
       "        vertical-align: top;\n",
       "    }\n",
       "\n",
       "    .dataframe thead th {\n",
       "        text-align: right;\n",
       "    }\n",
       "</style>\n",
       "<table border=\"1\" class=\"dataframe\">\n",
       "  <thead>\n",
       "    <tr style=\"text-align: right;\">\n",
       "      <th></th>\n",
       "      <th>TOTAL</th>\n",
       "      <th>Simple_str_dates</th>\n",
       "    </tr>\n",
       "  </thead>\n",
       "  <tbody>\n",
       "    <tr>\n",
       "      <th>Tests Through April 22</th>\n",
       "      <td>216783</td>\n",
       "      <td>April 22</td>\n",
       "    </tr>\n",
       "    <tr>\n",
       "      <th>Tests Through April 23</th>\n",
       "      <td>225078</td>\n",
       "      <td>April 23</td>\n",
       "    </tr>\n",
       "    <tr>\n",
       "      <th>Tests Through April 24</th>\n",
       "      <td>242547</td>\n",
       "      <td>April 24</td>\n",
       "    </tr>\n",
       "    <tr>\n",
       "      <th>Tests Through April 25</th>\n",
       "      <td>262816</td>\n",
       "      <td>April 25</td>\n",
       "    </tr>\n",
       "    <tr>\n",
       "      <th>Tests Through April 26</th>\n",
       "      <td>276021</td>\n",
       "      <td>April 26</td>\n",
       "    </tr>\n",
       "    <tr>\n",
       "      <th>...</th>\n",
       "      <td>...</td>\n",
       "      <td>...</td>\n",
       "    </tr>\n",
       "    <tr>\n",
       "      <th>Tests Through June 20</th>\n",
       "      <td>1.69012e+06</td>\n",
       "      <td>June 20</td>\n",
       "    </tr>\n",
       "    <tr>\n",
       "      <th>Tests Through June 21</th>\n",
       "      <td>1.71518e+06</td>\n",
       "      <td>June 21</td>\n",
       "    </tr>\n",
       "    <tr>\n",
       "      <th>Tests Through June 22</th>\n",
       "      <td>1.7677e+06</td>\n",
       "      <td>June 22</td>\n",
       "    </tr>\n",
       "    <tr>\n",
       "      <th>Tests Through June 23</th>\n",
       "      <td>1.80564e+06</td>\n",
       "      <td>June 23</td>\n",
       "    </tr>\n",
       "    <tr>\n",
       "      <th>Tests Through June 23.1</th>\n",
       "      <td>1.83604e+06</td>\n",
       "      <td>June 23.1</td>\n",
       "    </tr>\n",
       "  </tbody>\n",
       "</table>\n",
       "<p>64 rows × 2 columns</p>\n",
       "</div>"
      ],
      "text/plain": [
       "                               TOTAL Simple_str_dates\n",
       "Tests Through April 22        216783         April 22\n",
       "Tests Through April 23        225078         April 23\n",
       "Tests Through April 24        242547         April 24\n",
       "Tests Through April 25        262816         April 25\n",
       "Tests Through April 26        276021         April 26\n",
       "...                              ...              ...\n",
       "Tests Through June 20    1.69012e+06          June 20\n",
       "Tests Through June 21    1.71518e+06          June 21\n",
       "Tests Through June 22     1.7677e+06          June 22\n",
       "Tests Through June 23    1.80564e+06          June 23\n",
       "Tests Through June 23.1  1.83604e+06        June 23.1\n",
       "\n",
       "[64 rows x 2 columns]"
      ]
     },
     "execution_count": 19,
     "metadata": {},
     "output_type": "execute_result"
    }
   ],
   "source": [
    "zz"
   ]
  },
  {
   "cell_type": "code",
   "execution_count": 20,
   "metadata": {},
   "outputs": [
    {
     "data": {
      "text/plain": [
       "Tests Through April 22      April 22\n",
       "Tests Through April 23      April 23\n",
       "Tests Through April 24      April 24\n",
       "Tests Through April 25      April 25\n",
       "Tests Through April 26      April 26\n",
       "                             ...    \n",
       "Tests Through June 20        June 20\n",
       "Tests Through June 21        June 21\n",
       "Tests Through June 22        June 22\n",
       "Tests Through June 23        June 23\n",
       "Tests Through June 23.1    June 23.1\n",
       "Name: Simple_str_dates, Length: 64, dtype: object"
      ]
     },
     "execution_count": 20,
     "metadata": {},
     "output_type": "execute_result"
    }
   ],
   "source": [
    "zz.Simple_str_dates"
   ]
  },
  {
   "cell_type": "code",
   "execution_count": 21,
   "metadata": {},
   "outputs": [
    {
     "ename": "ValueError",
     "evalue": "invalid literal for int() with base 10: '23.1'",
     "output_type": "error",
     "traceback": [
      "\u001b[0;31m---------------------------------------------------------------------------\u001b[0m",
      "\u001b[0;31mValueError\u001b[0m                                Traceback (most recent call last)",
      "\u001b[0;32m<ipython-input-21-6979e7a91538>\u001b[0m in \u001b[0;36m<module>\u001b[0;34m\u001b[0m\n\u001b[1;32m      2\u001b[0m \u001b[0;32mfor\u001b[0m \u001b[0mx\u001b[0m \u001b[0;32min\u001b[0m \u001b[0mzz\u001b[0m\u001b[0;34m.\u001b[0m\u001b[0mSimple_str_dates\u001b[0m\u001b[0;34m:\u001b[0m\u001b[0;34m\u001b[0m\u001b[0;34m\u001b[0m\u001b[0m\n\u001b[1;32m      3\u001b[0m     \u001b[0mmonth\u001b[0m \u001b[0;34m=\u001b[0m \u001b[0mdatetime\u001b[0m\u001b[0;34m.\u001b[0m\u001b[0mdatetime\u001b[0m\u001b[0;34m.\u001b[0m\u001b[0mstrptime\u001b[0m\u001b[0;34m(\u001b[0m\u001b[0mx\u001b[0m\u001b[0;34m.\u001b[0m\u001b[0msplit\u001b[0m\u001b[0;34m(\u001b[0m\u001b[0;34m' '\u001b[0m\u001b[0;34m)\u001b[0m\u001b[0;34m[\u001b[0m\u001b[0;36m0\u001b[0m\u001b[0;34m]\u001b[0m\u001b[0;34m,\u001b[0m \u001b[0;34m'%B'\u001b[0m\u001b[0;34m)\u001b[0m\u001b[0;34m.\u001b[0m\u001b[0mmonth\u001b[0m\u001b[0;34m\u001b[0m\u001b[0;34m\u001b[0m\u001b[0m\n\u001b[0;32m----> 4\u001b[0;31m     \u001b[0mday\u001b[0m \u001b[0;34m=\u001b[0m \u001b[0mint\u001b[0m\u001b[0;34m(\u001b[0m\u001b[0mx\u001b[0m\u001b[0;34m.\u001b[0m\u001b[0msplit\u001b[0m\u001b[0;34m(\u001b[0m\u001b[0;34m' '\u001b[0m\u001b[0;34m)\u001b[0m\u001b[0;34m[\u001b[0m\u001b[0;36m1\u001b[0m\u001b[0;34m]\u001b[0m\u001b[0;34m)\u001b[0m\u001b[0;34m\u001b[0m\u001b[0;34m\u001b[0m\u001b[0m\n\u001b[0m\u001b[1;32m      5\u001b[0m     \u001b[0mdate_list\u001b[0m\u001b[0;34m.\u001b[0m\u001b[0mappend\u001b[0m\u001b[0;34m(\u001b[0m\u001b[0mdatetime\u001b[0m\u001b[0;34m.\u001b[0m\u001b[0mdatetime\u001b[0m\u001b[0;34m(\u001b[0m\u001b[0;36m2020\u001b[0m\u001b[0;34m,\u001b[0m \u001b[0mmonth\u001b[0m\u001b[0;34m,\u001b[0m \u001b[0mday\u001b[0m\u001b[0;34m)\u001b[0m\u001b[0;34m)\u001b[0m\u001b[0;34m\u001b[0m\u001b[0;34m\u001b[0m\u001b[0m\n\u001b[1;32m      6\u001b[0m \u001b[0mzz\u001b[0m\u001b[0;34m[\u001b[0m\u001b[0;34m'Date_based_date'\u001b[0m\u001b[0;34m]\u001b[0m \u001b[0;34m=\u001b[0m \u001b[0mdate_list\u001b[0m\u001b[0;34m\u001b[0m\u001b[0;34m\u001b[0m\u001b[0m\n",
      "\u001b[0;31mValueError\u001b[0m: invalid literal for int() with base 10: '23.1'"
     ]
    }
   ],
   "source": [
    "date_list = []\n",
    "for x in zz.Simple_str_dates:\n",
    "    month = datetime.datetime.strptime(x.split(' ')[0], '%B').month\n",
    "    day = int(x.split(' ')[1])\n",
    "    date_list.append(datetime.datetime(2020, month, day))\n",
    "zz['Date_based_date'] = date_list"
   ]
  },
  {
   "cell_type": "code",
   "execution_count": null,
   "metadata": {},
   "outputs": [],
   "source": [
    "zz"
   ]
  },
  {
   "cell_type": "code",
   "execution_count": null,
   "metadata": {},
   "outputs": [],
   "source": [
    "df_total_test = zz.set_index('Date_based_date')"
   ]
  },
  {
   "cell_type": "code",
   "execution_count": null,
   "metadata": {},
   "outputs": [],
   "source": [
    "df_total_test"
   ]
  },
  {
   "cell_type": "code",
   "execution_count": null,
   "metadata": {},
   "outputs": [],
   "source": [
    "df_total_test.loc[df_total_test.index[0]]"
   ]
  },
  {
   "cell_type": "code",
   "execution_count": null,
   "metadata": {},
   "outputs": [],
   "source": [
    "df_total_test.loc[df_total_test.index[1:]]"
   ]
  },
  {
   "cell_type": "code",
   "execution_count": null,
   "metadata": {},
   "outputs": [],
   "source": [
    "difference_list = [0]\n",
    "percentage_list = [0]\n",
    "count = 0\n",
    "for x in df_total_test.index:\n",
    "    current_total = int(df_total_test.loc[x].TOTAL)\n",
    "    if count > 0:\n",
    "        difference_list.append(current_total - previous_total)\n",
    "    previous_total = current_total\n",
    "    count += 1\n",
    "df_total_test['Daily_Change'] = difference_list\n",
    "#for x in df_total_test.index[1:]:\n",
    "#    percentage_list.append(df_total_test.loc[x].Daily_Change/df_total_test.loc[x].TOTAL)\n",
    "#df_total_test['Daily_Pos']"
   ]
  },
  {
   "cell_type": "code",
   "execution_count": null,
   "metadata": {},
   "outputs": [],
   "source": [
    "df_total_test"
   ]
  },
  {
   "cell_type": "code",
   "execution_count": null,
   "metadata": {},
   "outputs": [],
   "source": []
  },
  {
   "cell_type": "code",
   "execution_count": null,
   "metadata": {},
   "outputs": [],
   "source": [
    "df_total_test[['TOTAL']]"
   ]
  },
  {
   "cell_type": "code",
   "execution_count": null,
   "metadata": {},
   "outputs": [],
   "source": []
  },
  {
   "cell_type": "code",
   "execution_count": null,
   "metadata": {},
   "outputs": [],
   "source": [
    "datetime.datetime.strptime(b.index[0][14:].split(' ')[0], '%B').month"
   ]
  },
  {
   "cell_type": "code",
   "execution_count": null,
   "metadata": {},
   "outputs": [],
   "source": [
    "dated_dict = {}\n",
    "count = 0\n",
    "for x in b:\n",
    "    month_temp = datetime.datetime.strptime(b.index[count][14:].split(' ')[0], '%B').month\n",
    "    if b.index[count][14:].split(' ')[1] is int:\n",
    "        day_temp = int(b.index[count][14:].split(' ')[1])\n",
    "    else:\n",
    "        day_temp = 5 #May 5*\n",
    "        dated_dict[datetime.datetime(2020, month_temp, day_temp)] = b[count]\n",
    "    count += 1"
   ]
  },
  {
   "cell_type": "code",
   "execution_count": null,
   "metadata": {},
   "outputs": [],
   "source": [
    "dated_df = pd.DataFrame(dated_dict.items(), columns=['Date', 'Tests'])"
   ]
  },
  {
   "cell_type": "code",
   "execution_count": null,
   "metadata": {},
   "outputs": [],
   "source": [
    "c = dated_df.set_index('Date')"
   ]
  },
  {
   "cell_type": "code",
   "execution_count": null,
   "metadata": {},
   "outputs": [],
   "source": [
    "import datetime\n",
    "import matplotlib.dates as mdates\n",
    "months = mdates.MonthLocator()\n",
    "days = mdates.DayLocator()\n",
    "timeFmt = mdates.DateFormatter('%b %Y')\n",
    "fig, ax = plt.subplots()\n",
    "fig.set_size_inches(15,8)\n",
    "ax.xaxis.set_major_locator(months)\n",
    "ax.xaxis.set_major_formatter(timeFmt)\n",
    "ax.xaxis.set_minor_locator(days)\n",
    "plt.xlabel('Date',color='black')\n",
    "plt.ylabel('Number Active',color='black')\n",
    "plt.plot(c)\n",
    "plt.title('Texas Total Tests')\n",
    "plt.savefig('TexasTotalTests.png')"
   ]
  },
  {
   "cell_type": "code",
   "execution_count": null,
   "metadata": {},
   "outputs": [],
   "source": [
    "c"
   ]
  },
  {
   "cell_type": "code",
   "execution_count": null,
   "metadata": {},
   "outputs": [],
   "source": [
    "x = c.diff(periods = 1)"
   ]
  },
  {
   "cell_type": "code",
   "execution_count": null,
   "metadata": {},
   "outputs": [],
   "source": [
    "x"
   ]
  },
  {
   "cell_type": "code",
   "execution_count": null,
   "metadata": {},
   "outputs": [],
   "source": [
    "x.rename(columns={'Tests':'Daily Tests'}, inplace = True)"
   ]
  },
  {
   "cell_type": "code",
   "execution_count": null,
   "metadata": {},
   "outputs": [],
   "source": [
    "months = mdates.MonthLocator()\n",
    "days = mdates.DayLocator()\n",
    "timeFmt = mdates.DateFormatter('%b %Y')\n",
    "fig, ax = plt.subplots()\n",
    "fig.set_size_inches(15,8)\n",
    "ax.xaxis.set_major_locator(months)\n",
    "ax.xaxis.set_major_formatter(timeFmt)\n",
    "ax.xaxis.set_minor_locator(days)\n",
    "plt.xlabel('Date',color='black')\n",
    "plt.ylabel('Change In Active Cases',color='black')\n",
    "plt.title('Texas Daily Change In Active Cases')\n",
    "plt.bar(x.index,x['Change In Active Cases'])\n",
    "fig.savefig('TexasChangeInActiveCases.png')"
   ]
  },
  {
   "cell_type": "code",
   "execution_count": null,
   "metadata": {},
   "outputs": [],
   "source": []
  }
 ],
 "metadata": {
  "kernelspec": {
   "display_name": "Python 3",
   "language": "python",
   "name": "python3"
  },
  "language_info": {
   "codemirror_mode": {
    "name": "ipython",
    "version": 3
   },
   "file_extension": ".py",
   "mimetype": "text/x-python",
   "name": "python",
   "nbconvert_exporter": "python",
   "pygments_lexer": "ipython3",
   "version": "3.8.2"
  }
 },
 "nbformat": 4,
 "nbformat_minor": 2
}
