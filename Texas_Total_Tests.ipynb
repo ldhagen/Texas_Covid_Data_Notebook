{
 "cells": [
  {
   "cell_type": "code",
   "execution_count": 1,
   "metadata": {},
   "outputs": [],
   "source": [
    "import pandas as pd\n",
    "import matplotlib.pyplot as plt\n",
    "import numpy as np\n",
    "import datetime"
   ]
  },
  {
   "cell_type": "code",
   "execution_count": 2,
   "metadata": {},
   "outputs": [
    {
     "name": "stdout",
     "output_type": "stream",
     "text": [
      "'Cumulative Tests over Time by County.xlsx'\r\n",
      "'Texas COVID-19 Active Case Data by County.xlsx'\r\n",
      "'Texas COVID-19 Case Count Data by County.xlsx'\r\n",
      "'Texas COVID-19 Fatality Count Data by County.xlsx'\r\n",
      "'Texas COVID-19 Hospitalizations by TSA.xlsx'\r\n",
      " Texas_Covid_Data_Notebook\r\n",
      " nohup.out\r\n"
     ]
    }
   ],
   "source": [
    "!ls .."
   ]
  },
  {
   "cell_type": "code",
   "execution_count": 3,
   "metadata": {},
   "outputs": [],
   "source": [
    "df_tests = pd.read_excel(\"../Cumulative Tests over Time by County.xlsx\",header=1)"
   ]
  },
  {
   "cell_type": "code",
   "execution_count": 4,
   "metadata": {},
   "outputs": [
    {
     "data": {
      "text/html": [
       "<div>\n",
       "<style scoped>\n",
       "    .dataframe tbody tr th:only-of-type {\n",
       "        vertical-align: middle;\n",
       "    }\n",
       "\n",
       "    .dataframe tbody tr th {\n",
       "        vertical-align: top;\n",
       "    }\n",
       "\n",
       "    .dataframe thead th {\n",
       "        text-align: right;\n",
       "    }\n",
       "</style>\n",
       "<table border=\"1\" class=\"dataframe\">\n",
       "  <thead>\n",
       "    <tr style=\"text-align: right;\">\n",
       "      <th></th>\n",
       "      <th>County</th>\n",
       "      <th>Tests Through April 21</th>\n",
       "      <th>Tests Through April 22</th>\n",
       "      <th>Tests Through April 23</th>\n",
       "      <th>Tests Through April 24</th>\n",
       "      <th>Tests Through April 25</th>\n",
       "      <th>Tests Through April 26</th>\n",
       "      <th>Tests Through April 27</th>\n",
       "      <th>Tests Through April 28</th>\n",
       "      <th>Tests Through April 29</th>\n",
       "      <th>...</th>\n",
       "      <th>Tests Through June 6</th>\n",
       "      <th>Tests Through June 7</th>\n",
       "      <th>Tests Through June 8</th>\n",
       "      <th>Tests Through June 9</th>\n",
       "      <th>Tests Through June 10</th>\n",
       "      <th>Tests Through June 11</th>\n",
       "      <th>Tests Through June 12</th>\n",
       "      <th>Tests Through June 13</th>\n",
       "      <th>Tests Through June 14</th>\n",
       "      <th>Tests Through June 15</th>\n",
       "    </tr>\n",
       "  </thead>\n",
       "  <tbody>\n",
       "    <tr>\n",
       "      <th>0</th>\n",
       "      <td>Anderson</td>\n",
       "      <td>270.0</td>\n",
       "      <td>282.0</td>\n",
       "      <td>297.0</td>\n",
       "      <td>329.0</td>\n",
       "      <td>337.0</td>\n",
       "      <td>337.0</td>\n",
       "      <td>360.0</td>\n",
       "      <td>360.0</td>\n",
       "      <td>397.0</td>\n",
       "      <td>...</td>\n",
       "      <td>1450.0</td>\n",
       "      <td>1599.0</td>\n",
       "      <td>1606.0</td>\n",
       "      <td>1620.0</td>\n",
       "      <td>-</td>\n",
       "      <td>1627.0</td>\n",
       "      <td>1632.0</td>\n",
       "      <td>1634.0</td>\n",
       "      <td>2035.0</td>\n",
       "      <td>2568.0</td>\n",
       "    </tr>\n",
       "    <tr>\n",
       "      <th>1</th>\n",
       "      <td>Andrews</td>\n",
       "      <td>2.0</td>\n",
       "      <td>2.0</td>\n",
       "      <td>5.0</td>\n",
       "      <td>6.0</td>\n",
       "      <td>6.0</td>\n",
       "      <td>6.0</td>\n",
       "      <td>6.0</td>\n",
       "      <td>6.0</td>\n",
       "      <td>6.0</td>\n",
       "      <td>...</td>\n",
       "      <td>56.0</td>\n",
       "      <td>58.0</td>\n",
       "      <td>61.0</td>\n",
       "      <td>61.0</td>\n",
       "      <td>-</td>\n",
       "      <td>64.0</td>\n",
       "      <td>64.0</td>\n",
       "      <td>68.0</td>\n",
       "      <td>68.0</td>\n",
       "      <td>68.0</td>\n",
       "    </tr>\n",
       "    <tr>\n",
       "      <th>2</th>\n",
       "      <td>Angelina</td>\n",
       "      <td>282.0</td>\n",
       "      <td>311.0</td>\n",
       "      <td>431.0</td>\n",
       "      <td>434.0</td>\n",
       "      <td>469.0</td>\n",
       "      <td>468.0</td>\n",
       "      <td>544.0</td>\n",
       "      <td>552.0</td>\n",
       "      <td>626.0</td>\n",
       "      <td>...</td>\n",
       "      <td>2578.0</td>\n",
       "      <td>2709.0</td>\n",
       "      <td>2741.0</td>\n",
       "      <td>2777.0</td>\n",
       "      <td>-</td>\n",
       "      <td>2819.0</td>\n",
       "      <td>2815.0</td>\n",
       "      <td>2855.0</td>\n",
       "      <td>2878.0</td>\n",
       "      <td>2896.0</td>\n",
       "    </tr>\n",
       "    <tr>\n",
       "      <th>3</th>\n",
       "      <td>Aransas</td>\n",
       "      <td>16.0</td>\n",
       "      <td>17.0</td>\n",
       "      <td>15.0</td>\n",
       "      <td>24.0</td>\n",
       "      <td>27.0</td>\n",
       "      <td>27.0</td>\n",
       "      <td>27.0</td>\n",
       "      <td>27.0</td>\n",
       "      <td>28.0</td>\n",
       "      <td>...</td>\n",
       "      <td>283.0</td>\n",
       "      <td>292.0</td>\n",
       "      <td>290.0</td>\n",
       "      <td>298.0</td>\n",
       "      <td>-</td>\n",
       "      <td>300.0</td>\n",
       "      <td>305.0</td>\n",
       "      <td>310.0</td>\n",
       "      <td>315.0</td>\n",
       "      <td>316.0</td>\n",
       "    </tr>\n",
       "    <tr>\n",
       "      <th>4</th>\n",
       "      <td>Archer</td>\n",
       "      <td>8.0</td>\n",
       "      <td>9.0</td>\n",
       "      <td>13.0</td>\n",
       "      <td>18.0</td>\n",
       "      <td>20.0</td>\n",
       "      <td>20.0</td>\n",
       "      <td>20.0</td>\n",
       "      <td>20.0</td>\n",
       "      <td>20.0</td>\n",
       "      <td>...</td>\n",
       "      <td>61.0</td>\n",
       "      <td>73.0</td>\n",
       "      <td>74.0</td>\n",
       "      <td>76.0</td>\n",
       "      <td>-</td>\n",
       "      <td>76.0</td>\n",
       "      <td>76.0</td>\n",
       "      <td>76.0</td>\n",
       "      <td>77.0</td>\n",
       "      <td>78.0</td>\n",
       "    </tr>\n",
       "  </tbody>\n",
       "</table>\n",
       "<p>5 rows × 57 columns</p>\n",
       "</div>"
      ],
      "text/plain": [
       "     County  Tests Through April 21  Tests Through April 22  \\\n",
       "0  Anderson                   270.0                   282.0   \n",
       "1   Andrews                     2.0                     2.0   \n",
       "2  Angelina                   282.0                   311.0   \n",
       "3   Aransas                    16.0                    17.0   \n",
       "4    Archer                     8.0                     9.0   \n",
       "\n",
       "   Tests Through April 23  Tests Through April 24  Tests Through April 25  \\\n",
       "0                   297.0                   329.0                   337.0   \n",
       "1                     5.0                     6.0                     6.0   \n",
       "2                   431.0                   434.0                   469.0   \n",
       "3                    15.0                    24.0                    27.0   \n",
       "4                    13.0                    18.0                    20.0   \n",
       "\n",
       "   Tests Through April 26  Tests Through April 27  Tests Through April 28  \\\n",
       "0                   337.0                   360.0                   360.0   \n",
       "1                     6.0                     6.0                     6.0   \n",
       "2                   468.0                   544.0                   552.0   \n",
       "3                    27.0                    27.0                    27.0   \n",
       "4                    20.0                    20.0                    20.0   \n",
       "\n",
       "   Tests Through April 29  ...  Tests Through June 6  Tests Through June 7  \\\n",
       "0                   397.0  ...                1450.0                1599.0   \n",
       "1                     6.0  ...                  56.0                  58.0   \n",
       "2                   626.0  ...                2578.0                2709.0   \n",
       "3                    28.0  ...                 283.0                 292.0   \n",
       "4                    20.0  ...                  61.0                  73.0   \n",
       "\n",
       "   Tests Through June 8  Tests Through June 9  Tests Through June 10  \\\n",
       "0                1606.0                1620.0                      -   \n",
       "1                  61.0                  61.0                      -   \n",
       "2                2741.0                2777.0                      -   \n",
       "3                 290.0                 298.0                      -   \n",
       "4                  74.0                  76.0                      -   \n",
       "\n",
       "  Tests Through June 11  Tests Through June 12  Tests Through June 13  \\\n",
       "0                1627.0                 1632.0                 1634.0   \n",
       "1                  64.0                   64.0                   68.0   \n",
       "2                2819.0                 2815.0                 2855.0   \n",
       "3                 300.0                  305.0                  310.0   \n",
       "4                  76.0                   76.0                   76.0   \n",
       "\n",
       "   Tests Through June 14  Tests Through June 15  \n",
       "0                 2035.0                 2568.0  \n",
       "1                   68.0                   68.0  \n",
       "2                 2878.0                 2896.0  \n",
       "3                  315.0                  316.0  \n",
       "4                   77.0                   78.0  \n",
       "\n",
       "[5 rows x 57 columns]"
      ]
     },
     "execution_count": 4,
     "metadata": {},
     "output_type": "execute_result"
    }
   ],
   "source": [
    "df_tests[:5]"
   ]
  },
  {
   "cell_type": "code",
   "execution_count": 5,
   "metadata": {},
   "outputs": [],
   "source": [
    "a = df_tests.set_index('County')"
   ]
  },
  {
   "cell_type": "code",
   "execution_count": 6,
   "metadata": {},
   "outputs": [],
   "source": [
    "b = a.T.TOTAL[a.columns[1:]]"
   ]
  },
  {
   "cell_type": "code",
   "execution_count": 7,
   "metadata": {},
   "outputs": [
    {
     "data": {
      "text/plain": [
       "Tests Through April 22         216783\n",
       "Tests Through April 23         225078\n",
       "Tests Through April 24         242547\n",
       "Tests Through April 25         262816\n",
       "Tests Through April 26         276021\n",
       "Tests Through April 27         290517\n",
       "Tests Through April 28         300384\n",
       "Tests Through April 29         314790\n",
       "Tests Through April 30         330300\n",
       "Tests Through May 1            351775\n",
       "Tests Through May 2            380648\n",
       "Tests Through May 3            390560\n",
       "Tests Through May 4            407398\n",
       "Tests Through May 5*           427210\n",
       "Tests Through May 6            438938\n",
       "Tests Through May 7            455162\n",
       "Tests Through May 8            477118\n",
       "Tests Through May 9            489294\n",
       "Tests Through May 10           513978\n",
       "Tests Through May 11           525697\n",
       "Tests Through May 12           538172\n",
       "Tests Through May 13           587431\n",
       "Tests Through May 14           623284\n",
       "Tests Through May 15           645992\n",
       "Tests Through May 16           678471\n",
       "Tests Through May 17           693276\n",
       "Tests Through May 18           723013\n",
       "Tests Through May 19           744937\n",
       "Tests Through May 20           770241\n",
       "Tests Through May 21           800433\n",
       "Tests Through May 22           834437\n",
       "Tests Through May 23           870935\n",
       "Tests Through May 24           886354\n",
       "Tests Through May 25           906074\n",
       "Tests Through May 26           943239\n",
       "Tests Through May 27           961861\n",
       "Tests Through May 28           989994\n",
       "Tests Through May 29      1.02745e+06\n",
       "Tests Through May 30      1.05479e+06\n",
       "Tests Through May 31      1.07349e+06\n",
       "Tests Through June 1      1.09368e+06\n",
       "Tests Through June 2      1.11727e+06\n",
       "Tests Through June 3      1.15087e+06\n",
       "Tests Through June 4      1.17495e+06\n",
       "Tests Through June 5      1.20919e+06\n",
       "Tests Through June 6      1.21896e+06\n",
       "Tests Through June 7       1.2559e+06\n",
       "Tests Through June 8      1.28614e+06\n",
       "Tests Through June 9      1.30205e+06\n",
       "Tests Through June 10         1348893\n",
       "Tests Through June 11     1.37013e+06\n",
       "Tests Through June 12     1.40437e+06\n",
       "Tests Through June 13     1.44295e+06\n",
       "Tests Through June 14     1.46385e+06\n",
       "Tests Through June 15     1.49902e+06\n",
       "Name: TOTAL, dtype: object"
      ]
     },
     "execution_count": 7,
     "metadata": {},
     "output_type": "execute_result"
    }
   ],
   "source": [
    "b"
   ]
  },
  {
   "cell_type": "code",
   "execution_count": 18,
   "metadata": {},
   "outputs": [
    {
     "name": "stdout",
     "output_type": "stream",
     "text": [
      "-50 -51\n",
      "Tests Through April 27 14496.0\n",
      "-49 -50\n",
      "Tests Through April 28 9867.0\n",
      "-48 -49\n",
      "Tests Through April 29 14406.0\n",
      "-47 -48\n",
      "Tests Through April 30 15510.0\n",
      "-46 -47\n",
      "Tests Through May 1 21475.0\n",
      "-45 -46\n",
      "Tests Through May 2 28873.0\n",
      "-44 -45\n",
      "Tests Through May 3 9912.0\n",
      "-43 -44\n",
      "Tests Through May 4 16838.0\n",
      "-42 -43\n",
      "Tests Through May 5* 19812.0\n",
      "-41 -42\n",
      "Tests Through May 6 11728.0\n",
      "-40 -41\n",
      "Tests Through May 7 16224.0\n",
      "-39 -40\n",
      "Tests Through May 8 21956.0\n",
      "-38 -39\n",
      "Tests Through May 9 12176.0\n",
      "-37 -38\n",
      "Tests Through May 10 24684.0\n",
      "-36 -37\n",
      "Tests Through May 11 11719.0\n",
      "-35 -36\n",
      "Tests Through May 12 12475.0\n",
      "-34 -35\n",
      "Tests Through May 13 49259.0\n",
      "-33 -34\n",
      "Tests Through May 14 35853.0\n",
      "-32 -33\n",
      "Tests Through May 15 22708.0\n",
      "-31 -32\n",
      "Tests Through May 16 32479.0\n",
      "-30 -31\n",
      "Tests Through May 17 14805.0\n",
      "-29 -30\n",
      "Tests Through May 18 29737.0\n",
      "-28 -29\n",
      "Tests Through May 19 21924.0\n",
      "-27 -28\n",
      "Tests Through May 20 25304.0\n",
      "-26 -27\n",
      "Tests Through May 21 30192.0\n",
      "-25 -26\n",
      "Tests Through May 22 34004.0\n",
      "-24 -25\n",
      "Tests Through May 23 36498.0\n",
      "-23 -24\n",
      "Tests Through May 24 15419.0\n",
      "-22 -23\n",
      "Tests Through May 25 19720.0\n",
      "-21 -22\n",
      "Tests Through May 26 37165.0\n",
      "-20 -21\n",
      "Tests Through May 27 18622.0\n",
      "-19 -20\n",
      "Tests Through May 28 28133.0\n",
      "-18 -19\n",
      "Tests Through May 29 37455.0\n",
      "-17 -18\n",
      "Tests Through May 30 27344.0\n",
      "-16 -17\n",
      "Tests Through May 31 18698.0\n",
      "-15 -16\n",
      "Tests Through June 1 20185.0\n",
      "-14 -15\n",
      "Tests Through June 2 23598.0\n",
      "-13 -14\n",
      "Tests Through June 3 33594.0\n",
      "-12 -13\n",
      "Tests Through June 4 24080.0\n",
      "-11 -12\n",
      "Tests Through June 5 34239.0\n",
      "-10 -11\n",
      "Tests Through June 6 9768.0\n",
      "-9 -10\n",
      "Tests Through June 7 36944.0\n",
      "-8 -9\n",
      "Tests Through June 8 30240.0\n",
      "-7 -8\n",
      "Tests Through June 9 15910.0\n",
      "-6 -7\n",
      "Tests Through June 10 46844.0\n",
      "-5 -6\n",
      "Tests Through June 11 21238.0\n",
      "-4 -5\n",
      "Tests Through June 12 34238.0\n",
      "-3 -4\n",
      "Tests Through June 13 38581.0\n",
      "-2 -3\n",
      "Tests Through June 14 20901.0\n",
      "-1 -2\n",
      "Tests Through June 15 35164.0\n"
     ]
    }
   ],
   "source": [
    "for x in range(-50,0,1):\n",
    "    print(x, x-1)\n",
    "    print(b.index[x], b[x]- b[x-1])"
   ]
  },
  {
   "cell_type": "code",
   "execution_count": 8,
   "metadata": {},
   "outputs": [
    {
     "data": {
      "text/plain": [
       "35164.0"
      ]
     },
     "execution_count": 8,
     "metadata": {},
     "output_type": "execute_result"
    }
   ],
   "source": [
    "b[-1] - b[-2]"
   ]
  },
  {
   "cell_type": "code",
   "execution_count": null,
   "metadata": {},
   "outputs": [],
   "source": [
    "b.index[-18][14:]"
   ]
  },
  {
   "cell_type": "code",
   "execution_count": null,
   "metadata": {},
   "outputs": [],
   "source": [
    "datetime.datetime.strptime('April', '%B').month"
   ]
  },
  {
   "cell_type": "code",
   "execution_count": null,
   "metadata": {},
   "outputs": [],
   "source": [
    "datetime.datetime.strptime(b.index[0][14:].split(' ')[0], '%B').month"
   ]
  },
  {
   "cell_type": "code",
   "execution_count": null,
   "metadata": {},
   "outputs": [],
   "source": [
    "dated_dict = {}\n",
    "count = 0\n",
    "for x in b:\n",
    "    month_temp = datetime.datetime.strptime(b.index[count][14:].split(' ')[0], '%B').month\n",
    "    if b.index[count][14:].split(' ')[1] is int:\n",
    "        day_temp = int(b.index[count][14:].split(' ')[1])\n",
    "    else:\n",
    "        day_temp = 5 #May 5*\n",
    "        dated_dict[datetime.datetime(2020, month_temp, day_temp)] = b[count]\n",
    "    count += 1"
   ]
  },
  {
   "cell_type": "code",
   "execution_count": null,
   "metadata": {},
   "outputs": [],
   "source": [
    "dated_df = pd.DataFrame(dated_dict.items(), columns=['Date', 'Tests'])"
   ]
  },
  {
   "cell_type": "code",
   "execution_count": null,
   "metadata": {},
   "outputs": [],
   "source": [
    "c = dated_df.set_index('Date')"
   ]
  },
  {
   "cell_type": "code",
   "execution_count": null,
   "metadata": {},
   "outputs": [],
   "source": [
    "import datetime\n",
    "import matplotlib.dates as mdates\n",
    "months = mdates.MonthLocator()\n",
    "days = mdates.DayLocator()\n",
    "timeFmt = mdates.DateFormatter('%b %Y')\n",
    "fig, ax = plt.subplots()\n",
    "fig.set_size_inches(15,8)\n",
    "ax.xaxis.set_major_locator(months)\n",
    "ax.xaxis.set_major_formatter(timeFmt)\n",
    "ax.xaxis.set_minor_locator(days)\n",
    "plt.xlabel('Date',color='black')\n",
    "plt.ylabel('Number Active',color='black')\n",
    "plt.plot(c)\n",
    "plt.title('Texas Total Tests')\n",
    "plt.savefig('TexasTotalTests.png')"
   ]
  },
  {
   "cell_type": "code",
   "execution_count": null,
   "metadata": {},
   "outputs": [],
   "source": [
    "c"
   ]
  },
  {
   "cell_type": "code",
   "execution_count": null,
   "metadata": {},
   "outputs": [],
   "source": [
    "x = c.diff(periods = 1)"
   ]
  },
  {
   "cell_type": "code",
   "execution_count": null,
   "metadata": {},
   "outputs": [],
   "source": [
    "x"
   ]
  },
  {
   "cell_type": "code",
   "execution_count": null,
   "metadata": {},
   "outputs": [],
   "source": [
    "x.rename(columns={'Tests':'Daily Tests'}, inplace = True)"
   ]
  },
  {
   "cell_type": "code",
   "execution_count": null,
   "metadata": {},
   "outputs": [],
   "source": [
    "months = mdates.MonthLocator()\n",
    "days = mdates.DayLocator()\n",
    "timeFmt = mdates.DateFormatter('%b %Y')\n",
    "fig, ax = plt.subplots()\n",
    "fig.set_size_inches(15,8)\n",
    "ax.xaxis.set_major_locator(months)\n",
    "ax.xaxis.set_major_formatter(timeFmt)\n",
    "ax.xaxis.set_minor_locator(days)\n",
    "plt.xlabel('Date',color='black')\n",
    "plt.ylabel('Change In Active Cases',color='black')\n",
    "plt.title('Texas Daily Change In Active Cases')\n",
    "plt.bar(x.index,x['Change In Active Cases'])\n",
    "fig.savefig('TexasChangeInActiveCases.png')"
   ]
  },
  {
   "cell_type": "code",
   "execution_count": null,
   "metadata": {},
   "outputs": [],
   "source": []
  }
 ],
 "metadata": {
  "kernelspec": {
   "display_name": "Python 3",
   "language": "python",
   "name": "python3"
  },
  "language_info": {
   "codemirror_mode": {
    "name": "ipython",
    "version": 3
   },
   "file_extension": ".py",
   "mimetype": "text/x-python",
   "name": "python",
   "nbconvert_exporter": "python",
   "pygments_lexer": "ipython3",
   "version": "3.8.2"
  }
 },
 "nbformat": 4,
 "nbformat_minor": 2
}
