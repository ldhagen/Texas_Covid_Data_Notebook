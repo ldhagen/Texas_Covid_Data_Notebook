{
 "cells": [
  {
   "cell_type": "markdown",
   "metadata": {},
   "source": [
    "/mnt/c/Users/ldhag/Downloads/COVID-19_Daily_Surveillance_Data_Public.csv"
   ]
  },
  {
   "cell_type": "code",
   "execution_count": 1,
   "metadata": {},
   "outputs": [],
   "source": [
    "import pandas as pd\n",
    "import matplotlib.pyplot as plt\n",
    "import numpy as np\n",
    "import datetime\n",
    "from datetime import date, timedelta\n",
    "%matplotlib inline"
   ]
  },
  {
   "cell_type": "code",
   "execution_count": 2,
   "metadata": {},
   "outputs": [],
   "source": [
    "df_sa = pd.read_csv('COVID-19_Daily_Surveillance_Data_Public.csv')"
   ]
  },
  {
   "cell_type": "code",
   "execution_count": 3,
   "metadata": {},
   "outputs": [
    {
     "data": {
      "text/html": [
       "<div>\n",
       "<style scoped>\n",
       "    .dataframe tbody tr th:only-of-type {\n",
       "        vertical-align: middle;\n",
       "    }\n",
       "\n",
       "    .dataframe tbody tr th {\n",
       "        vertical-align: top;\n",
       "    }\n",
       "\n",
       "    .dataframe thead th {\n",
       "        text-align: right;\n",
       "    }\n",
       "</style>\n",
       "<table border=\"1\" class=\"dataframe\">\n",
       "  <thead>\n",
       "    <tr style=\"text-align: right;\">\n",
       "      <th></th>\n",
       "      <th>X</th>\n",
       "      <th>Y</th>\n",
       "      <th>objectid</th>\n",
       "      <th>globalid</th>\n",
       "      <th>reporting_date</th>\n",
       "      <th>total_case_daily_change</th>\n",
       "      <th>total_case_cumulative</th>\n",
       "      <th>deaths_daily_change</th>\n",
       "      <th>deaths_cumulative</th>\n",
       "      <th>strac_covid_positive_in_hospita</th>\n",
       "      <th>strac_covid_positive_in_icu</th>\n",
       "      <th>strac_covid_positive_on_ventila</th>\n",
       "      <th>strac_total_ventilators</th>\n",
       "      <th>strac_available_ventilators</th>\n",
       "      <th>strac_total_staffed_beds</th>\n",
       "      <th>strac_available_staffed_beds</th>\n",
       "      <th>count_7_day_moving_avg</th>\n",
       "      <th>change_in_7_day_moving_avg</th>\n",
       "      <th>deaths_under_investigation</th>\n",
       "    </tr>\n",
       "  </thead>\n",
       "  <tbody>\n",
       "    <tr>\n",
       "      <th>578</th>\n",
       "      <td>0.0</td>\n",
       "      <td>0.0</td>\n",
       "      <td>588</td>\n",
       "      <td>330ecda4-374a-463e-8def-0313d1e2ded6</td>\n",
       "      <td>2021/09/13 17:00:00+00</td>\n",
       "      <td>994.0</td>\n",
       "      <td>299488.0</td>\n",
       "      <td>0.0</td>\n",
       "      <td>4035</td>\n",
       "      <td>1043.0</td>\n",
       "      <td>337.0</td>\n",
       "      <td>204.0</td>\n",
       "      <td>804.0</td>\n",
       "      <td>416.0</td>\n",
       "      <td>4151.0</td>\n",
       "      <td>493.0</td>\n",
       "      <td>892.0</td>\n",
       "      <td>7.0</td>\n",
       "      <td>NaN</td>\n",
       "    </tr>\n",
       "    <tr>\n",
       "      <th>579</th>\n",
       "      <td>0.0</td>\n",
       "      <td>0.0</td>\n",
       "      <td>589</td>\n",
       "      <td>a883611d-0f02-4430-841d-f7e72e36a6ea</td>\n",
       "      <td>2021/09/14 17:00:00+00</td>\n",
       "      <td>775.0</td>\n",
       "      <td>300263.0</td>\n",
       "      <td>6.0</td>\n",
       "      <td>4145</td>\n",
       "      <td>1016.0</td>\n",
       "      <td>329.0</td>\n",
       "      <td>194.0</td>\n",
       "      <td>804.0</td>\n",
       "      <td>409.0</td>\n",
       "      <td>4200.0</td>\n",
       "      <td>354.0</td>\n",
       "      <td>818.0</td>\n",
       "      <td>-74.0</td>\n",
       "      <td>NaN</td>\n",
       "    </tr>\n",
       "    <tr>\n",
       "      <th>580</th>\n",
       "      <td>0.0</td>\n",
       "      <td>0.0</td>\n",
       "      <td>590</td>\n",
       "      <td>066ca74e-93fa-4346-8d31-bdd1e662c611</td>\n",
       "      <td>2021/09/15 17:00:00+00</td>\n",
       "      <td>1157.0</td>\n",
       "      <td>301420.0</td>\n",
       "      <td>4.0</td>\n",
       "      <td>4149</td>\n",
       "      <td>991.0</td>\n",
       "      <td>319.0</td>\n",
       "      <td>210.0</td>\n",
       "      <td>803.0</td>\n",
       "      <td>406.0</td>\n",
       "      <td>4200.0</td>\n",
       "      <td>347.0</td>\n",
       "      <td>839.0</td>\n",
       "      <td>21.0</td>\n",
       "      <td>NaN</td>\n",
       "    </tr>\n",
       "    <tr>\n",
       "      <th>581</th>\n",
       "      <td>0.0</td>\n",
       "      <td>0.0</td>\n",
       "      <td>591</td>\n",
       "      <td>d06425b4-097e-4f5a-8d6e-34a8eb1d78de</td>\n",
       "      <td>2021/09/16 17:00:00+00</td>\n",
       "      <td>734.0</td>\n",
       "      <td>302154.0</td>\n",
       "      <td>13.0</td>\n",
       "      <td>4162</td>\n",
       "      <td>960.0</td>\n",
       "      <td>330.0</td>\n",
       "      <td>212.0</td>\n",
       "      <td>805.0</td>\n",
       "      <td>420.0</td>\n",
       "      <td>4366.0</td>\n",
       "      <td>399.0</td>\n",
       "      <td>808.0</td>\n",
       "      <td>-31.0</td>\n",
       "      <td>NaN</td>\n",
       "    </tr>\n",
       "    <tr>\n",
       "      <th>582</th>\n",
       "      <td>0.0</td>\n",
       "      <td>0.0</td>\n",
       "      <td>592</td>\n",
       "      <td>de0c2fd8-ea0a-4856-83e5-916fdc049b6b</td>\n",
       "      <td>2021/09/17 17:00:00+00</td>\n",
       "      <td>810.0</td>\n",
       "      <td>302964.0</td>\n",
       "      <td>9.0</td>\n",
       "      <td>4171</td>\n",
       "      <td>894.0</td>\n",
       "      <td>323.0</td>\n",
       "      <td>220.0</td>\n",
       "      <td>817.0</td>\n",
       "      <td>421.0</td>\n",
       "      <td>4309.0</td>\n",
       "      <td>423.0</td>\n",
       "      <td>835.0</td>\n",
       "      <td>27.0</td>\n",
       "      <td>NaN</td>\n",
       "    </tr>\n",
       "  </tbody>\n",
       "</table>\n",
       "</div>"
      ],
      "text/plain": [
       "       X    Y  objectid                              globalid  \\\n",
       "578  0.0  0.0       588  330ecda4-374a-463e-8def-0313d1e2ded6   \n",
       "579  0.0  0.0       589  a883611d-0f02-4430-841d-f7e72e36a6ea   \n",
       "580  0.0  0.0       590  066ca74e-93fa-4346-8d31-bdd1e662c611   \n",
       "581  0.0  0.0       591  d06425b4-097e-4f5a-8d6e-34a8eb1d78de   \n",
       "582  0.0  0.0       592  de0c2fd8-ea0a-4856-83e5-916fdc049b6b   \n",
       "\n",
       "             reporting_date  total_case_daily_change  total_case_cumulative  \\\n",
       "578  2021/09/13 17:00:00+00                    994.0               299488.0   \n",
       "579  2021/09/14 17:00:00+00                    775.0               300263.0   \n",
       "580  2021/09/15 17:00:00+00                   1157.0               301420.0   \n",
       "581  2021/09/16 17:00:00+00                    734.0               302154.0   \n",
       "582  2021/09/17 17:00:00+00                    810.0               302964.0   \n",
       "\n",
       "     deaths_daily_change  deaths_cumulative  strac_covid_positive_in_hospita  \\\n",
       "578                  0.0               4035                           1043.0   \n",
       "579                  6.0               4145                           1016.0   \n",
       "580                  4.0               4149                            991.0   \n",
       "581                 13.0               4162                            960.0   \n",
       "582                  9.0               4171                            894.0   \n",
       "\n",
       "     strac_covid_positive_in_icu  strac_covid_positive_on_ventila  \\\n",
       "578                        337.0                            204.0   \n",
       "579                        329.0                            194.0   \n",
       "580                        319.0                            210.0   \n",
       "581                        330.0                            212.0   \n",
       "582                        323.0                            220.0   \n",
       "\n",
       "     strac_total_ventilators  strac_available_ventilators  \\\n",
       "578                    804.0                        416.0   \n",
       "579                    804.0                        409.0   \n",
       "580                    803.0                        406.0   \n",
       "581                    805.0                        420.0   \n",
       "582                    817.0                        421.0   \n",
       "\n",
       "     strac_total_staffed_beds  strac_available_staffed_beds  \\\n",
       "578                    4151.0                         493.0   \n",
       "579                    4200.0                         354.0   \n",
       "580                    4200.0                         347.0   \n",
       "581                    4366.0                         399.0   \n",
       "582                    4309.0                         423.0   \n",
       "\n",
       "     count_7_day_moving_avg  change_in_7_day_moving_avg  \\\n",
       "578                   892.0                         7.0   \n",
       "579                   818.0                       -74.0   \n",
       "580                   839.0                        21.0   \n",
       "581                   808.0                       -31.0   \n",
       "582                   835.0                        27.0   \n",
       "\n",
       "     deaths_under_investigation  \n",
       "578                         NaN  \n",
       "579                         NaN  \n",
       "580                         NaN  \n",
       "581                         NaN  \n",
       "582                         NaN  "
      ]
     },
     "execution_count": 3,
     "metadata": {},
     "output_type": "execute_result"
    }
   ],
   "source": [
    "df_sa.tail()"
   ]
  },
  {
   "cell_type": "code",
   "execution_count": 4,
   "metadata": {},
   "outputs": [
    {
     "data": {
      "text/plain": [
       "str"
      ]
     },
     "execution_count": 4,
     "metadata": {},
     "output_type": "execute_result"
    }
   ],
   "source": [
    "type(df_sa.loc[:,'reporting_date'][400])"
   ]
  },
  {
   "cell_type": "code",
   "execution_count": 5,
   "metadata": {},
   "outputs": [],
   "source": [
    "df_sa.reporting_date = pd.to_datetime(df_sa.reporting_date)"
   ]
  },
  {
   "cell_type": "code",
   "execution_count": 6,
   "metadata": {},
   "outputs": [
    {
     "data": {
      "text/plain": [
       "pandas._libs.tslibs.timestamps.Timestamp"
      ]
     },
     "execution_count": 6,
     "metadata": {},
     "output_type": "execute_result"
    }
   ],
   "source": [
    "type(df_sa.loc[:,'reporting_date'][400])"
   ]
  },
  {
   "cell_type": "code",
   "execution_count": 7,
   "metadata": {},
   "outputs": [],
   "source": [
    "df_sa_dtindex = df_sa.set_index('reporting_date')"
   ]
  },
  {
   "cell_type": "code",
   "execution_count": 8,
   "metadata": {},
   "outputs": [
    {
     "data": {
      "text/plain": [
       "Timestamp('2020-02-12 06:00:00+0000', tz='UTC')"
      ]
     },
     "execution_count": 8,
     "metadata": {},
     "output_type": "execute_result"
    }
   ],
   "source": [
    "df_sa.reporting_date[0]"
   ]
  },
  {
   "cell_type": "code",
   "execution_count": 9,
   "metadata": {},
   "outputs": [],
   "source": [
    "df_newcases = df_sa_dtindex.loc[:,['total_case_daily_change']]"
   ]
  },
  {
   "cell_type": "code",
   "execution_count": 10,
   "metadata": {},
   "outputs": [
    {
     "data": {
      "image/png": "[encoded data removed]",
      "text/plain": [
       "<Figure size 2520x864 with 1 Axes>"
      ]
     },
     "metadata": {
      "needs_background": "light"
     },
     "output_type": "display_data"
    }
   ],
   "source": [
    "import datetime\n",
    "import matplotlib.dates as mdates\n",
    "months = mdates.MonthLocator()\n",
    "days = mdates.DayLocator()\n",
    "timeFmt = mdates.DateFormatter('%b %Y')\n",
    "fig, ax = plt.subplots()\n",
    "fig.set_size_inches(35,12)\n",
    "ax.xaxis.set_major_locator(months)\n",
    "ax.xaxis.set_major_formatter(timeFmt)\n",
    "#ax.xaxis.set_minor_locator(months)\n",
    "plt.title('San Antonio Daily COVID Cases')\n",
    "plt.xlabel('Date',color='black')\n",
    "plt.ylabel('New COVID Cases',color='black')\n",
    "plt.bar(df_newcases.index,df_newcases.total_case_daily_change)\n",
    "fig.savefig('MetroDailySANew.png')"
   ]
  },
  {
   "cell_type": "code",
   "execution_count": 11,
   "metadata": {},
   "outputs": [],
   "source": [
    "df_sa_covid_icu = df_sa_dtindex.loc[:,['strac_covid_positive_in_icu']]"
   ]
  },
  {
   "cell_type": "code",
   "execution_count": 12,
   "metadata": {},
   "outputs": [
    {
     "data": {
      "text/html": [
       "<div>\n",
       "<style scoped>\n",
       "    .dataframe tbody tr th:only-of-type {\n",
       "        vertical-align: middle;\n",
       "    }\n",
       "\n",
       "    .dataframe tbody tr th {\n",
       "        vertical-align: top;\n",
       "    }\n",
       "\n",
       "    .dataframe thead th {\n",
       "        text-align: right;\n",
       "    }\n",
       "</style>\n",
       "<table border=\"1\" class=\"dataframe\">\n",
       "  <thead>\n",
       "    <tr style=\"text-align: right;\">\n",
       "      <th></th>\n",
       "      <th>strac_covid_positive_in_icu</th>\n",
       "    </tr>\n",
       "    <tr>\n",
       "      <th>reporting_date</th>\n",
       "      <th></th>\n",
       "    </tr>\n",
       "  </thead>\n",
       "  <tbody>\n",
       "    <tr>\n",
       "      <th>2020-02-12 06:00:00+00:00</th>\n",
       "      <td>NaN</td>\n",
       "    </tr>\n",
       "    <tr>\n",
       "      <th>2020-02-13 06:00:00+00:00</th>\n",
       "      <td>NaN</td>\n",
       "    </tr>\n",
       "    <tr>\n",
       "      <th>2020-02-14 06:00:00+00:00</th>\n",
       "      <td>NaN</td>\n",
       "    </tr>\n",
       "    <tr>\n",
       "      <th>2020-02-15 06:00:00+00:00</th>\n",
       "      <td>NaN</td>\n",
       "    </tr>\n",
       "    <tr>\n",
       "      <th>2020-02-16 06:00:00+00:00</th>\n",
       "      <td>NaN</td>\n",
       "    </tr>\n",
       "    <tr>\n",
       "      <th>...</th>\n",
       "      <td>...</td>\n",
       "    </tr>\n",
       "    <tr>\n",
       "      <th>2021-09-13 17:00:00+00:00</th>\n",
       "      <td>337.0</td>\n",
       "    </tr>\n",
       "    <tr>\n",
       "      <th>2021-09-14 17:00:00+00:00</th>\n",
       "      <td>329.0</td>\n",
       "    </tr>\n",
       "    <tr>\n",
       "      <th>2021-09-15 17:00:00+00:00</th>\n",
       "      <td>319.0</td>\n",
       "    </tr>\n",
       "    <tr>\n",
       "      <th>2021-09-16 17:00:00+00:00</th>\n",
       "      <td>330.0</td>\n",
       "    </tr>\n",
       "    <tr>\n",
       "      <th>2021-09-17 17:00:00+00:00</th>\n",
       "      <td>323.0</td>\n",
       "    </tr>\n",
       "  </tbody>\n",
       "</table>\n",
       "<p>583 rows × 1 columns</p>\n",
       "</div>"
      ],
      "text/plain": [
       "                           strac_covid_positive_in_icu\n",
       "reporting_date                                        \n",
       "2020-02-12 06:00:00+00:00                          NaN\n",
       "2020-02-13 06:00:00+00:00                          NaN\n",
       "2020-02-14 06:00:00+00:00                          NaN\n",
       "2020-02-15 06:00:00+00:00                          NaN\n",
       "2020-02-16 06:00:00+00:00                          NaN\n",
       "...                                                ...\n",
       "2021-09-13 17:00:00+00:00                        337.0\n",
       "2021-09-14 17:00:00+00:00                        329.0\n",
       "2021-09-15 17:00:00+00:00                        319.0\n",
       "2021-09-16 17:00:00+00:00                        330.0\n",
       "2021-09-17 17:00:00+00:00                        323.0\n",
       "\n",
       "[583 rows x 1 columns]"
      ]
     },
     "execution_count": 12,
     "metadata": {},
     "output_type": "execute_result"
    }
   ],
   "source": [
    "df_sa_covid_icu"
   ]
  },
  {
   "cell_type": "code",
   "execution_count": 13,
   "metadata": {},
   "outputs": [
    {
     "data": {
      "image/png": "[encoded data removed]",
      "text/plain": [
       "<Figure size 2520x864 with 1 Axes>"
      ]
     },
     "metadata": {
      "needs_background": "light"
     },
     "output_type": "display_data"
    }
   ],
   "source": [
    "import datetime\n",
    "import matplotlib.dates as mdates\n",
    "months = mdates.MonthLocator()\n",
    "days = mdates.DayLocator()\n",
    "timeFmt = mdates.DateFormatter('%b %Y')\n",
    "fig, ax = plt.subplots()\n",
    "fig.set_size_inches(35,12)\n",
    "ax.xaxis.set_major_locator(months)\n",
    "ax.xaxis.set_major_formatter(timeFmt)\n",
    "#ax.xaxis.set_minor_locator(months)\n",
    "plt.title('San Antonio Daily COVID In ICU')\n",
    "plt.xlabel('Date',color='black')\n",
    "plt.ylabel('COVID Cases In ICU',color='black')\n",
    "plt.bar(df_sa_covid_icu.index,df_sa_covid_icu.strac_covid_positive_in_icu)\n",
    "fig.savefig('MetroICUSANew.png')"
   ]
  },
  {
   "cell_type": "code",
   "execution_count": 14,
   "metadata": {},
   "outputs": [],
   "source": [
    "df_sa_deaths = df_sa_dtindex.loc[:,['deaths_daily_change']]"
   ]
  },
  {
   "cell_type": "code",
   "execution_count": 15,
   "metadata": {},
   "outputs": [
    {
     "data": {
      "text/html": [
       "<div>\n",
       "<style scoped>\n",
       "    .dataframe tbody tr th:only-of-type {\n",
       "        vertical-align: middle;\n",
       "    }\n",
       "\n",
       "    .dataframe tbody tr th {\n",
       "        vertical-align: top;\n",
       "    }\n",
       "\n",
       "    .dataframe thead th {\n",
       "        text-align: right;\n",
       "    }\n",
       "</style>\n",
       "<table border=\"1\" class=\"dataframe\">\n",
       "  <thead>\n",
       "    <tr style=\"text-align: right;\">\n",
       "      <th></th>\n",
       "      <th>deaths_daily_change</th>\n",
       "    </tr>\n",
       "    <tr>\n",
       "      <th>reporting_date</th>\n",
       "      <th></th>\n",
       "    </tr>\n",
       "  </thead>\n",
       "  <tbody>\n",
       "    <tr>\n",
       "      <th>2020-02-12 06:00:00+00:00</th>\n",
       "      <td>NaN</td>\n",
       "    </tr>\n",
       "    <tr>\n",
       "      <th>2020-02-13 06:00:00+00:00</th>\n",
       "      <td>NaN</td>\n",
       "    </tr>\n",
       "    <tr>\n",
       "      <th>2020-02-14 06:00:00+00:00</th>\n",
       "      <td>NaN</td>\n",
       "    </tr>\n",
       "    <tr>\n",
       "      <th>2020-02-15 06:00:00+00:00</th>\n",
       "      <td>NaN</td>\n",
       "    </tr>\n",
       "    <tr>\n",
       "      <th>2020-02-16 06:00:00+00:00</th>\n",
       "      <td>NaN</td>\n",
       "    </tr>\n",
       "    <tr>\n",
       "      <th>...</th>\n",
       "      <td>...</td>\n",
       "    </tr>\n",
       "    <tr>\n",
       "      <th>2021-09-13 17:00:00+00:00</th>\n",
       "      <td>0.0</td>\n",
       "    </tr>\n",
       "    <tr>\n",
       "      <th>2021-09-14 17:00:00+00:00</th>\n",
       "      <td>6.0</td>\n",
       "    </tr>\n",
       "    <tr>\n",
       "      <th>2021-09-15 17:00:00+00:00</th>\n",
       "      <td>4.0</td>\n",
       "    </tr>\n",
       "    <tr>\n",
       "      <th>2021-09-16 17:00:00+00:00</th>\n",
       "      <td>13.0</td>\n",
       "    </tr>\n",
       "    <tr>\n",
       "      <th>2021-09-17 17:00:00+00:00</th>\n",
       "      <td>9.0</td>\n",
       "    </tr>\n",
       "  </tbody>\n",
       "</table>\n",
       "<p>583 rows × 1 columns</p>\n",
       "</div>"
      ],
      "text/plain": [
       "                           deaths_daily_change\n",
       "reporting_date                                \n",
       "2020-02-12 06:00:00+00:00                  NaN\n",
       "2020-02-13 06:00:00+00:00                  NaN\n",
       "2020-02-14 06:00:00+00:00                  NaN\n",
       "2020-02-15 06:00:00+00:00                  NaN\n",
       "2020-02-16 06:00:00+00:00                  NaN\n",
       "...                                        ...\n",
       "2021-09-13 17:00:00+00:00                  0.0\n",
       "2021-09-14 17:00:00+00:00                  6.0\n",
       "2021-09-15 17:00:00+00:00                  4.0\n",
       "2021-09-16 17:00:00+00:00                 13.0\n",
       "2021-09-17 17:00:00+00:00                  9.0\n",
       "\n",
       "[583 rows x 1 columns]"
      ]
     },
     "execution_count": 15,
     "metadata": {},
     "output_type": "execute_result"
    }
   ],
   "source": [
    "df_sa_deaths"
   ]
  },
  {
   "cell_type": "code",
   "execution_count": 16,
   "metadata": {},
   "outputs": [
    {
     "data": {
      "image/png": "[encoded data removed]",
      "text/plain": [
       "<Figure size 2520x864 with 1 Axes>"
      ]
     },
     "metadata": {
      "needs_background": "light"
     },
     "output_type": "display_data"
    }
   ],
   "source": [
    "import datetime\n",
    "import matplotlib.dates as mdates\n",
    "months = mdates.MonthLocator()\n",
    "days = mdates.DayLocator()\n",
    "timeFmt = mdates.DateFormatter('%b %Y')\n",
    "fig, ax = plt.subplots()\n",
    "fig.set_size_inches(35,12)\n",
    "ax.xaxis.set_major_locator(months)\n",
    "ax.xaxis.set_major_formatter(timeFmt)\n",
    "#ax.xaxis.set_minor_locator(months)\n",
    "plt.title('San Antonio Daily COVID Deaths')\n",
    "plt.xlabel('Date',color='black')\n",
    "plt.ylabel('COVID Deaths',color='black')\n",
    "plt.bar(df_sa_deaths.index,df_sa_deaths.deaths_daily_change)\n",
    "fig.savefig('MetroDeathsSANew.png')"
   ]
  },
  {
   "cell_type": "code",
   "execution_count": 17,
   "metadata": {},
   "outputs": [],
   "source": [
    "df_sa_hospital = df_sa_dtindex.loc[:,['strac_covid_positive_in_hospita']]"
   ]
  },
  {
   "cell_type": "code",
   "execution_count": 18,
   "metadata": {},
   "outputs": [
    {
     "data": {
      "text/html": [
       "<div>\n",
       "<style scoped>\n",
       "    .dataframe tbody tr th:only-of-type {\n",
       "        vertical-align: middle;\n",
       "    }\n",
       "\n",
       "    .dataframe tbody tr th {\n",
       "        vertical-align: top;\n",
       "    }\n",
       "\n",
       "    .dataframe thead th {\n",
       "        text-align: right;\n",
       "    }\n",
       "</style>\n",
       "<table border=\"1\" class=\"dataframe\">\n",
       "  <thead>\n",
       "    <tr style=\"text-align: right;\">\n",
       "      <th></th>\n",
       "      <th>strac_covid_positive_in_hospita</th>\n",
       "    </tr>\n",
       "    <tr>\n",
       "      <th>reporting_date</th>\n",
       "      <th></th>\n",
       "    </tr>\n",
       "  </thead>\n",
       "  <tbody>\n",
       "    <tr>\n",
       "      <th>2020-02-12 06:00:00+00:00</th>\n",
       "      <td>NaN</td>\n",
       "    </tr>\n",
       "    <tr>\n",
       "      <th>2020-02-13 06:00:00+00:00</th>\n",
       "      <td>NaN</td>\n",
       "    </tr>\n",
       "    <tr>\n",
       "      <th>2020-02-14 06:00:00+00:00</th>\n",
       "      <td>NaN</td>\n",
       "    </tr>\n",
       "    <tr>\n",
       "      <th>2020-02-15 06:00:00+00:00</th>\n",
       "      <td>NaN</td>\n",
       "    </tr>\n",
       "    <tr>\n",
       "      <th>2020-02-16 06:00:00+00:00</th>\n",
       "      <td>NaN</td>\n",
       "    </tr>\n",
       "    <tr>\n",
       "      <th>...</th>\n",
       "      <td>...</td>\n",
       "    </tr>\n",
       "    <tr>\n",
       "      <th>2021-09-13 17:00:00+00:00</th>\n",
       "      <td>1043.0</td>\n",
       "    </tr>\n",
       "    <tr>\n",
       "      <th>2021-09-14 17:00:00+00:00</th>\n",
       "      <td>1016.0</td>\n",
       "    </tr>\n",
       "    <tr>\n",
       "      <th>2021-09-15 17:00:00+00:00</th>\n",
       "      <td>991.0</td>\n",
       "    </tr>\n",
       "    <tr>\n",
       "      <th>2021-09-16 17:00:00+00:00</th>\n",
       "      <td>960.0</td>\n",
       "    </tr>\n",
       "    <tr>\n",
       "      <th>2021-09-17 17:00:00+00:00</th>\n",
       "      <td>894.0</td>\n",
       "    </tr>\n",
       "  </tbody>\n",
       "</table>\n",
       "<p>583 rows × 1 columns</p>\n",
       "</div>"
      ],
      "text/plain": [
       "                           strac_covid_positive_in_hospita\n",
       "reporting_date                                            \n",
       "2020-02-12 06:00:00+00:00                              NaN\n",
       "2020-02-13 06:00:00+00:00                              NaN\n",
       "2020-02-14 06:00:00+00:00                              NaN\n",
       "2020-02-15 06:00:00+00:00                              NaN\n",
       "2020-02-16 06:00:00+00:00                              NaN\n",
       "...                                                    ...\n",
       "2021-09-13 17:00:00+00:00                           1043.0\n",
       "2021-09-14 17:00:00+00:00                           1016.0\n",
       "2021-09-15 17:00:00+00:00                            991.0\n",
       "2021-09-16 17:00:00+00:00                            960.0\n",
       "2021-09-17 17:00:00+00:00                            894.0\n",
       "\n",
       "[583 rows x 1 columns]"
      ]
     },
     "execution_count": 18,
     "metadata": {},
     "output_type": "execute_result"
    }
   ],
   "source": [
    "df_sa_hospital"
   ]
  },
  {
   "cell_type": "code",
   "execution_count": 19,
   "metadata": {},
   "outputs": [
    {
     "data": {
      "image/png": "[encoded data removed]",
      "text/plain": [
       "<Figure size 2520x864 with 1 Axes>"
      ]
     },
     "metadata": {
      "needs_background": "light"
     },
     "output_type": "display_data"
    }
   ],
   "source": [
    "import datetime\n",
    "import matplotlib.dates as mdates\n",
    "months = mdates.MonthLocator()\n",
    "days = mdates.DayLocator()\n",
    "timeFmt = mdates.DateFormatter('%b %Y')\n",
    "fig, ax = plt.subplots()\n",
    "fig.set_size_inches(35,12)\n",
    "ax.xaxis.set_major_locator(months)\n",
    "ax.xaxis.set_major_formatter(timeFmt)\n",
    "#ax.xaxis.set_minor_locator(months)\n",
    "plt.title('San Antonio Daily Hospitalized With COVID')\n",
    "plt.xlabel('Date',color='black')\n",
    "plt.ylabel('COVID Hospitalized',color='black')\n",
    "plt.bar(df_sa_hospital.index,df_sa_hospital.strac_covid_positive_in_hospita)\n",
    "fig.savefig('MetroHospitalSANew.png')"
   ]
  },
  {
   "cell_type": "code",
   "execution_count": 20,
   "metadata": {},
   "outputs": [],
   "source": [
    "df_sa_availbeds = df_sa_dtindex.loc[:,['strac_available_staffed_beds']]"
   ]
  },
  {
   "cell_type": "code",
   "execution_count": 21,
   "metadata": {},
   "outputs": [
    {
     "data": {
      "text/html": [
       "<div>\n",
       "<style scoped>\n",
       "    .dataframe tbody tr th:only-of-type {\n",
       "        vertical-align: middle;\n",
       "    }\n",
       "\n",
       "    .dataframe tbody tr th {\n",
       "        vertical-align: top;\n",
       "    }\n",
       "\n",
       "    .dataframe thead th {\n",
       "        text-align: right;\n",
       "    }\n",
       "</style>\n",
       "<table border=\"1\" class=\"dataframe\">\n",
       "  <thead>\n",
       "    <tr style=\"text-align: right;\">\n",
       "      <th></th>\n",
       "      <th>strac_available_staffed_beds</th>\n",
       "    </tr>\n",
       "    <tr>\n",
       "      <th>reporting_date</th>\n",
       "      <th></th>\n",
       "    </tr>\n",
       "  </thead>\n",
       "  <tbody>\n",
       "    <tr>\n",
       "      <th>2020-02-12 06:00:00+00:00</th>\n",
       "      <td>NaN</td>\n",
       "    </tr>\n",
       "    <tr>\n",
       "      <th>2020-02-13 06:00:00+00:00</th>\n",
       "      <td>NaN</td>\n",
       "    </tr>\n",
       "    <tr>\n",
       "      <th>2020-02-14 06:00:00+00:00</th>\n",
       "      <td>NaN</td>\n",
       "    </tr>\n",
       "    <tr>\n",
       "      <th>2020-02-15 06:00:00+00:00</th>\n",
       "      <td>NaN</td>\n",
       "    </tr>\n",
       "    <tr>\n",
       "      <th>2020-02-16 06:00:00+00:00</th>\n",
       "      <td>NaN</td>\n",
       "    </tr>\n",
       "    <tr>\n",
       "      <th>...</th>\n",
       "      <td>...</td>\n",
       "    </tr>\n",
       "    <tr>\n",
       "      <th>2021-09-13 17:00:00+00:00</th>\n",
       "      <td>493.0</td>\n",
       "    </tr>\n",
       "    <tr>\n",
       "      <th>2021-09-14 17:00:00+00:00</th>\n",
       "      <td>354.0</td>\n",
       "    </tr>\n",
       "    <tr>\n",
       "      <th>2021-09-15 17:00:00+00:00</th>\n",
       "      <td>347.0</td>\n",
       "    </tr>\n",
       "    <tr>\n",
       "      <th>2021-09-16 17:00:00+00:00</th>\n",
       "      <td>399.0</td>\n",
       "    </tr>\n",
       "    <tr>\n",
       "      <th>2021-09-17 17:00:00+00:00</th>\n",
       "      <td>423.0</td>\n",
       "    </tr>\n",
       "  </tbody>\n",
       "</table>\n",
       "<p>583 rows × 1 columns</p>\n",
       "</div>"
      ],
      "text/plain": [
       "                           strac_available_staffed_beds\n",
       "reporting_date                                         \n",
       "2020-02-12 06:00:00+00:00                           NaN\n",
       "2020-02-13 06:00:00+00:00                           NaN\n",
       "2020-02-14 06:00:00+00:00                           NaN\n",
       "2020-02-15 06:00:00+00:00                           NaN\n",
       "2020-02-16 06:00:00+00:00                           NaN\n",
       "...                                                 ...\n",
       "2021-09-13 17:00:00+00:00                         493.0\n",
       "2021-09-14 17:00:00+00:00                         354.0\n",
       "2021-09-15 17:00:00+00:00                         347.0\n",
       "2021-09-16 17:00:00+00:00                         399.0\n",
       "2021-09-17 17:00:00+00:00                         423.0\n",
       "\n",
       "[583 rows x 1 columns]"
      ]
     },
     "execution_count": 21,
     "metadata": {},
     "output_type": "execute_result"
    }
   ],
   "source": [
    "df_sa_availbeds"
   ]
  },
  {
   "cell_type": "code",
   "execution_count": 22,
   "metadata": {},
   "outputs": [
    {
     "data": {
      "image/png": "[encoded data removed]",
      "text/plain": [
       "<Figure size 2520x864 with 1 Axes>"
      ]
     },
     "metadata": {
      "needs_background": "light"
     },
     "output_type": "display_data"
    }
   ],
   "source": [
    "import datetime\n",
    "import matplotlib.dates as mdates\n",
    "months = mdates.MonthLocator()\n",
    "days = mdates.DayLocator()\n",
    "timeFmt = mdates.DateFormatter('%b %Y')\n",
    "fig, ax = plt.subplots()\n",
    "fig.set_size_inches(35,12)\n",
    "ax.xaxis.set_major_locator(months)\n",
    "ax.xaxis.set_major_formatter(timeFmt)\n",
    "#ax.xaxis.set_minor_locator(months)\n",
    "plt.title('San Antonio Daily COVID Available Hospital Beds')\n",
    "plt.xlabel('Date',color='black')\n",
    "plt.ylabel('Staffed Beds',color='black')\n",
    "plt.bar(df_sa_availbeds.index,df_sa_availbeds.strac_available_staffed_beds)\n",
    "fig.savefig('MetroAvailBedsSANew.png')"
   ]
  },
  {
   "cell_type": "code",
   "execution_count": null,
   "metadata": {},
   "outputs": [],
   "source": []
  }
 ],
 "metadata": {
  "kernelspec": {
   "display_name": "Python 3",
   "language": "python",
   "name": "python3"
  },
  "language_info": {
   "codemirror_mode": {
    "name": "ipython",
    "version": 3
   },
   "file_extension": ".py",
   "mimetype": "text/x-python",
   "name": "python",
   "nbconvert_exporter": "python",
   "pygments_lexer": "ipython3",
   "version": "3.8.10"
  }
 },
 "nbformat": 4,
 "nbformat_minor": 4
}
