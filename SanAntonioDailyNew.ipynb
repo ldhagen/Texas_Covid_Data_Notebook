{
 "cells": [
  {
   "cell_type": "markdown",
   "metadata": {},
   "source": [
    "/mnt/c/Users/ldhag/Downloads/COVID-19_Daily_Surveillance_Data_Public.csv"
   ]
  },
  {
   "cell_type": "code",
   "execution_count": 1,
   "metadata": {},
   "outputs": [],
   "source": [
    "import pandas as pd\n",
    "import matplotlib.pyplot as plt\n",
    "import numpy as np\n",
    "import datetime\n",
    "from datetime import date, timedelta\n",
    "%matplotlib inline"
   ]
  },
  {
   "cell_type": "code",
   "execution_count": 2,
   "metadata": {},
   "outputs": [],
   "source": [
    "df_sa = pd.read_csv('COVID-19_Daily_Surveillance_Data_Public.csv')"
   ]
  },
  {
   "cell_type": "code",
   "execution_count": 3,
   "metadata": {},
   "outputs": [
    {
     "data": {
      "text/html": [
       "<div>\n",
       "<style scoped>\n",
       "    .dataframe tbody tr th:only-of-type {\n",
       "        vertical-align: middle;\n",
       "    }\n",
       "\n",
       "    .dataframe tbody tr th {\n",
       "        vertical-align: top;\n",
       "    }\n",
       "\n",
       "    .dataframe thead th {\n",
       "        text-align: right;\n",
       "    }\n",
       "</style>\n",
       "<table border=\"1\" class=\"dataframe\">\n",
       "  <thead>\n",
       "    <tr style=\"text-align: right;\">\n",
       "      <th></th>\n",
       "      <th>X</th>\n",
       "      <th>Y</th>\n",
       "      <th>objectid</th>\n",
       "      <th>globalid</th>\n",
       "      <th>reporting_date</th>\n",
       "      <th>total_case_daily_change</th>\n",
       "      <th>total_case_cumulative</th>\n",
       "      <th>deaths_daily_change</th>\n",
       "      <th>deaths_cumulative</th>\n",
       "      <th>strac_covid_positive_in_hospita</th>\n",
       "      <th>strac_covid_positive_in_icu</th>\n",
       "      <th>strac_covid_positive_on_ventila</th>\n",
       "      <th>strac_total_ventilators</th>\n",
       "      <th>strac_available_ventilators</th>\n",
       "      <th>strac_total_staffed_beds</th>\n",
       "      <th>strac_available_staffed_beds</th>\n",
       "      <th>count_7_day_moving_avg</th>\n",
       "      <th>change_in_7_day_moving_avg</th>\n",
       "      <th>deaths_under_investigation</th>\n",
       "    </tr>\n",
       "  </thead>\n",
       "  <tbody>\n",
       "    <tr>\n",
       "      <th>575</th>\n",
       "      <td>0.0</td>\n",
       "      <td>0.0</td>\n",
       "      <td>585</td>\n",
       "      <td>092c761a-c9c0-4068-85a0-9c8a3f66f2e6</td>\n",
       "      <td>2021/09/10 17:00:00+00</td>\n",
       "      <td>620.0</td>\n",
       "      <td>296573.0</td>\n",
       "      <td>18.0</td>\n",
       "      <td>4035</td>\n",
       "      <td>1121.0</td>\n",
       "      <td>358.0</td>\n",
       "      <td>249.0</td>\n",
       "      <td>804.0</td>\n",
       "      <td>352.0</td>\n",
       "      <td>4252.0</td>\n",
       "      <td>379.0</td>\n",
       "      <td>934.0</td>\n",
       "      <td>-49.0</td>\n",
       "      <td>NaN</td>\n",
       "    </tr>\n",
       "    <tr>\n",
       "      <th>576</th>\n",
       "      <td>0.0</td>\n",
       "      <td>0.0</td>\n",
       "      <td>586</td>\n",
       "      <td>7c9e6593-a7ad-4f14-85da-d1fd8f136a1a</td>\n",
       "      <td>2021/09/11 17:00:00+00</td>\n",
       "      <td>700.0</td>\n",
       "      <td>297273.0</td>\n",
       "      <td>0.0</td>\n",
       "      <td>4035</td>\n",
       "      <td>1066.0</td>\n",
       "      <td>347.0</td>\n",
       "      <td>230.0</td>\n",
       "      <td>804.0</td>\n",
       "      <td>369.0</td>\n",
       "      <td>4279.0</td>\n",
       "      <td>460.0</td>\n",
       "      <td>866.0</td>\n",
       "      <td>-68.0</td>\n",
       "      <td>NaN</td>\n",
       "    </tr>\n",
       "    <tr>\n",
       "      <th>577</th>\n",
       "      <td>0.0</td>\n",
       "      <td>0.0</td>\n",
       "      <td>587</td>\n",
       "      <td>12f4f897-b67e-478e-85eb-448260348e67</td>\n",
       "      <td>2021/09/12 17:00:00+00</td>\n",
       "      <td>674.0</td>\n",
       "      <td>297947.0</td>\n",
       "      <td>0.0</td>\n",
       "      <td>4035</td>\n",
       "      <td>1050.0</td>\n",
       "      <td>337.0</td>\n",
       "      <td>219.0</td>\n",
       "      <td>804.0</td>\n",
       "      <td>388.0</td>\n",
       "      <td>4191.0</td>\n",
       "      <td>472.0</td>\n",
       "      <td>885.0</td>\n",
       "      <td>19.0</td>\n",
       "      <td>NaN</td>\n",
       "    </tr>\n",
       "    <tr>\n",
       "      <th>578</th>\n",
       "      <td>0.0</td>\n",
       "      <td>0.0</td>\n",
       "      <td>588</td>\n",
       "      <td>330ecda4-374a-463e-8def-0313d1e2ded6</td>\n",
       "      <td>2021/09/13 17:00:00+00</td>\n",
       "      <td>994.0</td>\n",
       "      <td>299488.0</td>\n",
       "      <td>0.0</td>\n",
       "      <td>4035</td>\n",
       "      <td>1043.0</td>\n",
       "      <td>337.0</td>\n",
       "      <td>204.0</td>\n",
       "      <td>804.0</td>\n",
       "      <td>416.0</td>\n",
       "      <td>4151.0</td>\n",
       "      <td>493.0</td>\n",
       "      <td>892.0</td>\n",
       "      <td>7.0</td>\n",
       "      <td>NaN</td>\n",
       "    </tr>\n",
       "    <tr>\n",
       "      <th>579</th>\n",
       "      <td>0.0</td>\n",
       "      <td>0.0</td>\n",
       "      <td>589</td>\n",
       "      <td>a883611d-0f02-4430-841d-f7e72e36a6ea</td>\n",
       "      <td>2021/09/14 17:00:00+00</td>\n",
       "      <td>775.0</td>\n",
       "      <td>300263.0</td>\n",
       "      <td>6.0</td>\n",
       "      <td>4145</td>\n",
       "      <td>1016.0</td>\n",
       "      <td>329.0</td>\n",
       "      <td>194.0</td>\n",
       "      <td>804.0</td>\n",
       "      <td>409.0</td>\n",
       "      <td>4200.0</td>\n",
       "      <td>354.0</td>\n",
       "      <td>818.0</td>\n",
       "      <td>-74.0</td>\n",
       "      <td>NaN</td>\n",
       "    </tr>\n",
       "  </tbody>\n",
       "</table>\n",
       "</div>"
      ],
      "text/plain": [
       "       X    Y  objectid                              globalid  \\\n",
       "575  0.0  0.0       585  092c761a-c9c0-4068-85a0-9c8a3f66f2e6   \n",
       "576  0.0  0.0       586  7c9e6593-a7ad-4f14-85da-d1fd8f136a1a   \n",
       "577  0.0  0.0       587  12f4f897-b67e-478e-85eb-448260348e67   \n",
       "578  0.0  0.0       588  330ecda4-374a-463e-8def-0313d1e2ded6   \n",
       "579  0.0  0.0       589  a883611d-0f02-4430-841d-f7e72e36a6ea   \n",
       "\n",
       "             reporting_date  total_case_daily_change  total_case_cumulative  \\\n",
       "575  2021/09/10 17:00:00+00                    620.0               296573.0   \n",
       "576  2021/09/11 17:00:00+00                    700.0               297273.0   \n",
       "577  2021/09/12 17:00:00+00                    674.0               297947.0   \n",
       "578  2021/09/13 17:00:00+00                    994.0               299488.0   \n",
       "579  2021/09/14 17:00:00+00                    775.0               300263.0   \n",
       "\n",
       "     deaths_daily_change  deaths_cumulative  strac_covid_positive_in_hospita  \\\n",
       "575                 18.0               4035                           1121.0   \n",
       "576                  0.0               4035                           1066.0   \n",
       "577                  0.0               4035                           1050.0   \n",
       "578                  0.0               4035                           1043.0   \n",
       "579                  6.0               4145                           1016.0   \n",
       "\n",
       "     strac_covid_positive_in_icu  strac_covid_positive_on_ventila  \\\n",
       "575                        358.0                            249.0   \n",
       "576                        347.0                            230.0   \n",
       "577                        337.0                            219.0   \n",
       "578                        337.0                            204.0   \n",
       "579                        329.0                            194.0   \n",
       "\n",
       "     strac_total_ventilators  strac_available_ventilators  \\\n",
       "575                    804.0                        352.0   \n",
       "576                    804.0                        369.0   \n",
       "577                    804.0                        388.0   \n",
       "578                    804.0                        416.0   \n",
       "579                    804.0                        409.0   \n",
       "\n",
       "     strac_total_staffed_beds  strac_available_staffed_beds  \\\n",
       "575                    4252.0                         379.0   \n",
       "576                    4279.0                         460.0   \n",
       "577                    4191.0                         472.0   \n",
       "578                    4151.0                         493.0   \n",
       "579                    4200.0                         354.0   \n",
       "\n",
       "     count_7_day_moving_avg  change_in_7_day_moving_avg  \\\n",
       "575                   934.0                       -49.0   \n",
       "576                   866.0                       -68.0   \n",
       "577                   885.0                        19.0   \n",
       "578                   892.0                         7.0   \n",
       "579                   818.0                       -74.0   \n",
       "\n",
       "     deaths_under_investigation  \n",
       "575                         NaN  \n",
       "576                         NaN  \n",
       "577                         NaN  \n",
       "578                         NaN  \n",
       "579                         NaN  "
      ]
     },
     "execution_count": 3,
     "metadata": {},
     "output_type": "execute_result"
    }
   ],
   "source": [
    "df_sa.tail()"
   ]
  },
  {
   "cell_type": "code",
   "execution_count": 4,
   "metadata": {},
   "outputs": [
    {
     "data": {
      "text/plain": [
       "str"
      ]
     },
     "execution_count": 4,
     "metadata": {},
     "output_type": "execute_result"
    }
   ],
   "source": [
    "type(df_sa.loc[:,'reporting_date'][400])"
   ]
  },
  {
   "cell_type": "code",
   "execution_count": 5,
   "metadata": {},
   "outputs": [],
   "source": [
    "df_sa.reporting_date = pd.to_datetime(df_sa.reporting_date)"
   ]
  },
  {
   "cell_type": "code",
   "execution_count": 6,
   "metadata": {},
   "outputs": [
    {
     "data": {
      "text/plain": [
       "pandas._libs.tslibs.timestamps.Timestamp"
      ]
     },
     "execution_count": 6,
     "metadata": {},
     "output_type": "execute_result"
    }
   ],
   "source": [
    "type(df_sa.loc[:,'reporting_date'][400])"
   ]
  },
  {
   "cell_type": "code",
   "execution_count": 7,
   "metadata": {},
   "outputs": [],
   "source": [
    "df_sa_dtindex = df_sa.set_index('reporting_date')"
   ]
  },
  {
   "cell_type": "code",
   "execution_count": 8,
   "metadata": {},
   "outputs": [
    {
     "data": {
      "text/plain": [
       "Timestamp('2020-02-12 06:00:00+0000', tz='UTC')"
      ]
     },
     "execution_count": 8,
     "metadata": {},
     "output_type": "execute_result"
    }
   ],
   "source": [
    "df_sa.reporting_date[0]"
   ]
  },
  {
   "cell_type": "code",
   "execution_count": 9,
   "metadata": {},
   "outputs": [],
   "source": [
    "df_newcases = df_sa_dtindex.loc[:,['total_case_daily_change']]"
   ]
  },
  {
   "cell_type": "code",
   "execution_count": 10,
   "metadata": {},
   "outputs": [
    {
     "data": {
      "image/png": "[encoded data removed]",
      "text/plain": [
       "<Figure size 2520x864 with 1 Axes>"
      ]
     },
     "metadata": {
      "needs_background": "light"
     },
     "output_type": "display_data"
    }
   ],
   "source": [
    "import datetime\n",
    "import matplotlib.dates as mdates\n",
    "months = mdates.MonthLocator()\n",
    "days = mdates.DayLocator()\n",
    "timeFmt = mdates.DateFormatter('%b %Y')\n",
    "fig, ax = plt.subplots()\n",
    "fig.set_size_inches(35,12)\n",
    "ax.xaxis.set_major_locator(months)\n",
    "ax.xaxis.set_major_formatter(timeFmt)\n",
    "#ax.xaxis.set_minor_locator(months)\n",
    "plt.title('San Antonio Daily COVID Cases')\n",
    "plt.xlabel('Date',color='black')\n",
    "plt.ylabel('New COVID Cases',color='black')\n",
    "plt.bar(df_newcases.index,df_newcases.total_case_daily_change)\n",
    "fig.savefig('MetroDailySANew.png')"
   ]
  },
  {
   "cell_type": "code",
   "execution_count": 11,
   "metadata": {},
   "outputs": [],
   "source": [
    "df_sa_covid_icu = df_sa_dtindex.loc[:,['strac_covid_positive_in_icu']]"
   ]
  },
  {
   "cell_type": "code",
   "execution_count": 12,
   "metadata": {},
   "outputs": [
    {
     "data": {
      "text/html": [
       "<div>\n",
       "<style scoped>\n",
       "    .dataframe tbody tr th:only-of-type {\n",
       "        vertical-align: middle;\n",
       "    }\n",
       "\n",
       "    .dataframe tbody tr th {\n",
       "        vertical-align: top;\n",
       "    }\n",
       "\n",
       "    .dataframe thead th {\n",
       "        text-align: right;\n",
       "    }\n",
       "</style>\n",
       "<table border=\"1\" class=\"dataframe\">\n",
       "  <thead>\n",
       "    <tr style=\"text-align: right;\">\n",
       "      <th></th>\n",
       "      <th>strac_covid_positive_in_icu</th>\n",
       "    </tr>\n",
       "    <tr>\n",
       "      <th>reporting_date</th>\n",
       "      <th></th>\n",
       "    </tr>\n",
       "  </thead>\n",
       "  <tbody>\n",
       "    <tr>\n",
       "      <th>2020-02-12 06:00:00+00:00</th>\n",
       "      <td>NaN</td>\n",
       "    </tr>\n",
       "    <tr>\n",
       "      <th>2020-02-13 06:00:00+00:00</th>\n",
       "      <td>NaN</td>\n",
       "    </tr>\n",
       "    <tr>\n",
       "      <th>2020-02-14 06:00:00+00:00</th>\n",
       "      <td>NaN</td>\n",
       "    </tr>\n",
       "    <tr>\n",
       "      <th>2020-02-15 06:00:00+00:00</th>\n",
       "      <td>NaN</td>\n",
       "    </tr>\n",
       "    <tr>\n",
       "      <th>2020-02-16 06:00:00+00:00</th>\n",
       "      <td>NaN</td>\n",
       "    </tr>\n",
       "    <tr>\n",
       "      <th>...</th>\n",
       "      <td>...</td>\n",
       "    </tr>\n",
       "    <tr>\n",
       "      <th>2021-09-10 17:00:00+00:00</th>\n",
       "      <td>358.0</td>\n",
       "    </tr>\n",
       "    <tr>\n",
       "      <th>2021-09-11 17:00:00+00:00</th>\n",
       "      <td>347.0</td>\n",
       "    </tr>\n",
       "    <tr>\n",
       "      <th>2021-09-12 17:00:00+00:00</th>\n",
       "      <td>337.0</td>\n",
       "    </tr>\n",
       "    <tr>\n",
       "      <th>2021-09-13 17:00:00+00:00</th>\n",
       "      <td>337.0</td>\n",
       "    </tr>\n",
       "    <tr>\n",
       "      <th>2021-09-14 17:00:00+00:00</th>\n",
       "      <td>329.0</td>\n",
       "    </tr>\n",
       "  </tbody>\n",
       "</table>\n",
       "<p>580 rows × 1 columns</p>\n",
       "</div>"
      ],
      "text/plain": [
       "                           strac_covid_positive_in_icu\n",
       "reporting_date                                        \n",
       "2020-02-12 06:00:00+00:00                          NaN\n",
       "2020-02-13 06:00:00+00:00                          NaN\n",
       "2020-02-14 06:00:00+00:00                          NaN\n",
       "2020-02-15 06:00:00+00:00                          NaN\n",
       "2020-02-16 06:00:00+00:00                          NaN\n",
       "...                                                ...\n",
       "2021-09-10 17:00:00+00:00                        358.0\n",
       "2021-09-11 17:00:00+00:00                        347.0\n",
       "2021-09-12 17:00:00+00:00                        337.0\n",
       "2021-09-13 17:00:00+00:00                        337.0\n",
       "2021-09-14 17:00:00+00:00                        329.0\n",
       "\n",
       "[580 rows x 1 columns]"
      ]
     },
     "execution_count": 12,
     "metadata": {},
     "output_type": "execute_result"
    }
   ],
   "source": [
    "df_sa_covid_icu"
   ]
  },
  {
   "cell_type": "code",
   "execution_count": 13,
   "metadata": {},
   "outputs": [
    {
     "data": {
      "image/png": "[encoded data removed]",
      "text/plain": [
       "<Figure size 2520x864 with 1 Axes>"
      ]
     },
     "metadata": {
      "needs_background": "light"
     },
     "output_type": "display_data"
    }
   ],
   "source": [
    "import datetime\n",
    "import matplotlib.dates as mdates\n",
    "months = mdates.MonthLocator()\n",
    "days = mdates.DayLocator()\n",
    "timeFmt = mdates.DateFormatter('%b %Y')\n",
    "fig, ax = plt.subplots()\n",
    "fig.set_size_inches(35,12)\n",
    "ax.xaxis.set_major_locator(months)\n",
    "ax.xaxis.set_major_formatter(timeFmt)\n",
    "#ax.xaxis.set_minor_locator(months)\n",
    "plt.title('San Antonio Daily COVID In ICU')\n",
    "plt.xlabel('Date',color='black')\n",
    "plt.ylabel('COVID Cases In ICU',color='black')\n",
    "plt.bar(df_sa_covid_icu.index,df_sa_covid_icu.strac_covid_positive_in_icu)\n",
    "fig.savefig('MetroICUSANew.png')"
   ]
  },
  {
   "cell_type": "code",
   "execution_count": 14,
   "metadata": {},
   "outputs": [],
   "source": [
    "df_sa_deaths = df_sa_dtindex.loc[:,['deaths_daily_change']]"
   ]
  },
  {
   "cell_type": "code",
   "execution_count": 15,
   "metadata": {},
   "outputs": [
    {
     "data": {
      "text/html": [
       "<div>\n",
       "<style scoped>\n",
       "    .dataframe tbody tr th:only-of-type {\n",
       "        vertical-align: middle;\n",
       "    }\n",
       "\n",
       "    .dataframe tbody tr th {\n",
       "        vertical-align: top;\n",
       "    }\n",
       "\n",
       "    .dataframe thead th {\n",
       "        text-align: right;\n",
       "    }\n",
       "</style>\n",
       "<table border=\"1\" class=\"dataframe\">\n",
       "  <thead>\n",
       "    <tr style=\"text-align: right;\">\n",
       "      <th></th>\n",
       "      <th>deaths_daily_change</th>\n",
       "    </tr>\n",
       "    <tr>\n",
       "      <th>reporting_date</th>\n",
       "      <th></th>\n",
       "    </tr>\n",
       "  </thead>\n",
       "  <tbody>\n",
       "    <tr>\n",
       "      <th>2020-02-12 06:00:00+00:00</th>\n",
       "      <td>NaN</td>\n",
       "    </tr>\n",
       "    <tr>\n",
       "      <th>2020-02-13 06:00:00+00:00</th>\n",
       "      <td>NaN</td>\n",
       "    </tr>\n",
       "    <tr>\n",
       "      <th>2020-02-14 06:00:00+00:00</th>\n",
       "      <td>NaN</td>\n",
       "    </tr>\n",
       "    <tr>\n",
       "      <th>2020-02-15 06:00:00+00:00</th>\n",
       "      <td>NaN</td>\n",
       "    </tr>\n",
       "    <tr>\n",
       "      <th>2020-02-16 06:00:00+00:00</th>\n",
       "      <td>NaN</td>\n",
       "    </tr>\n",
       "    <tr>\n",
       "      <th>...</th>\n",
       "      <td>...</td>\n",
       "    </tr>\n",
       "    <tr>\n",
       "      <th>2021-09-10 17:00:00+00:00</th>\n",
       "      <td>18.0</td>\n",
       "    </tr>\n",
       "    <tr>\n",
       "      <th>2021-09-11 17:00:00+00:00</th>\n",
       "      <td>0.0</td>\n",
       "    </tr>\n",
       "    <tr>\n",
       "      <th>2021-09-12 17:00:00+00:00</th>\n",
       "      <td>0.0</td>\n",
       "    </tr>\n",
       "    <tr>\n",
       "      <th>2021-09-13 17:00:00+00:00</th>\n",
       "      <td>0.0</td>\n",
       "    </tr>\n",
       "    <tr>\n",
       "      <th>2021-09-14 17:00:00+00:00</th>\n",
       "      <td>6.0</td>\n",
       "    </tr>\n",
       "  </tbody>\n",
       "</table>\n",
       "<p>580 rows × 1 columns</p>\n",
       "</div>"
      ],
      "text/plain": [
       "                           deaths_daily_change\n",
       "reporting_date                                \n",
       "2020-02-12 06:00:00+00:00                  NaN\n",
       "2020-02-13 06:00:00+00:00                  NaN\n",
       "2020-02-14 06:00:00+00:00                  NaN\n",
       "2020-02-15 06:00:00+00:00                  NaN\n",
       "2020-02-16 06:00:00+00:00                  NaN\n",
       "...                                        ...\n",
       "2021-09-10 17:00:00+00:00                 18.0\n",
       "2021-09-11 17:00:00+00:00                  0.0\n",
       "2021-09-12 17:00:00+00:00                  0.0\n",
       "2021-09-13 17:00:00+00:00                  0.0\n",
       "2021-09-14 17:00:00+00:00                  6.0\n",
       "\n",
       "[580 rows x 1 columns]"
      ]
     },
     "execution_count": 15,
     "metadata": {},
     "output_type": "execute_result"
    }
   ],
   "source": [
    "df_sa_deaths"
   ]
  },
  {
   "cell_type": "code",
   "execution_count": 16,
   "metadata": {},
   "outputs": [
    {
     "data": {
      "image/png": "[encoded data removed]",
      "text/plain": [
       "<Figure size 2520x864 with 1 Axes>"
      ]
     },
     "metadata": {
      "needs_background": "light"
     },
     "output_type": "display_data"
    }
   ],
   "source": [
    "import datetime\n",
    "import matplotlib.dates as mdates\n",
    "months = mdates.MonthLocator()\n",
    "days = mdates.DayLocator()\n",
    "timeFmt = mdates.DateFormatter('%b %Y')\n",
    "fig, ax = plt.subplots()\n",
    "fig.set_size_inches(35,12)\n",
    "ax.xaxis.set_major_locator(months)\n",
    "ax.xaxis.set_major_formatter(timeFmt)\n",
    "#ax.xaxis.set_minor_locator(months)\n",
    "plt.title('San Antonio Daily COVID Deaths')\n",
    "plt.xlabel('Date',color='black')\n",
    "plt.ylabel('COVID Deaths',color='black')\n",
    "plt.bar(df_sa_deaths.index,df_sa_deaths.deaths_daily_change)\n",
    "fig.savefig('MetroDeathsSANew.png')"
   ]
  },
  {
   "cell_type": "code",
   "execution_count": 17,
   "metadata": {},
   "outputs": [],
   "source": [
    "df_sa_hospital = df_sa_dtindex.loc[:,['strac_covid_positive_in_hospita']]"
   ]
  },
  {
   "cell_type": "code",
   "execution_count": 18,
   "metadata": {},
   "outputs": [
    {
     "data": {
      "text/html": [
       "<div>\n",
       "<style scoped>\n",
       "    .dataframe tbody tr th:only-of-type {\n",
       "        vertical-align: middle;\n",
       "    }\n",
       "\n",
       "    .dataframe tbody tr th {\n",
       "        vertical-align: top;\n",
       "    }\n",
       "\n",
       "    .dataframe thead th {\n",
       "        text-align: right;\n",
       "    }\n",
       "</style>\n",
       "<table border=\"1\" class=\"dataframe\">\n",
       "  <thead>\n",
       "    <tr style=\"text-align: right;\">\n",
       "      <th></th>\n",
       "      <th>strac_covid_positive_in_hospita</th>\n",
       "    </tr>\n",
       "    <tr>\n",
       "      <th>reporting_date</th>\n",
       "      <th></th>\n",
       "    </tr>\n",
       "  </thead>\n",
       "  <tbody>\n",
       "    <tr>\n",
       "      <th>2020-02-12 06:00:00+00:00</th>\n",
       "      <td>NaN</td>\n",
       "    </tr>\n",
       "    <tr>\n",
       "      <th>2020-02-13 06:00:00+00:00</th>\n",
       "      <td>NaN</td>\n",
       "    </tr>\n",
       "    <tr>\n",
       "      <th>2020-02-14 06:00:00+00:00</th>\n",
       "      <td>NaN</td>\n",
       "    </tr>\n",
       "    <tr>\n",
       "      <th>2020-02-15 06:00:00+00:00</th>\n",
       "      <td>NaN</td>\n",
       "    </tr>\n",
       "    <tr>\n",
       "      <th>2020-02-16 06:00:00+00:00</th>\n",
       "      <td>NaN</td>\n",
       "    </tr>\n",
       "    <tr>\n",
       "      <th>...</th>\n",
       "      <td>...</td>\n",
       "    </tr>\n",
       "    <tr>\n",
       "      <th>2021-09-10 17:00:00+00:00</th>\n",
       "      <td>1121.0</td>\n",
       "    </tr>\n",
       "    <tr>\n",
       "      <th>2021-09-11 17:00:00+00:00</th>\n",
       "      <td>1066.0</td>\n",
       "    </tr>\n",
       "    <tr>\n",
       "      <th>2021-09-12 17:00:00+00:00</th>\n",
       "      <td>1050.0</td>\n",
       "    </tr>\n",
       "    <tr>\n",
       "      <th>2021-09-13 17:00:00+00:00</th>\n",
       "      <td>1043.0</td>\n",
       "    </tr>\n",
       "    <tr>\n",
       "      <th>2021-09-14 17:00:00+00:00</th>\n",
       "      <td>1016.0</td>\n",
       "    </tr>\n",
       "  </tbody>\n",
       "</table>\n",
       "<p>580 rows × 1 columns</p>\n",
       "</div>"
      ],
      "text/plain": [
       "                           strac_covid_positive_in_hospita\n",
       "reporting_date                                            \n",
       "2020-02-12 06:00:00+00:00                              NaN\n",
       "2020-02-13 06:00:00+00:00                              NaN\n",
       "2020-02-14 06:00:00+00:00                              NaN\n",
       "2020-02-15 06:00:00+00:00                              NaN\n",
       "2020-02-16 06:00:00+00:00                              NaN\n",
       "...                                                    ...\n",
       "2021-09-10 17:00:00+00:00                           1121.0\n",
       "2021-09-11 17:00:00+00:00                           1066.0\n",
       "2021-09-12 17:00:00+00:00                           1050.0\n",
       "2021-09-13 17:00:00+00:00                           1043.0\n",
       "2021-09-14 17:00:00+00:00                           1016.0\n",
       "\n",
       "[580 rows x 1 columns]"
      ]
     },
     "execution_count": 18,
     "metadata": {},
     "output_type": "execute_result"
    }
   ],
   "source": [
    "df_sa_hospital"
   ]
  },
  {
   "cell_type": "code",
   "execution_count": 19,
   "metadata": {},
   "outputs": [
    {
     "data": {
      "image/png": "[encoded data removed]",
      "text/plain": [
       "<Figure size 2520x864 with 1 Axes>"
      ]
     },
     "metadata": {
      "needs_background": "light"
     },
     "output_type": "display_data"
    }
   ],
   "source": [
    "import datetime\n",
    "import matplotlib.dates as mdates\n",
    "months = mdates.MonthLocator()\n",
    "days = mdates.DayLocator()\n",
    "timeFmt = mdates.DateFormatter('%b %Y')\n",
    "fig, ax = plt.subplots()\n",
    "fig.set_size_inches(35,12)\n",
    "ax.xaxis.set_major_locator(months)\n",
    "ax.xaxis.set_major_formatter(timeFmt)\n",
    "#ax.xaxis.set_minor_locator(months)\n",
    "plt.title('San Antonio Daily Hospitalized With COVID')\n",
    "plt.xlabel('Date',color='black')\n",
    "plt.ylabel('COVID Hospitalized',color='black')\n",
    "plt.bar(df_sa_hospital.index,df_sa_hospital.strac_covid_positive_in_hospita)\n",
    "fig.savefig('MetroHospitalSANew.png')"
   ]
  },
  {
   "cell_type": "code",
   "execution_count": 20,
   "metadata": {},
   "outputs": [],
   "source": [
    "df_sa_availbeds = df_sa_dtindex.loc[:,['strac_available_staffed_beds']]"
   ]
  },
  {
   "cell_type": "code",
   "execution_count": 21,
   "metadata": {},
   "outputs": [
    {
     "data": {
      "text/html": [
       "<div>\n",
       "<style scoped>\n",
       "    .dataframe tbody tr th:only-of-type {\n",
       "        vertical-align: middle;\n",
       "    }\n",
       "\n",
       "    .dataframe tbody tr th {\n",
       "        vertical-align: top;\n",
       "    }\n",
       "\n",
       "    .dataframe thead th {\n",
       "        text-align: right;\n",
       "    }\n",
       "</style>\n",
       "<table border=\"1\" class=\"dataframe\">\n",
       "  <thead>\n",
       "    <tr style=\"text-align: right;\">\n",
       "      <th></th>\n",
       "      <th>strac_available_staffed_beds</th>\n",
       "    </tr>\n",
       "    <tr>\n",
       "      <th>reporting_date</th>\n",
       "      <th></th>\n",
       "    </tr>\n",
       "  </thead>\n",
       "  <tbody>\n",
       "    <tr>\n",
       "      <th>2020-02-12 06:00:00+00:00</th>\n",
       "      <td>NaN</td>\n",
       "    </tr>\n",
       "    <tr>\n",
       "      <th>2020-02-13 06:00:00+00:00</th>\n",
       "      <td>NaN</td>\n",
       "    </tr>\n",
       "    <tr>\n",
       "      <th>2020-02-14 06:00:00+00:00</th>\n",
       "      <td>NaN</td>\n",
       "    </tr>\n",
       "    <tr>\n",
       "      <th>2020-02-15 06:00:00+00:00</th>\n",
       "      <td>NaN</td>\n",
       "    </tr>\n",
       "    <tr>\n",
       "      <th>2020-02-16 06:00:00+00:00</th>\n",
       "      <td>NaN</td>\n",
       "    </tr>\n",
       "    <tr>\n",
       "      <th>...</th>\n",
       "      <td>...</td>\n",
       "    </tr>\n",
       "    <tr>\n",
       "      <th>2021-09-10 17:00:00+00:00</th>\n",
       "      <td>379.0</td>\n",
       "    </tr>\n",
       "    <tr>\n",
       "      <th>2021-09-11 17:00:00+00:00</th>\n",
       "      <td>460.0</td>\n",
       "    </tr>\n",
       "    <tr>\n",
       "      <th>2021-09-12 17:00:00+00:00</th>\n",
       "      <td>472.0</td>\n",
       "    </tr>\n",
       "    <tr>\n",
       "      <th>2021-09-13 17:00:00+00:00</th>\n",
       "      <td>493.0</td>\n",
       "    </tr>\n",
       "    <tr>\n",
       "      <th>2021-09-14 17:00:00+00:00</th>\n",
       "      <td>354.0</td>\n",
       "    </tr>\n",
       "  </tbody>\n",
       "</table>\n",
       "<p>580 rows × 1 columns</p>\n",
       "</div>"
      ],
      "text/plain": [
       "                           strac_available_staffed_beds\n",
       "reporting_date                                         \n",
       "2020-02-12 06:00:00+00:00                           NaN\n",
       "2020-02-13 06:00:00+00:00                           NaN\n",
       "2020-02-14 06:00:00+00:00                           NaN\n",
       "2020-02-15 06:00:00+00:00                           NaN\n",
       "2020-02-16 06:00:00+00:00                           NaN\n",
       "...                                                 ...\n",
       "2021-09-10 17:00:00+00:00                         379.0\n",
       "2021-09-11 17:00:00+00:00                         460.0\n",
       "2021-09-12 17:00:00+00:00                         472.0\n",
       "2021-09-13 17:00:00+00:00                         493.0\n",
       "2021-09-14 17:00:00+00:00                         354.0\n",
       "\n",
       "[580 rows x 1 columns]"
      ]
     },
     "execution_count": 21,
     "metadata": {},
     "output_type": "execute_result"
    }
   ],
   "source": [
    "df_sa_availbeds"
   ]
  },
  {
   "cell_type": "code",
   "execution_count": 22,
   "metadata": {},
   "outputs": [
    {
     "data": {
      "image/png": "[encoded data removed]",
      "text/plain": [
       "<Figure size 2520x864 with 1 Axes>"
      ]
     },
     "metadata": {
      "needs_background": "light"
     },
     "output_type": "display_data"
    }
   ],
   "source": [
    "import datetime\n",
    "import matplotlib.dates as mdates\n",
    "months = mdates.MonthLocator()\n",
    "days = mdates.DayLocator()\n",
    "timeFmt = mdates.DateFormatter('%b %Y')\n",
    "fig, ax = plt.subplots()\n",
    "fig.set_size_inches(35,12)\n",
    "ax.xaxis.set_major_locator(months)\n",
    "ax.xaxis.set_major_formatter(timeFmt)\n",
    "#ax.xaxis.set_minor_locator(months)\n",
    "plt.title('San Antonio Daily COVID Available Hospital Beds')\n",
    "plt.xlabel('Date',color='black')\n",
    "plt.ylabel('Staffed Beds',color='black')\n",
    "plt.bar(df_sa_availbeds.index,df_sa_availbeds.strac_available_staffed_beds)\n",
    "fig.savefig('MetroAvailBedsSANew.png')"
   ]
  },
  {
   "cell_type": "code",
   "execution_count": null,
   "metadata": {},
   "outputs": [],
   "source": []
  }
 ],
 "metadata": {
  "kernelspec": {
   "display_name": "Python 3",
   "language": "python",
   "name": "python3"
  },
  "language_info": {
   "codemirror_mode": {
    "name": "ipython",
    "version": 3
   },
   "file_extension": ".py",
   "mimetype": "text/x-python",
   "name": "python",
   "nbconvert_exporter": "python",
   "pygments_lexer": "ipython3",
   "version": "3.8.10"
  }
 },
 "nbformat": 4,
 "nbformat_minor": 4
}
