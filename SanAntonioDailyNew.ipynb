{
 "cells": [
  {
   "cell_type": "markdown",
   "metadata": {},
   "source": [
    "/mnt/c/Users/ldhag/Downloads/COVID-19_Daily_Surveillance_Data_Public.csv"
   ]
  },
  {
   "cell_type": "code",
   "execution_count": 1,
   "metadata": {},
   "outputs": [],
   "source": [
    "import pandas as pd\n",
    "import matplotlib.pyplot as plt\n",
    "import numpy as np\n",
    "import datetime\n",
    "from datetime import date, timedelta\n",
    "%matplotlib inline"
   ]
  },
  {
   "cell_type": "code",
   "execution_count": 2,
   "metadata": {},
   "outputs": [],
   "source": [
    "df_sa = pd.read_csv('COVID-19_Daily_Surveillance_Data_Public.csv')"
   ]
  },
  {
   "cell_type": "code",
   "execution_count": 3,
   "metadata": {},
   "outputs": [
    {
     "data": {
      "text/html": [
       "<div>\n",
       "<style scoped>\n",
       "    .dataframe tbody tr th:only-of-type {\n",
       "        vertical-align: middle;\n",
       "    }\n",
       "\n",
       "    .dataframe tbody tr th {\n",
       "        vertical-align: top;\n",
       "    }\n",
       "\n",
       "    .dataframe thead th {\n",
       "        text-align: right;\n",
       "    }\n",
       "</style>\n",
       "<table border=\"1\" class=\"dataframe\">\n",
       "  <thead>\n",
       "    <tr style=\"text-align: right;\">\n",
       "      <th></th>\n",
       "      <th>X</th>\n",
       "      <th>Y</th>\n",
       "      <th>objectid</th>\n",
       "      <th>globalid</th>\n",
       "      <th>reporting_date</th>\n",
       "      <th>total_case_daily_change</th>\n",
       "      <th>total_case_cumulative</th>\n",
       "      <th>deaths_daily_change</th>\n",
       "      <th>deaths_cumulative</th>\n",
       "      <th>strac_covid_positive_in_hospita</th>\n",
       "      <th>strac_covid_positive_in_icu</th>\n",
       "      <th>strac_covid_positive_on_ventila</th>\n",
       "      <th>strac_total_ventilators</th>\n",
       "      <th>strac_available_ventilators</th>\n",
       "      <th>strac_total_staffed_beds</th>\n",
       "      <th>strac_available_staffed_beds</th>\n",
       "      <th>count_7_day_moving_avg</th>\n",
       "      <th>change_in_7_day_moving_avg</th>\n",
       "      <th>deaths_under_investigation</th>\n",
       "    </tr>\n",
       "  </thead>\n",
       "  <tbody>\n",
       "    <tr>\n",
       "      <th>571</th>\n",
       "      <td>0.0</td>\n",
       "      <td>0.0</td>\n",
       "      <td>581</td>\n",
       "      <td>6b964f65-5dd5-463f-838a-3e8b4768f2d2</td>\n",
       "      <td>2021/09/06 17:00:00+00</td>\n",
       "      <td>950.0</td>\n",
       "      <td>291041.0</td>\n",
       "      <td>0.0</td>\n",
       "      <td>3941</td>\n",
       "      <td>1216.0</td>\n",
       "      <td>358.0</td>\n",
       "      <td>233.0</td>\n",
       "      <td>805.0</td>\n",
       "      <td>361.0</td>\n",
       "      <td>4269.0</td>\n",
       "      <td>489.0</td>\n",
       "      <td>1162.0</td>\n",
       "      <td>136.0</td>\n",
       "      <td>NaN</td>\n",
       "    </tr>\n",
       "    <tr>\n",
       "      <th>572</th>\n",
       "      <td>0.0</td>\n",
       "      <td>0.0</td>\n",
       "      <td>582</td>\n",
       "      <td>045d4a0c-f1e6-4cc7-81f2-1ba8f54ada4a</td>\n",
       "      <td>2021/09/07 17:00:00+00</td>\n",
       "      <td>1288.0</td>\n",
       "      <td>293988.0</td>\n",
       "      <td>0.0</td>\n",
       "      <td>3994</td>\n",
       "      <td>1215.0</td>\n",
       "      <td>359.0</td>\n",
       "      <td>243.0</td>\n",
       "      <td>805.0</td>\n",
       "      <td>367.0</td>\n",
       "      <td>4272.0</td>\n",
       "      <td>477.0</td>\n",
       "      <td>1222.0</td>\n",
       "      <td>60.0</td>\n",
       "      <td>NaN</td>\n",
       "    </tr>\n",
       "    <tr>\n",
       "      <th>573</th>\n",
       "      <td>0.0</td>\n",
       "      <td>0.0</td>\n",
       "      <td>583</td>\n",
       "      <td>a6113ec7-5b51-4d16-8a75-658e7e31a857</td>\n",
       "      <td>2021/09/08 17:00:00+00</td>\n",
       "      <td>1012.0</td>\n",
       "      <td>295000.0</td>\n",
       "      <td>2.0</td>\n",
       "      <td>3996</td>\n",
       "      <td>1194.0</td>\n",
       "      <td>360.0</td>\n",
       "      <td>242.0</td>\n",
       "      <td>806.0</td>\n",
       "      <td>365.0</td>\n",
       "      <td>4304.0</td>\n",
       "      <td>405.0</td>\n",
       "      <td>1087.0</td>\n",
       "      <td>-135.0</td>\n",
       "      <td>NaN</td>\n",
       "    </tr>\n",
       "    <tr>\n",
       "      <th>574</th>\n",
       "      <td>0.0</td>\n",
       "      <td>0.0</td>\n",
       "      <td>584</td>\n",
       "      <td>24dad61b-9101-47d3-8ce4-61129ba26a6c</td>\n",
       "      <td>2021/09/09 17:00:00+00</td>\n",
       "      <td>953.0</td>\n",
       "      <td>295953.0</td>\n",
       "      <td>21.0</td>\n",
       "      <td>4017</td>\n",
       "      <td>1159.0</td>\n",
       "      <td>365.0</td>\n",
       "      <td>260.0</td>\n",
       "      <td>807.0</td>\n",
       "      <td>364.0</td>\n",
       "      <td>4323.0</td>\n",
       "      <td>399.0</td>\n",
       "      <td>983.0</td>\n",
       "      <td>-104.0</td>\n",
       "      <td>NaN</td>\n",
       "    </tr>\n",
       "    <tr>\n",
       "      <th>575</th>\n",
       "      <td>0.0</td>\n",
       "      <td>0.0</td>\n",
       "      <td>585</td>\n",
       "      <td>092c761a-c9c0-4068-85a0-9c8a3f66f2e6</td>\n",
       "      <td>2021/09/10 17:00:00+00</td>\n",
       "      <td>620.0</td>\n",
       "      <td>296573.0</td>\n",
       "      <td>18.0</td>\n",
       "      <td>4035</td>\n",
       "      <td>1121.0</td>\n",
       "      <td>358.0</td>\n",
       "      <td>249.0</td>\n",
       "      <td>804.0</td>\n",
       "      <td>352.0</td>\n",
       "      <td>4252.0</td>\n",
       "      <td>379.0</td>\n",
       "      <td>934.0</td>\n",
       "      <td>-49.0</td>\n",
       "      <td>NaN</td>\n",
       "    </tr>\n",
       "  </tbody>\n",
       "</table>\n",
       "</div>"
      ],
      "text/plain": [
       "       X    Y  objectid                              globalid  \\\n",
       "571  0.0  0.0       581  6b964f65-5dd5-463f-838a-3e8b4768f2d2   \n",
       "572  0.0  0.0       582  045d4a0c-f1e6-4cc7-81f2-1ba8f54ada4a   \n",
       "573  0.0  0.0       583  a6113ec7-5b51-4d16-8a75-658e7e31a857   \n",
       "574  0.0  0.0       584  24dad61b-9101-47d3-8ce4-61129ba26a6c   \n",
       "575  0.0  0.0       585  092c761a-c9c0-4068-85a0-9c8a3f66f2e6   \n",
       "\n",
       "             reporting_date  total_case_daily_change  total_case_cumulative  \\\n",
       "571  2021/09/06 17:00:00+00                    950.0               291041.0   \n",
       "572  2021/09/07 17:00:00+00                   1288.0               293988.0   \n",
       "573  2021/09/08 17:00:00+00                   1012.0               295000.0   \n",
       "574  2021/09/09 17:00:00+00                    953.0               295953.0   \n",
       "575  2021/09/10 17:00:00+00                    620.0               296573.0   \n",
       "\n",
       "     deaths_daily_change  deaths_cumulative  strac_covid_positive_in_hospita  \\\n",
       "571                  0.0               3941                           1216.0   \n",
       "572                  0.0               3994                           1215.0   \n",
       "573                  2.0               3996                           1194.0   \n",
       "574                 21.0               4017                           1159.0   \n",
       "575                 18.0               4035                           1121.0   \n",
       "\n",
       "     strac_covid_positive_in_icu  strac_covid_positive_on_ventila  \\\n",
       "571                        358.0                            233.0   \n",
       "572                        359.0                            243.0   \n",
       "573                        360.0                            242.0   \n",
       "574                        365.0                            260.0   \n",
       "575                        358.0                            249.0   \n",
       "\n",
       "     strac_total_ventilators  strac_available_ventilators  \\\n",
       "571                    805.0                        361.0   \n",
       "572                    805.0                        367.0   \n",
       "573                    806.0                        365.0   \n",
       "574                    807.0                        364.0   \n",
       "575                    804.0                        352.0   \n",
       "\n",
       "     strac_total_staffed_beds  strac_available_staffed_beds  \\\n",
       "571                    4269.0                         489.0   \n",
       "572                    4272.0                         477.0   \n",
       "573                    4304.0                         405.0   \n",
       "574                    4323.0                         399.0   \n",
       "575                    4252.0                         379.0   \n",
       "\n",
       "     count_7_day_moving_avg  change_in_7_day_moving_avg  \\\n",
       "571                  1162.0                       136.0   \n",
       "572                  1222.0                        60.0   \n",
       "573                  1087.0                      -135.0   \n",
       "574                   983.0                      -104.0   \n",
       "575                   934.0                       -49.0   \n",
       "\n",
       "     deaths_under_investigation  \n",
       "571                         NaN  \n",
       "572                         NaN  \n",
       "573                         NaN  \n",
       "574                         NaN  \n",
       "575                         NaN  "
      ]
     },
     "execution_count": 3,
     "metadata": {},
     "output_type": "execute_result"
    }
   ],
   "source": [
    "df_sa.tail()"
   ]
  },
  {
   "cell_type": "code",
   "execution_count": 4,
   "metadata": {},
   "outputs": [
    {
     "data": {
      "text/plain": [
       "str"
      ]
     },
     "execution_count": 4,
     "metadata": {},
     "output_type": "execute_result"
    }
   ],
   "source": [
    "type(df_sa.loc[:,'reporting_date'][400])"
   ]
  },
  {
   "cell_type": "code",
   "execution_count": 5,
   "metadata": {},
   "outputs": [],
   "source": [
    "df_sa.reporting_date = pd.to_datetime(df_sa.reporting_date)"
   ]
  },
  {
   "cell_type": "code",
   "execution_count": 6,
   "metadata": {},
   "outputs": [
    {
     "data": {
      "text/plain": [
       "pandas._libs.tslibs.timestamps.Timestamp"
      ]
     },
     "execution_count": 6,
     "metadata": {},
     "output_type": "execute_result"
    }
   ],
   "source": [
    "type(df_sa.loc[:,'reporting_date'][400])"
   ]
  },
  {
   "cell_type": "code",
   "execution_count": 7,
   "metadata": {},
   "outputs": [],
   "source": [
    "df_sa_dtindex = df_sa.set_index('reporting_date')"
   ]
  },
  {
   "cell_type": "code",
   "execution_count": 8,
   "metadata": {},
   "outputs": [
    {
     "data": {
      "text/plain": [
       "Timestamp('2020-02-12 06:00:00+0000', tz='UTC')"
      ]
     },
     "execution_count": 8,
     "metadata": {},
     "output_type": "execute_result"
    }
   ],
   "source": [
    "df_sa.reporting_date[0]"
   ]
  },
  {
   "cell_type": "code",
   "execution_count": 9,
   "metadata": {},
   "outputs": [],
   "source": [
    "df_newcases = df_sa_dtindex.loc[:,['total_case_daily_change']]"
   ]
  },
  {
   "cell_type": "code",
   "execution_count": 10,
   "metadata": {},
   "outputs": [
    {
     "data": {
      "image/png": "[encoded data removed]",
      "text/plain": [
       "<Figure size 2520x864 with 1 Axes>"
      ]
     },
     "metadata": {
      "needs_background": "light"
     },
     "output_type": "display_data"
    }
   ],
   "source": [
    "import datetime\n",
    "import matplotlib.dates as mdates\n",
    "months = mdates.MonthLocator()\n",
    "days = mdates.DayLocator()\n",
    "timeFmt = mdates.DateFormatter('%b %Y')\n",
    "fig, ax = plt.subplots()\n",
    "fig.set_size_inches(35,12)\n",
    "ax.xaxis.set_major_locator(months)\n",
    "ax.xaxis.set_major_formatter(timeFmt)\n",
    "#ax.xaxis.set_minor_locator(months)\n",
    "plt.title('San Antonio Daily COVID Cases')\n",
    "plt.xlabel('Date',color='black')\n",
    "plt.ylabel('New COVID Cases',color='black')\n",
    "plt.bar(df_newcases.index,df_newcases.total_case_daily_change)\n",
    "fig.savefig('MetroDailySANew.png')"
   ]
  },
  {
   "cell_type": "code",
   "execution_count": 11,
   "metadata": {},
   "outputs": [],
   "source": [
    "df_sa_covid_icu = df_sa_dtindex.loc[:,['strac_covid_positive_in_icu']]"
   ]
  },
  {
   "cell_type": "code",
   "execution_count": 12,
   "metadata": {},
   "outputs": [
    {
     "data": {
      "text/html": [
       "<div>\n",
       "<style scoped>\n",
       "    .dataframe tbody tr th:only-of-type {\n",
       "        vertical-align: middle;\n",
       "    }\n",
       "\n",
       "    .dataframe tbody tr th {\n",
       "        vertical-align: top;\n",
       "    }\n",
       "\n",
       "    .dataframe thead th {\n",
       "        text-align: right;\n",
       "    }\n",
       "</style>\n",
       "<table border=\"1\" class=\"dataframe\">\n",
       "  <thead>\n",
       "    <tr style=\"text-align: right;\">\n",
       "      <th></th>\n",
       "      <th>strac_covid_positive_in_icu</th>\n",
       "    </tr>\n",
       "    <tr>\n",
       "      <th>reporting_date</th>\n",
       "      <th></th>\n",
       "    </tr>\n",
       "  </thead>\n",
       "  <tbody>\n",
       "    <tr>\n",
       "      <th>2020-02-12 06:00:00+00:00</th>\n",
       "      <td>NaN</td>\n",
       "    </tr>\n",
       "    <tr>\n",
       "      <th>2020-02-13 06:00:00+00:00</th>\n",
       "      <td>NaN</td>\n",
       "    </tr>\n",
       "    <tr>\n",
       "      <th>2020-02-14 06:00:00+00:00</th>\n",
       "      <td>NaN</td>\n",
       "    </tr>\n",
       "    <tr>\n",
       "      <th>2020-02-15 06:00:00+00:00</th>\n",
       "      <td>NaN</td>\n",
       "    </tr>\n",
       "    <tr>\n",
       "      <th>2020-02-16 06:00:00+00:00</th>\n",
       "      <td>NaN</td>\n",
       "    </tr>\n",
       "    <tr>\n",
       "      <th>...</th>\n",
       "      <td>...</td>\n",
       "    </tr>\n",
       "    <tr>\n",
       "      <th>2021-09-06 17:00:00+00:00</th>\n",
       "      <td>358.0</td>\n",
       "    </tr>\n",
       "    <tr>\n",
       "      <th>2021-09-07 17:00:00+00:00</th>\n",
       "      <td>359.0</td>\n",
       "    </tr>\n",
       "    <tr>\n",
       "      <th>2021-09-08 17:00:00+00:00</th>\n",
       "      <td>360.0</td>\n",
       "    </tr>\n",
       "    <tr>\n",
       "      <th>2021-09-09 17:00:00+00:00</th>\n",
       "      <td>365.0</td>\n",
       "    </tr>\n",
       "    <tr>\n",
       "      <th>2021-09-10 17:00:00+00:00</th>\n",
       "      <td>358.0</td>\n",
       "    </tr>\n",
       "  </tbody>\n",
       "</table>\n",
       "<p>576 rows × 1 columns</p>\n",
       "</div>"
      ],
      "text/plain": [
       "                           strac_covid_positive_in_icu\n",
       "reporting_date                                        \n",
       "2020-02-12 06:00:00+00:00                          NaN\n",
       "2020-02-13 06:00:00+00:00                          NaN\n",
       "2020-02-14 06:00:00+00:00                          NaN\n",
       "2020-02-15 06:00:00+00:00                          NaN\n",
       "2020-02-16 06:00:00+00:00                          NaN\n",
       "...                                                ...\n",
       "2021-09-06 17:00:00+00:00                        358.0\n",
       "2021-09-07 17:00:00+00:00                        359.0\n",
       "2021-09-08 17:00:00+00:00                        360.0\n",
       "2021-09-09 17:00:00+00:00                        365.0\n",
       "2021-09-10 17:00:00+00:00                        358.0\n",
       "\n",
       "[576 rows x 1 columns]"
      ]
     },
     "execution_count": 12,
     "metadata": {},
     "output_type": "execute_result"
    }
   ],
   "source": [
    "df_sa_covid_icu"
   ]
  },
  {
   "cell_type": "code",
   "execution_count": 13,
   "metadata": {},
   "outputs": [
    {
     "data": {
      "image/png": "[encoded data removed]",
      "text/plain": [
       "<Figure size 2520x864 with 1 Axes>"
      ]
     },
     "metadata": {
      "needs_background": "light"
     },
     "output_type": "display_data"
    }
   ],
   "source": [
    "import datetime\n",
    "import matplotlib.dates as mdates\n",
    "months = mdates.MonthLocator()\n",
    "days = mdates.DayLocator()\n",
    "timeFmt = mdates.DateFormatter('%b %Y')\n",
    "fig, ax = plt.subplots()\n",
    "fig.set_size_inches(35,12)\n",
    "ax.xaxis.set_major_locator(months)\n",
    "ax.xaxis.set_major_formatter(timeFmt)\n",
    "#ax.xaxis.set_minor_locator(months)\n",
    "plt.title('San Antonio Daily COVID In ICU')\n",
    "plt.xlabel('Date',color='black')\n",
    "plt.ylabel('COVID Cases In ICU',color='black')\n",
    "plt.bar(df_sa_covid_icu.index,df_sa_covid_icu.strac_covid_positive_in_icu)\n",
    "fig.savefig('MetroICUSANew.png')"
   ]
  },
  {
   "cell_type": "code",
   "execution_count": 14,
   "metadata": {},
   "outputs": [],
   "source": [
    "df_sa_deaths = df_sa_dtindex.loc[:,['deaths_daily_change']]"
   ]
  },
  {
   "cell_type": "code",
   "execution_count": 15,
   "metadata": {},
   "outputs": [
    {
     "data": {
      "text/html": [
       "<div>\n",
       "<style scoped>\n",
       "    .dataframe tbody tr th:only-of-type {\n",
       "        vertical-align: middle;\n",
       "    }\n",
       "\n",
       "    .dataframe tbody tr th {\n",
       "        vertical-align: top;\n",
       "    }\n",
       "\n",
       "    .dataframe thead th {\n",
       "        text-align: right;\n",
       "    }\n",
       "</style>\n",
       "<table border=\"1\" class=\"dataframe\">\n",
       "  <thead>\n",
       "    <tr style=\"text-align: right;\">\n",
       "      <th></th>\n",
       "      <th>deaths_daily_change</th>\n",
       "    </tr>\n",
       "    <tr>\n",
       "      <th>reporting_date</th>\n",
       "      <th></th>\n",
       "    </tr>\n",
       "  </thead>\n",
       "  <tbody>\n",
       "    <tr>\n",
       "      <th>2020-02-12 06:00:00+00:00</th>\n",
       "      <td>NaN</td>\n",
       "    </tr>\n",
       "    <tr>\n",
       "      <th>2020-02-13 06:00:00+00:00</th>\n",
       "      <td>NaN</td>\n",
       "    </tr>\n",
       "    <tr>\n",
       "      <th>2020-02-14 06:00:00+00:00</th>\n",
       "      <td>NaN</td>\n",
       "    </tr>\n",
       "    <tr>\n",
       "      <th>2020-02-15 06:00:00+00:00</th>\n",
       "      <td>NaN</td>\n",
       "    </tr>\n",
       "    <tr>\n",
       "      <th>2020-02-16 06:00:00+00:00</th>\n",
       "      <td>NaN</td>\n",
       "    </tr>\n",
       "    <tr>\n",
       "      <th>...</th>\n",
       "      <td>...</td>\n",
       "    </tr>\n",
       "    <tr>\n",
       "      <th>2021-09-06 17:00:00+00:00</th>\n",
       "      <td>0.0</td>\n",
       "    </tr>\n",
       "    <tr>\n",
       "      <th>2021-09-07 17:00:00+00:00</th>\n",
       "      <td>0.0</td>\n",
       "    </tr>\n",
       "    <tr>\n",
       "      <th>2021-09-08 17:00:00+00:00</th>\n",
       "      <td>2.0</td>\n",
       "    </tr>\n",
       "    <tr>\n",
       "      <th>2021-09-09 17:00:00+00:00</th>\n",
       "      <td>21.0</td>\n",
       "    </tr>\n",
       "    <tr>\n",
       "      <th>2021-09-10 17:00:00+00:00</th>\n",
       "      <td>18.0</td>\n",
       "    </tr>\n",
       "  </tbody>\n",
       "</table>\n",
       "<p>576 rows × 1 columns</p>\n",
       "</div>"
      ],
      "text/plain": [
       "                           deaths_daily_change\n",
       "reporting_date                                \n",
       "2020-02-12 06:00:00+00:00                  NaN\n",
       "2020-02-13 06:00:00+00:00                  NaN\n",
       "2020-02-14 06:00:00+00:00                  NaN\n",
       "2020-02-15 06:00:00+00:00                  NaN\n",
       "2020-02-16 06:00:00+00:00                  NaN\n",
       "...                                        ...\n",
       "2021-09-06 17:00:00+00:00                  0.0\n",
       "2021-09-07 17:00:00+00:00                  0.0\n",
       "2021-09-08 17:00:00+00:00                  2.0\n",
       "2021-09-09 17:00:00+00:00                 21.0\n",
       "2021-09-10 17:00:00+00:00                 18.0\n",
       "\n",
       "[576 rows x 1 columns]"
      ]
     },
     "execution_count": 15,
     "metadata": {},
     "output_type": "execute_result"
    }
   ],
   "source": [
    "df_sa_deaths"
   ]
  },
  {
   "cell_type": "code",
   "execution_count": 16,
   "metadata": {},
   "outputs": [
    {
     "data": {
      "image/png": "[encoded data removed]",
      "text/plain": [
       "<Figure size 2520x864 with 1 Axes>"
      ]
     },
     "metadata": {
      "needs_background": "light"
     },
     "output_type": "display_data"
    }
   ],
   "source": [
    "import datetime\n",
    "import matplotlib.dates as mdates\n",
    "months = mdates.MonthLocator()\n",
    "days = mdates.DayLocator()\n",
    "timeFmt = mdates.DateFormatter('%b %Y')\n",
    "fig, ax = plt.subplots()\n",
    "fig.set_size_inches(35,12)\n",
    "ax.xaxis.set_major_locator(months)\n",
    "ax.xaxis.set_major_formatter(timeFmt)\n",
    "#ax.xaxis.set_minor_locator(months)\n",
    "plt.title('San Antonio Daily COVID Deaths')\n",
    "plt.xlabel('Date',color='black')\n",
    "plt.ylabel('COVID Deaths',color='black')\n",
    "plt.bar(df_sa_deaths.index,df_sa_deaths.deaths_daily_change)\n",
    "fig.savefig('MetroDeathsSANew.png')"
   ]
  },
  {
   "cell_type": "code",
   "execution_count": 17,
   "metadata": {},
   "outputs": [],
   "source": [
    "df_sa_hospital = df_sa_dtindex.loc[:,['strac_covid_positive_in_hospita']]"
   ]
  },
  {
   "cell_type": "code",
   "execution_count": 18,
   "metadata": {},
   "outputs": [
    {
     "data": {
      "text/html": [
       "<div>\n",
       "<style scoped>\n",
       "    .dataframe tbody tr th:only-of-type {\n",
       "        vertical-align: middle;\n",
       "    }\n",
       "\n",
       "    .dataframe tbody tr th {\n",
       "        vertical-align: top;\n",
       "    }\n",
       "\n",
       "    .dataframe thead th {\n",
       "        text-align: right;\n",
       "    }\n",
       "</style>\n",
       "<table border=\"1\" class=\"dataframe\">\n",
       "  <thead>\n",
       "    <tr style=\"text-align: right;\">\n",
       "      <th></th>\n",
       "      <th>strac_covid_positive_in_hospita</th>\n",
       "    </tr>\n",
       "    <tr>\n",
       "      <th>reporting_date</th>\n",
       "      <th></th>\n",
       "    </tr>\n",
       "  </thead>\n",
       "  <tbody>\n",
       "    <tr>\n",
       "      <th>2020-02-12 06:00:00+00:00</th>\n",
       "      <td>NaN</td>\n",
       "    </tr>\n",
       "    <tr>\n",
       "      <th>2020-02-13 06:00:00+00:00</th>\n",
       "      <td>NaN</td>\n",
       "    </tr>\n",
       "    <tr>\n",
       "      <th>2020-02-14 06:00:00+00:00</th>\n",
       "      <td>NaN</td>\n",
       "    </tr>\n",
       "    <tr>\n",
       "      <th>2020-02-15 06:00:00+00:00</th>\n",
       "      <td>NaN</td>\n",
       "    </tr>\n",
       "    <tr>\n",
       "      <th>2020-02-16 06:00:00+00:00</th>\n",
       "      <td>NaN</td>\n",
       "    </tr>\n",
       "    <tr>\n",
       "      <th>...</th>\n",
       "      <td>...</td>\n",
       "    </tr>\n",
       "    <tr>\n",
       "      <th>2021-09-06 17:00:00+00:00</th>\n",
       "      <td>1216.0</td>\n",
       "    </tr>\n",
       "    <tr>\n",
       "      <th>2021-09-07 17:00:00+00:00</th>\n",
       "      <td>1215.0</td>\n",
       "    </tr>\n",
       "    <tr>\n",
       "      <th>2021-09-08 17:00:00+00:00</th>\n",
       "      <td>1194.0</td>\n",
       "    </tr>\n",
       "    <tr>\n",
       "      <th>2021-09-09 17:00:00+00:00</th>\n",
       "      <td>1159.0</td>\n",
       "    </tr>\n",
       "    <tr>\n",
       "      <th>2021-09-10 17:00:00+00:00</th>\n",
       "      <td>1121.0</td>\n",
       "    </tr>\n",
       "  </tbody>\n",
       "</table>\n",
       "<p>576 rows × 1 columns</p>\n",
       "</div>"
      ],
      "text/plain": [
       "                           strac_covid_positive_in_hospita\n",
       "reporting_date                                            \n",
       "2020-02-12 06:00:00+00:00                              NaN\n",
       "2020-02-13 06:00:00+00:00                              NaN\n",
       "2020-02-14 06:00:00+00:00                              NaN\n",
       "2020-02-15 06:00:00+00:00                              NaN\n",
       "2020-02-16 06:00:00+00:00                              NaN\n",
       "...                                                    ...\n",
       "2021-09-06 17:00:00+00:00                           1216.0\n",
       "2021-09-07 17:00:00+00:00                           1215.0\n",
       "2021-09-08 17:00:00+00:00                           1194.0\n",
       "2021-09-09 17:00:00+00:00                           1159.0\n",
       "2021-09-10 17:00:00+00:00                           1121.0\n",
       "\n",
       "[576 rows x 1 columns]"
      ]
     },
     "execution_count": 18,
     "metadata": {},
     "output_type": "execute_result"
    }
   ],
   "source": [
    "df_sa_hospital"
   ]
  },
  {
   "cell_type": "code",
   "execution_count": 19,
   "metadata": {},
   "outputs": [
    {
     "data": {
      "image/png": "[encoded data removed]",
      "text/plain": [
       "<Figure size 2520x864 with 1 Axes>"
      ]
     },
     "metadata": {
      "needs_background": "light"
     },
     "output_type": "display_data"
    }
   ],
   "source": [
    "import datetime\n",
    "import matplotlib.dates as mdates\n",
    "months = mdates.MonthLocator()\n",
    "days = mdates.DayLocator()\n",
    "timeFmt = mdates.DateFormatter('%b %Y')\n",
    "fig, ax = plt.subplots()\n",
    "fig.set_size_inches(35,12)\n",
    "ax.xaxis.set_major_locator(months)\n",
    "ax.xaxis.set_major_formatter(timeFmt)\n",
    "#ax.xaxis.set_minor_locator(months)\n",
    "plt.title('San Antonio Daily Hospitalized With COVID')\n",
    "plt.xlabel('Date',color='black')\n",
    "plt.ylabel('COVID Hospitalized',color='black')\n",
    "plt.bar(df_sa_hospital.index,df_sa_hospital.strac_covid_positive_in_hospita)\n",
    "fig.savefig('MetroHospitalSANew.png')"
   ]
  },
  {
   "cell_type": "code",
   "execution_count": 20,
   "metadata": {},
   "outputs": [],
   "source": [
    "df_sa_availbeds = df_sa_dtindex.loc[:,['strac_available_staffed_beds']]"
   ]
  },
  {
   "cell_type": "code",
   "execution_count": 21,
   "metadata": {},
   "outputs": [
    {
     "data": {
      "text/html": [
       "<div>\n",
       "<style scoped>\n",
       "    .dataframe tbody tr th:only-of-type {\n",
       "        vertical-align: middle;\n",
       "    }\n",
       "\n",
       "    .dataframe tbody tr th {\n",
       "        vertical-align: top;\n",
       "    }\n",
       "\n",
       "    .dataframe thead th {\n",
       "        text-align: right;\n",
       "    }\n",
       "</style>\n",
       "<table border=\"1\" class=\"dataframe\">\n",
       "  <thead>\n",
       "    <tr style=\"text-align: right;\">\n",
       "      <th></th>\n",
       "      <th>strac_available_staffed_beds</th>\n",
       "    </tr>\n",
       "    <tr>\n",
       "      <th>reporting_date</th>\n",
       "      <th></th>\n",
       "    </tr>\n",
       "  </thead>\n",
       "  <tbody>\n",
       "    <tr>\n",
       "      <th>2020-02-12 06:00:00+00:00</th>\n",
       "      <td>NaN</td>\n",
       "    </tr>\n",
       "    <tr>\n",
       "      <th>2020-02-13 06:00:00+00:00</th>\n",
       "      <td>NaN</td>\n",
       "    </tr>\n",
       "    <tr>\n",
       "      <th>2020-02-14 06:00:00+00:00</th>\n",
       "      <td>NaN</td>\n",
       "    </tr>\n",
       "    <tr>\n",
       "      <th>2020-02-15 06:00:00+00:00</th>\n",
       "      <td>NaN</td>\n",
       "    </tr>\n",
       "    <tr>\n",
       "      <th>2020-02-16 06:00:00+00:00</th>\n",
       "      <td>NaN</td>\n",
       "    </tr>\n",
       "    <tr>\n",
       "      <th>...</th>\n",
       "      <td>...</td>\n",
       "    </tr>\n",
       "    <tr>\n",
       "      <th>2021-09-06 17:00:00+00:00</th>\n",
       "      <td>489.0</td>\n",
       "    </tr>\n",
       "    <tr>\n",
       "      <th>2021-09-07 17:00:00+00:00</th>\n",
       "      <td>477.0</td>\n",
       "    </tr>\n",
       "    <tr>\n",
       "      <th>2021-09-08 17:00:00+00:00</th>\n",
       "      <td>405.0</td>\n",
       "    </tr>\n",
       "    <tr>\n",
       "      <th>2021-09-09 17:00:00+00:00</th>\n",
       "      <td>399.0</td>\n",
       "    </tr>\n",
       "    <tr>\n",
       "      <th>2021-09-10 17:00:00+00:00</th>\n",
       "      <td>379.0</td>\n",
       "    </tr>\n",
       "  </tbody>\n",
       "</table>\n",
       "<p>576 rows × 1 columns</p>\n",
       "</div>"
      ],
      "text/plain": [
       "                           strac_available_staffed_beds\n",
       "reporting_date                                         \n",
       "2020-02-12 06:00:00+00:00                           NaN\n",
       "2020-02-13 06:00:00+00:00                           NaN\n",
       "2020-02-14 06:00:00+00:00                           NaN\n",
       "2020-02-15 06:00:00+00:00                           NaN\n",
       "2020-02-16 06:00:00+00:00                           NaN\n",
       "...                                                 ...\n",
       "2021-09-06 17:00:00+00:00                         489.0\n",
       "2021-09-07 17:00:00+00:00                         477.0\n",
       "2021-09-08 17:00:00+00:00                         405.0\n",
       "2021-09-09 17:00:00+00:00                         399.0\n",
       "2021-09-10 17:00:00+00:00                         379.0\n",
       "\n",
       "[576 rows x 1 columns]"
      ]
     },
     "execution_count": 21,
     "metadata": {},
     "output_type": "execute_result"
    }
   ],
   "source": [
    "df_sa_availbeds"
   ]
  },
  {
   "cell_type": "code",
   "execution_count": 22,
   "metadata": {},
   "outputs": [
    {
     "data": {
      "image/png": "[encoded data removed]",
      "text/plain": [
       "<Figure size 2520x864 with 1 Axes>"
      ]
     },
     "metadata": {
      "needs_background": "light"
     },
     "output_type": "display_data"
    }
   ],
   "source": [
    "import datetime\n",
    "import matplotlib.dates as mdates\n",
    "months = mdates.MonthLocator()\n",
    "days = mdates.DayLocator()\n",
    "timeFmt = mdates.DateFormatter('%b %Y')\n",
    "fig, ax = plt.subplots()\n",
    "fig.set_size_inches(35,12)\n",
    "ax.xaxis.set_major_locator(months)\n",
    "ax.xaxis.set_major_formatter(timeFmt)\n",
    "#ax.xaxis.set_minor_locator(months)\n",
    "plt.title('San Antonio Daily COVID Available Hospital Beds')\n",
    "plt.xlabel('Date',color='black')\n",
    "plt.ylabel('Staffed Beds',color='black')\n",
    "plt.bar(df_sa_availbeds.index,df_sa_availbeds.strac_available_staffed_beds)\n",
    "fig.savefig('MetroAvailBedsSANew.png')"
   ]
  },
  {
   "cell_type": "code",
   "execution_count": null,
   "metadata": {},
   "outputs": [],
   "source": []
  }
 ],
 "metadata": {
  "kernelspec": {
   "display_name": "Python 3",
   "language": "python",
   "name": "python3"
  },
  "language_info": {
   "codemirror_mode": {
    "name": "ipython",
    "version": 3
   },
   "file_extension": ".py",
   "mimetype": "text/x-python",
   "name": "python",
   "nbconvert_exporter": "python",
   "pygments_lexer": "ipython3",
   "version": "3.8.10"
  }
 },
 "nbformat": 4,
 "nbformat_minor": 4
}
