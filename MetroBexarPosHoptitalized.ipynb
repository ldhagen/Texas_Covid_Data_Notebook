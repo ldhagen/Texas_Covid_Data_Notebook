{
 "cells": [
  {
   "cell_type": "code",
   "execution_count": 1,
   "metadata": {},
   "outputs": [],
   "source": [
    "import pandas as pd\n",
    "import matplotlib.pyplot as plt\n",
    "import datetime\n",
    "import matplotlib.dates as mdates"
   ]
  },
  {
   "cell_type": "code",
   "execution_count": 2,
   "metadata": {},
   "outputs": [],
   "source": [
    "metro_pd = pd.read_csv('../CoVID-19_Dashboard_Data.csv')"
   ]
  },
  {
   "cell_type": "code",
   "execution_count": 3,
   "metadata": {},
   "outputs": [
    {
     "data": {
      "text/plain": [
       "str"
      ]
     },
     "execution_count": 3,
     "metadata": {},
     "output_type": "execute_result"
    }
   ],
   "source": [
    "type(metro_pd.Date[0])"
   ]
  },
  {
   "cell_type": "code",
   "execution_count": 4,
   "metadata": {},
   "outputs": [],
   "source": [
    "metro_pd.Date = pd.to_datetime(metro_pd.Date)"
   ]
  },
  {
   "cell_type": "code",
   "execution_count": 5,
   "metadata": {},
   "outputs": [
    {
     "data": {
      "text/plain": [
       "pandas._libs.tslibs.timestamps.Timestamp"
      ]
     },
     "execution_count": 5,
     "metadata": {},
     "output_type": "execute_result"
    }
   ],
   "source": [
    "type(metro_pd.Date[0])"
   ]
  },
  {
   "cell_type": "code",
   "execution_count": 6,
   "metadata": {},
   "outputs": [],
   "source": [
    "a = metro_pd.set_index('Date')"
   ]
  },
  {
   "cell_type": "code",
   "execution_count": 7,
   "metadata": {},
   "outputs": [
    {
     "data": {
      "text/plain": [
       "DatetimeIndex(['2020-02-12 06:00:00', '2020-02-13 06:00:00',\n",
       "               '2020-02-14 06:00:00', '2020-02-15 06:00:00',\n",
       "               '2020-02-16 06:00:00', '2020-02-17 06:00:00',\n",
       "               '2020-02-18 06:00:00', '2020-02-19 06:00:00',\n",
       "               '2020-02-20 06:00:00', '2020-02-21 06:00:00',\n",
       "               ...\n",
       "                               'NaT',                 'NaT',\n",
       "                               'NaT',                 'NaT',\n",
       "                               'NaT',                 'NaT',\n",
       "                               'NaT',                 'NaT',\n",
       "                               'NaT',                 'NaT'],\n",
       "              dtype='datetime64[ns]', name='Date', length=178, freq=None)"
      ]
     },
     "execution_count": 7,
     "metadata": {},
     "output_type": "execute_result"
    }
   ],
   "source": [
    "a.index"
   ]
  },
  {
   "cell_type": "code",
   "execution_count": 8,
   "metadata": {},
   "outputs": [],
   "source": [
    "b = a.loc[a.index.dropna()]"
   ]
  },
  {
   "cell_type": "code",
   "execution_count": 9,
   "metadata": {},
   "outputs": [
    {
     "data": {
      "text/html": [
       "<div>\n",
       "<style scoped>\n",
       "    .dataframe tbody tr th:only-of-type {\n",
       "        vertical-align: middle;\n",
       "    }\n",
       "\n",
       "    .dataframe tbody tr th {\n",
       "        vertical-align: top;\n",
       "    }\n",
       "\n",
       "    .dataframe thead th {\n",
       "        text-align: right;\n",
       "    }\n",
       "</style>\n",
       "<table border=\"1\" class=\"dataframe\">\n",
       "  <thead>\n",
       "    <tr style=\"text-align: right;\">\n",
       "      <th></th>\n",
       "      <th>ObjectId</th>\n",
       "      <th>ReportedOn</th>\n",
       "      <th>ReportedCum</th>\n",
       "      <th>Deceased</th>\n",
       "      <th>Recovered</th>\n",
       "      <th>Hospitalized</th>\n",
       "      <th>ICU</th>\n",
       "      <th>Vent</th>\n",
       "      <th>StillIll</th>\n",
       "      <th>PosPatients</th>\n",
       "      <th>...</th>\n",
       "      <th>BCLabTests</th>\n",
       "      <th>BCTestNegative</th>\n",
       "      <th>BCTestPositive</th>\n",
       "      <th>BCTestInc</th>\n",
       "      <th>DBCLabTests</th>\n",
       "      <th>DBCTestNegative</th>\n",
       "      <th>DBCTestPositive</th>\n",
       "      <th>DBCTestInc</th>\n",
       "      <th>WeekQuar</th>\n",
       "      <th>EverQuar</th>\n",
       "    </tr>\n",
       "    <tr>\n",
       "      <th>Date</th>\n",
       "      <th></th>\n",
       "      <th></th>\n",
       "      <th></th>\n",
       "      <th></th>\n",
       "      <th></th>\n",
       "      <th></th>\n",
       "      <th></th>\n",
       "      <th></th>\n",
       "      <th></th>\n",
       "      <th></th>\n",
       "      <th></th>\n",
       "      <th></th>\n",
       "      <th></th>\n",
       "      <th></th>\n",
       "      <th></th>\n",
       "      <th></th>\n",
       "      <th></th>\n",
       "      <th></th>\n",
       "      <th></th>\n",
       "      <th></th>\n",
       "      <th></th>\n",
       "    </tr>\n",
       "  </thead>\n",
       "  <tbody>\n",
       "    <tr>\n",
       "      <th>2020-02-12 06:00:00</th>\n",
       "      <td>1</td>\n",
       "      <td>NaN</td>\n",
       "      <td>NaN</td>\n",
       "      <td>NaN</td>\n",
       "      <td>NaN</td>\n",
       "      <td>NaN</td>\n",
       "      <td>NaN</td>\n",
       "      <td>NaN</td>\n",
       "      <td>NaN</td>\n",
       "      <td>NaN</td>\n",
       "      <td>...</td>\n",
       "      <td>NaN</td>\n",
       "      <td>NaN</td>\n",
       "      <td>NaN</td>\n",
       "      <td>NaN</td>\n",
       "      <td>NaN</td>\n",
       "      <td>NaN</td>\n",
       "      <td>NaN</td>\n",
       "      <td>NaN</td>\n",
       "      <td>NaN</td>\n",
       "      <td>NaN</td>\n",
       "    </tr>\n",
       "    <tr>\n",
       "      <th>2020-02-13 06:00:00</th>\n",
       "      <td>2</td>\n",
       "      <td>NaN</td>\n",
       "      <td>NaN</td>\n",
       "      <td>NaN</td>\n",
       "      <td>NaN</td>\n",
       "      <td>NaN</td>\n",
       "      <td>NaN</td>\n",
       "      <td>NaN</td>\n",
       "      <td>NaN</td>\n",
       "      <td>NaN</td>\n",
       "      <td>...</td>\n",
       "      <td>NaN</td>\n",
       "      <td>NaN</td>\n",
       "      <td>NaN</td>\n",
       "      <td>NaN</td>\n",
       "      <td>NaN</td>\n",
       "      <td>NaN</td>\n",
       "      <td>NaN</td>\n",
       "      <td>NaN</td>\n",
       "      <td>NaN</td>\n",
       "      <td>NaN</td>\n",
       "    </tr>\n",
       "    <tr>\n",
       "      <th>2020-02-14 06:00:00</th>\n",
       "      <td>3</td>\n",
       "      <td>NaN</td>\n",
       "      <td>NaN</td>\n",
       "      <td>NaN</td>\n",
       "      <td>NaN</td>\n",
       "      <td>NaN</td>\n",
       "      <td>NaN</td>\n",
       "      <td>NaN</td>\n",
       "      <td>NaN</td>\n",
       "      <td>NaN</td>\n",
       "      <td>...</td>\n",
       "      <td>NaN</td>\n",
       "      <td>NaN</td>\n",
       "      <td>NaN</td>\n",
       "      <td>NaN</td>\n",
       "      <td>NaN</td>\n",
       "      <td>NaN</td>\n",
       "      <td>NaN</td>\n",
       "      <td>NaN</td>\n",
       "      <td>NaN</td>\n",
       "      <td>NaN</td>\n",
       "    </tr>\n",
       "    <tr>\n",
       "      <th>2020-02-15 06:00:00</th>\n",
       "      <td>4</td>\n",
       "      <td>NaN</td>\n",
       "      <td>NaN</td>\n",
       "      <td>NaN</td>\n",
       "      <td>NaN</td>\n",
       "      <td>NaN</td>\n",
       "      <td>NaN</td>\n",
       "      <td>NaN</td>\n",
       "      <td>NaN</td>\n",
       "      <td>NaN</td>\n",
       "      <td>...</td>\n",
       "      <td>NaN</td>\n",
       "      <td>NaN</td>\n",
       "      <td>NaN</td>\n",
       "      <td>NaN</td>\n",
       "      <td>NaN</td>\n",
       "      <td>NaN</td>\n",
       "      <td>NaN</td>\n",
       "      <td>NaN</td>\n",
       "      <td>NaN</td>\n",
       "      <td>NaN</td>\n",
       "    </tr>\n",
       "    <tr>\n",
       "      <th>2020-02-16 06:00:00</th>\n",
       "      <td>5</td>\n",
       "      <td>NaN</td>\n",
       "      <td>NaN</td>\n",
       "      <td>NaN</td>\n",
       "      <td>NaN</td>\n",
       "      <td>NaN</td>\n",
       "      <td>NaN</td>\n",
       "      <td>NaN</td>\n",
       "      <td>NaN</td>\n",
       "      <td>NaN</td>\n",
       "      <td>...</td>\n",
       "      <td>NaN</td>\n",
       "      <td>NaN</td>\n",
       "      <td>NaN</td>\n",
       "      <td>NaN</td>\n",
       "      <td>NaN</td>\n",
       "      <td>NaN</td>\n",
       "      <td>NaN</td>\n",
       "      <td>NaN</td>\n",
       "      <td>NaN</td>\n",
       "      <td>NaN</td>\n",
       "    </tr>\n",
       "    <tr>\n",
       "      <th>...</th>\n",
       "      <td>...</td>\n",
       "      <td>...</td>\n",
       "      <td>...</td>\n",
       "      <td>...</td>\n",
       "      <td>...</td>\n",
       "      <td>...</td>\n",
       "      <td>...</td>\n",
       "      <td>...</td>\n",
       "      <td>...</td>\n",
       "      <td>...</td>\n",
       "      <td>...</td>\n",
       "      <td>...</td>\n",
       "      <td>...</td>\n",
       "      <td>...</td>\n",
       "      <td>...</td>\n",
       "      <td>...</td>\n",
       "      <td>...</td>\n",
       "      <td>...</td>\n",
       "      <td>...</td>\n",
       "      <td>...</td>\n",
       "      <td>...</td>\n",
       "    </tr>\n",
       "    <tr>\n",
       "      <th>2020-07-14 05:00:00</th>\n",
       "      <td>154</td>\n",
       "      <td>854.0</td>\n",
       "      <td>21067.0</td>\n",
       "      <td>6.0</td>\n",
       "      <td>7895.0</td>\n",
       "      <td>958.0</td>\n",
       "      <td>338.0</td>\n",
       "      <td>145.0</td>\n",
       "      <td>12971.0</td>\n",
       "      <td>1237.0</td>\n",
       "      <td>...</td>\n",
       "      <td>183139.0</td>\n",
       "      <td>158382.0</td>\n",
       "      <td>24590.0</td>\n",
       "      <td>167.0</td>\n",
       "      <td>2443.0</td>\n",
       "      <td>1945.0</td>\n",
       "      <td>498.0</td>\n",
       "      <td>3.0</td>\n",
       "      <td>NaN</td>\n",
       "      <td>NaN</td>\n",
       "    </tr>\n",
       "    <tr>\n",
       "      <th>2020-07-15 05:00:00</th>\n",
       "      <td>155</td>\n",
       "      <td>479.0</td>\n",
       "      <td>21546.0</td>\n",
       "      <td>7.0</td>\n",
       "      <td>7968.0</td>\n",
       "      <td>958.0</td>\n",
       "      <td>338.0</td>\n",
       "      <td>145.0</td>\n",
       "      <td>13370.0</td>\n",
       "      <td>1231.0</td>\n",
       "      <td>...</td>\n",
       "      <td>185931.0</td>\n",
       "      <td>160461.0</td>\n",
       "      <td>25302.0</td>\n",
       "      <td>168.0</td>\n",
       "      <td>2792.0</td>\n",
       "      <td>2080.0</td>\n",
       "      <td>712.0</td>\n",
       "      <td>1.0</td>\n",
       "      <td>NaN</td>\n",
       "      <td>NaN</td>\n",
       "    </tr>\n",
       "    <tr>\n",
       "      <th>2020-07-16 05:00:00</th>\n",
       "      <td>156</td>\n",
       "      <td>5501.0</td>\n",
       "      <td>27047.0</td>\n",
       "      <td>21.0</td>\n",
       "      <td>7968.0</td>\n",
       "      <td>958.0</td>\n",
       "      <td>338.0</td>\n",
       "      <td>145.0</td>\n",
       "      <td>18850.0</td>\n",
       "      <td>1202.0</td>\n",
       "      <td>...</td>\n",
       "      <td>187524.0</td>\n",
       "      <td>161749.0</td>\n",
       "      <td>25606.0</td>\n",
       "      <td>169.0</td>\n",
       "      <td>1593.0</td>\n",
       "      <td>1289.0</td>\n",
       "      <td>304.0</td>\n",
       "      <td>1.0</td>\n",
       "      <td>NaN</td>\n",
       "      <td>NaN</td>\n",
       "    </tr>\n",
       "    <tr>\n",
       "      <th>2020-07-17 05:00:00</th>\n",
       "      <td>157</td>\n",
       "      <td>478.0</td>\n",
       "      <td>27525.0</td>\n",
       "      <td>11.0</td>\n",
       "      <td>10284.0</td>\n",
       "      <td>958.0</td>\n",
       "      <td>338.0</td>\n",
       "      <td>145.0</td>\n",
       "      <td>16997.0</td>\n",
       "      <td>1166.0</td>\n",
       "      <td>...</td>\n",
       "      <td>189415.0</td>\n",
       "      <td>163281.0</td>\n",
       "      <td>25964.0</td>\n",
       "      <td>170.0</td>\n",
       "      <td>1891.0</td>\n",
       "      <td>1533.0</td>\n",
       "      <td>358.0</td>\n",
       "      <td>NaN</td>\n",
       "      <td>NaN</td>\n",
       "      <td>NaN</td>\n",
       "    </tr>\n",
       "    <tr>\n",
       "      <th>2020-07-18 05:00:00</th>\n",
       "      <td>158</td>\n",
       "      <td>1108.0</td>\n",
       "      <td>28633.0</td>\n",
       "      <td>11.0</td>\n",
       "      <td>10284.0</td>\n",
       "      <td>958.0</td>\n",
       "      <td>338.0</td>\n",
       "      <td>145.0</td>\n",
       "      <td>16997.0</td>\n",
       "      <td>1144.0</td>\n",
       "      <td>...</td>\n",
       "      <td>195084.0</td>\n",
       "      <td>167460.0</td>\n",
       "      <td>27453.0</td>\n",
       "      <td>171.0</td>\n",
       "      <td>5669.0</td>\n",
       "      <td>4180.0</td>\n",
       "      <td>1489.0</td>\n",
       "      <td>NaN</td>\n",
       "      <td>NaN</td>\n",
       "      <td>NaN</td>\n",
       "    </tr>\n",
       "  </tbody>\n",
       "</table>\n",
       "<p>158 rows × 28 columns</p>\n",
       "</div>"
      ],
      "text/plain": [
       "                     ObjectId  ReportedOn  ReportedCum  Deceased  Recovered  \\\n",
       "Date                                                                          \n",
       "2020-02-12 06:00:00         1         NaN          NaN       NaN        NaN   \n",
       "2020-02-13 06:00:00         2         NaN          NaN       NaN        NaN   \n",
       "2020-02-14 06:00:00         3         NaN          NaN       NaN        NaN   \n",
       "2020-02-15 06:00:00         4         NaN          NaN       NaN        NaN   \n",
       "2020-02-16 06:00:00         5         NaN          NaN       NaN        NaN   \n",
       "...                       ...         ...          ...       ...        ...   \n",
       "2020-07-14 05:00:00       154       854.0      21067.0       6.0     7895.0   \n",
       "2020-07-15 05:00:00       155       479.0      21546.0       7.0     7968.0   \n",
       "2020-07-16 05:00:00       156      5501.0      27047.0      21.0     7968.0   \n",
       "2020-07-17 05:00:00       157       478.0      27525.0      11.0    10284.0   \n",
       "2020-07-18 05:00:00       158      1108.0      28633.0      11.0    10284.0   \n",
       "\n",
       "                     Hospitalized    ICU   Vent  StillIll  PosPatients  ...  \\\n",
       "Date                                                                    ...   \n",
       "2020-02-12 06:00:00           NaN    NaN    NaN       NaN          NaN  ...   \n",
       "2020-02-13 06:00:00           NaN    NaN    NaN       NaN          NaN  ...   \n",
       "2020-02-14 06:00:00           NaN    NaN    NaN       NaN          NaN  ...   \n",
       "2020-02-15 06:00:00           NaN    NaN    NaN       NaN          NaN  ...   \n",
       "2020-02-16 06:00:00           NaN    NaN    NaN       NaN          NaN  ...   \n",
       "...                           ...    ...    ...       ...          ...  ...   \n",
       "2020-07-14 05:00:00         958.0  338.0  145.0   12971.0       1237.0  ...   \n",
       "2020-07-15 05:00:00         958.0  338.0  145.0   13370.0       1231.0  ...   \n",
       "2020-07-16 05:00:00         958.0  338.0  145.0   18850.0       1202.0  ...   \n",
       "2020-07-17 05:00:00         958.0  338.0  145.0   16997.0       1166.0  ...   \n",
       "2020-07-18 05:00:00         958.0  338.0  145.0   16997.0       1144.0  ...   \n",
       "\n",
       "                     BCLabTests  BCTestNegative  BCTestPositive  BCTestInc  \\\n",
       "Date                                                                         \n",
       "2020-02-12 06:00:00         NaN             NaN             NaN        NaN   \n",
       "2020-02-13 06:00:00         NaN             NaN             NaN        NaN   \n",
       "2020-02-14 06:00:00         NaN             NaN             NaN        NaN   \n",
       "2020-02-15 06:00:00         NaN             NaN             NaN        NaN   \n",
       "2020-02-16 06:00:00         NaN             NaN             NaN        NaN   \n",
       "...                         ...             ...             ...        ...   \n",
       "2020-07-14 05:00:00    183139.0        158382.0         24590.0      167.0   \n",
       "2020-07-15 05:00:00    185931.0        160461.0         25302.0      168.0   \n",
       "2020-07-16 05:00:00    187524.0        161749.0         25606.0      169.0   \n",
       "2020-07-17 05:00:00    189415.0        163281.0         25964.0      170.0   \n",
       "2020-07-18 05:00:00    195084.0        167460.0         27453.0      171.0   \n",
       "\n",
       "                     DBCLabTests  DBCTestNegative  DBCTestPositive  \\\n",
       "Date                                                                 \n",
       "2020-02-12 06:00:00          NaN              NaN              NaN   \n",
       "2020-02-13 06:00:00          NaN              NaN              NaN   \n",
       "2020-02-14 06:00:00          NaN              NaN              NaN   \n",
       "2020-02-15 06:00:00          NaN              NaN              NaN   \n",
       "2020-02-16 06:00:00          NaN              NaN              NaN   \n",
       "...                          ...              ...              ...   \n",
       "2020-07-14 05:00:00       2443.0           1945.0            498.0   \n",
       "2020-07-15 05:00:00       2792.0           2080.0            712.0   \n",
       "2020-07-16 05:00:00       1593.0           1289.0            304.0   \n",
       "2020-07-17 05:00:00       1891.0           1533.0            358.0   \n",
       "2020-07-18 05:00:00       5669.0           4180.0           1489.0   \n",
       "\n",
       "                     DBCTestInc  WeekQuar  EverQuar  \n",
       "Date                                                 \n",
       "2020-02-12 06:00:00         NaN       NaN       NaN  \n",
       "2020-02-13 06:00:00         NaN       NaN       NaN  \n",
       "2020-02-14 06:00:00         NaN       NaN       NaN  \n",
       "2020-02-15 06:00:00         NaN       NaN       NaN  \n",
       "2020-02-16 06:00:00         NaN       NaN       NaN  \n",
       "...                         ...       ...       ...  \n",
       "2020-07-14 05:00:00         3.0       NaN       NaN  \n",
       "2020-07-15 05:00:00         1.0       NaN       NaN  \n",
       "2020-07-16 05:00:00         1.0       NaN       NaN  \n",
       "2020-07-17 05:00:00         NaN       NaN       NaN  \n",
       "2020-07-18 05:00:00         NaN       NaN       NaN  \n",
       "\n",
       "[158 rows x 28 columns]"
      ]
     },
     "execution_count": 9,
     "metadata": {},
     "output_type": "execute_result"
    }
   ],
   "source": [
    "b"
   ]
  },
  {
   "cell_type": "code",
   "execution_count": 10,
   "metadata": {},
   "outputs": [
    {
     "data": {
      "text/plain": [
       "pandas._libs.tslibs.timestamps.Timestamp"
      ]
     },
     "execution_count": 10,
     "metadata": {},
     "output_type": "execute_result"
    }
   ],
   "source": [
    "type(metro_pd.Date[0])"
   ]
  },
  {
   "cell_type": "code",
   "execution_count": 11,
   "metadata": {},
   "outputs": [],
   "source": [
    "c = b['PosPatients'].dropna()"
   ]
  },
  {
   "cell_type": "code",
   "execution_count": 12,
   "metadata": {},
   "outputs": [
    {
     "data": {
      "text/plain": [
       "pandas._libs.tslibs.timestamps.Timestamp"
      ]
     },
     "execution_count": 12,
     "metadata": {},
     "output_type": "execute_result"
    }
   ],
   "source": [
    "type(c.index[0])"
   ]
  },
  {
   "cell_type": "code",
   "execution_count": 13,
   "metadata": {},
   "outputs": [],
   "source": [
    "c_7day_moving= c.rolling(7).mean().shift()"
   ]
  },
  {
   "cell_type": "code",
   "execution_count": 14,
   "metadata": {},
   "outputs": [
    {
     "data": {
      "image/png": "[encoded data removed]",
      "text/plain": [
       "<Figure size 1080x576 with 1 Axes>"
      ]
     },
     "metadata": {
      "needs_background": "light"
     },
     "output_type": "display_data"
    }
   ],
   "source": [
    "months = mdates.MonthLocator()\n",
    "days = mdates.DayLocator()\n",
    "timeFmt = mdates.DateFormatter('%b %Y')\n",
    "fig, ax = plt.subplots()\n",
    "fig.set_size_inches(15,8)\n",
    "ax.xaxis.set_major_locator(months)\n",
    "ax.xaxis.set_major_formatter(timeFmt)\n",
    "ax.xaxis.set_minor_locator(days)\n",
    "plt.xlabel('Date',color='black')\n",
    "plt.ylabel('Daily Cases',color='black')\n",
    "plt.title('Metro Bexar Positive Hospitalized Cases')\n",
    "#plt.bar(c.index,c)\n",
    "plt.plot(c)\n",
    "plt.plot(c_7day_moving,'ro-')\n",
    "plt.legend(['Daily Hospital Cases','7 Day Rolling Average'])\n",
    "fig.savefig('MetroPosHospitalized.png')"
   ]
  },
  {
   "cell_type": "code",
   "execution_count": 15,
   "metadata": {},
   "outputs": [
    {
     "data": {
      "text/plain": [
       "Date\n",
       "2020-03-22 06:00:00      15.0\n",
       "2020-03-23 06:00:00      19.0\n",
       "2020-03-24 06:00:00      28.0\n",
       "2020-03-25 06:00:00      31.0\n",
       "2020-03-26 06:00:00      38.0\n",
       "                        ...  \n",
       "2020-07-14 05:00:00    1237.0\n",
       "2020-07-15 05:00:00    1231.0\n",
       "2020-07-16 05:00:00    1202.0\n",
       "2020-07-17 05:00:00    1166.0\n",
       "2020-07-18 05:00:00    1144.0\n",
       "Name: PosPatients, Length: 119, dtype: float64"
      ]
     },
     "execution_count": 15,
     "metadata": {},
     "output_type": "execute_result"
    }
   ],
   "source": [
    "c"
   ]
  },
  {
   "cell_type": "code",
   "execution_count": 16,
   "metadata": {},
   "outputs": [],
   "source": [
    "x = c.diff(periods = 1)"
   ]
  },
  {
   "cell_type": "code",
   "execution_count": 17,
   "metadata": {},
   "outputs": [
    {
     "data": {
      "image/png": "[encoded data removed]",
      "text/plain": [
       "<Figure size 1080x576 with 1 Axes>"
      ]
     },
     "metadata": {
      "needs_background": "light"
     },
     "output_type": "display_data"
    }
   ],
   "source": [
    "months = mdates.MonthLocator()\n",
    "days = mdates.DayLocator()\n",
    "timeFmt = mdates.DateFormatter('%b %Y')\n",
    "fig, ax = plt.subplots()\n",
    "fig.set_size_inches(15,8)\n",
    "ax.xaxis.set_major_locator(months)\n",
    "ax.xaxis.set_major_formatter(timeFmt)\n",
    "ax.xaxis.set_minor_locator(days)\n",
    "plt.xlabel('Date',color='black')\n",
    "plt.ylabel('Change In Active Cases',color='black')\n",
    "plt.title('Bexar Daily Change In Positive Hospital Cases')\n",
    "plt.bar(x.index,x)\n",
    "fig.savefig('BexarChangeInPosHospitalCases.png')"
   ]
  },
  {
   "cell_type": "code",
   "execution_count": 18,
   "metadata": {},
   "outputs": [
    {
     "data": {
      "text/plain": [
       "Date\n",
       "2020-03-22 06:00:00     NaN\n",
       "2020-03-23 06:00:00     4.0\n",
       "2020-03-24 06:00:00     9.0\n",
       "2020-03-25 06:00:00     3.0\n",
       "2020-03-26 06:00:00     7.0\n",
       "                       ... \n",
       "2020-07-14 05:00:00   -30.0\n",
       "2020-07-15 05:00:00    -6.0\n",
       "2020-07-16 05:00:00   -29.0\n",
       "2020-07-17 05:00:00   -36.0\n",
       "2020-07-18 05:00:00   -22.0\n",
       "Name: PosPatients, Length: 119, dtype: float64"
      ]
     },
     "execution_count": 18,
     "metadata": {},
     "output_type": "execute_result"
    }
   ],
   "source": [
    "x"
   ]
  },
  {
   "cell_type": "code",
   "execution_count": null,
   "metadata": {},
   "outputs": [],
   "source": []
  }
 ],
 "metadata": {
  "kernelspec": {
   "display_name": "Python 3",
   "language": "python",
   "name": "python3"
  },
  "language_info": {
   "codemirror_mode": {
    "name": "ipython",
    "version": 3
   },
   "file_extension": ".py",
   "mimetype": "text/x-python",
   "name": "python",
   "nbconvert_exporter": "python",
   "pygments_lexer": "ipython3",
   "version": "3.8.2"
  }
 },
 "nbformat": 4,
 "nbformat_minor": 2
}
