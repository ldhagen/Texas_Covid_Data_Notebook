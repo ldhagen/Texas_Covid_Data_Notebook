{
 "cells": [
  {
   "cell_type": "code",
   "execution_count": 1,
   "metadata": {},
   "outputs": [],
   "source": [
    "import pandas as pd\n",
    "import matplotlib.pyplot as plt\n",
    "import datetime\n",
    "import matplotlib.dates as mdates"
   ]
  },
  {
   "cell_type": "code",
   "execution_count": 2,
   "metadata": {},
   "outputs": [],
   "source": [
    "metro_pd = pd.read_csv('../CoVID-19_Dashboard_Data.csv')"
   ]
  },
  {
   "cell_type": "code",
   "execution_count": 3,
   "metadata": {},
   "outputs": [
    {
     "data": {
      "text/plain": [
       "str"
      ]
     },
     "execution_count": 3,
     "metadata": {},
     "output_type": "execute_result"
    }
   ],
   "source": [
    "type(metro_pd.Date[0])"
   ]
  },
  {
   "cell_type": "code",
   "execution_count": 4,
   "metadata": {},
   "outputs": [],
   "source": [
    "metro_pd.Date = pd.to_datetime(metro_pd.Date)"
   ]
  },
  {
   "cell_type": "code",
   "execution_count": 5,
   "metadata": {},
   "outputs": [
    {
     "data": {
      "text/plain": [
       "pandas._libs.tslibs.timestamps.Timestamp"
      ]
     },
     "execution_count": 5,
     "metadata": {},
     "output_type": "execute_result"
    }
   ],
   "source": [
    "type(metro_pd.Date[0])"
   ]
  },
  {
   "cell_type": "code",
   "execution_count": 6,
   "metadata": {},
   "outputs": [],
   "source": [
    "a = metro_pd.set_index('Date')"
   ]
  },
  {
   "cell_type": "code",
   "execution_count": 7,
   "metadata": {},
   "outputs": [
    {
     "data": {
      "text/plain": [
       "DatetimeIndex(['2020-02-12 06:00:00', '2020-02-13 06:00:00',\n",
       "               '2020-02-14 06:00:00', '2020-02-15 06:00:00',\n",
       "               '2020-02-16 06:00:00', '2020-02-17 06:00:00',\n",
       "               '2020-02-18 06:00:00', '2020-02-19 06:00:00',\n",
       "               '2020-02-20 06:00:00', '2020-02-21 06:00:00',\n",
       "               ...\n",
       "                               'NaT',                 'NaT',\n",
       "                               'NaT',                 'NaT',\n",
       "                               'NaT',                 'NaT',\n",
       "                               'NaT',                 'NaT',\n",
       "                               'NaT',                 'NaT'],\n",
       "              dtype='datetime64[ns]', name='Date', length=178, freq=None)"
      ]
     },
     "execution_count": 7,
     "metadata": {},
     "output_type": "execute_result"
    }
   ],
   "source": [
    "a.index"
   ]
  },
  {
   "cell_type": "code",
   "execution_count": 8,
   "metadata": {},
   "outputs": [],
   "source": [
    "b = a.loc[a.index.dropna()]"
   ]
  },
  {
   "cell_type": "code",
   "execution_count": 9,
   "metadata": {},
   "outputs": [
    {
     "data": {
      "text/html": [
       "<div>\n",
       "<style scoped>\n",
       "    .dataframe tbody tr th:only-of-type {\n",
       "        vertical-align: middle;\n",
       "    }\n",
       "\n",
       "    .dataframe tbody tr th {\n",
       "        vertical-align: top;\n",
       "    }\n",
       "\n",
       "    .dataframe thead th {\n",
       "        text-align: right;\n",
       "    }\n",
       "</style>\n",
       "<table border=\"1\" class=\"dataframe\">\n",
       "  <thead>\n",
       "    <tr style=\"text-align: right;\">\n",
       "      <th></th>\n",
       "      <th>ObjectId</th>\n",
       "      <th>ReportedOn</th>\n",
       "      <th>ReportedCum</th>\n",
       "      <th>Deceased</th>\n",
       "      <th>Recovered</th>\n",
       "      <th>Hospitalized</th>\n",
       "      <th>ICU</th>\n",
       "      <th>Vent</th>\n",
       "      <th>StillIll</th>\n",
       "      <th>PosPatients</th>\n",
       "      <th>...</th>\n",
       "      <th>BCLabTests</th>\n",
       "      <th>BCTestNegative</th>\n",
       "      <th>BCTestPositive</th>\n",
       "      <th>BCTestInc</th>\n",
       "      <th>DBCLabTests</th>\n",
       "      <th>DBCTestNegative</th>\n",
       "      <th>DBCTestPositive</th>\n",
       "      <th>DBCTestInc</th>\n",
       "      <th>WeekQuar</th>\n",
       "      <th>EverQuar</th>\n",
       "    </tr>\n",
       "    <tr>\n",
       "      <th>Date</th>\n",
       "      <th></th>\n",
       "      <th></th>\n",
       "      <th></th>\n",
       "      <th></th>\n",
       "      <th></th>\n",
       "      <th></th>\n",
       "      <th></th>\n",
       "      <th></th>\n",
       "      <th></th>\n",
       "      <th></th>\n",
       "      <th></th>\n",
       "      <th></th>\n",
       "      <th></th>\n",
       "      <th></th>\n",
       "      <th></th>\n",
       "      <th></th>\n",
       "      <th></th>\n",
       "      <th></th>\n",
       "      <th></th>\n",
       "      <th></th>\n",
       "      <th></th>\n",
       "    </tr>\n",
       "  </thead>\n",
       "  <tbody>\n",
       "    <tr>\n",
       "      <th>2020-02-12 06:00:00</th>\n",
       "      <td>1</td>\n",
       "      <td>NaN</td>\n",
       "      <td>NaN</td>\n",
       "      <td>NaN</td>\n",
       "      <td>NaN</td>\n",
       "      <td>NaN</td>\n",
       "      <td>NaN</td>\n",
       "      <td>NaN</td>\n",
       "      <td>NaN</td>\n",
       "      <td>NaN</td>\n",
       "      <td>...</td>\n",
       "      <td>NaN</td>\n",
       "      <td>NaN</td>\n",
       "      <td>NaN</td>\n",
       "      <td>NaN</td>\n",
       "      <td>NaN</td>\n",
       "      <td>NaN</td>\n",
       "      <td>NaN</td>\n",
       "      <td>NaN</td>\n",
       "      <td>NaN</td>\n",
       "      <td>NaN</td>\n",
       "    </tr>\n",
       "    <tr>\n",
       "      <th>2020-02-13 06:00:00</th>\n",
       "      <td>2</td>\n",
       "      <td>NaN</td>\n",
       "      <td>NaN</td>\n",
       "      <td>NaN</td>\n",
       "      <td>NaN</td>\n",
       "      <td>NaN</td>\n",
       "      <td>NaN</td>\n",
       "      <td>NaN</td>\n",
       "      <td>NaN</td>\n",
       "      <td>NaN</td>\n",
       "      <td>...</td>\n",
       "      <td>NaN</td>\n",
       "      <td>NaN</td>\n",
       "      <td>NaN</td>\n",
       "      <td>NaN</td>\n",
       "      <td>NaN</td>\n",
       "      <td>NaN</td>\n",
       "      <td>NaN</td>\n",
       "      <td>NaN</td>\n",
       "      <td>NaN</td>\n",
       "      <td>NaN</td>\n",
       "    </tr>\n",
       "    <tr>\n",
       "      <th>2020-02-14 06:00:00</th>\n",
       "      <td>3</td>\n",
       "      <td>NaN</td>\n",
       "      <td>NaN</td>\n",
       "      <td>NaN</td>\n",
       "      <td>NaN</td>\n",
       "      <td>NaN</td>\n",
       "      <td>NaN</td>\n",
       "      <td>NaN</td>\n",
       "      <td>NaN</td>\n",
       "      <td>NaN</td>\n",
       "      <td>...</td>\n",
       "      <td>NaN</td>\n",
       "      <td>NaN</td>\n",
       "      <td>NaN</td>\n",
       "      <td>NaN</td>\n",
       "      <td>NaN</td>\n",
       "      <td>NaN</td>\n",
       "      <td>NaN</td>\n",
       "      <td>NaN</td>\n",
       "      <td>NaN</td>\n",
       "      <td>NaN</td>\n",
       "    </tr>\n",
       "    <tr>\n",
       "      <th>2020-02-15 06:00:00</th>\n",
       "      <td>4</td>\n",
       "      <td>NaN</td>\n",
       "      <td>NaN</td>\n",
       "      <td>NaN</td>\n",
       "      <td>NaN</td>\n",
       "      <td>NaN</td>\n",
       "      <td>NaN</td>\n",
       "      <td>NaN</td>\n",
       "      <td>NaN</td>\n",
       "      <td>NaN</td>\n",
       "      <td>...</td>\n",
       "      <td>NaN</td>\n",
       "      <td>NaN</td>\n",
       "      <td>NaN</td>\n",
       "      <td>NaN</td>\n",
       "      <td>NaN</td>\n",
       "      <td>NaN</td>\n",
       "      <td>NaN</td>\n",
       "      <td>NaN</td>\n",
       "      <td>NaN</td>\n",
       "      <td>NaN</td>\n",
       "    </tr>\n",
       "    <tr>\n",
       "      <th>2020-02-16 06:00:00</th>\n",
       "      <td>5</td>\n",
       "      <td>NaN</td>\n",
       "      <td>NaN</td>\n",
       "      <td>NaN</td>\n",
       "      <td>NaN</td>\n",
       "      <td>NaN</td>\n",
       "      <td>NaN</td>\n",
       "      <td>NaN</td>\n",
       "      <td>NaN</td>\n",
       "      <td>NaN</td>\n",
       "      <td>...</td>\n",
       "      <td>NaN</td>\n",
       "      <td>NaN</td>\n",
       "      <td>NaN</td>\n",
       "      <td>NaN</td>\n",
       "      <td>NaN</td>\n",
       "      <td>NaN</td>\n",
       "      <td>NaN</td>\n",
       "      <td>NaN</td>\n",
       "      <td>NaN</td>\n",
       "      <td>NaN</td>\n",
       "    </tr>\n",
       "    <tr>\n",
       "      <th>...</th>\n",
       "      <td>...</td>\n",
       "      <td>...</td>\n",
       "      <td>...</td>\n",
       "      <td>...</td>\n",
       "      <td>...</td>\n",
       "      <td>...</td>\n",
       "      <td>...</td>\n",
       "      <td>...</td>\n",
       "      <td>...</td>\n",
       "      <td>...</td>\n",
       "      <td>...</td>\n",
       "      <td>...</td>\n",
       "      <td>...</td>\n",
       "      <td>...</td>\n",
       "      <td>...</td>\n",
       "      <td>...</td>\n",
       "      <td>...</td>\n",
       "      <td>...</td>\n",
       "      <td>...</td>\n",
       "      <td>...</td>\n",
       "      <td>...</td>\n",
       "    </tr>\n",
       "    <tr>\n",
       "      <th>2020-07-02 05:00:00</th>\n",
       "      <td>142</td>\n",
       "      <td>374.0</td>\n",
       "      <td>12878.0</td>\n",
       "      <td>4.0</td>\n",
       "      <td>5150.0</td>\n",
       "      <td>802.0</td>\n",
       "      <td>297.0</td>\n",
       "      <td>127.0</td>\n",
       "      <td>7613.0</td>\n",
       "      <td>1074.0</td>\n",
       "      <td>...</td>\n",
       "      <td>147164.0</td>\n",
       "      <td>130751.0</td>\n",
       "      <td>16304.0</td>\n",
       "      <td>109.0</td>\n",
       "      <td>5438.0</td>\n",
       "      <td>4125.0</td>\n",
       "      <td>1306.0</td>\n",
       "      <td>7.0</td>\n",
       "      <td>NaN</td>\n",
       "      <td>NaN</td>\n",
       "    </tr>\n",
       "    <tr>\n",
       "      <th>2020-07-03 05:00:00</th>\n",
       "      <td>143</td>\n",
       "      <td>1334.0</td>\n",
       "      <td>14212.0</td>\n",
       "      <td>2.0</td>\n",
       "      <td>5549.0</td>\n",
       "      <td>830.0</td>\n",
       "      <td>302.0</td>\n",
       "      <td>129.0</td>\n",
       "      <td>8546.0</td>\n",
       "      <td>1089.0</td>\n",
       "      <td>...</td>\n",
       "      <td>152370.0</td>\n",
       "      <td>134899.0</td>\n",
       "      <td>17360.0</td>\n",
       "      <td>111.0</td>\n",
       "      <td>5206.0</td>\n",
       "      <td>4150.0</td>\n",
       "      <td>1056.0</td>\n",
       "      <td>2.0</td>\n",
       "      <td>NaN</td>\n",
       "      <td>NaN</td>\n",
       "    </tr>\n",
       "    <tr>\n",
       "      <th>2020-07-04 05:00:00</th>\n",
       "      <td>144</td>\n",
       "      <td>341.0</td>\n",
       "      <td>14553.0</td>\n",
       "      <td>5.0</td>\n",
       "      <td>5633.0</td>\n",
       "      <td>848.0</td>\n",
       "      <td>304.0</td>\n",
       "      <td>129.0</td>\n",
       "      <td>8798.0</td>\n",
       "      <td>1120.0</td>\n",
       "      <td>...</td>\n",
       "      <td>153849.0</td>\n",
       "      <td>136019.0</td>\n",
       "      <td>17719.0</td>\n",
       "      <td>111.0</td>\n",
       "      <td>1479.0</td>\n",
       "      <td>1120.0</td>\n",
       "      <td>359.0</td>\n",
       "      <td>0.0</td>\n",
       "      <td>NaN</td>\n",
       "      <td>NaN</td>\n",
       "    </tr>\n",
       "    <tr>\n",
       "      <th>2020-07-05 05:00:00</th>\n",
       "      <td>145</td>\n",
       "      <td>198.0</td>\n",
       "      <td>14751.0</td>\n",
       "      <td>8.0</td>\n",
       "      <td>5766.0</td>\n",
       "      <td>870.0</td>\n",
       "      <td>309.0</td>\n",
       "      <td>133.0</td>\n",
       "      <td>8855.0</td>\n",
       "      <td>1142.0</td>\n",
       "      <td>...</td>\n",
       "      <td>157368.0</td>\n",
       "      <td>138767.0</td>\n",
       "      <td>18490.0</td>\n",
       "      <td>111.0</td>\n",
       "      <td>3519.0</td>\n",
       "      <td>2748.0</td>\n",
       "      <td>771.0</td>\n",
       "      <td>0.0</td>\n",
       "      <td>NaN</td>\n",
       "      <td>NaN</td>\n",
       "    </tr>\n",
       "    <tr>\n",
       "      <th>2020-07-06 05:00:00</th>\n",
       "      <td>146</td>\n",
       "      <td>351.0</td>\n",
       "      <td>15102.0</td>\n",
       "      <td>2.0</td>\n",
       "      <td>5830.0</td>\n",
       "      <td>880.0</td>\n",
       "      <td>310.0</td>\n",
       "      <td>134.0</td>\n",
       "      <td>9140.0</td>\n",
       "      <td>1168.0</td>\n",
       "      <td>...</td>\n",
       "      <td>159993.0</td>\n",
       "      <td>140806.0</td>\n",
       "      <td>19076.0</td>\n",
       "      <td>111.0</td>\n",
       "      <td>2625.0</td>\n",
       "      <td>2039.0</td>\n",
       "      <td>586.0</td>\n",
       "      <td>0.0</td>\n",
       "      <td>NaN</td>\n",
       "      <td>NaN</td>\n",
       "    </tr>\n",
       "  </tbody>\n",
       "</table>\n",
       "<p>146 rows × 28 columns</p>\n",
       "</div>"
      ],
      "text/plain": [
       "                     ObjectId  ReportedOn  ReportedCum  Deceased  Recovered  \\\n",
       "Date                                                                          \n",
       "2020-02-12 06:00:00         1         NaN          NaN       NaN        NaN   \n",
       "2020-02-13 06:00:00         2         NaN          NaN       NaN        NaN   \n",
       "2020-02-14 06:00:00         3         NaN          NaN       NaN        NaN   \n",
       "2020-02-15 06:00:00         4         NaN          NaN       NaN        NaN   \n",
       "2020-02-16 06:00:00         5         NaN          NaN       NaN        NaN   \n",
       "...                       ...         ...          ...       ...        ...   \n",
       "2020-07-02 05:00:00       142       374.0      12878.0       4.0     5150.0   \n",
       "2020-07-03 05:00:00       143      1334.0      14212.0       2.0     5549.0   \n",
       "2020-07-04 05:00:00       144       341.0      14553.0       5.0     5633.0   \n",
       "2020-07-05 05:00:00       145       198.0      14751.0       8.0     5766.0   \n",
       "2020-07-06 05:00:00       146       351.0      15102.0       2.0     5830.0   \n",
       "\n",
       "                     Hospitalized    ICU   Vent  StillIll  PosPatients  ...  \\\n",
       "Date                                                                    ...   \n",
       "2020-02-12 06:00:00           NaN    NaN    NaN       NaN          NaN  ...   \n",
       "2020-02-13 06:00:00           NaN    NaN    NaN       NaN          NaN  ...   \n",
       "2020-02-14 06:00:00           NaN    NaN    NaN       NaN          NaN  ...   \n",
       "2020-02-15 06:00:00           NaN    NaN    NaN       NaN          NaN  ...   \n",
       "2020-02-16 06:00:00           NaN    NaN    NaN       NaN          NaN  ...   \n",
       "...                           ...    ...    ...       ...          ...  ...   \n",
       "2020-07-02 05:00:00         802.0  297.0  127.0    7613.0       1074.0  ...   \n",
       "2020-07-03 05:00:00         830.0  302.0  129.0    8546.0       1089.0  ...   \n",
       "2020-07-04 05:00:00         848.0  304.0  129.0    8798.0       1120.0  ...   \n",
       "2020-07-05 05:00:00         870.0  309.0  133.0    8855.0       1142.0  ...   \n",
       "2020-07-06 05:00:00         880.0  310.0  134.0    9140.0       1168.0  ...   \n",
       "\n",
       "                     BCLabTests  BCTestNegative  BCTestPositive  BCTestInc  \\\n",
       "Date                                                                         \n",
       "2020-02-12 06:00:00         NaN             NaN             NaN        NaN   \n",
       "2020-02-13 06:00:00         NaN             NaN             NaN        NaN   \n",
       "2020-02-14 06:00:00         NaN             NaN             NaN        NaN   \n",
       "2020-02-15 06:00:00         NaN             NaN             NaN        NaN   \n",
       "2020-02-16 06:00:00         NaN             NaN             NaN        NaN   \n",
       "...                         ...             ...             ...        ...   \n",
       "2020-07-02 05:00:00    147164.0        130751.0         16304.0      109.0   \n",
       "2020-07-03 05:00:00    152370.0        134899.0         17360.0      111.0   \n",
       "2020-07-04 05:00:00    153849.0        136019.0         17719.0      111.0   \n",
       "2020-07-05 05:00:00    157368.0        138767.0         18490.0      111.0   \n",
       "2020-07-06 05:00:00    159993.0        140806.0         19076.0      111.0   \n",
       "\n",
       "                     DBCLabTests  DBCTestNegative  DBCTestPositive  \\\n",
       "Date                                                                 \n",
       "2020-02-12 06:00:00          NaN              NaN              NaN   \n",
       "2020-02-13 06:00:00          NaN              NaN              NaN   \n",
       "2020-02-14 06:00:00          NaN              NaN              NaN   \n",
       "2020-02-15 06:00:00          NaN              NaN              NaN   \n",
       "2020-02-16 06:00:00          NaN              NaN              NaN   \n",
       "...                          ...              ...              ...   \n",
       "2020-07-02 05:00:00       5438.0           4125.0           1306.0   \n",
       "2020-07-03 05:00:00       5206.0           4150.0           1056.0   \n",
       "2020-07-04 05:00:00       1479.0           1120.0            359.0   \n",
       "2020-07-05 05:00:00       3519.0           2748.0            771.0   \n",
       "2020-07-06 05:00:00       2625.0           2039.0            586.0   \n",
       "\n",
       "                     DBCTestInc  WeekQuar  EverQuar  \n",
       "Date                                                 \n",
       "2020-02-12 06:00:00         NaN       NaN       NaN  \n",
       "2020-02-13 06:00:00         NaN       NaN       NaN  \n",
       "2020-02-14 06:00:00         NaN       NaN       NaN  \n",
       "2020-02-15 06:00:00         NaN       NaN       NaN  \n",
       "2020-02-16 06:00:00         NaN       NaN       NaN  \n",
       "...                         ...       ...       ...  \n",
       "2020-07-02 05:00:00         7.0       NaN       NaN  \n",
       "2020-07-03 05:00:00         2.0       NaN       NaN  \n",
       "2020-07-04 05:00:00         0.0       NaN       NaN  \n",
       "2020-07-05 05:00:00         0.0       NaN       NaN  \n",
       "2020-07-06 05:00:00         0.0       NaN       NaN  \n",
       "\n",
       "[146 rows x 28 columns]"
      ]
     },
     "execution_count": 9,
     "metadata": {},
     "output_type": "execute_result"
    }
   ],
   "source": [
    "b"
   ]
  },
  {
   "cell_type": "code",
   "execution_count": 10,
   "metadata": {},
   "outputs": [
    {
     "data": {
      "text/plain": [
       "pandas._libs.tslibs.timestamps.Timestamp"
      ]
     },
     "execution_count": 10,
     "metadata": {},
     "output_type": "execute_result"
    }
   ],
   "source": [
    "type(metro_pd.Date[0])"
   ]
  },
  {
   "cell_type": "code",
   "execution_count": 11,
   "metadata": {},
   "outputs": [],
   "source": [
    "c = b['PosPatients'].dropna()"
   ]
  },
  {
   "cell_type": "code",
   "execution_count": 12,
   "metadata": {},
   "outputs": [
    {
     "data": {
      "text/plain": [
       "pandas._libs.tslibs.timestamps.Timestamp"
      ]
     },
     "execution_count": 12,
     "metadata": {},
     "output_type": "execute_result"
    }
   ],
   "source": [
    "type(c.index[0])"
   ]
  },
  {
   "cell_type": "code",
   "execution_count": 13,
   "metadata": {},
   "outputs": [
    {
     "data": {
      "image/png": "[encoded data removed]",
      "text/plain": [
       "<Figure size 1080x576 with 1 Axes>"
      ]
     },
     "metadata": {
      "needs_background": "light"
     },
     "output_type": "display_data"
    }
   ],
   "source": [
    "months = mdates.MonthLocator()\n",
    "days = mdates.DayLocator()\n",
    "timeFmt = mdates.DateFormatter('%b %Y')\n",
    "fig, ax = plt.subplots()\n",
    "fig.set_size_inches(15,8)\n",
    "ax.xaxis.set_major_locator(months)\n",
    "ax.xaxis.set_major_formatter(timeFmt)\n",
    "ax.xaxis.set_minor_locator(days)\n",
    "plt.xlabel('Date',color='black')\n",
    "plt.ylabel('Daily Cases',color='black')\n",
    "plt.title('Metro Bexar Positive Hospitalized Cases')\n",
    "#plt.bar(c.index,c)\n",
    "plt.plot(c)\n",
    "fig.savefig('MetroPosHospitalized.png')"
   ]
  },
  {
   "cell_type": "code",
   "execution_count": 14,
   "metadata": {},
   "outputs": [
    {
     "data": {
      "text/plain": [
       "Date\n",
       "2020-03-22 06:00:00      15.0\n",
       "2020-03-23 06:00:00      19.0\n",
       "2020-03-24 06:00:00      28.0\n",
       "2020-03-25 06:00:00      31.0\n",
       "2020-03-26 06:00:00      38.0\n",
       "                        ...  \n",
       "2020-07-02 05:00:00    1074.0\n",
       "2020-07-03 05:00:00    1089.0\n",
       "2020-07-04 05:00:00    1120.0\n",
       "2020-07-05 05:00:00    1142.0\n",
       "2020-07-06 05:00:00    1168.0\n",
       "Name: PosPatients, Length: 107, dtype: float64"
      ]
     },
     "execution_count": 14,
     "metadata": {},
     "output_type": "execute_result"
    }
   ],
   "source": [
    "c"
   ]
  },
  {
   "cell_type": "code",
   "execution_count": 15,
   "metadata": {},
   "outputs": [],
   "source": [
    "x = c.diff(periods = 1)"
   ]
  },
  {
   "cell_type": "code",
   "execution_count": 16,
   "metadata": {},
   "outputs": [
    {
     "data": {
      "image/png": "[encoded data removed]",
      "text/plain": [
       "<Figure size 1080x576 with 1 Axes>"
      ]
     },
     "metadata": {
      "needs_background": "light"
     },
     "output_type": "display_data"
    }
   ],
   "source": [
    "months = mdates.MonthLocator()\n",
    "days = mdates.DayLocator()\n",
    "timeFmt = mdates.DateFormatter('%b %Y')\n",
    "fig, ax = plt.subplots()\n",
    "fig.set_size_inches(15,8)\n",
    "ax.xaxis.set_major_locator(months)\n",
    "ax.xaxis.set_major_formatter(timeFmt)\n",
    "ax.xaxis.set_minor_locator(days)\n",
    "plt.xlabel('Date',color='black')\n",
    "plt.ylabel('Change In Active Cases',color='black')\n",
    "plt.title('Bexar Daily Change In Positive Hospital Cases')\n",
    "plt.bar(x.index,x)\n",
    "fig.savefig('BexarChangeInPosHospitalCases.png')"
   ]
  },
  {
   "cell_type": "code",
   "execution_count": 17,
   "metadata": {},
   "outputs": [
    {
     "data": {
      "text/plain": [
       "Date\n",
       "2020-03-22 06:00:00     NaN\n",
       "2020-03-23 06:00:00     4.0\n",
       "2020-03-24 06:00:00     9.0\n",
       "2020-03-25 06:00:00     3.0\n",
       "2020-03-26 06:00:00     7.0\n",
       "                       ... \n",
       "2020-07-02 05:00:00    55.0\n",
       "2020-07-03 05:00:00    15.0\n",
       "2020-07-04 05:00:00    31.0\n",
       "2020-07-05 05:00:00    22.0\n",
       "2020-07-06 05:00:00    26.0\n",
       "Name: PosPatients, Length: 107, dtype: float64"
      ]
     },
     "execution_count": 17,
     "metadata": {},
     "output_type": "execute_result"
    }
   ],
   "source": [
    "x"
   ]
  },
  {
   "cell_type": "code",
   "execution_count": null,
   "metadata": {},
   "outputs": [],
   "source": []
  }
 ],
 "metadata": {
  "kernelspec": {
   "display_name": "Python 3",
   "language": "python",
   "name": "python3"
  },
  "language_info": {
   "codemirror_mode": {
    "name": "ipython",
    "version": 3
   },
   "file_extension": ".py",
   "mimetype": "text/x-python",
   "name": "python",
   "nbconvert_exporter": "python",
   "pygments_lexer": "ipython3",
   "version": "3.8.2"
  }
 },
 "nbformat": 4,
 "nbformat_minor": 2
}
