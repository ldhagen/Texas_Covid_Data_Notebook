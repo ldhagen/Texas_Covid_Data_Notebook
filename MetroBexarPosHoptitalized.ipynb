{
 "cells": [
  {
   "cell_type": "code",
   "execution_count": 1,
   "metadata": {},
   "outputs": [],
   "source": [
    "import pandas as pd\n",
    "import matplotlib.pyplot as plt\n",
    "import datetime\n",
    "import matplotlib.dates as mdates"
   ]
  },
  {
   "cell_type": "code",
   "execution_count": 2,
   "metadata": {},
   "outputs": [],
   "source": [
    "metro_pd = pd.read_csv('../CoVID-19_Dashboard_Data.csv')"
   ]
  },
  {
   "cell_type": "code",
   "execution_count": 3,
   "metadata": {},
   "outputs": [
    {
     "data": {
      "text/plain": [
       "str"
      ]
     },
     "execution_count": 3,
     "metadata": {},
     "output_type": "execute_result"
    }
   ],
   "source": [
    "type(metro_pd.Date[0])"
   ]
  },
  {
   "cell_type": "code",
   "execution_count": 4,
   "metadata": {},
   "outputs": [],
   "source": [
    "metro_pd.Date = pd.to_datetime(metro_pd.Date)"
   ]
  },
  {
   "cell_type": "code",
   "execution_count": 5,
   "metadata": {},
   "outputs": [
    {
     "data": {
      "text/plain": [
       "pandas._libs.tslibs.timestamps.Timestamp"
      ]
     },
     "execution_count": 5,
     "metadata": {},
     "output_type": "execute_result"
    }
   ],
   "source": [
    "type(metro_pd.Date[0])"
   ]
  },
  {
   "cell_type": "code",
   "execution_count": 6,
   "metadata": {},
   "outputs": [],
   "source": [
    "a = metro_pd.set_index('Date')"
   ]
  },
  {
   "cell_type": "code",
   "execution_count": 7,
   "metadata": {},
   "outputs": [
    {
     "data": {
      "text/plain": [
       "DatetimeIndex(['2020-02-12 06:00:00', '2020-02-13 06:00:00',\n",
       "               '2020-02-14 06:00:00', '2020-02-15 06:00:00',\n",
       "               '2020-02-16 06:00:00', '2020-02-17 06:00:00',\n",
       "               '2020-02-18 06:00:00', '2020-02-19 06:00:00',\n",
       "               '2020-02-20 06:00:00', '2020-02-21 06:00:00',\n",
       "               ...\n",
       "                               'NaT',                 'NaT',\n",
       "                               'NaT',                 'NaT',\n",
       "                               'NaT',                 'NaT',\n",
       "                               'NaT',                 'NaT',\n",
       "                               'NaT',                 'NaT'],\n",
       "              dtype='datetime64[ns]', name='Date', length=178, freq=None)"
      ]
     },
     "execution_count": 7,
     "metadata": {},
     "output_type": "execute_result"
    }
   ],
   "source": [
    "a.index"
   ]
  },
  {
   "cell_type": "code",
   "execution_count": 8,
   "metadata": {},
   "outputs": [],
   "source": [
    "b = a.loc[a.index.dropna()]"
   ]
  },
  {
   "cell_type": "code",
   "execution_count": 9,
   "metadata": {},
   "outputs": [
    {
     "data": {
      "text/html": [
       "<div>\n",
       "<style scoped>\n",
       "    .dataframe tbody tr th:only-of-type {\n",
       "        vertical-align: middle;\n",
       "    }\n",
       "\n",
       "    .dataframe tbody tr th {\n",
       "        vertical-align: top;\n",
       "    }\n",
       "\n",
       "    .dataframe thead th {\n",
       "        text-align: right;\n",
       "    }\n",
       "</style>\n",
       "<table border=\"1\" class=\"dataframe\">\n",
       "  <thead>\n",
       "    <tr style=\"text-align: right;\">\n",
       "      <th></th>\n",
       "      <th>ObjectId</th>\n",
       "      <th>ReportedOn</th>\n",
       "      <th>ReportedCum</th>\n",
       "      <th>Deceased</th>\n",
       "      <th>Recovered</th>\n",
       "      <th>Hospitalized</th>\n",
       "      <th>ICU</th>\n",
       "      <th>Vent</th>\n",
       "      <th>StillIll</th>\n",
       "      <th>PosPatients</th>\n",
       "      <th>...</th>\n",
       "      <th>BCLabTests</th>\n",
       "      <th>BCTestNegative</th>\n",
       "      <th>BCTestPositive</th>\n",
       "      <th>BCTestInc</th>\n",
       "      <th>DBCLabTests</th>\n",
       "      <th>DBCTestNegative</th>\n",
       "      <th>DBCTestPositive</th>\n",
       "      <th>DBCTestInc</th>\n",
       "      <th>WeekQuar</th>\n",
       "      <th>EverQuar</th>\n",
       "    </tr>\n",
       "    <tr>\n",
       "      <th>Date</th>\n",
       "      <th></th>\n",
       "      <th></th>\n",
       "      <th></th>\n",
       "      <th></th>\n",
       "      <th></th>\n",
       "      <th></th>\n",
       "      <th></th>\n",
       "      <th></th>\n",
       "      <th></th>\n",
       "      <th></th>\n",
       "      <th></th>\n",
       "      <th></th>\n",
       "      <th></th>\n",
       "      <th></th>\n",
       "      <th></th>\n",
       "      <th></th>\n",
       "      <th></th>\n",
       "      <th></th>\n",
       "      <th></th>\n",
       "      <th></th>\n",
       "      <th></th>\n",
       "    </tr>\n",
       "  </thead>\n",
       "  <tbody>\n",
       "    <tr>\n",
       "      <th>2020-02-12 06:00:00</th>\n",
       "      <td>1</td>\n",
       "      <td>NaN</td>\n",
       "      <td>NaN</td>\n",
       "      <td>NaN</td>\n",
       "      <td>NaN</td>\n",
       "      <td>NaN</td>\n",
       "      <td>NaN</td>\n",
       "      <td>NaN</td>\n",
       "      <td>NaN</td>\n",
       "      <td>NaN</td>\n",
       "      <td>...</td>\n",
       "      <td>NaN</td>\n",
       "      <td>NaN</td>\n",
       "      <td>NaN</td>\n",
       "      <td>NaN</td>\n",
       "      <td>NaN</td>\n",
       "      <td>NaN</td>\n",
       "      <td>NaN</td>\n",
       "      <td>NaN</td>\n",
       "      <td>NaN</td>\n",
       "      <td>NaN</td>\n",
       "    </tr>\n",
       "    <tr>\n",
       "      <th>2020-02-13 06:00:00</th>\n",
       "      <td>2</td>\n",
       "      <td>NaN</td>\n",
       "      <td>NaN</td>\n",
       "      <td>NaN</td>\n",
       "      <td>NaN</td>\n",
       "      <td>NaN</td>\n",
       "      <td>NaN</td>\n",
       "      <td>NaN</td>\n",
       "      <td>NaN</td>\n",
       "      <td>NaN</td>\n",
       "      <td>...</td>\n",
       "      <td>NaN</td>\n",
       "      <td>NaN</td>\n",
       "      <td>NaN</td>\n",
       "      <td>NaN</td>\n",
       "      <td>NaN</td>\n",
       "      <td>NaN</td>\n",
       "      <td>NaN</td>\n",
       "      <td>NaN</td>\n",
       "      <td>NaN</td>\n",
       "      <td>NaN</td>\n",
       "    </tr>\n",
       "    <tr>\n",
       "      <th>2020-02-14 06:00:00</th>\n",
       "      <td>3</td>\n",
       "      <td>NaN</td>\n",
       "      <td>NaN</td>\n",
       "      <td>NaN</td>\n",
       "      <td>NaN</td>\n",
       "      <td>NaN</td>\n",
       "      <td>NaN</td>\n",
       "      <td>NaN</td>\n",
       "      <td>NaN</td>\n",
       "      <td>NaN</td>\n",
       "      <td>...</td>\n",
       "      <td>NaN</td>\n",
       "      <td>NaN</td>\n",
       "      <td>NaN</td>\n",
       "      <td>NaN</td>\n",
       "      <td>NaN</td>\n",
       "      <td>NaN</td>\n",
       "      <td>NaN</td>\n",
       "      <td>NaN</td>\n",
       "      <td>NaN</td>\n",
       "      <td>NaN</td>\n",
       "    </tr>\n",
       "    <tr>\n",
       "      <th>2020-02-15 06:00:00</th>\n",
       "      <td>4</td>\n",
       "      <td>NaN</td>\n",
       "      <td>NaN</td>\n",
       "      <td>NaN</td>\n",
       "      <td>NaN</td>\n",
       "      <td>NaN</td>\n",
       "      <td>NaN</td>\n",
       "      <td>NaN</td>\n",
       "      <td>NaN</td>\n",
       "      <td>NaN</td>\n",
       "      <td>...</td>\n",
       "      <td>NaN</td>\n",
       "      <td>NaN</td>\n",
       "      <td>NaN</td>\n",
       "      <td>NaN</td>\n",
       "      <td>NaN</td>\n",
       "      <td>NaN</td>\n",
       "      <td>NaN</td>\n",
       "      <td>NaN</td>\n",
       "      <td>NaN</td>\n",
       "      <td>NaN</td>\n",
       "    </tr>\n",
       "    <tr>\n",
       "      <th>2020-02-16 06:00:00</th>\n",
       "      <td>5</td>\n",
       "      <td>NaN</td>\n",
       "      <td>NaN</td>\n",
       "      <td>NaN</td>\n",
       "      <td>NaN</td>\n",
       "      <td>NaN</td>\n",
       "      <td>NaN</td>\n",
       "      <td>NaN</td>\n",
       "      <td>NaN</td>\n",
       "      <td>NaN</td>\n",
       "      <td>...</td>\n",
       "      <td>NaN</td>\n",
       "      <td>NaN</td>\n",
       "      <td>NaN</td>\n",
       "      <td>NaN</td>\n",
       "      <td>NaN</td>\n",
       "      <td>NaN</td>\n",
       "      <td>NaN</td>\n",
       "      <td>NaN</td>\n",
       "      <td>NaN</td>\n",
       "      <td>NaN</td>\n",
       "    </tr>\n",
       "    <tr>\n",
       "      <th>...</th>\n",
       "      <td>...</td>\n",
       "      <td>...</td>\n",
       "      <td>...</td>\n",
       "      <td>...</td>\n",
       "      <td>...</td>\n",
       "      <td>...</td>\n",
       "      <td>...</td>\n",
       "      <td>...</td>\n",
       "      <td>...</td>\n",
       "      <td>...</td>\n",
       "      <td>...</td>\n",
       "      <td>...</td>\n",
       "      <td>...</td>\n",
       "      <td>...</td>\n",
       "      <td>...</td>\n",
       "      <td>...</td>\n",
       "      <td>...</td>\n",
       "      <td>...</td>\n",
       "      <td>...</td>\n",
       "      <td>...</td>\n",
       "      <td>...</td>\n",
       "    </tr>\n",
       "    <tr>\n",
       "      <th>2020-07-10 05:00:00</th>\n",
       "      <td>150</td>\n",
       "      <td>923.0</td>\n",
       "      <td>18602.0</td>\n",
       "      <td>1.0</td>\n",
       "      <td>6182.0</td>\n",
       "      <td>956.0</td>\n",
       "      <td>338.0</td>\n",
       "      <td>144.0</td>\n",
       "      <td>12254.0</td>\n",
       "      <td>1240.0</td>\n",
       "      <td>...</td>\n",
       "      <td>174401.0</td>\n",
       "      <td>151600.0</td>\n",
       "      <td>22660.0</td>\n",
       "      <td>141.0</td>\n",
       "      <td>4725.0</td>\n",
       "      <td>3433.0</td>\n",
       "      <td>1292.0</td>\n",
       "      <td>6.0</td>\n",
       "      <td>NaN</td>\n",
       "      <td>NaN</td>\n",
       "    </tr>\n",
       "    <tr>\n",
       "      <th>2020-07-11 05:00:00</th>\n",
       "      <td>151</td>\n",
       "      <td>535.0</td>\n",
       "      <td>19137.0</td>\n",
       "      <td>9.0</td>\n",
       "      <td>6182.0</td>\n",
       "      <td>958.0</td>\n",
       "      <td>338.0</td>\n",
       "      <td>145.0</td>\n",
       "      <td>12780.0</td>\n",
       "      <td>1221.0</td>\n",
       "      <td>...</td>\n",
       "      <td>176792.0</td>\n",
       "      <td>153399.0</td>\n",
       "      <td>23230.0</td>\n",
       "      <td>163.0</td>\n",
       "      <td>2391.0</td>\n",
       "      <td>1821.0</td>\n",
       "      <td>570.0</td>\n",
       "      <td>22.0</td>\n",
       "      <td>NaN</td>\n",
       "      <td>NaN</td>\n",
       "    </tr>\n",
       "    <tr>\n",
       "      <th>2020-07-12 05:00:00</th>\n",
       "      <td>152</td>\n",
       "      <td>511.0</td>\n",
       "      <td>19648.0</td>\n",
       "      <td>9.0</td>\n",
       "      <td>6182.0</td>\n",
       "      <td>958.0</td>\n",
       "      <td>338.0</td>\n",
       "      <td>145.0</td>\n",
       "      <td>13282.0</td>\n",
       "      <td>1265.0</td>\n",
       "      <td>...</td>\n",
       "      <td>178791.0</td>\n",
       "      <td>154956.0</td>\n",
       "      <td>23672.0</td>\n",
       "      <td>163.0</td>\n",
       "      <td>1999.0</td>\n",
       "      <td>1557.0</td>\n",
       "      <td>442.0</td>\n",
       "      <td>0.0</td>\n",
       "      <td>NaN</td>\n",
       "      <td>NaN</td>\n",
       "    </tr>\n",
       "    <tr>\n",
       "      <th>2020-07-13 05:00:00</th>\n",
       "      <td>153</td>\n",
       "      <td>565.0</td>\n",
       "      <td>20213.0</td>\n",
       "      <td>11.0</td>\n",
       "      <td>7886.0</td>\n",
       "      <td>958.0</td>\n",
       "      <td>338.0</td>\n",
       "      <td>145.0</td>\n",
       "      <td>12132.0</td>\n",
       "      <td>1267.0</td>\n",
       "      <td>...</td>\n",
       "      <td>180696.0</td>\n",
       "      <td>156440.0</td>\n",
       "      <td>24092.0</td>\n",
       "      <td>164.0</td>\n",
       "      <td>1905.0</td>\n",
       "      <td>1485.0</td>\n",
       "      <td>420.0</td>\n",
       "      <td>1.0</td>\n",
       "      <td>NaN</td>\n",
       "      <td>NaN</td>\n",
       "    </tr>\n",
       "    <tr>\n",
       "      <th>2020-07-14 05:00:00</th>\n",
       "      <td>154</td>\n",
       "      <td>854.0</td>\n",
       "      <td>21067.0</td>\n",
       "      <td>6.0</td>\n",
       "      <td>7895.0</td>\n",
       "      <td>958.0</td>\n",
       "      <td>338.0</td>\n",
       "      <td>145.0</td>\n",
       "      <td>12971.0</td>\n",
       "      <td>1237.0</td>\n",
       "      <td>...</td>\n",
       "      <td>183139.0</td>\n",
       "      <td>158382.0</td>\n",
       "      <td>24590.0</td>\n",
       "      <td>167.0</td>\n",
       "      <td>2443.0</td>\n",
       "      <td>1945.0</td>\n",
       "      <td>498.0</td>\n",
       "      <td>3.0</td>\n",
       "      <td>NaN</td>\n",
       "      <td>NaN</td>\n",
       "    </tr>\n",
       "  </tbody>\n",
       "</table>\n",
       "<p>154 rows × 28 columns</p>\n",
       "</div>"
      ],
      "text/plain": [
       "                     ObjectId  ReportedOn  ReportedCum  Deceased  Recovered  \\\n",
       "Date                                                                          \n",
       "2020-02-12 06:00:00         1         NaN          NaN       NaN        NaN   \n",
       "2020-02-13 06:00:00         2         NaN          NaN       NaN        NaN   \n",
       "2020-02-14 06:00:00         3         NaN          NaN       NaN        NaN   \n",
       "2020-02-15 06:00:00         4         NaN          NaN       NaN        NaN   \n",
       "2020-02-16 06:00:00         5         NaN          NaN       NaN        NaN   \n",
       "...                       ...         ...          ...       ...        ...   \n",
       "2020-07-10 05:00:00       150       923.0      18602.0       1.0     6182.0   \n",
       "2020-07-11 05:00:00       151       535.0      19137.0       9.0     6182.0   \n",
       "2020-07-12 05:00:00       152       511.0      19648.0       9.0     6182.0   \n",
       "2020-07-13 05:00:00       153       565.0      20213.0      11.0     7886.0   \n",
       "2020-07-14 05:00:00       154       854.0      21067.0       6.0     7895.0   \n",
       "\n",
       "                     Hospitalized    ICU   Vent  StillIll  PosPatients  ...  \\\n",
       "Date                                                                    ...   \n",
       "2020-02-12 06:00:00           NaN    NaN    NaN       NaN          NaN  ...   \n",
       "2020-02-13 06:00:00           NaN    NaN    NaN       NaN          NaN  ...   \n",
       "2020-02-14 06:00:00           NaN    NaN    NaN       NaN          NaN  ...   \n",
       "2020-02-15 06:00:00           NaN    NaN    NaN       NaN          NaN  ...   \n",
       "2020-02-16 06:00:00           NaN    NaN    NaN       NaN          NaN  ...   \n",
       "...                           ...    ...    ...       ...          ...  ...   \n",
       "2020-07-10 05:00:00         956.0  338.0  144.0   12254.0       1240.0  ...   \n",
       "2020-07-11 05:00:00         958.0  338.0  145.0   12780.0       1221.0  ...   \n",
       "2020-07-12 05:00:00         958.0  338.0  145.0   13282.0       1265.0  ...   \n",
       "2020-07-13 05:00:00         958.0  338.0  145.0   12132.0       1267.0  ...   \n",
       "2020-07-14 05:00:00         958.0  338.0  145.0   12971.0       1237.0  ...   \n",
       "\n",
       "                     BCLabTests  BCTestNegative  BCTestPositive  BCTestInc  \\\n",
       "Date                                                                         \n",
       "2020-02-12 06:00:00         NaN             NaN             NaN        NaN   \n",
       "2020-02-13 06:00:00         NaN             NaN             NaN        NaN   \n",
       "2020-02-14 06:00:00         NaN             NaN             NaN        NaN   \n",
       "2020-02-15 06:00:00         NaN             NaN             NaN        NaN   \n",
       "2020-02-16 06:00:00         NaN             NaN             NaN        NaN   \n",
       "...                         ...             ...             ...        ...   \n",
       "2020-07-10 05:00:00    174401.0        151600.0         22660.0      141.0   \n",
       "2020-07-11 05:00:00    176792.0        153399.0         23230.0      163.0   \n",
       "2020-07-12 05:00:00    178791.0        154956.0         23672.0      163.0   \n",
       "2020-07-13 05:00:00    180696.0        156440.0         24092.0      164.0   \n",
       "2020-07-14 05:00:00    183139.0        158382.0         24590.0      167.0   \n",
       "\n",
       "                     DBCLabTests  DBCTestNegative  DBCTestPositive  \\\n",
       "Date                                                                 \n",
       "2020-02-12 06:00:00          NaN              NaN              NaN   \n",
       "2020-02-13 06:00:00          NaN              NaN              NaN   \n",
       "2020-02-14 06:00:00          NaN              NaN              NaN   \n",
       "2020-02-15 06:00:00          NaN              NaN              NaN   \n",
       "2020-02-16 06:00:00          NaN              NaN              NaN   \n",
       "...                          ...              ...              ...   \n",
       "2020-07-10 05:00:00       4725.0           3433.0           1292.0   \n",
       "2020-07-11 05:00:00       2391.0           1821.0            570.0   \n",
       "2020-07-12 05:00:00       1999.0           1557.0            442.0   \n",
       "2020-07-13 05:00:00       1905.0           1485.0            420.0   \n",
       "2020-07-14 05:00:00       2443.0           1945.0            498.0   \n",
       "\n",
       "                     DBCTestInc  WeekQuar  EverQuar  \n",
       "Date                                                 \n",
       "2020-02-12 06:00:00         NaN       NaN       NaN  \n",
       "2020-02-13 06:00:00         NaN       NaN       NaN  \n",
       "2020-02-14 06:00:00         NaN       NaN       NaN  \n",
       "2020-02-15 06:00:00         NaN       NaN       NaN  \n",
       "2020-02-16 06:00:00         NaN       NaN       NaN  \n",
       "...                         ...       ...       ...  \n",
       "2020-07-10 05:00:00         6.0       NaN       NaN  \n",
       "2020-07-11 05:00:00        22.0       NaN       NaN  \n",
       "2020-07-12 05:00:00         0.0       NaN       NaN  \n",
       "2020-07-13 05:00:00         1.0       NaN       NaN  \n",
       "2020-07-14 05:00:00         3.0       NaN       NaN  \n",
       "\n",
       "[154 rows x 28 columns]"
      ]
     },
     "execution_count": 9,
     "metadata": {},
     "output_type": "execute_result"
    }
   ],
   "source": [
    "b"
   ]
  },
  {
   "cell_type": "code",
   "execution_count": 10,
   "metadata": {},
   "outputs": [
    {
     "data": {
      "text/plain": [
       "pandas._libs.tslibs.timestamps.Timestamp"
      ]
     },
     "execution_count": 10,
     "metadata": {},
     "output_type": "execute_result"
    }
   ],
   "source": [
    "type(metro_pd.Date[0])"
   ]
  },
  {
   "cell_type": "code",
   "execution_count": 11,
   "metadata": {},
   "outputs": [],
   "source": [
    "c = b['PosPatients'].dropna()"
   ]
  },
  {
   "cell_type": "code",
   "execution_count": 12,
   "metadata": {},
   "outputs": [
    {
     "data": {
      "text/plain": [
       "pandas._libs.tslibs.timestamps.Timestamp"
      ]
     },
     "execution_count": 12,
     "metadata": {},
     "output_type": "execute_result"
    }
   ],
   "source": [
    "type(c.index[0])"
   ]
  },
  {
   "cell_type": "code",
   "execution_count": 13,
   "metadata": {},
   "outputs": [
    {
     "data": {
      "image/png": "[encoded data removed]",
      "text/plain": [
       "<Figure size 1080x576 with 1 Axes>"
      ]
     },
     "metadata": {
      "needs_background": "light"
     },
     "output_type": "display_data"
    }
   ],
   "source": [
    "months = mdates.MonthLocator()\n",
    "days = mdates.DayLocator()\n",
    "timeFmt = mdates.DateFormatter('%b %Y')\n",
    "fig, ax = plt.subplots()\n",
    "fig.set_size_inches(15,8)\n",
    "ax.xaxis.set_major_locator(months)\n",
    "ax.xaxis.set_major_formatter(timeFmt)\n",
    "ax.xaxis.set_minor_locator(days)\n",
    "plt.xlabel('Date',color='black')\n",
    "plt.ylabel('Daily Cases',color='black')\n",
    "plt.title('Metro Bexar Positive Hospitalized Cases')\n",
    "#plt.bar(c.index,c)\n",
    "plt.plot(c)\n",
    "fig.savefig('MetroPosHospitalized.png')"
   ]
  },
  {
   "cell_type": "code",
   "execution_count": 14,
   "metadata": {},
   "outputs": [
    {
     "data": {
      "text/plain": [
       "Date\n",
       "2020-03-22 06:00:00      15.0\n",
       "2020-03-23 06:00:00      19.0\n",
       "2020-03-24 06:00:00      28.0\n",
       "2020-03-25 06:00:00      31.0\n",
       "2020-03-26 06:00:00      38.0\n",
       "                        ...  \n",
       "2020-07-10 05:00:00    1240.0\n",
       "2020-07-11 05:00:00    1221.0\n",
       "2020-07-12 05:00:00    1265.0\n",
       "2020-07-13 05:00:00    1267.0\n",
       "2020-07-14 05:00:00    1237.0\n",
       "Name: PosPatients, Length: 115, dtype: float64"
      ]
     },
     "execution_count": 14,
     "metadata": {},
     "output_type": "execute_result"
    }
   ],
   "source": [
    "c"
   ]
  },
  {
   "cell_type": "code",
   "execution_count": 15,
   "metadata": {},
   "outputs": [],
   "source": [
    "x = c.diff(periods = 1)"
   ]
  },
  {
   "cell_type": "code",
   "execution_count": 16,
   "metadata": {},
   "outputs": [
    {
     "data": {
      "image/png": "[encoded data removed]",
      "text/plain": [
       "<Figure size 1080x576 with 1 Axes>"
      ]
     },
     "metadata": {
      "needs_background": "light"
     },
     "output_type": "display_data"
    }
   ],
   "source": [
    "months = mdates.MonthLocator()\n",
    "days = mdates.DayLocator()\n",
    "timeFmt = mdates.DateFormatter('%b %Y')\n",
    "fig, ax = plt.subplots()\n",
    "fig.set_size_inches(15,8)\n",
    "ax.xaxis.set_major_locator(months)\n",
    "ax.xaxis.set_major_formatter(timeFmt)\n",
    "ax.xaxis.set_minor_locator(days)\n",
    "plt.xlabel('Date',color='black')\n",
    "plt.ylabel('Change In Active Cases',color='black')\n",
    "plt.title('Bexar Daily Change In Positive Hospital Cases')\n",
    "plt.bar(x.index,x)\n",
    "fig.savefig('BexarChangeInPosHospitalCases.png')"
   ]
  },
  {
   "cell_type": "code",
   "execution_count": 17,
   "metadata": {},
   "outputs": [
    {
     "data": {
      "text/plain": [
       "Date\n",
       "2020-03-22 06:00:00     NaN\n",
       "2020-03-23 06:00:00     4.0\n",
       "2020-03-24 06:00:00     9.0\n",
       "2020-03-25 06:00:00     3.0\n",
       "2020-03-26 06:00:00     7.0\n",
       "                       ... \n",
       "2020-07-10 05:00:00    24.0\n",
       "2020-07-11 05:00:00   -19.0\n",
       "2020-07-12 05:00:00    44.0\n",
       "2020-07-13 05:00:00     2.0\n",
       "2020-07-14 05:00:00   -30.0\n",
       "Name: PosPatients, Length: 115, dtype: float64"
      ]
     },
     "execution_count": 17,
     "metadata": {},
     "output_type": "execute_result"
    }
   ],
   "source": [
    "x"
   ]
  },
  {
   "cell_type": "code",
   "execution_count": null,
   "metadata": {},
   "outputs": [],
   "source": []
  }
 ],
 "metadata": {
  "kernelspec": {
   "display_name": "Python 3",
   "language": "python",
   "name": "python3"
  },
  "language_info": {
   "codemirror_mode": {
    "name": "ipython",
    "version": 3
   },
   "file_extension": ".py",
   "mimetype": "text/x-python",
   "name": "python",
   "nbconvert_exporter": "python",
   "pygments_lexer": "ipython3",
   "version": "3.8.2"
  }
 },
 "nbformat": 4,
 "nbformat_minor": 2
}
