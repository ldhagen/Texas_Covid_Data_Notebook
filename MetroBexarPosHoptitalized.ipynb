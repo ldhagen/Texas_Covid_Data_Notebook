{
 "cells": [
  {
   "cell_type": "code",
   "execution_count": 1,
   "metadata": {},
   "outputs": [],
   "source": [
    "import pandas as pd\n",
    "import matplotlib.pyplot as plt\n",
    "import datetime\n",
    "import matplotlib.dates as mdates"
   ]
  },
  {
   "cell_type": "code",
   "execution_count": 2,
   "metadata": {},
   "outputs": [],
   "source": [
    "metro_pd = pd.read_csv('../CoVID-19_Dashboard_Data.csv')"
   ]
  },
  {
   "cell_type": "code",
   "execution_count": 3,
   "metadata": {},
   "outputs": [
    {
     "data": {
      "text/plain": [
       "str"
      ]
     },
     "execution_count": 3,
     "metadata": {},
     "output_type": "execute_result"
    }
   ],
   "source": [
    "type(metro_pd.Date[0])"
   ]
  },
  {
   "cell_type": "code",
   "execution_count": 4,
   "metadata": {},
   "outputs": [],
   "source": [
    "metro_pd.Date = pd.to_datetime(metro_pd.Date)"
   ]
  },
  {
   "cell_type": "code",
   "execution_count": 5,
   "metadata": {},
   "outputs": [
    {
     "data": {
      "text/plain": [
       "pandas._libs.tslibs.timestamps.Timestamp"
      ]
     },
     "execution_count": 5,
     "metadata": {},
     "output_type": "execute_result"
    }
   ],
   "source": [
    "type(metro_pd.Date[0])"
   ]
  },
  {
   "cell_type": "code",
   "execution_count": 6,
   "metadata": {},
   "outputs": [],
   "source": [
    "a = metro_pd.set_index('Date')"
   ]
  },
  {
   "cell_type": "code",
   "execution_count": 7,
   "metadata": {},
   "outputs": [
    {
     "data": {
      "text/plain": [
       "DatetimeIndex(['2020-02-12 06:00:00', '2020-02-13 06:00:00',\n",
       "               '2020-02-14 06:00:00', '2020-02-15 06:00:00',\n",
       "               '2020-02-16 06:00:00', '2020-02-17 06:00:00',\n",
       "               '2020-02-18 06:00:00', '2020-02-19 06:00:00',\n",
       "               '2020-02-20 06:00:00', '2020-02-21 06:00:00',\n",
       "               ...\n",
       "               '2020-06-23 05:00:00',                 'NaT',\n",
       "                               'NaT',                 'NaT',\n",
       "                               'NaT',                 'NaT',\n",
       "                               'NaT',                 'NaT',\n",
       "                               'NaT',                 'NaT'],\n",
       "              dtype='datetime64[ns]', name='Date', length=142, freq=None)"
      ]
     },
     "execution_count": 7,
     "metadata": {},
     "output_type": "execute_result"
    }
   ],
   "source": [
    "a.index"
   ]
  },
  {
   "cell_type": "code",
   "execution_count": 8,
   "metadata": {},
   "outputs": [],
   "source": [
    "b = a.loc[a.index.dropna()]"
   ]
  },
  {
   "cell_type": "code",
   "execution_count": 9,
   "metadata": {},
   "outputs": [
    {
     "data": {
      "text/html": [
       "<div>\n",
       "<style scoped>\n",
       "    .dataframe tbody tr th:only-of-type {\n",
       "        vertical-align: middle;\n",
       "    }\n",
       "\n",
       "    .dataframe tbody tr th {\n",
       "        vertical-align: top;\n",
       "    }\n",
       "\n",
       "    .dataframe thead th {\n",
       "        text-align: right;\n",
       "    }\n",
       "</style>\n",
       "<table border=\"1\" class=\"dataframe\">\n",
       "  <thead>\n",
       "    <tr style=\"text-align: right;\">\n",
       "      <th></th>\n",
       "      <th>ObjectId</th>\n",
       "      <th>ReportedOn</th>\n",
       "      <th>ReportedCum</th>\n",
       "      <th>Deceased</th>\n",
       "      <th>Recovered</th>\n",
       "      <th>Hospitalized</th>\n",
       "      <th>ICU</th>\n",
       "      <th>Vent</th>\n",
       "      <th>StillIll</th>\n",
       "      <th>PosPatients</th>\n",
       "      <th>...</th>\n",
       "      <th>BCLabTests</th>\n",
       "      <th>BCTestNegative</th>\n",
       "      <th>BCTestPositive</th>\n",
       "      <th>BCTestInc</th>\n",
       "      <th>DBCLabTests</th>\n",
       "      <th>DBCTestNegative</th>\n",
       "      <th>DBCTestPositive</th>\n",
       "      <th>DBCTestInc</th>\n",
       "      <th>WeekQuar</th>\n",
       "      <th>EverQuar</th>\n",
       "    </tr>\n",
       "    <tr>\n",
       "      <th>Date</th>\n",
       "      <th></th>\n",
       "      <th></th>\n",
       "      <th></th>\n",
       "      <th></th>\n",
       "      <th></th>\n",
       "      <th></th>\n",
       "      <th></th>\n",
       "      <th></th>\n",
       "      <th></th>\n",
       "      <th></th>\n",
       "      <th></th>\n",
       "      <th></th>\n",
       "      <th></th>\n",
       "      <th></th>\n",
       "      <th></th>\n",
       "      <th></th>\n",
       "      <th></th>\n",
       "      <th></th>\n",
       "      <th></th>\n",
       "      <th></th>\n",
       "      <th></th>\n",
       "    </tr>\n",
       "  </thead>\n",
       "  <tbody>\n",
       "    <tr>\n",
       "      <th>2020-02-12 06:00:00</th>\n",
       "      <td>1</td>\n",
       "      <td>NaN</td>\n",
       "      <td>NaN</td>\n",
       "      <td>NaN</td>\n",
       "      <td>NaN</td>\n",
       "      <td>NaN</td>\n",
       "      <td>NaN</td>\n",
       "      <td>NaN</td>\n",
       "      <td>NaN</td>\n",
       "      <td>NaN</td>\n",
       "      <td>...</td>\n",
       "      <td>NaN</td>\n",
       "      <td>NaN</td>\n",
       "      <td>NaN</td>\n",
       "      <td>NaN</td>\n",
       "      <td>NaN</td>\n",
       "      <td>NaN</td>\n",
       "      <td>NaN</td>\n",
       "      <td>NaN</td>\n",
       "      <td>NaN</td>\n",
       "      <td>NaN</td>\n",
       "    </tr>\n",
       "    <tr>\n",
       "      <th>2020-02-13 06:00:00</th>\n",
       "      <td>2</td>\n",
       "      <td>NaN</td>\n",
       "      <td>NaN</td>\n",
       "      <td>NaN</td>\n",
       "      <td>NaN</td>\n",
       "      <td>NaN</td>\n",
       "      <td>NaN</td>\n",
       "      <td>NaN</td>\n",
       "      <td>NaN</td>\n",
       "      <td>NaN</td>\n",
       "      <td>...</td>\n",
       "      <td>NaN</td>\n",
       "      <td>NaN</td>\n",
       "      <td>NaN</td>\n",
       "      <td>NaN</td>\n",
       "      <td>NaN</td>\n",
       "      <td>NaN</td>\n",
       "      <td>NaN</td>\n",
       "      <td>NaN</td>\n",
       "      <td>NaN</td>\n",
       "      <td>NaN</td>\n",
       "    </tr>\n",
       "    <tr>\n",
       "      <th>2020-02-14 06:00:00</th>\n",
       "      <td>3</td>\n",
       "      <td>NaN</td>\n",
       "      <td>NaN</td>\n",
       "      <td>NaN</td>\n",
       "      <td>NaN</td>\n",
       "      <td>NaN</td>\n",
       "      <td>NaN</td>\n",
       "      <td>NaN</td>\n",
       "      <td>NaN</td>\n",
       "      <td>NaN</td>\n",
       "      <td>...</td>\n",
       "      <td>NaN</td>\n",
       "      <td>NaN</td>\n",
       "      <td>NaN</td>\n",
       "      <td>NaN</td>\n",
       "      <td>NaN</td>\n",
       "      <td>NaN</td>\n",
       "      <td>NaN</td>\n",
       "      <td>NaN</td>\n",
       "      <td>NaN</td>\n",
       "      <td>NaN</td>\n",
       "    </tr>\n",
       "    <tr>\n",
       "      <th>2020-02-15 06:00:00</th>\n",
       "      <td>4</td>\n",
       "      <td>NaN</td>\n",
       "      <td>NaN</td>\n",
       "      <td>NaN</td>\n",
       "      <td>NaN</td>\n",
       "      <td>NaN</td>\n",
       "      <td>NaN</td>\n",
       "      <td>NaN</td>\n",
       "      <td>NaN</td>\n",
       "      <td>NaN</td>\n",
       "      <td>...</td>\n",
       "      <td>NaN</td>\n",
       "      <td>NaN</td>\n",
       "      <td>NaN</td>\n",
       "      <td>NaN</td>\n",
       "      <td>NaN</td>\n",
       "      <td>NaN</td>\n",
       "      <td>NaN</td>\n",
       "      <td>NaN</td>\n",
       "      <td>NaN</td>\n",
       "      <td>NaN</td>\n",
       "    </tr>\n",
       "    <tr>\n",
       "      <th>2020-02-16 06:00:00</th>\n",
       "      <td>5</td>\n",
       "      <td>NaN</td>\n",
       "      <td>NaN</td>\n",
       "      <td>NaN</td>\n",
       "      <td>NaN</td>\n",
       "      <td>NaN</td>\n",
       "      <td>NaN</td>\n",
       "      <td>NaN</td>\n",
       "      <td>NaN</td>\n",
       "      <td>NaN</td>\n",
       "      <td>...</td>\n",
       "      <td>NaN</td>\n",
       "      <td>NaN</td>\n",
       "      <td>NaN</td>\n",
       "      <td>NaN</td>\n",
       "      <td>NaN</td>\n",
       "      <td>NaN</td>\n",
       "      <td>NaN</td>\n",
       "      <td>NaN</td>\n",
       "      <td>NaN</td>\n",
       "      <td>NaN</td>\n",
       "    </tr>\n",
       "    <tr>\n",
       "      <th>...</th>\n",
       "      <td>...</td>\n",
       "      <td>...</td>\n",
       "      <td>...</td>\n",
       "      <td>...</td>\n",
       "      <td>...</td>\n",
       "      <td>...</td>\n",
       "      <td>...</td>\n",
       "      <td>...</td>\n",
       "      <td>...</td>\n",
       "      <td>...</td>\n",
       "      <td>...</td>\n",
       "      <td>...</td>\n",
       "      <td>...</td>\n",
       "      <td>...</td>\n",
       "      <td>...</td>\n",
       "      <td>...</td>\n",
       "      <td>...</td>\n",
       "      <td>...</td>\n",
       "      <td>...</td>\n",
       "      <td>...</td>\n",
       "      <td>...</td>\n",
       "    </tr>\n",
       "    <tr>\n",
       "      <th>2020-06-19 05:00:00</th>\n",
       "      <td>129</td>\n",
       "      <td>412.0</td>\n",
       "      <td>5962.0</td>\n",
       "      <td>4.0</td>\n",
       "      <td>2481.0</td>\n",
       "      <td>563.0</td>\n",
       "      <td>227.0</td>\n",
       "      <td>95.0</td>\n",
       "      <td>3385.0</td>\n",
       "      <td>322.0</td>\n",
       "      <td>...</td>\n",
       "      <td>104743.0</td>\n",
       "      <td>97079.0</td>\n",
       "      <td>7566.0</td>\n",
       "      <td>98.0</td>\n",
       "      <td>5199.0</td>\n",
       "      <td>4205.0</td>\n",
       "      <td>994.0</td>\n",
       "      <td>0.0</td>\n",
       "      <td>NaN</td>\n",
       "      <td>NaN</td>\n",
       "    </tr>\n",
       "    <tr>\n",
       "      <th>2020-06-20 05:00:00</th>\n",
       "      <td>130</td>\n",
       "      <td>382.0</td>\n",
       "      <td>6344.0</td>\n",
       "      <td>0.0</td>\n",
       "      <td>2523.0</td>\n",
       "      <td>575.0</td>\n",
       "      <td>231.0</td>\n",
       "      <td>96.0</td>\n",
       "      <td>3725.0</td>\n",
       "      <td>336.0</td>\n",
       "      <td>...</td>\n",
       "      <td>108492.0</td>\n",
       "      <td>100130.0</td>\n",
       "      <td>8264.0</td>\n",
       "      <td>98.0</td>\n",
       "      <td>3749.0</td>\n",
       "      <td>3051.0</td>\n",
       "      <td>698.0</td>\n",
       "      <td>0.0</td>\n",
       "      <td>NaN</td>\n",
       "      <td>NaN</td>\n",
       "    </tr>\n",
       "    <tr>\n",
       "      <th>2020-06-21 05:00:00</th>\n",
       "      <td>131</td>\n",
       "      <td>538.0</td>\n",
       "      <td>6882.0</td>\n",
       "      <td>1.0</td>\n",
       "      <td>2774.0</td>\n",
       "      <td>587.0</td>\n",
       "      <td>234.0</td>\n",
       "      <td>97.0</td>\n",
       "      <td>4011.0</td>\n",
       "      <td>406.0</td>\n",
       "      <td>...</td>\n",
       "      <td>110902.0</td>\n",
       "      <td>102110.0</td>\n",
       "      <td>8694.0</td>\n",
       "      <td>98.0</td>\n",
       "      <td>2410.0</td>\n",
       "      <td>1980.0</td>\n",
       "      <td>430.0</td>\n",
       "      <td>0.0</td>\n",
       "      <td>NaN</td>\n",
       "      <td>NaN</td>\n",
       "    </tr>\n",
       "    <tr>\n",
       "      <th>2020-06-22 05:00:00</th>\n",
       "      <td>132</td>\n",
       "      <td>274.0</td>\n",
       "      <td>7156.0</td>\n",
       "      <td>0.0</td>\n",
       "      <td>2807.0</td>\n",
       "      <td>601.0</td>\n",
       "      <td>240.0</td>\n",
       "      <td>100.0</td>\n",
       "      <td>4252.0</td>\n",
       "      <td>446.0</td>\n",
       "      <td>...</td>\n",
       "      <td>112973.0</td>\n",
       "      <td>103757.0</td>\n",
       "      <td>9118.0</td>\n",
       "      <td>98.0</td>\n",
       "      <td>2071.0</td>\n",
       "      <td>1647.0</td>\n",
       "      <td>424.0</td>\n",
       "      <td>0.0</td>\n",
       "      <td>NaN</td>\n",
       "      <td>NaN</td>\n",
       "    </tr>\n",
       "    <tr>\n",
       "      <th>2020-06-23 05:00:00</th>\n",
       "      <td>133</td>\n",
       "      <td>311.0</td>\n",
       "      <td>7467.0</td>\n",
       "      <td>3.0</td>\n",
       "      <td>2827.0</td>\n",
       "      <td>613.0</td>\n",
       "      <td>242.0</td>\n",
       "      <td>102.0</td>\n",
       "      <td>4540.0</td>\n",
       "      <td>518.0</td>\n",
       "      <td>...</td>\n",
       "      <td>114660.0</td>\n",
       "      <td>105188.0</td>\n",
       "      <td>9371.0</td>\n",
       "      <td>101.0</td>\n",
       "      <td>1687.0</td>\n",
       "      <td>1431.0</td>\n",
       "      <td>253.0</td>\n",
       "      <td>3.0</td>\n",
       "      <td>NaN</td>\n",
       "      <td>NaN</td>\n",
       "    </tr>\n",
       "  </tbody>\n",
       "</table>\n",
       "<p>133 rows × 28 columns</p>\n",
       "</div>"
      ],
      "text/plain": [
       "                     ObjectId  ReportedOn  ReportedCum  Deceased  Recovered  \\\n",
       "Date                                                                          \n",
       "2020-02-12 06:00:00         1         NaN          NaN       NaN        NaN   \n",
       "2020-02-13 06:00:00         2         NaN          NaN       NaN        NaN   \n",
       "2020-02-14 06:00:00         3         NaN          NaN       NaN        NaN   \n",
       "2020-02-15 06:00:00         4         NaN          NaN       NaN        NaN   \n",
       "2020-02-16 06:00:00         5         NaN          NaN       NaN        NaN   \n",
       "...                       ...         ...          ...       ...        ...   \n",
       "2020-06-19 05:00:00       129       412.0       5962.0       4.0     2481.0   \n",
       "2020-06-20 05:00:00       130       382.0       6344.0       0.0     2523.0   \n",
       "2020-06-21 05:00:00       131       538.0       6882.0       1.0     2774.0   \n",
       "2020-06-22 05:00:00       132       274.0       7156.0       0.0     2807.0   \n",
       "2020-06-23 05:00:00       133       311.0       7467.0       3.0     2827.0   \n",
       "\n",
       "                     Hospitalized    ICU   Vent  StillIll  PosPatients  ...  \\\n",
       "Date                                                                    ...   \n",
       "2020-02-12 06:00:00           NaN    NaN    NaN       NaN          NaN  ...   \n",
       "2020-02-13 06:00:00           NaN    NaN    NaN       NaN          NaN  ...   \n",
       "2020-02-14 06:00:00           NaN    NaN    NaN       NaN          NaN  ...   \n",
       "2020-02-15 06:00:00           NaN    NaN    NaN       NaN          NaN  ...   \n",
       "2020-02-16 06:00:00           NaN    NaN    NaN       NaN          NaN  ...   \n",
       "...                           ...    ...    ...       ...          ...  ...   \n",
       "2020-06-19 05:00:00         563.0  227.0   95.0    3385.0        322.0  ...   \n",
       "2020-06-20 05:00:00         575.0  231.0   96.0    3725.0        336.0  ...   \n",
       "2020-06-21 05:00:00         587.0  234.0   97.0    4011.0        406.0  ...   \n",
       "2020-06-22 05:00:00         601.0  240.0  100.0    4252.0        446.0  ...   \n",
       "2020-06-23 05:00:00         613.0  242.0  102.0    4540.0        518.0  ...   \n",
       "\n",
       "                     BCLabTests  BCTestNegative  BCTestPositive  BCTestInc  \\\n",
       "Date                                                                         \n",
       "2020-02-12 06:00:00         NaN             NaN             NaN        NaN   \n",
       "2020-02-13 06:00:00         NaN             NaN             NaN        NaN   \n",
       "2020-02-14 06:00:00         NaN             NaN             NaN        NaN   \n",
       "2020-02-15 06:00:00         NaN             NaN             NaN        NaN   \n",
       "2020-02-16 06:00:00         NaN             NaN             NaN        NaN   \n",
       "...                         ...             ...             ...        ...   \n",
       "2020-06-19 05:00:00    104743.0         97079.0          7566.0       98.0   \n",
       "2020-06-20 05:00:00    108492.0        100130.0          8264.0       98.0   \n",
       "2020-06-21 05:00:00    110902.0        102110.0          8694.0       98.0   \n",
       "2020-06-22 05:00:00    112973.0        103757.0          9118.0       98.0   \n",
       "2020-06-23 05:00:00    114660.0        105188.0          9371.0      101.0   \n",
       "\n",
       "                     DBCLabTests  DBCTestNegative  DBCTestPositive  \\\n",
       "Date                                                                 \n",
       "2020-02-12 06:00:00          NaN              NaN              NaN   \n",
       "2020-02-13 06:00:00          NaN              NaN              NaN   \n",
       "2020-02-14 06:00:00          NaN              NaN              NaN   \n",
       "2020-02-15 06:00:00          NaN              NaN              NaN   \n",
       "2020-02-16 06:00:00          NaN              NaN              NaN   \n",
       "...                          ...              ...              ...   \n",
       "2020-06-19 05:00:00       5199.0           4205.0            994.0   \n",
       "2020-06-20 05:00:00       3749.0           3051.0            698.0   \n",
       "2020-06-21 05:00:00       2410.0           1980.0            430.0   \n",
       "2020-06-22 05:00:00       2071.0           1647.0            424.0   \n",
       "2020-06-23 05:00:00       1687.0           1431.0            253.0   \n",
       "\n",
       "                     DBCTestInc  WeekQuar  EverQuar  \n",
       "Date                                                 \n",
       "2020-02-12 06:00:00         NaN       NaN       NaN  \n",
       "2020-02-13 06:00:00         NaN       NaN       NaN  \n",
       "2020-02-14 06:00:00         NaN       NaN       NaN  \n",
       "2020-02-15 06:00:00         NaN       NaN       NaN  \n",
       "2020-02-16 06:00:00         NaN       NaN       NaN  \n",
       "...                         ...       ...       ...  \n",
       "2020-06-19 05:00:00         0.0       NaN       NaN  \n",
       "2020-06-20 05:00:00         0.0       NaN       NaN  \n",
       "2020-06-21 05:00:00         0.0       NaN       NaN  \n",
       "2020-06-22 05:00:00         0.0       NaN       NaN  \n",
       "2020-06-23 05:00:00         3.0       NaN       NaN  \n",
       "\n",
       "[133 rows x 28 columns]"
      ]
     },
     "execution_count": 9,
     "metadata": {},
     "output_type": "execute_result"
    }
   ],
   "source": [
    "b"
   ]
  },
  {
   "cell_type": "code",
   "execution_count": 10,
   "metadata": {},
   "outputs": [
    {
     "data": {
      "text/plain": [
       "pandas._libs.tslibs.timestamps.Timestamp"
      ]
     },
     "execution_count": 10,
     "metadata": {},
     "output_type": "execute_result"
    }
   ],
   "source": [
    "type(metro_pd.Date[0])"
   ]
  },
  {
   "cell_type": "code",
   "execution_count": 11,
   "metadata": {},
   "outputs": [],
   "source": [
    "c = b['PosPatients'].dropna()"
   ]
  },
  {
   "cell_type": "code",
   "execution_count": 12,
   "metadata": {},
   "outputs": [
    {
     "data": {
      "text/plain": [
       "pandas._libs.tslibs.timestamps.Timestamp"
      ]
     },
     "execution_count": 12,
     "metadata": {},
     "output_type": "execute_result"
    }
   ],
   "source": [
    "type(c.index[0])"
   ]
  },
  {
   "cell_type": "code",
   "execution_count": 13,
   "metadata": {},
   "outputs": [
    {
     "data": {
      "image/png": "[encoded data removed]",
      "text/plain": [
       "<Figure size 1080x576 with 1 Axes>"
      ]
     },
     "metadata": {
      "needs_background": "light"
     },
     "output_type": "display_data"
    }
   ],
   "source": [
    "months = mdates.MonthLocator()\n",
    "days = mdates.DayLocator()\n",
    "timeFmt = mdates.DateFormatter('%b %Y')\n",
    "fig, ax = plt.subplots()\n",
    "fig.set_size_inches(15,8)\n",
    "ax.xaxis.set_major_locator(months)\n",
    "ax.xaxis.set_major_formatter(timeFmt)\n",
    "ax.xaxis.set_minor_locator(days)\n",
    "plt.xlabel('Date',color='black')\n",
    "plt.ylabel('Daily Cases',color='black')\n",
    "plt.title('Metro Bexar Positive Hospitalized Cases')\n",
    "#plt.bar(c.index,c)\n",
    "plt.plot(c)\n",
    "fig.savefig('MetroPosHospitalized.png')"
   ]
  },
  {
   "cell_type": "code",
   "execution_count": 14,
   "metadata": {},
   "outputs": [
    {
     "data": {
      "text/plain": [
       "Date\n",
       "2020-03-22 06:00:00     15.0\n",
       "2020-03-23 06:00:00     19.0\n",
       "2020-03-24 06:00:00     28.0\n",
       "2020-03-25 06:00:00     31.0\n",
       "2020-03-26 06:00:00     38.0\n",
       "                       ...  \n",
       "2020-06-19 05:00:00    322.0\n",
       "2020-06-20 05:00:00    336.0\n",
       "2020-06-21 05:00:00    406.0\n",
       "2020-06-22 05:00:00    446.0\n",
       "2020-06-23 05:00:00    518.0\n",
       "Name: PosPatients, Length: 94, dtype: float64"
      ]
     },
     "execution_count": 14,
     "metadata": {},
     "output_type": "execute_result"
    }
   ],
   "source": [
    "c"
   ]
  },
  {
   "cell_type": "code",
   "execution_count": 15,
   "metadata": {},
   "outputs": [],
   "source": [
    "x = c.diff(periods = 1)"
   ]
  },
  {
   "cell_type": "code",
   "execution_count": 17,
   "metadata": {},
   "outputs": [
    {
     "data": {
      "image/png": "[encoded data removed]",
      "text/plain": [
       "<Figure size 1080x576 with 1 Axes>"
      ]
     },
     "metadata": {
      "needs_background": "light"
     },
     "output_type": "display_data"
    }
   ],
   "source": [
    "months = mdates.MonthLocator()\n",
    "days = mdates.DayLocator()\n",
    "timeFmt = mdates.DateFormatter('%b %Y')\n",
    "fig, ax = plt.subplots()\n",
    "fig.set_size_inches(15,8)\n",
    "ax.xaxis.set_major_locator(months)\n",
    "ax.xaxis.set_major_formatter(timeFmt)\n",
    "ax.xaxis.set_minor_locator(days)\n",
    "plt.xlabel('Date',color='black')\n",
    "plt.ylabel('Change In Active Cases',color='black')\n",
    "plt.title('Bexar Daily Change In Positive Hospital Cases')\n",
    "plt.bar(x.index,x)\n",
    "fig.savefig('BexarChangeInPosHospitalCases.png')"
   ]
  },
  {
   "cell_type": "code",
   "execution_count": null,
   "metadata": {},
   "outputs": [],
   "source": []
  }
 ],
 "metadata": {
  "kernelspec": {
   "display_name": "Python 3",
   "language": "python",
   "name": "python3"
  },
  "language_info": {
   "codemirror_mode": {
    "name": "ipython",
    "version": 3
   },
   "file_extension": ".py",
   "mimetype": "text/x-python",
   "name": "python",
   "nbconvert_exporter": "python",
   "pygments_lexer": "ipython3",
   "version": "3.8.2"
  }
 },
 "nbformat": 4,
 "nbformat_minor": 2
}
