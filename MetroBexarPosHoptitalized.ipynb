{
 "cells": [
  {
   "cell_type": "code",
   "execution_count": 1,
   "metadata": {},
   "outputs": [],
   "source": [
    "import pandas as pd\n",
    "import matplotlib.pyplot as plt\n",
    "import datetime\n",
    "import matplotlib.dates as mdates"
   ]
  },
  {
   "cell_type": "code",
   "execution_count": 2,
   "metadata": {},
   "outputs": [],
   "source": [
    "metro_pd = pd.read_csv('../CoVID-19_Dashboard_Data.csv')"
   ]
  },
  {
   "cell_type": "code",
   "execution_count": 3,
   "metadata": {},
   "outputs": [
    {
     "data": {
      "text/plain": [
       "str"
      ]
     },
     "execution_count": 3,
     "metadata": {},
     "output_type": "execute_result"
    }
   ],
   "source": [
    "type(metro_pd.Date[0])"
   ]
  },
  {
   "cell_type": "code",
   "execution_count": 4,
   "metadata": {},
   "outputs": [],
   "source": [
    "metro_pd.Date = pd.to_datetime(metro_pd.Date)"
   ]
  },
  {
   "cell_type": "code",
   "execution_count": 5,
   "metadata": {},
   "outputs": [
    {
     "data": {
      "text/plain": [
       "pandas._libs.tslibs.timestamps.Timestamp"
      ]
     },
     "execution_count": 5,
     "metadata": {},
     "output_type": "execute_result"
    }
   ],
   "source": [
    "type(metro_pd.Date[0])"
   ]
  },
  {
   "cell_type": "code",
   "execution_count": 6,
   "metadata": {},
   "outputs": [],
   "source": [
    "a = metro_pd.set_index('Date')"
   ]
  },
  {
   "cell_type": "code",
   "execution_count": 7,
   "metadata": {},
   "outputs": [
    {
     "data": {
      "text/plain": [
       "DatetimeIndex(['2020-02-12 06:00:00', '2020-02-13 06:00:00',\n",
       "               '2020-02-14 06:00:00', '2020-02-15 06:00:00',\n",
       "               '2020-02-16 06:00:00', '2020-02-17 06:00:00',\n",
       "               '2020-02-18 06:00:00', '2020-02-19 06:00:00',\n",
       "               '2020-02-20 06:00:00', '2020-02-21 06:00:00',\n",
       "               ...\n",
       "               '2020-06-23 05:00:00', '2020-06-24 05:00:00',\n",
       "               '2020-06-25 05:00:00', '2020-06-26 05:00:00',\n",
       "               '2020-06-27 05:00:00', '2020-06-28 05:00:00',\n",
       "               '2020-06-29 05:00:00', '2020-06-30 05:00:00',\n",
       "                               'NaT',                 'NaT'],\n",
       "              dtype='datetime64[ns]', name='Date', length=142, freq=None)"
      ]
     },
     "execution_count": 7,
     "metadata": {},
     "output_type": "execute_result"
    }
   ],
   "source": [
    "a.index"
   ]
  },
  {
   "cell_type": "code",
   "execution_count": 8,
   "metadata": {},
   "outputs": [],
   "source": [
    "b = a.loc[a.index.dropna()]"
   ]
  },
  {
   "cell_type": "code",
   "execution_count": 9,
   "metadata": {},
   "outputs": [
    {
     "data": {
      "text/html": [
       "<div>\n",
       "<style scoped>\n",
       "    .dataframe tbody tr th:only-of-type {\n",
       "        vertical-align: middle;\n",
       "    }\n",
       "\n",
       "    .dataframe tbody tr th {\n",
       "        vertical-align: top;\n",
       "    }\n",
       "\n",
       "    .dataframe thead th {\n",
       "        text-align: right;\n",
       "    }\n",
       "</style>\n",
       "<table border=\"1\" class=\"dataframe\">\n",
       "  <thead>\n",
       "    <tr style=\"text-align: right;\">\n",
       "      <th></th>\n",
       "      <th>ObjectId</th>\n",
       "      <th>ReportedOn</th>\n",
       "      <th>ReportedCum</th>\n",
       "      <th>Deceased</th>\n",
       "      <th>Recovered</th>\n",
       "      <th>Hospitalized</th>\n",
       "      <th>ICU</th>\n",
       "      <th>Vent</th>\n",
       "      <th>StillIll</th>\n",
       "      <th>PosPatients</th>\n",
       "      <th>...</th>\n",
       "      <th>BCLabTests</th>\n",
       "      <th>BCTestNegative</th>\n",
       "      <th>BCTestPositive</th>\n",
       "      <th>BCTestInc</th>\n",
       "      <th>DBCLabTests</th>\n",
       "      <th>DBCTestNegative</th>\n",
       "      <th>DBCTestPositive</th>\n",
       "      <th>DBCTestInc</th>\n",
       "      <th>WeekQuar</th>\n",
       "      <th>EverQuar</th>\n",
       "    </tr>\n",
       "    <tr>\n",
       "      <th>Date</th>\n",
       "      <th></th>\n",
       "      <th></th>\n",
       "      <th></th>\n",
       "      <th></th>\n",
       "      <th></th>\n",
       "      <th></th>\n",
       "      <th></th>\n",
       "      <th></th>\n",
       "      <th></th>\n",
       "      <th></th>\n",
       "      <th></th>\n",
       "      <th></th>\n",
       "      <th></th>\n",
       "      <th></th>\n",
       "      <th></th>\n",
       "      <th></th>\n",
       "      <th></th>\n",
       "      <th></th>\n",
       "      <th></th>\n",
       "      <th></th>\n",
       "      <th></th>\n",
       "    </tr>\n",
       "  </thead>\n",
       "  <tbody>\n",
       "    <tr>\n",
       "      <th>2020-02-12 06:00:00</th>\n",
       "      <td>1</td>\n",
       "      <td>NaN</td>\n",
       "      <td>NaN</td>\n",
       "      <td>NaN</td>\n",
       "      <td>NaN</td>\n",
       "      <td>NaN</td>\n",
       "      <td>NaN</td>\n",
       "      <td>NaN</td>\n",
       "      <td>NaN</td>\n",
       "      <td>NaN</td>\n",
       "      <td>...</td>\n",
       "      <td>NaN</td>\n",
       "      <td>NaN</td>\n",
       "      <td>NaN</td>\n",
       "      <td>NaN</td>\n",
       "      <td>NaN</td>\n",
       "      <td>NaN</td>\n",
       "      <td>NaN</td>\n",
       "      <td>NaN</td>\n",
       "      <td>NaN</td>\n",
       "      <td>NaN</td>\n",
       "    </tr>\n",
       "    <tr>\n",
       "      <th>2020-02-13 06:00:00</th>\n",
       "      <td>2</td>\n",
       "      <td>NaN</td>\n",
       "      <td>NaN</td>\n",
       "      <td>NaN</td>\n",
       "      <td>NaN</td>\n",
       "      <td>NaN</td>\n",
       "      <td>NaN</td>\n",
       "      <td>NaN</td>\n",
       "      <td>NaN</td>\n",
       "      <td>NaN</td>\n",
       "      <td>...</td>\n",
       "      <td>NaN</td>\n",
       "      <td>NaN</td>\n",
       "      <td>NaN</td>\n",
       "      <td>NaN</td>\n",
       "      <td>NaN</td>\n",
       "      <td>NaN</td>\n",
       "      <td>NaN</td>\n",
       "      <td>NaN</td>\n",
       "      <td>NaN</td>\n",
       "      <td>NaN</td>\n",
       "    </tr>\n",
       "    <tr>\n",
       "      <th>2020-02-14 06:00:00</th>\n",
       "      <td>3</td>\n",
       "      <td>NaN</td>\n",
       "      <td>NaN</td>\n",
       "      <td>NaN</td>\n",
       "      <td>NaN</td>\n",
       "      <td>NaN</td>\n",
       "      <td>NaN</td>\n",
       "      <td>NaN</td>\n",
       "      <td>NaN</td>\n",
       "      <td>NaN</td>\n",
       "      <td>...</td>\n",
       "      <td>NaN</td>\n",
       "      <td>NaN</td>\n",
       "      <td>NaN</td>\n",
       "      <td>NaN</td>\n",
       "      <td>NaN</td>\n",
       "      <td>NaN</td>\n",
       "      <td>NaN</td>\n",
       "      <td>NaN</td>\n",
       "      <td>NaN</td>\n",
       "      <td>NaN</td>\n",
       "    </tr>\n",
       "    <tr>\n",
       "      <th>2020-02-15 06:00:00</th>\n",
       "      <td>4</td>\n",
       "      <td>NaN</td>\n",
       "      <td>NaN</td>\n",
       "      <td>NaN</td>\n",
       "      <td>NaN</td>\n",
       "      <td>NaN</td>\n",
       "      <td>NaN</td>\n",
       "      <td>NaN</td>\n",
       "      <td>NaN</td>\n",
       "      <td>NaN</td>\n",
       "      <td>...</td>\n",
       "      <td>NaN</td>\n",
       "      <td>NaN</td>\n",
       "      <td>NaN</td>\n",
       "      <td>NaN</td>\n",
       "      <td>NaN</td>\n",
       "      <td>NaN</td>\n",
       "      <td>NaN</td>\n",
       "      <td>NaN</td>\n",
       "      <td>NaN</td>\n",
       "      <td>NaN</td>\n",
       "    </tr>\n",
       "    <tr>\n",
       "      <th>2020-02-16 06:00:00</th>\n",
       "      <td>5</td>\n",
       "      <td>NaN</td>\n",
       "      <td>NaN</td>\n",
       "      <td>NaN</td>\n",
       "      <td>NaN</td>\n",
       "      <td>NaN</td>\n",
       "      <td>NaN</td>\n",
       "      <td>NaN</td>\n",
       "      <td>NaN</td>\n",
       "      <td>NaN</td>\n",
       "      <td>...</td>\n",
       "      <td>NaN</td>\n",
       "      <td>NaN</td>\n",
       "      <td>NaN</td>\n",
       "      <td>NaN</td>\n",
       "      <td>NaN</td>\n",
       "      <td>NaN</td>\n",
       "      <td>NaN</td>\n",
       "      <td>NaN</td>\n",
       "      <td>NaN</td>\n",
       "      <td>NaN</td>\n",
       "    </tr>\n",
       "    <tr>\n",
       "      <th>...</th>\n",
       "      <td>...</td>\n",
       "      <td>...</td>\n",
       "      <td>...</td>\n",
       "      <td>...</td>\n",
       "      <td>...</td>\n",
       "      <td>...</td>\n",
       "      <td>...</td>\n",
       "      <td>...</td>\n",
       "      <td>...</td>\n",
       "      <td>...</td>\n",
       "      <td>...</td>\n",
       "      <td>...</td>\n",
       "      <td>...</td>\n",
       "      <td>...</td>\n",
       "      <td>...</td>\n",
       "      <td>...</td>\n",
       "      <td>...</td>\n",
       "      <td>...</td>\n",
       "      <td>...</td>\n",
       "      <td>...</td>\n",
       "      <td>...</td>\n",
       "    </tr>\n",
       "    <tr>\n",
       "      <th>2020-06-26 05:00:00</th>\n",
       "      <td>136</td>\n",
       "      <td>405.0</td>\n",
       "      <td>8857.0</td>\n",
       "      <td>1.0</td>\n",
       "      <td>3099.0</td>\n",
       "      <td>660.0</td>\n",
       "      <td>252.0</td>\n",
       "      <td>106.0</td>\n",
       "      <td>5654.0</td>\n",
       "      <td>699.0</td>\n",
       "      <td>...</td>\n",
       "      <td>126167.0</td>\n",
       "      <td>114279.0</td>\n",
       "      <td>11787.0</td>\n",
       "      <td>101.0</td>\n",
       "      <td>2773.0</td>\n",
       "      <td>2235.0</td>\n",
       "      <td>538.0</td>\n",
       "      <td>0.0</td>\n",
       "      <td>NaN</td>\n",
       "      <td>NaN</td>\n",
       "    </tr>\n",
       "    <tr>\n",
       "      <th>2020-06-27 05:00:00</th>\n",
       "      <td>137</td>\n",
       "      <td>795.0</td>\n",
       "      <td>9652.0</td>\n",
       "      <td>2.0</td>\n",
       "      <td>3119.0</td>\n",
       "      <td>665.0</td>\n",
       "      <td>254.0</td>\n",
       "      <td>107.0</td>\n",
       "      <td>6426.0</td>\n",
       "      <td>730.0</td>\n",
       "      <td>...</td>\n",
       "      <td>129376.0</td>\n",
       "      <td>116892.0</td>\n",
       "      <td>12383.0</td>\n",
       "      <td>101.0</td>\n",
       "      <td>3209.0</td>\n",
       "      <td>2613.0</td>\n",
       "      <td>596.0</td>\n",
       "      <td>0.0</td>\n",
       "      <td>NaN</td>\n",
       "      <td>NaN</td>\n",
       "    </tr>\n",
       "    <tr>\n",
       "      <th>2020-06-28 05:00:00</th>\n",
       "      <td>138</td>\n",
       "      <td>495.0</td>\n",
       "      <td>10147.0</td>\n",
       "      <td>2.0</td>\n",
       "      <td>3150.0</td>\n",
       "      <td>674.0</td>\n",
       "      <td>260.0</td>\n",
       "      <td>111.0</td>\n",
       "      <td>6888.0</td>\n",
       "      <td>802.0</td>\n",
       "      <td>...</td>\n",
       "      <td>132931.0</td>\n",
       "      <td>119717.0</td>\n",
       "      <td>13113.0</td>\n",
       "      <td>101.0</td>\n",
       "      <td>3555.0</td>\n",
       "      <td>2825.0</td>\n",
       "      <td>730.0</td>\n",
       "      <td>NaN</td>\n",
       "      <td>NaN</td>\n",
       "      <td>NaN</td>\n",
       "    </tr>\n",
       "    <tr>\n",
       "      <th>2020-06-29 05:00:00</th>\n",
       "      <td>139</td>\n",
       "      <td>650.0</td>\n",
       "      <td>10797.0</td>\n",
       "      <td>0.0</td>\n",
       "      <td>3214.0</td>\n",
       "      <td>700.0</td>\n",
       "      <td>265.0</td>\n",
       "      <td>115.0</td>\n",
       "      <td>7474.0</td>\n",
       "      <td>881.0</td>\n",
       "      <td>...</td>\n",
       "      <td>135458.0</td>\n",
       "      <td>121716.0</td>\n",
       "      <td>13641.0</td>\n",
       "      <td>101.0</td>\n",
       "      <td>2527.0</td>\n",
       "      <td>1999.0</td>\n",
       "      <td>528.0</td>\n",
       "      <td>NaN</td>\n",
       "      <td>NaN</td>\n",
       "      <td>NaN</td>\n",
       "    </tr>\n",
       "    <tr>\n",
       "      <th>2020-06-30 05:00:00</th>\n",
       "      <td>140</td>\n",
       "      <td>1268.0</td>\n",
       "      <td>12065.0</td>\n",
       "      <td>1.0</td>\n",
       "      <td>3345.0</td>\n",
       "      <td>728.0</td>\n",
       "      <td>271.0</td>\n",
       "      <td>115.0</td>\n",
       "      <td>8610.0</td>\n",
       "      <td>966.0</td>\n",
       "      <td>...</td>\n",
       "      <td>138282.0</td>\n",
       "      <td>123841.0</td>\n",
       "      <td>14340.0</td>\n",
       "      <td>101.0</td>\n",
       "      <td>2824.0</td>\n",
       "      <td>2125.0</td>\n",
       "      <td>699.0</td>\n",
       "      <td>NaN</td>\n",
       "      <td>NaN</td>\n",
       "      <td>NaN</td>\n",
       "    </tr>\n",
       "  </tbody>\n",
       "</table>\n",
       "<p>140 rows × 28 columns</p>\n",
       "</div>"
      ],
      "text/plain": [
       "                     ObjectId  ReportedOn  ReportedCum  Deceased  Recovered  \\\n",
       "Date                                                                          \n",
       "2020-02-12 06:00:00         1         NaN          NaN       NaN        NaN   \n",
       "2020-02-13 06:00:00         2         NaN          NaN       NaN        NaN   \n",
       "2020-02-14 06:00:00         3         NaN          NaN       NaN        NaN   \n",
       "2020-02-15 06:00:00         4         NaN          NaN       NaN        NaN   \n",
       "2020-02-16 06:00:00         5         NaN          NaN       NaN        NaN   \n",
       "...                       ...         ...          ...       ...        ...   \n",
       "2020-06-26 05:00:00       136       405.0       8857.0       1.0     3099.0   \n",
       "2020-06-27 05:00:00       137       795.0       9652.0       2.0     3119.0   \n",
       "2020-06-28 05:00:00       138       495.0      10147.0       2.0     3150.0   \n",
       "2020-06-29 05:00:00       139       650.0      10797.0       0.0     3214.0   \n",
       "2020-06-30 05:00:00       140      1268.0      12065.0       1.0     3345.0   \n",
       "\n",
       "                     Hospitalized    ICU   Vent  StillIll  PosPatients  ...  \\\n",
       "Date                                                                    ...   \n",
       "2020-02-12 06:00:00           NaN    NaN    NaN       NaN          NaN  ...   \n",
       "2020-02-13 06:00:00           NaN    NaN    NaN       NaN          NaN  ...   \n",
       "2020-02-14 06:00:00           NaN    NaN    NaN       NaN          NaN  ...   \n",
       "2020-02-15 06:00:00           NaN    NaN    NaN       NaN          NaN  ...   \n",
       "2020-02-16 06:00:00           NaN    NaN    NaN       NaN          NaN  ...   \n",
       "...                           ...    ...    ...       ...          ...  ...   \n",
       "2020-06-26 05:00:00         660.0  252.0  106.0    5654.0        699.0  ...   \n",
       "2020-06-27 05:00:00         665.0  254.0  107.0    6426.0        730.0  ...   \n",
       "2020-06-28 05:00:00         674.0  260.0  111.0    6888.0        802.0  ...   \n",
       "2020-06-29 05:00:00         700.0  265.0  115.0    7474.0        881.0  ...   \n",
       "2020-06-30 05:00:00         728.0  271.0  115.0    8610.0        966.0  ...   \n",
       "\n",
       "                     BCLabTests  BCTestNegative  BCTestPositive  BCTestInc  \\\n",
       "Date                                                                         \n",
       "2020-02-12 06:00:00         NaN             NaN             NaN        NaN   \n",
       "2020-02-13 06:00:00         NaN             NaN             NaN        NaN   \n",
       "2020-02-14 06:00:00         NaN             NaN             NaN        NaN   \n",
       "2020-02-15 06:00:00         NaN             NaN             NaN        NaN   \n",
       "2020-02-16 06:00:00         NaN             NaN             NaN        NaN   \n",
       "...                         ...             ...             ...        ...   \n",
       "2020-06-26 05:00:00    126167.0        114279.0         11787.0      101.0   \n",
       "2020-06-27 05:00:00    129376.0        116892.0         12383.0      101.0   \n",
       "2020-06-28 05:00:00    132931.0        119717.0         13113.0      101.0   \n",
       "2020-06-29 05:00:00    135458.0        121716.0         13641.0      101.0   \n",
       "2020-06-30 05:00:00    138282.0        123841.0         14340.0      101.0   \n",
       "\n",
       "                     DBCLabTests  DBCTestNegative  DBCTestPositive  \\\n",
       "Date                                                                 \n",
       "2020-02-12 06:00:00          NaN              NaN              NaN   \n",
       "2020-02-13 06:00:00          NaN              NaN              NaN   \n",
       "2020-02-14 06:00:00          NaN              NaN              NaN   \n",
       "2020-02-15 06:00:00          NaN              NaN              NaN   \n",
       "2020-02-16 06:00:00          NaN              NaN              NaN   \n",
       "...                          ...              ...              ...   \n",
       "2020-06-26 05:00:00       2773.0           2235.0            538.0   \n",
       "2020-06-27 05:00:00       3209.0           2613.0            596.0   \n",
       "2020-06-28 05:00:00       3555.0           2825.0            730.0   \n",
       "2020-06-29 05:00:00       2527.0           1999.0            528.0   \n",
       "2020-06-30 05:00:00       2824.0           2125.0            699.0   \n",
       "\n",
       "                     DBCTestInc  WeekQuar  EverQuar  \n",
       "Date                                                 \n",
       "2020-02-12 06:00:00         NaN       NaN       NaN  \n",
       "2020-02-13 06:00:00         NaN       NaN       NaN  \n",
       "2020-02-14 06:00:00         NaN       NaN       NaN  \n",
       "2020-02-15 06:00:00         NaN       NaN       NaN  \n",
       "2020-02-16 06:00:00         NaN       NaN       NaN  \n",
       "...                         ...       ...       ...  \n",
       "2020-06-26 05:00:00         0.0       NaN       NaN  \n",
       "2020-06-27 05:00:00         0.0       NaN       NaN  \n",
       "2020-06-28 05:00:00         NaN       NaN       NaN  \n",
       "2020-06-29 05:00:00         NaN       NaN       NaN  \n",
       "2020-06-30 05:00:00         NaN       NaN       NaN  \n",
       "\n",
       "[140 rows x 28 columns]"
      ]
     },
     "execution_count": 9,
     "metadata": {},
     "output_type": "execute_result"
    }
   ],
   "source": [
    "b"
   ]
  },
  {
   "cell_type": "code",
   "execution_count": 10,
   "metadata": {},
   "outputs": [
    {
     "data": {
      "text/plain": [
       "pandas._libs.tslibs.timestamps.Timestamp"
      ]
     },
     "execution_count": 10,
     "metadata": {},
     "output_type": "execute_result"
    }
   ],
   "source": [
    "type(metro_pd.Date[0])"
   ]
  },
  {
   "cell_type": "code",
   "execution_count": 11,
   "metadata": {},
   "outputs": [],
   "source": [
    "c = b['PosPatients'].dropna()"
   ]
  },
  {
   "cell_type": "code",
   "execution_count": 12,
   "metadata": {},
   "outputs": [
    {
     "data": {
      "text/plain": [
       "pandas._libs.tslibs.timestamps.Timestamp"
      ]
     },
     "execution_count": 12,
     "metadata": {},
     "output_type": "execute_result"
    }
   ],
   "source": [
    "type(c.index[0])"
   ]
  },
  {
   "cell_type": "code",
   "execution_count": 13,
   "metadata": {},
   "outputs": [
    {
     "data": {
      "image/png": "[encoded data removed]",
      "text/plain": [
       "<Figure size 1080x576 with 1 Axes>"
      ]
     },
     "metadata": {
      "needs_background": "light"
     },
     "output_type": "display_data"
    }
   ],
   "source": [
    "months = mdates.MonthLocator()\n",
    "days = mdates.DayLocator()\n",
    "timeFmt = mdates.DateFormatter('%b %Y')\n",
    "fig, ax = plt.subplots()\n",
    "fig.set_size_inches(15,8)\n",
    "ax.xaxis.set_major_locator(months)\n",
    "ax.xaxis.set_major_formatter(timeFmt)\n",
    "ax.xaxis.set_minor_locator(days)\n",
    "plt.xlabel('Date',color='black')\n",
    "plt.ylabel('Daily Cases',color='black')\n",
    "plt.title('Metro Bexar Positive Hospitalized Cases')\n",
    "#plt.bar(c.index,c)\n",
    "plt.plot(c)\n",
    "fig.savefig('MetroPosHospitalized.png')"
   ]
  },
  {
   "cell_type": "code",
   "execution_count": 14,
   "metadata": {},
   "outputs": [
    {
     "data": {
      "text/plain": [
       "Date\n",
       "2020-03-22 06:00:00     15.0\n",
       "2020-03-23 06:00:00     19.0\n",
       "2020-03-24 06:00:00     28.0\n",
       "2020-03-25 06:00:00     31.0\n",
       "2020-03-26 06:00:00     38.0\n",
       "                       ...  \n",
       "2020-06-26 05:00:00    699.0\n",
       "2020-06-27 05:00:00    730.0\n",
       "2020-06-28 05:00:00    802.0\n",
       "2020-06-29 05:00:00    881.0\n",
       "2020-06-30 05:00:00    966.0\n",
       "Name: PosPatients, Length: 101, dtype: float64"
      ]
     },
     "execution_count": 14,
     "metadata": {},
     "output_type": "execute_result"
    }
   ],
   "source": [
    "c"
   ]
  },
  {
   "cell_type": "code",
   "execution_count": 15,
   "metadata": {},
   "outputs": [],
   "source": [
    "x = c.diff(periods = 1)"
   ]
  },
  {
   "cell_type": "code",
   "execution_count": 16,
   "metadata": {},
   "outputs": [
    {
     "data": {
      "image/png": "[encoded data removed]",
      "text/plain": [
       "<Figure size 1080x576 with 1 Axes>"
      ]
     },
     "metadata": {
      "needs_background": "light"
     },
     "output_type": "display_data"
    }
   ],
   "source": [
    "months = mdates.MonthLocator()\n",
    "days = mdates.DayLocator()\n",
    "timeFmt = mdates.DateFormatter('%b %Y')\n",
    "fig, ax = plt.subplots()\n",
    "fig.set_size_inches(15,8)\n",
    "ax.xaxis.set_major_locator(months)\n",
    "ax.xaxis.set_major_formatter(timeFmt)\n",
    "ax.xaxis.set_minor_locator(days)\n",
    "plt.xlabel('Date',color='black')\n",
    "plt.ylabel('Change In Active Cases',color='black')\n",
    "plt.title('Bexar Daily Change In Positive Hospital Cases')\n",
    "plt.bar(x.index,x)\n",
    "fig.savefig('BexarChangeInPosHospitalCases.png')"
   ]
  },
  {
   "cell_type": "code",
   "execution_count": 17,
   "metadata": {},
   "outputs": [
    {
     "data": {
      "text/plain": [
       "Date\n",
       "2020-03-22 06:00:00     NaN\n",
       "2020-03-23 06:00:00     4.0\n",
       "2020-03-24 06:00:00     9.0\n",
       "2020-03-25 06:00:00     3.0\n",
       "2020-03-26 06:00:00     7.0\n",
       "                       ... \n",
       "2020-06-26 05:00:00    71.0\n",
       "2020-06-27 05:00:00    31.0\n",
       "2020-06-28 05:00:00    72.0\n",
       "2020-06-29 05:00:00    79.0\n",
       "2020-06-30 05:00:00    85.0\n",
       "Name: PosPatients, Length: 101, dtype: float64"
      ]
     },
     "execution_count": 17,
     "metadata": {},
     "output_type": "execute_result"
    }
   ],
   "source": [
    "x"
   ]
  },
  {
   "cell_type": "code",
   "execution_count": null,
   "metadata": {},
   "outputs": [],
   "source": []
  }
 ],
 "metadata": {
  "kernelspec": {
   "display_name": "Python 3",
   "language": "python",
   "name": "python3"
  },
  "language_info": {
   "codemirror_mode": {
    "name": "ipython",
    "version": 3
   },
   "file_extension": ".py",
   "mimetype": "text/x-python",
   "name": "python",
   "nbconvert_exporter": "python",
   "pygments_lexer": "ipython3",
   "version": "3.8.2"
  }
 },
 "nbformat": 4,
 "nbformat_minor": 2
}
