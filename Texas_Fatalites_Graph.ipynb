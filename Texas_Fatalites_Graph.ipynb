{
 "cells": [
  {
   "cell_type": "code",
   "execution_count": 2,
   "metadata": {},
   "outputs": [],
   "source": [
    "import pandas as pd\n",
    "import matplotlib.pyplot as plt\n",
    "import numpy as np\n",
    "import datetime"
   ]
  },
  {
   "cell_type": "code",
   "execution_count": 3,
   "metadata": {},
   "outputs": [],
   "source": [
    "df_Texas_Covid_case = pd.read_excel(\"../Texas COVID-19 Fatality Count Data by County.xlsx\",header=2)"
   ]
  },
  {
   "cell_type": "code",
   "execution_count": 4,
   "metadata": {},
   "outputs": [],
   "source": [
    "a = df_Texas_Covid_case.set_index('County Name')"
   ]
  },
  {
   "cell_type": "code",
   "execution_count": 5,
   "metadata": {},
   "outputs": [
    {
     "data": {
      "text/plain": [
       "Population          29677668\n",
       "Fatalities 3/4             0\n",
       "Fatalities 3/5             0\n",
       "Fatalities 3/6             0\n",
       "Fatalities 3/7             0\n",
       "                      ...   \n",
       "Fatalities 06/08        1836\n",
       "Fatalities 06/09        1853\n",
       "Fatalities 06/10        1885\n",
       "Fatalities 06/11        1920\n",
       "Fatalities 06/12        1939\n",
       "Name: Total, Length: 102, dtype: object"
      ]
     },
     "execution_count": 5,
     "metadata": {},
     "output_type": "execute_result"
    }
   ],
   "source": [
    "a.T.Total"
   ]
  },
  {
   "cell_type": "code",
   "execution_count": 6,
   "metadata": {},
   "outputs": [],
   "source": [
    "b = a.T.Total[1:]"
   ]
  },
  {
   "cell_type": "code",
   "execution_count": 7,
   "metadata": {},
   "outputs": [],
   "source": [
    "dated_dict = {}\n",
    "count = 0\n",
    "for x in b:\n",
    "    month_temp = int(b.index[count].split(' ')[1].split('/')[0])\n",
    "    day_temp = int(b.index[count].split(' ')[1].split('/')[1])\n",
    "    dated_dict[datetime.datetime(2020, month_temp, day_temp)] = b[count]\n",
    "    count += 1"
   ]
  },
  {
   "cell_type": "code",
   "execution_count": 8,
   "metadata": {},
   "outputs": [],
   "source": [
    "dated_df = pd.DataFrame(dated_dict.items(), columns=['Date', 'Fatalites'])"
   ]
  },
  {
   "cell_type": "code",
   "execution_count": 9,
   "metadata": {},
   "outputs": [],
   "source": [
    "c = dated_df.set_index('Date')"
   ]
  },
  {
   "cell_type": "code",
   "execution_count": 10,
   "metadata": {},
   "outputs": [
    {
     "data": {
      "image/png": "[encoded data removed]",
      "text/plain": [
       "<Figure size 432x288 with 1 Axes>"
      ]
     },
     "metadata": {
      "needs_background": "light"
     },
     "output_type": "display_data"
    }
   ],
   "source": [
    "import datetime\n",
    "import matplotlib.dates as mdates\n",
    "months = mdates.MonthLocator()\n",
    "days = mdates.DayLocator()\n",
    "timeFmt = mdates.DateFormatter('%b %Y')\n",
    "fig, ax = plt.subplots()\n",
    "ax.xaxis.set_major_locator(months)\n",
    "ax.xaxis.set_major_formatter(timeFmt)\n",
    "ax.xaxis.set_minor_locator(days)\n",
    "plt.xlabel('Date',color='black')\n",
    "plt.ylabel('Number Dead',color='black')\n",
    "plt.plot(c)\n",
    "plt.title('Texas COVID19 Fatalites')\n",
    "plt.savefig('TexasFatalites.png')"
   ]
  },
  {
   "cell_type": "code",
   "execution_count": null,
   "metadata": {},
   "outputs": [],
   "source": []
  }
 ],
 "metadata": {
  "kernelspec": {
   "display_name": "Python 3",
   "language": "python",
   "name": "python3"
  },
  "language_info": {
   "codemirror_mode": {
    "name": "ipython",
    "version": 3
   },
   "file_extension": ".py",
   "mimetype": "text/x-python",
   "name": "python",
   "nbconvert_exporter": "python",
   "pygments_lexer": "ipython3",
   "version": "3.7.3"
  }
 },
 "nbformat": 4,
 "nbformat_minor": 2
}
