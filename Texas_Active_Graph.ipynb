{
 "cells": [
  {
   "cell_type": "code",
   "execution_count": 1,
   "metadata": {},
   "outputs": [],
   "source": [
    "import pandas as pd\n",
    "import matplotlib.pyplot as plt\n",
    "import numpy as np\n",
    "import datetime"
   ]
  },
  {
   "cell_type": "code",
   "execution_count": 2,
   "metadata": {},
   "outputs": [],
   "source": [
    "df_Texas_Covid_case = pd.read_excel(\"../Texas COVID-19 Active Case Data by County.xlsx\",header=2)"
   ]
  },
  {
   "cell_type": "code",
   "execution_count": 3,
   "metadata": {},
   "outputs": [],
   "source": [
    "a = df_Texas_Covid_case.set_index('County')"
   ]
  },
  {
   "cell_type": "code",
   "execution_count": 4,
   "metadata": {},
   "outputs": [
    {
     "data": {
      "text/plain": [
       "Index(['Anderson', 'Andrews', 'Angelina', 'Aransas', 'Archer', 'Armstrong',\n",
       "       'Atascosa', 'Austin', 'Bailey', 'Bandera',\n",
       "       ...\n",
       "       'Willacy', 'Williamson', 'Wilson', 'Winkler', 'Wise', 'Wood', 'Yoakum',\n",
       "       'Young', 'Zapata', 'Zavala'],\n",
       "      dtype='object', name='County', length=254)"
      ]
     },
     "execution_count": 4,
     "metadata": {},
     "output_type": "execute_result"
    }
   ],
   "source": [
    "a.index"
   ]
  },
  {
   "cell_type": "code",
   "execution_count": 5,
   "metadata": {},
   "outputs": [],
   "source": [
    "b = a.sum(axis=0)"
   ]
  },
  {
   "cell_type": "code",
   "execution_count": 6,
   "metadata": {},
   "outputs": [
    {
     "data": {
      "text/plain": [
       "Active\\r\\r\\r\\r\\r\\r\\r\\nCases\\r\\r\\r\\r\\r\\r\\r\\n4-7      7536\n",
       "Active\\r\\r\\r\\r\\r\\r\\r\\nCases\\r\\r\\r\\r\\r\\r\\r\\n4-8      8397\n",
       "Active\\r\\r\\r\\r\\r\\r\\r\\nCases\\r\\r\\r\\r\\r\\r\\r\\n4-9      8919\n",
       "Active\\r\\r\\r\\r\\r\\r\\r\\nCases\\r\\r\\r\\r\\r\\r\\r\\n4-10    10067\n",
       "Active\\r\\r\\r\\r\\r\\r\\r\\nCases\\r\\r\\r\\r\\r\\r\\r\\n4-11    10682\n",
       "                                                   ...  \n",
       "Active Cases 06-21                                 49601\n",
       "Active Cases 06-22                                 51322\n",
       "Active Cases 06-23                                 55207\n",
       "Active Cases 06-24                                 58304\n",
       "Active Cases 06-25                                 62321\n",
       "Length: 80, dtype: int64"
      ]
     },
     "execution_count": 6,
     "metadata": {},
     "output_type": "execute_result"
    }
   ],
   "source": [
    "b"
   ]
  },
  {
   "cell_type": "code",
   "execution_count": 7,
   "metadata": {},
   "outputs": [],
   "source": [
    "dated_dict = {}\n",
    "count = 0\n",
    "for x in b:\n",
    "    month_temp = int(b.index[count][-5:].split('-')[0])\n",
    "    day_temp = int(b.index[count][-5:].split('-')[1])\n",
    "    dated_dict[datetime.datetime(2020, month_temp, day_temp)] = b[count]\n",
    "    count += 1"
   ]
  },
  {
   "cell_type": "code",
   "execution_count": 8,
   "metadata": {},
   "outputs": [],
   "source": [
    "dated_df = pd.DataFrame(dated_dict.items(), columns=['Date', 'Active Cases'])"
   ]
  },
  {
   "cell_type": "code",
   "execution_count": 9,
   "metadata": {},
   "outputs": [],
   "source": [
    "c = dated_df.set_index('Date')"
   ]
  },
  {
   "cell_type": "code",
   "execution_count": 10,
   "metadata": {},
   "outputs": [
    {
     "data": {
      "image/png": "[encoded data removed]",
      "text/plain": [
       "<Figure size 1080x576 with 1 Axes>"
      ]
     },
     "metadata": {
      "needs_background": "light"
     },
     "output_type": "display_data"
    }
   ],
   "source": [
    "import datetime\n",
    "import matplotlib.dates as mdates\n",
    "months = mdates.MonthLocator()\n",
    "days = mdates.DayLocator()\n",
    "timeFmt = mdates.DateFormatter('%b %Y')\n",
    "fig, ax = plt.subplots()\n",
    "fig.set_size_inches(15,8)\n",
    "ax.xaxis.set_major_locator(months)\n",
    "ax.xaxis.set_major_formatter(timeFmt)\n",
    "ax.xaxis.set_minor_locator(days)\n",
    "plt.xlabel('Date',color='black')\n",
    "plt.ylabel('Number Active',color='black')\n",
    "plt.plot(c)\n",
    "plt.title('Total All Texas Counties Active COVID19 Cases')\n",
    "plt.savefig('TexasActive.png')"
   ]
  },
  {
   "cell_type": "code",
   "execution_count": 11,
   "metadata": {},
   "outputs": [
    {
     "data": {
      "text/html": [
       "<div>\n",
       "<style scoped>\n",
       "    .dataframe tbody tr th:only-of-type {\n",
       "        vertical-align: middle;\n",
       "    }\n",
       "\n",
       "    .dataframe tbody tr th {\n",
       "        vertical-align: top;\n",
       "    }\n",
       "\n",
       "    .dataframe thead th {\n",
       "        text-align: right;\n",
       "    }\n",
       "</style>\n",
       "<table border=\"1\" class=\"dataframe\">\n",
       "  <thead>\n",
       "    <tr style=\"text-align: right;\">\n",
       "      <th></th>\n",
       "      <th>Active Cases</th>\n",
       "    </tr>\n",
       "    <tr>\n",
       "      <th>Date</th>\n",
       "      <th></th>\n",
       "    </tr>\n",
       "  </thead>\n",
       "  <tbody>\n",
       "    <tr>\n",
       "      <th>2020-04-07</th>\n",
       "      <td>7536</td>\n",
       "    </tr>\n",
       "    <tr>\n",
       "      <th>2020-04-08</th>\n",
       "      <td>8397</td>\n",
       "    </tr>\n",
       "    <tr>\n",
       "      <th>2020-04-09</th>\n",
       "      <td>8919</td>\n",
       "    </tr>\n",
       "    <tr>\n",
       "      <th>2020-04-10</th>\n",
       "      <td>10067</td>\n",
       "    </tr>\n",
       "    <tr>\n",
       "      <th>2020-04-11</th>\n",
       "      <td>10682</td>\n",
       "    </tr>\n",
       "    <tr>\n",
       "      <th>...</th>\n",
       "      <td>...</td>\n",
       "    </tr>\n",
       "    <tr>\n",
       "      <th>2020-06-21</th>\n",
       "      <td>49601</td>\n",
       "    </tr>\n",
       "    <tr>\n",
       "      <th>2020-06-22</th>\n",
       "      <td>51322</td>\n",
       "    </tr>\n",
       "    <tr>\n",
       "      <th>2020-06-23</th>\n",
       "      <td>55207</td>\n",
       "    </tr>\n",
       "    <tr>\n",
       "      <th>2020-06-24</th>\n",
       "      <td>58304</td>\n",
       "    </tr>\n",
       "    <tr>\n",
       "      <th>2020-06-25</th>\n",
       "      <td>62321</td>\n",
       "    </tr>\n",
       "  </tbody>\n",
       "</table>\n",
       "<p>80 rows × 1 columns</p>\n",
       "</div>"
      ],
      "text/plain": [
       "            Active Cases\n",
       "Date                    \n",
       "2020-04-07          7536\n",
       "2020-04-08          8397\n",
       "2020-04-09          8919\n",
       "2020-04-10         10067\n",
       "2020-04-11         10682\n",
       "...                  ...\n",
       "2020-06-21         49601\n",
       "2020-06-22         51322\n",
       "2020-06-23         55207\n",
       "2020-06-24         58304\n",
       "2020-06-25         62321\n",
       "\n",
       "[80 rows x 1 columns]"
      ]
     },
     "execution_count": 11,
     "metadata": {},
     "output_type": "execute_result"
    }
   ],
   "source": [
    "c"
   ]
  },
  {
   "cell_type": "code",
   "execution_count": 12,
   "metadata": {},
   "outputs": [],
   "source": [
    "x = c.diff(periods = 1)"
   ]
  },
  {
   "cell_type": "code",
   "execution_count": 13,
   "metadata": {},
   "outputs": [
    {
     "name": "stdout",
     "output_type": "stream",
     "text": [
      "[nan]\n",
      "[861.]\n",
      "[522.]\n",
      "[1148.]\n",
      "[615.]\n",
      "[508.]\n",
      "[151.]\n",
      "[377.]\n",
      "[254.]\n",
      "[407.]\n",
      "[371.]\n",
      "[242.]\n",
      "[151.]\n",
      "[160.]\n",
      "[150.]\n",
      "[363.]\n",
      "[320.]\n",
      "[276.]\n",
      "[392.]\n",
      "[497.]\n",
      "[286.]\n",
      "[229.]\n",
      "[313.]\n",
      "[192.]\n",
      "[552.]\n",
      "[743.]\n",
      "[607.]\n",
      "[342.]\n",
      "[333.]\n",
      "[420.]\n",
      "[211.]\n",
      "[619.]\n",
      "[-619.]\n",
      "[1943.]\n",
      "[463.]\n",
      "[370.]\n",
      "[670.]\n",
      "[690.]\n",
      "[287.]\n",
      "[900.]\n",
      "[491.]\n",
      "[230.]\n",
      "[307.]\n",
      "[243.]\n",
      "[3.]\n",
      "[284.]\n",
      "[309.]\n",
      "[326.]\n",
      "[119.]\n",
      "[-262.]\n",
      "[213.]\n",
      "[866.]\n",
      "[95.]\n",
      "[518.]\n",
      "[1473.]\n",
      "[-325.]\n",
      "[623.]\n",
      "[289.]\n",
      "[-613.]\n",
      "[499.]\n",
      "[1017.]\n",
      "[764.]\n",
      "[-145.]\n",
      "[551.]\n",
      "[967.]\n",
      "[-55.]\n",
      "[820.]\n",
      "[1239.]\n",
      "[608.]\n",
      "[316.]\n",
      "[2034.]\n",
      "[1496.]\n",
      "[1984.]\n",
      "[1671.]\n",
      "[2968.]\n",
      "[2826.]\n",
      "[1721.]\n",
      "[3885.]\n",
      "[3097.]\n",
      "[4017.]\n"
     ]
    }
   ],
   "source": [
    "for y in x.values:\n",
    "    print(y)"
   ]
  },
  {
   "cell_type": "code",
   "execution_count": 14,
   "metadata": {},
   "outputs": [],
   "source": [
    "x.rename(columns={'Active Cases':'Change In Active Cases'}, inplace = True)"
   ]
  },
  {
   "cell_type": "code",
   "execution_count": 15,
   "metadata": {},
   "outputs": [
    {
     "data": {
      "image/png": "[encoded data removed]",
      "text/plain": [
       "<Figure size 1080x576 with 1 Axes>"
      ]
     },
     "metadata": {
      "needs_background": "light"
     },
     "output_type": "display_data"
    }
   ],
   "source": [
    "months = mdates.MonthLocator()\n",
    "days = mdates.DayLocator()\n",
    "timeFmt = mdates.DateFormatter('%b %Y')\n",
    "fig, ax = plt.subplots()\n",
    "fig.set_size_inches(15,8)\n",
    "ax.xaxis.set_major_locator(months)\n",
    "ax.xaxis.set_major_formatter(timeFmt)\n",
    "ax.xaxis.set_minor_locator(days)\n",
    "plt.xlabel('Date',color='black')\n",
    "plt.ylabel('Change In Active Cases',color='black')\n",
    "plt.title('Change Total All Texas Counties In Active Cases')\n",
    "plt.bar(x.index,x['Change In Active Cases'])\n",
    "fig.savefig('TexasChangeInActiveCases.png')"
   ]
  },
  {
   "cell_type": "code",
   "execution_count": null,
   "metadata": {},
   "outputs": [],
   "source": []
  }
 ],
 "metadata": {
  "kernelspec": {
   "display_name": "Python 3",
   "language": "python",
   "name": "python3"
  },
  "language_info": {
   "codemirror_mode": {
    "name": "ipython",
    "version": 3
   },
   "file_extension": ".py",
   "mimetype": "text/x-python",
   "name": "python",
   "nbconvert_exporter": "python",
   "pygments_lexer": "ipython3",
   "version": "3.8.2"
  }
 },
 "nbformat": 4,
 "nbformat_minor": 2
}
