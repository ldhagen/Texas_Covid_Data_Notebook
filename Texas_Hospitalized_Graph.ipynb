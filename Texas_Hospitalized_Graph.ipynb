{
 "cells": [
  {
   "cell_type": "code",
   "execution_count": 27,
   "metadata": {},
   "outputs": [],
   "source": [
    "import pandas as pd\n",
    "import matplotlib.pyplot as plt\n",
    "import numpy as np\n",
    "import datetime"
   ]
  },
  {
   "cell_type": "code",
   "execution_count": 28,
   "metadata": {},
   "outputs": [
    {
     "name": "stdout",
     "output_type": "stream",
     "text": [
      "-rwxrwxrwx 1 ldhagen ldhagen  53587 Jul  7 16:36 \u001b[0m\u001b[01;32m'../Texas Hospital Capacity over Time by TSA Region.xlsx'\u001b[0m*\r\n",
      "-rwxrwxrwx 1 ldhagen ldhagen  30566 Jul  7 16:36 \u001b[01;32m'../Texas COVID-19 Hospitalizations over Time by TSA Region.xlsx'\u001b[0m\u001b[K*\r\n",
      "-rwxrwxrwx 1 ldhagen ldhagen 127443 Jul  7 16:36 \u001b[01;32m'../Cumulative Tests over Time by County.xlsx'\u001b[0m*\r\n",
      "-rwxrwxrwx 1 ldhagen ldhagen  82895 Jul  7 16:36 \u001b[01;32m'../Texas COVID-19 Active Case Data by County.xlsx'\u001b[0m*\r\n",
      "-rwxrwxrwx 1 ldhagen ldhagen 113363 Jul  7 16:36 \u001b[01;32m'../Texas COVID-19 Fatality Count Data by County.xlsx'\u001b[0m*\r\n",
      "-rwxrwxrwx 1 ldhagen ldhagen 138184 Jul  7 16:36 \u001b[01;32m'../Texas COVID-19 Case Count Data by County.xlsx'\u001b[0m*\r\n"
     ]
    }
   ],
   "source": [
    "ls -alt ../*.xlsx"
   ]
  },
  {
   "cell_type": "code",
   "execution_count": 29,
   "metadata": {},
   "outputs": [],
   "source": [
    "df_Texas_Covid_case = pd.read_excel(\"../Texas COVID-19 Hospitalizations over Time by TSA Region.xlsx\", header=2)"
   ]
  },
  {
   "cell_type": "code",
   "execution_count": 30,
   "metadata": {},
   "outputs": [
    {
     "data": {
      "text/plain": [
       "Index(['TSA ID', 'TSA AREA', '2020-04-12', '2020-04-13', '2020-04-14',\n",
       "       '2020-04-15', '2020-04-16', '2020-04-17', '2020-04-18', '2020-04-19',\n",
       "       '2020-04-20', '2020-04-21', '2020-04-22', '2020-04-23', '2020-04-24',\n",
       "       '2020-04-25', '2020-04-26', '2020-04-27', '2020-04-28', '2020-04-29',\n",
       "       '2020-04-30', '2020-05-01', '2020-05-02', '2020-05-03', '2020-05-04',\n",
       "       '2020-05-05', '2020-05-06', '2020-05-07', '2020-05-08', '2020-05-09',\n",
       "       '2020-05-10', '2020-05-11', '2020-05-12', '2020-05-13', '2020-05-14',\n",
       "       '2020-05-15', '2020-05-16', '2020-05-17', '2020-05-18', '2020-05-19',\n",
       "       '2020-05-20', '2020-05-21', '2020-05-22', '2020-05-23', '2020-05-24',\n",
       "       '2020-05-25', '2020-05-26', '2020-05-27', '2020-05-28', '2020-05-29',\n",
       "       '2020-05-30', '2020-05-31', '2020-06-01', '2020-06-02', '2020-06-03',\n",
       "       '2020-06-04', '2020-06-05', '2020-06-06', '2020-06-07', '2020-06-08',\n",
       "       '2020-06-09', '2020-06-10', '2020-06-11', '2020-06-12', '2020-06-13',\n",
       "       '2020-06-14', '2020-06-15', '2020-06-16', '2020-06-17', '2020-06-18',\n",
       "       '2020-06-19', '2020-06-20', '2020-06-21', '2020-06-22', '2020-06-23',\n",
       "       '2020-06-24', '2020-06-25', '2020-06-26', '2020-06-27', '2020-06-28',\n",
       "       '2020-06-29', '2020-06-30', '2020-07-01', '2020-07-02', '2020-07-03',\n",
       "       '2020-07-04', '2020-07-05', '2020-07-06', '2020-07-07'],\n",
       "      dtype='object')"
      ]
     },
     "execution_count": 30,
     "metadata": {},
     "output_type": "execute_result"
    }
   ],
   "source": [
    "df_Texas_Covid_case.T.index"
   ]
  },
  {
   "cell_type": "code",
   "execution_count": 31,
   "metadata": {},
   "outputs": [],
   "source": [
    "a = df_Texas_Covid_case.set_index('TSA AREA')"
   ]
  },
  {
   "cell_type": "code",
   "execution_count": 32,
   "metadata": {},
   "outputs": [
    {
     "data": {
      "text/plain": [
       "'2020-04-12'"
      ]
     },
     "execution_count": 32,
     "metadata": {},
     "output_type": "execute_result"
    }
   ],
   "source": [
    "a.T['Statewide Total'][1:].index[0]"
   ]
  },
  {
   "cell_type": "code",
   "execution_count": 33,
   "metadata": {},
   "outputs": [],
   "source": [
    "count = 0\n",
    "dated_dict = {}\n",
    "for x in a.T['Statewide Total'][1:]:\n",
    "#    print(a.T['Statewide Total'][1:].index[count], x)\n",
    "    dated_dict[a.T['Statewide Total'][1:].index[count]] = x\n",
    "    count += 1"
   ]
  },
  {
   "cell_type": "code",
   "execution_count": 34,
   "metadata": {},
   "outputs": [],
   "source": [
    "dated_df = pd.DataFrame(dated_dict.items(), columns=['Date', 'Hospitalized'])"
   ]
  },
  {
   "cell_type": "code",
   "execution_count": 35,
   "metadata": {},
   "outputs": [],
   "source": [
    "c = dated_df.set_index('Date')"
   ]
  },
  {
   "cell_type": "code",
   "execution_count": 36,
   "metadata": {},
   "outputs": [
    {
     "data": {
      "image/png": "[encoded data removed]",
      "text/plain": [
       "<Figure size 1080x576 with 1 Axes>"
      ]
     },
     "metadata": {
      "needs_background": "light"
     },
     "output_type": "display_data"
    }
   ],
   "source": [
    "import datetime\n",
    "import matplotlib.dates as mdates\n",
    "months = mdates.MonthLocator()\n",
    "days = mdates.DayLocator()\n",
    "timeFmt = mdates.DateFormatter('%b %Y')\n",
    "fig, ax = plt.subplots()\n",
    "fig.set_size_inches(15,8)\n",
    "ax.xaxis.set_major_locator(months)\n",
    "ax.xaxis.set_major_formatter(timeFmt)\n",
    "ax.xaxis.set_minor_locator(days)\n",
    "plt.xlabel('Date',color='black')\n",
    "plt.ylabel('Number Hospitalized',color='black')\n",
    "plt.plot(c)\n",
    "plt.title('Texas Hospitalized COVID19 Cases')\n",
    "plt.savefig('Texas Hospitalized.png')"
   ]
  },
  {
   "cell_type": "code",
   "execution_count": 37,
   "metadata": {},
   "outputs": [
    {
     "data": {
      "text/html": [
       "<div>\n",
       "<style scoped>\n",
       "    .dataframe tbody tr th:only-of-type {\n",
       "        vertical-align: middle;\n",
       "    }\n",
       "\n",
       "    .dataframe tbody tr th {\n",
       "        vertical-align: top;\n",
       "    }\n",
       "\n",
       "    .dataframe thead th {\n",
       "        text-align: right;\n",
       "    }\n",
       "</style>\n",
       "<table border=\"1\" class=\"dataframe\">\n",
       "  <thead>\n",
       "    <tr style=\"text-align: right;\">\n",
       "      <th></th>\n",
       "      <th>Hospitalized</th>\n",
       "    </tr>\n",
       "    <tr>\n",
       "      <th>Date</th>\n",
       "      <th></th>\n",
       "    </tr>\n",
       "  </thead>\n",
       "  <tbody>\n",
       "    <tr>\n",
       "      <th>2020-04-12</th>\n",
       "      <td>1338</td>\n",
       "    </tr>\n",
       "    <tr>\n",
       "      <th>2020-04-13</th>\n",
       "      <td>1176</td>\n",
       "    </tr>\n",
       "    <tr>\n",
       "      <th>2020-04-14</th>\n",
       "      <td>1409</td>\n",
       "    </tr>\n",
       "    <tr>\n",
       "      <th>2020-04-15</th>\n",
       "      <td>1568</td>\n",
       "    </tr>\n",
       "    <tr>\n",
       "      <th>2020-04-16</th>\n",
       "      <td>1459</td>\n",
       "    </tr>\n",
       "    <tr>\n",
       "      <th>...</th>\n",
       "      <td>...</td>\n",
       "    </tr>\n",
       "    <tr>\n",
       "      <th>2020-07-03</th>\n",
       "      <td>7652</td>\n",
       "    </tr>\n",
       "    <tr>\n",
       "      <th>2020-07-04</th>\n",
       "      <td>7890</td>\n",
       "    </tr>\n",
       "    <tr>\n",
       "      <th>2020-07-05</th>\n",
       "      <td>8181</td>\n",
       "    </tr>\n",
       "    <tr>\n",
       "      <th>2020-07-06</th>\n",
       "      <td>8698</td>\n",
       "    </tr>\n",
       "    <tr>\n",
       "      <th>2020-07-07</th>\n",
       "      <td>9286</td>\n",
       "    </tr>\n",
       "  </tbody>\n",
       "</table>\n",
       "<p>87 rows × 1 columns</p>\n",
       "</div>"
      ],
      "text/plain": [
       "            Hospitalized\n",
       "Date                    \n",
       "2020-04-12          1338\n",
       "2020-04-13          1176\n",
       "2020-04-14          1409\n",
       "2020-04-15          1568\n",
       "2020-04-16          1459\n",
       "...                  ...\n",
       "2020-07-03          7652\n",
       "2020-07-04          7890\n",
       "2020-07-05          8181\n",
       "2020-07-06          8698\n",
       "2020-07-07          9286\n",
       "\n",
       "[87 rows x 1 columns]"
      ]
     },
     "execution_count": 37,
     "metadata": {},
     "output_type": "execute_result"
    }
   ],
   "source": [
    "c"
   ]
  },
  {
   "cell_type": "code",
   "execution_count": 38,
   "metadata": {},
   "outputs": [],
   "source": [
    "x = c.diff(periods = 1)"
   ]
  },
  {
   "cell_type": "code",
   "execution_count": 39,
   "metadata": {},
   "outputs": [],
   "source": [
    "x.rename(columns={'Hospitalized':'Daily Change'}, inplace=True)"
   ]
  },
  {
   "cell_type": "code",
   "execution_count": 40,
   "metadata": {},
   "outputs": [],
   "source": [
    "x_7day_moving= x.rolling(7).mean().shift()"
   ]
  },
  {
   "cell_type": "code",
   "execution_count": 41,
   "metadata": {},
   "outputs": [
    {
     "data": {
      "image/png": "[encoded data removed]",
      "text/plain": [
       "<Figure size 1080x576 with 1 Axes>"
      ]
     },
     "metadata": {
      "needs_background": "light"
     },
     "output_type": "display_data"
    }
   ],
   "source": [
    "months = mdates.MonthLocator()\n",
    "days = mdates.DayLocator()\n",
    "timeFmt = mdates.DateFormatter('%b %Y')\n",
    "fig, ax = plt.subplots()\n",
    "fig.set_size_inches(15,8)\n",
    "ax.xaxis.set_major_locator(months)\n",
    "ax.xaxis.set_major_formatter(timeFmt)\n",
    "ax.xaxis.set_minor_locator(days)\n",
    "plt.xlabel('Date',color='black')\n",
    "plt.ylabel('New Cases',color='black')\n",
    "plt.title('Texas Hospitalized Daily Change')\n",
    "plt.bar(x.index,x['Daily Change'])\n",
    "plt.plot(x_7day_moving, 'ro-')\n",
    "plt.legend(['7 Day Rolling Average','Daily Case Change'])\n",
    "fig.savefig('TexasrHospChangeDaily.png')"
   ]
  },
  {
   "cell_type": "code",
   "execution_count": 42,
   "metadata": {},
   "outputs": [
    {
     "data": {
      "text/html": [
       "<div>\n",
       "<style scoped>\n",
       "    .dataframe tbody tr th:only-of-type {\n",
       "        vertical-align: middle;\n",
       "    }\n",
       "\n",
       "    .dataframe tbody tr th {\n",
       "        vertical-align: top;\n",
       "    }\n",
       "\n",
       "    .dataframe thead th {\n",
       "        text-align: right;\n",
       "    }\n",
       "</style>\n",
       "<table border=\"1\" class=\"dataframe\">\n",
       "  <thead>\n",
       "    <tr style=\"text-align: right;\">\n",
       "      <th></th>\n",
       "      <th>Daily Change</th>\n",
       "    </tr>\n",
       "    <tr>\n",
       "      <th>Date</th>\n",
       "      <th></th>\n",
       "    </tr>\n",
       "  </thead>\n",
       "  <tbody>\n",
       "    <tr>\n",
       "      <th>2020-04-12</th>\n",
       "      <td>NaN</td>\n",
       "    </tr>\n",
       "    <tr>\n",
       "      <th>2020-04-13</th>\n",
       "      <td>-162.0</td>\n",
       "    </tr>\n",
       "    <tr>\n",
       "      <th>2020-04-14</th>\n",
       "      <td>233.0</td>\n",
       "    </tr>\n",
       "    <tr>\n",
       "      <th>2020-04-15</th>\n",
       "      <td>159.0</td>\n",
       "    </tr>\n",
       "    <tr>\n",
       "      <th>2020-04-16</th>\n",
       "      <td>-109.0</td>\n",
       "    </tr>\n",
       "    <tr>\n",
       "      <th>...</th>\n",
       "      <td>...</td>\n",
       "    </tr>\n",
       "    <tr>\n",
       "      <th>2020-07-03</th>\n",
       "      <td>270.0</td>\n",
       "    </tr>\n",
       "    <tr>\n",
       "      <th>2020-07-04</th>\n",
       "      <td>238.0</td>\n",
       "    </tr>\n",
       "    <tr>\n",
       "      <th>2020-07-05</th>\n",
       "      <td>291.0</td>\n",
       "    </tr>\n",
       "    <tr>\n",
       "      <th>2020-07-06</th>\n",
       "      <td>517.0</td>\n",
       "    </tr>\n",
       "    <tr>\n",
       "      <th>2020-07-07</th>\n",
       "      <td>588.0</td>\n",
       "    </tr>\n",
       "  </tbody>\n",
       "</table>\n",
       "<p>87 rows × 1 columns</p>\n",
       "</div>"
      ],
      "text/plain": [
       "            Daily Change\n",
       "Date                    \n",
       "2020-04-12           NaN\n",
       "2020-04-13        -162.0\n",
       "2020-04-14         233.0\n",
       "2020-04-15         159.0\n",
       "2020-04-16        -109.0\n",
       "...                  ...\n",
       "2020-07-03         270.0\n",
       "2020-07-04         238.0\n",
       "2020-07-05         291.0\n",
       "2020-07-06         517.0\n",
       "2020-07-07         588.0\n",
       "\n",
       "[87 rows x 1 columns]"
      ]
     },
     "execution_count": 42,
     "metadata": {},
     "output_type": "execute_result"
    }
   ],
   "source": [
    "x"
   ]
  },
  {
   "cell_type": "code",
   "execution_count": 43,
   "metadata": {},
   "outputs": [
    {
     "data": {
      "text/html": [
       "<div>\n",
       "<style scoped>\n",
       "    .dataframe tbody tr th:only-of-type {\n",
       "        vertical-align: middle;\n",
       "    }\n",
       "\n",
       "    .dataframe tbody tr th {\n",
       "        vertical-align: top;\n",
       "    }\n",
       "\n",
       "    .dataframe thead th {\n",
       "        text-align: right;\n",
       "    }\n",
       "</style>\n",
       "<table border=\"1\" class=\"dataframe\">\n",
       "  <thead>\n",
       "    <tr style=\"text-align: right;\">\n",
       "      <th></th>\n",
       "      <th>Daily Change</th>\n",
       "    </tr>\n",
       "    <tr>\n",
       "      <th>Date</th>\n",
       "      <th></th>\n",
       "    </tr>\n",
       "  </thead>\n",
       "  <tbody>\n",
       "    <tr>\n",
       "      <th>2020-06-30</th>\n",
       "      <td>620.0</td>\n",
       "    </tr>\n",
       "    <tr>\n",
       "      <th>2020-07-06</th>\n",
       "      <td>517.0</td>\n",
       "    </tr>\n",
       "    <tr>\n",
       "      <th>2020-07-07</th>\n",
       "      <td>588.0</td>\n",
       "    </tr>\n",
       "  </tbody>\n",
       "</table>\n",
       "</div>"
      ],
      "text/plain": [
       "            Daily Change\n",
       "Date                    \n",
       "2020-06-30         620.0\n",
       "2020-07-06         517.0\n",
       "2020-07-07         588.0"
      ]
     },
     "execution_count": 43,
     "metadata": {},
     "output_type": "execute_result"
    }
   ],
   "source": [
    "x[x['Daily Change'] > 515]\n"
   ]
  },
  {
   "cell_type": "code",
   "execution_count": null,
   "metadata": {},
   "outputs": [],
   "source": []
  }
 ],
 "metadata": {
  "kernelspec": {
   "display_name": "Python 3",
   "language": "python",
   "name": "python3"
  },
  "language_info": {
   "codemirror_mode": {
    "name": "ipython",
    "version": 3
   },
   "file_extension": ".py",
   "mimetype": "text/x-python",
   "name": "python",
   "nbconvert_exporter": "python",
   "pygments_lexer": "ipython3",
   "version": "3.8.2"
  }
 },
 "nbformat": 4,
 "nbformat_minor": 2
}
