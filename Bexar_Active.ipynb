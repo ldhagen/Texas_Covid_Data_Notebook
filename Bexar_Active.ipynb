{
 "cells": [
  {
   "cell_type": "code",
   "execution_count": 1,
   "metadata": {},
   "outputs": [],
   "source": [
    "import pandas as pd"
   ]
  },
  {
   "cell_type": "code",
   "execution_count": 2,
   "metadata": {},
   "outputs": [
    {
     "name": "stdout",
     "output_type": "stream",
     "text": [
      "total 1300\r\n",
      "-rw------- 1 ldhagen ldhagen  14084 Jun  8 19:43  nohup.out\r\n",
      "drwxr-xr-x 4 ldhagen ldhagen   4096 Jun  8 19:39  .\r\n",
      "-rw-r--r-- 1 ldhagen ldhagen  84520 Jun  8 19:38 'Texas COVID-19 Case Count Data by County.xlsx'\r\n",
      "-rw-r--r-- 1 ldhagen ldhagen  16319 Jun  8 19:36 'Texas COVID-19 Hospitalizations by TSA.xlsx'\r\n",
      "-rw-r--r-- 1 ldhagen ldhagen  76453 Jun  8 19:36 'Cumulative Tests over Time by County.xlsx'\r\n",
      "-rw-r--r-- 1 ldhagen ldhagen  74040 Jun  8 19:36 'Texas COVID-19 Active Case Data by County.xlsx'\r\n",
      "-rw-r--r-- 1 ldhagen ldhagen  70518 Jun  8 19:36 'Texas COVID-19 Fatality Count Data by County.xlsx'\r\n",
      "drwxr-xr-x 4 ldhagen ldhagen   4096 Jun  8 17:41  Texas_Covid_Data_Notebook\r\n",
      "drwxr-xr-x 4 ldhagen ldhagen   4096 Jun  7 20:24  ..\r\n",
      "-rw-r--r-- 1 ldhagen ldhagen 955719 Jun  6 17:57  ME097_WS_San_Geronimo_180_D_2020_06_06_17_57_19_CDT_1.csv\r\n",
      "drwxr-xr-x 2 ldhagen ldhagen   4096 Jun  4 19:59  .ipynb_checkpoints\r\n",
      "-rw-r--r-- 1 ldhagen ldhagen     72 Jun  4 19:59  Untitled1.ipynb\r\n",
      "-rw-r--r-- 1 ldhagen ldhagen     72 Jun  2 18:26  Untitled.ipynb\r\n"
     ]
    }
   ],
   "source": [
    "!ls -alt .."
   ]
  },
  {
   "cell_type": "code",
   "execution_count": 3,
   "metadata": {},
   "outputs": [],
   "source": [
    "df_Texas_Covid_case = pd.read_excel(\"../Texas COVID-19 Active Case Data by County.xlsx\",header=2)"
   ]
  },
  {
   "cell_type": "code",
   "execution_count": 4,
   "metadata": {},
   "outputs": [],
   "source": [
    "a = df_Texas_Covid_case.set_index('County')"
   ]
  },
  {
   "cell_type": "code",
   "execution_count": 5,
   "metadata": {},
   "outputs": [
    {
     "data": {
      "text/html": [
       "<div>\n",
       "<style scoped>\n",
       "    .dataframe tbody tr th:only-of-type {\n",
       "        vertical-align: middle;\n",
       "    }\n",
       "\n",
       "    .dataframe tbody tr th {\n",
       "        vertical-align: top;\n",
       "    }\n",
       "\n",
       "    .dataframe thead th {\n",
       "        text-align: right;\n",
       "    }\n",
       "</style>\n",
       "<table border=\"1\" class=\"dataframe\">\n",
       "  <thead>\n",
       "    <tr style=\"text-align: right;\">\n",
       "      <th></th>\n",
       "      <th>Unnamed: 0</th>\n",
       "      <th>Active\\r\\nCases\\r\\n4-7</th>\n",
       "      <th>Active\\r\\nCases\\r\\n4-8</th>\n",
       "      <th>Active\\r\\nCases\\r\\n4-9</th>\n",
       "      <th>Active\\r\\nCases\\r\\n4-10</th>\n",
       "      <th>Active\\r\\nCases\\r\\n4-11</th>\n",
       "      <th>Active\\r\\nCases\\r\\n4-12</th>\n",
       "      <th>Active\\r\\nCases\\r\\n4-13</th>\n",
       "      <th>Active\\r\\nCases\\r\\n4-14</th>\n",
       "      <th>Active\\r\\nCases\\r\\n4-15</th>\n",
       "      <th>...</th>\n",
       "      <th>Active\\r\\nCases\\r\\n5-29</th>\n",
       "      <th>Active\\r\\nCases\\r\\n5-30</th>\n",
       "      <th>Active\\r\\nCases\\r\\n5-31</th>\n",
       "      <th>Active\\r\\nCases\\r\\n6-1</th>\n",
       "      <th>Active\\r\\nCases\\r\\n6-2</th>\n",
       "      <th>Active\\r\\nCases\\r\\n6-3</th>\n",
       "      <th>Active\\r\\nCases\\r\\n6-4</th>\n",
       "      <th>Active\\r\\nCases\\r\\n6-5</th>\n",
       "      <th>Active\\r\\nCases\\r\\n6-6</th>\n",
       "      <th>Active Cases 06-08</th>\n",
       "    </tr>\n",
       "    <tr>\n",
       "      <th>County</th>\n",
       "      <th></th>\n",
       "      <th></th>\n",
       "      <th></th>\n",
       "      <th></th>\n",
       "      <th></th>\n",
       "      <th></th>\n",
       "      <th></th>\n",
       "      <th></th>\n",
       "      <th></th>\n",
       "      <th></th>\n",
       "      <th></th>\n",
       "      <th></th>\n",
       "      <th></th>\n",
       "      <th></th>\n",
       "      <th></th>\n",
       "      <th></th>\n",
       "      <th></th>\n",
       "      <th></th>\n",
       "      <th></th>\n",
       "      <th></th>\n",
       "      <th></th>\n",
       "    </tr>\n",
       "  </thead>\n",
       "  <tbody>\n",
       "    <tr>\n",
       "      <th>Anderson</th>\n",
       "      <td>NaN</td>\n",
       "      <td>1</td>\n",
       "      <td>1</td>\n",
       "      <td>2</td>\n",
       "      <td>2</td>\n",
       "      <td>3</td>\n",
       "      <td>3</td>\n",
       "      <td>3</td>\n",
       "      <td>3</td>\n",
       "      <td>3</td>\n",
       "      <td>...</td>\n",
       "      <td>27</td>\n",
       "      <td>24</td>\n",
       "      <td>24</td>\n",
       "      <td>23</td>\n",
       "      <td>22</td>\n",
       "      <td>23</td>\n",
       "      <td>28</td>\n",
       "      <td>29</td>\n",
       "      <td>25</td>\n",
       "      <td>25</td>\n",
       "    </tr>\n",
       "    <tr>\n",
       "      <th>Andrews</th>\n",
       "      <td>NaN</td>\n",
       "      <td>10</td>\n",
       "      <td>10</td>\n",
       "      <td>10</td>\n",
       "      <td>11</td>\n",
       "      <td>11</td>\n",
       "      <td>11</td>\n",
       "      <td>12</td>\n",
       "      <td>13</td>\n",
       "      <td>13</td>\n",
       "      <td>...</td>\n",
       "      <td>6</td>\n",
       "      <td>6</td>\n",
       "      <td>6</td>\n",
       "      <td>6</td>\n",
       "      <td>5</td>\n",
       "      <td>5</td>\n",
       "      <td>5</td>\n",
       "      <td>0</td>\n",
       "      <td>0</td>\n",
       "      <td>0</td>\n",
       "    </tr>\n",
       "    <tr>\n",
       "      <th>Angelina</th>\n",
       "      <td>†</td>\n",
       "      <td>14</td>\n",
       "      <td>14</td>\n",
       "      <td>14</td>\n",
       "      <td>15</td>\n",
       "      <td>15</td>\n",
       "      <td>14</td>\n",
       "      <td>14</td>\n",
       "      <td>14</td>\n",
       "      <td>13</td>\n",
       "      <td>...</td>\n",
       "      <td>109</td>\n",
       "      <td>111</td>\n",
       "      <td>111</td>\n",
       "      <td>111</td>\n",
       "      <td>120</td>\n",
       "      <td>105</td>\n",
       "      <td>105</td>\n",
       "      <td>105</td>\n",
       "      <td>110</td>\n",
       "      <td>110</td>\n",
       "    </tr>\n",
       "    <tr>\n",
       "      <th>Aransas</th>\n",
       "      <td>NaN</td>\n",
       "      <td>1</td>\n",
       "      <td>2</td>\n",
       "      <td>2</td>\n",
       "      <td>2</td>\n",
       "      <td>2</td>\n",
       "      <td>2</td>\n",
       "      <td>2</td>\n",
       "      <td>2</td>\n",
       "      <td>2</td>\n",
       "      <td>...</td>\n",
       "      <td>2</td>\n",
       "      <td>2</td>\n",
       "      <td>2</td>\n",
       "      <td>2</td>\n",
       "      <td>2</td>\n",
       "      <td>1</td>\n",
       "      <td>1</td>\n",
       "      <td>1</td>\n",
       "      <td>1</td>\n",
       "      <td>1</td>\n",
       "    </tr>\n",
       "    <tr>\n",
       "      <th>Archer</th>\n",
       "      <td>NaN</td>\n",
       "      <td>0</td>\n",
       "      <td>0</td>\n",
       "      <td>0</td>\n",
       "      <td>0</td>\n",
       "      <td>0</td>\n",
       "      <td>0</td>\n",
       "      <td>0</td>\n",
       "      <td>0</td>\n",
       "      <td>0</td>\n",
       "      <td>...</td>\n",
       "      <td>0</td>\n",
       "      <td>0</td>\n",
       "      <td>0</td>\n",
       "      <td>0</td>\n",
       "      <td>0</td>\n",
       "      <td>0</td>\n",
       "      <td>0</td>\n",
       "      <td>1</td>\n",
       "      <td>1</td>\n",
       "      <td>1</td>\n",
       "    </tr>\n",
       "    <tr>\n",
       "      <th>...</th>\n",
       "      <td>...</td>\n",
       "      <td>...</td>\n",
       "      <td>...</td>\n",
       "      <td>...</td>\n",
       "      <td>...</td>\n",
       "      <td>...</td>\n",
       "      <td>...</td>\n",
       "      <td>...</td>\n",
       "      <td>...</td>\n",
       "      <td>...</td>\n",
       "      <td>...</td>\n",
       "      <td>...</td>\n",
       "      <td>...</td>\n",
       "      <td>...</td>\n",
       "      <td>...</td>\n",
       "      <td>...</td>\n",
       "      <td>...</td>\n",
       "      <td>...</td>\n",
       "      <td>...</td>\n",
       "      <td>...</td>\n",
       "      <td>...</td>\n",
       "    </tr>\n",
       "    <tr>\n",
       "      <th>Wood</th>\n",
       "      <td>NaN</td>\n",
       "      <td>4</td>\n",
       "      <td>4</td>\n",
       "      <td>4</td>\n",
       "      <td>5</td>\n",
       "      <td>5</td>\n",
       "      <td>5</td>\n",
       "      <td>5</td>\n",
       "      <td>6</td>\n",
       "      <td>5</td>\n",
       "      <td>...</td>\n",
       "      <td>11</td>\n",
       "      <td>12</td>\n",
       "      <td>12</td>\n",
       "      <td>12</td>\n",
       "      <td>11</td>\n",
       "      <td>16</td>\n",
       "      <td>17</td>\n",
       "      <td>17</td>\n",
       "      <td>25</td>\n",
       "      <td>25</td>\n",
       "    </tr>\n",
       "    <tr>\n",
       "      <th>Yoakum</th>\n",
       "      <td>NaN</td>\n",
       "      <td>0</td>\n",
       "      <td>0</td>\n",
       "      <td>0</td>\n",
       "      <td>0</td>\n",
       "      <td>0</td>\n",
       "      <td>0</td>\n",
       "      <td>0</td>\n",
       "      <td>0</td>\n",
       "      <td>0</td>\n",
       "      <td>...</td>\n",
       "      <td>1</td>\n",
       "      <td>1</td>\n",
       "      <td>1</td>\n",
       "      <td>1</td>\n",
       "      <td>1</td>\n",
       "      <td>0</td>\n",
       "      <td>0</td>\n",
       "      <td>0</td>\n",
       "      <td>0</td>\n",
       "      <td>0</td>\n",
       "    </tr>\n",
       "    <tr>\n",
       "      <th>Young</th>\n",
       "      <td>NaN</td>\n",
       "      <td>3</td>\n",
       "      <td>3</td>\n",
       "      <td>3</td>\n",
       "      <td>2</td>\n",
       "      <td>2</td>\n",
       "      <td>2</td>\n",
       "      <td>2</td>\n",
       "      <td>2</td>\n",
       "      <td>1</td>\n",
       "      <td>...</td>\n",
       "      <td>0</td>\n",
       "      <td>0</td>\n",
       "      <td>0</td>\n",
       "      <td>0</td>\n",
       "      <td>0</td>\n",
       "      <td>0</td>\n",
       "      <td>0</td>\n",
       "      <td>2</td>\n",
       "      <td>2</td>\n",
       "      <td>2</td>\n",
       "    </tr>\n",
       "    <tr>\n",
       "      <th>Zapata</th>\n",
       "      <td>NaN</td>\n",
       "      <td>1</td>\n",
       "      <td>1</td>\n",
       "      <td>3</td>\n",
       "      <td>3</td>\n",
       "      <td>3</td>\n",
       "      <td>3</td>\n",
       "      <td>3</td>\n",
       "      <td>3</td>\n",
       "      <td>4</td>\n",
       "      <td>...</td>\n",
       "      <td>1</td>\n",
       "      <td>2</td>\n",
       "      <td>2</td>\n",
       "      <td>2</td>\n",
       "      <td>3</td>\n",
       "      <td>3</td>\n",
       "      <td>3</td>\n",
       "      <td>3</td>\n",
       "      <td>3</td>\n",
       "      <td>4</td>\n",
       "    </tr>\n",
       "    <tr>\n",
       "      <th>Zavala</th>\n",
       "      <td>NaN</td>\n",
       "      <td>0</td>\n",
       "      <td>0</td>\n",
       "      <td>0</td>\n",
       "      <td>0</td>\n",
       "      <td>0</td>\n",
       "      <td>0</td>\n",
       "      <td>0</td>\n",
       "      <td>0</td>\n",
       "      <td>0</td>\n",
       "      <td>...</td>\n",
       "      <td>4</td>\n",
       "      <td>4</td>\n",
       "      <td>4</td>\n",
       "      <td>4</td>\n",
       "      <td>5</td>\n",
       "      <td>4</td>\n",
       "      <td>3</td>\n",
       "      <td>3</td>\n",
       "      <td>3</td>\n",
       "      <td>3</td>\n",
       "    </tr>\n",
       "  </tbody>\n",
       "</table>\n",
       "<p>254 rows × 63 columns</p>\n",
       "</div>"
      ],
      "text/plain": [
       "         Unnamed: 0  Active\\r\\nCases\\r\\n4-7  Active\\r\\nCases\\r\\n4-8  \\\n",
       "County                                                                \n",
       "Anderson        NaN                       1                       1   \n",
       "Andrews         NaN                      10                      10   \n",
       "Angelina          †                      14                      14   \n",
       "Aransas         NaN                       1                       2   \n",
       "Archer          NaN                       0                       0   \n",
       "...             ...                     ...                     ...   \n",
       "Wood            NaN                       4                       4   \n",
       "Yoakum          NaN                       0                       0   \n",
       "Young           NaN                       3                       3   \n",
       "Zapata          NaN                       1                       1   \n",
       "Zavala          NaN                       0                       0   \n",
       "\n",
       "          Active\\r\\nCases\\r\\n4-9  Active\\r\\nCases\\r\\n4-10  \\\n",
       "County                                                      \n",
       "Anderson                       2                        2   \n",
       "Andrews                       10                       11   \n",
       "Angelina                      14                       15   \n",
       "Aransas                        2                        2   \n",
       "Archer                         0                        0   \n",
       "...                          ...                      ...   \n",
       "Wood                           4                        5   \n",
       "Yoakum                         0                        0   \n",
       "Young                          3                        2   \n",
       "Zapata                         3                        3   \n",
       "Zavala                         0                        0   \n",
       "\n",
       "          Active\\r\\nCases\\r\\n4-11  Active\\r\\nCases\\r\\n4-12  \\\n",
       "County                                                       \n",
       "Anderson                        3                        3   \n",
       "Andrews                        11                       11   \n",
       "Angelina                       15                       14   \n",
       "Aransas                         2                        2   \n",
       "Archer                          0                        0   \n",
       "...                           ...                      ...   \n",
       "Wood                            5                        5   \n",
       "Yoakum                          0                        0   \n",
       "Young                           2                        2   \n",
       "Zapata                          3                        3   \n",
       "Zavala                          0                        0   \n",
       "\n",
       "          Active\\r\\nCases\\r\\n4-13  Active\\r\\nCases\\r\\n4-14  \\\n",
       "County                                                       \n",
       "Anderson                        3                        3   \n",
       "Andrews                        12                       13   \n",
       "Angelina                       14                       14   \n",
       "Aransas                         2                        2   \n",
       "Archer                          0                        0   \n",
       "...                           ...                      ...   \n",
       "Wood                            5                        6   \n",
       "Yoakum                          0                        0   \n",
       "Young                           2                        2   \n",
       "Zapata                          3                        3   \n",
       "Zavala                          0                        0   \n",
       "\n",
       "          Active\\r\\nCases\\r\\n4-15  ...  Active\\r\\nCases\\r\\n5-29  \\\n",
       "County                             ...                            \n",
       "Anderson                        3  ...                       27   \n",
       "Andrews                        13  ...                        6   \n",
       "Angelina                       13  ...                      109   \n",
       "Aransas                         2  ...                        2   \n",
       "Archer                          0  ...                        0   \n",
       "...                           ...  ...                      ...   \n",
       "Wood                            5  ...                       11   \n",
       "Yoakum                          0  ...                        1   \n",
       "Young                           1  ...                        0   \n",
       "Zapata                          4  ...                        1   \n",
       "Zavala                          0  ...                        4   \n",
       "\n",
       "          Active\\r\\nCases\\r\\n5-30  Active\\r\\nCases\\r\\n5-31  \\\n",
       "County                                                       \n",
       "Anderson                       24                       24   \n",
       "Andrews                         6                        6   \n",
       "Angelina                      111                      111   \n",
       "Aransas                         2                        2   \n",
       "Archer                          0                        0   \n",
       "...                           ...                      ...   \n",
       "Wood                           12                       12   \n",
       "Yoakum                          1                        1   \n",
       "Young                           0                        0   \n",
       "Zapata                          2                        2   \n",
       "Zavala                          4                        4   \n",
       "\n",
       "          Active\\r\\nCases\\r\\n6-1  Active\\r\\nCases\\r\\n6-2  \\\n",
       "County                                                     \n",
       "Anderson                      23                      22   \n",
       "Andrews                        6                       5   \n",
       "Angelina                     111                     120   \n",
       "Aransas                        2                       2   \n",
       "Archer                         0                       0   \n",
       "...                          ...                     ...   \n",
       "Wood                          12                      11   \n",
       "Yoakum                         1                       1   \n",
       "Young                          0                       0   \n",
       "Zapata                         2                       3   \n",
       "Zavala                         4                       5   \n",
       "\n",
       "          Active\\r\\nCases\\r\\n6-3  Active\\r\\nCases\\r\\n6-4  \\\n",
       "County                                                     \n",
       "Anderson                      23                      28   \n",
       "Andrews                        5                       5   \n",
       "Angelina                     105                     105   \n",
       "Aransas                        1                       1   \n",
       "Archer                         0                       0   \n",
       "...                          ...                     ...   \n",
       "Wood                          16                      17   \n",
       "Yoakum                         0                       0   \n",
       "Young                          0                       0   \n",
       "Zapata                         3                       3   \n",
       "Zavala                         4                       3   \n",
       "\n",
       "          Active\\r\\nCases\\r\\n6-5  Active\\r\\nCases\\r\\n6-6  Active Cases 06-08  \n",
       "County                                                                        \n",
       "Anderson                      29                      25                  25  \n",
       "Andrews                        0                       0                   0  \n",
       "Angelina                     105                     110                 110  \n",
       "Aransas                        1                       1                   1  \n",
       "Archer                         1                       1                   1  \n",
       "...                          ...                     ...                 ...  \n",
       "Wood                          17                      25                  25  \n",
       "Yoakum                         0                       0                   0  \n",
       "Young                          2                       2                   2  \n",
       "Zapata                         3                       3                   4  \n",
       "Zavala                         3                       3                   3  \n",
       "\n",
       "[254 rows x 63 columns]"
      ]
     },
     "execution_count": 5,
     "metadata": {},
     "output_type": "execute_result"
    }
   ],
   "source": [
    "a"
   ]
  },
  {
   "cell_type": "code",
   "execution_count": 6,
   "metadata": {},
   "outputs": [
    {
     "data": {
      "text/plain": [
       "Unnamed: 0                    †\n",
       "Active\\r\\nCases\\r\\n4-7      399\n",
       "Active\\r\\nCases\\r\\n4-8      431\n",
       "Active\\r\\nCases\\r\\n4-9      469\n",
       "Active\\r\\nCases\\r\\n4-10     507\n",
       "                           ... \n",
       "Active\\r\\nCases\\r\\n6-3      999\n",
       "Active\\r\\nCases\\r\\n6-4     1009\n",
       "Active\\r\\nCases\\r\\n6-5     1017\n",
       "Active\\r\\nCases\\r\\n6-6     1104\n",
       "Active Cases 06-08         1135\n",
       "Name: Bexar, Length: 63, dtype: object"
      ]
     },
     "execution_count": 6,
     "metadata": {},
     "output_type": "execute_result"
    }
   ],
   "source": [
    "a.T.Bexar"
   ]
  },
  {
   "cell_type": "code",
   "execution_count": 7,
   "metadata": {},
   "outputs": [
    {
     "name": "stdout",
     "output_type": "stream",
     "text": [
      "Active\n",
      "Cases\n",
      "4-7 399 399\n",
      "Active\n",
      "Cases\n",
      "4-8 431 32\n",
      "Active\n",
      "Cases\n",
      "4-9 469 38\n",
      "Active\n",
      "Cases\n",
      "4-10 507 38\n",
      "Active\n",
      "Cases\n",
      "4-11 545 38\n",
      "Active\n",
      "Cases\n",
      "4-12 588 43\n",
      "Active\n",
      "Cases\n",
      "4-13 623 35\n",
      "Active\n",
      "Cases\n",
      "4-14 631 8\n",
      "Active\n",
      "Cases\n",
      "4-15 624 -7\n",
      "Active\n",
      "Cases\n",
      "4-16 677 53\n",
      "Active\n",
      "Cases\n",
      "4-17 685 8\n",
      "Active\n",
      "Cases\n",
      "4-18 656 -29\n",
      "Active\n",
      "Cases\n",
      "4-19 678 22\n",
      "Active\n",
      "Cases\n",
      "4-20 700 22\n",
      "Active\n",
      "Cases\n",
      "4-21 665 -35\n",
      "Active\n",
      "Cases\n",
      "4-22 691 26\n",
      "Active\n",
      "Cases\n",
      "4-23 726 35\n",
      "Active\n",
      "Cases\n",
      "4-24 741 15\n",
      "Active\n",
      "Cases\n",
      "4-25 655 -86\n",
      "Active\n",
      "Cases\n",
      "4-26 657 2\n",
      "Active\n",
      "Cases\n",
      "4-27 680 23\n",
      "Active\n",
      "Cases\n",
      "4-28 657 -23\n",
      "Active\n",
      "Cases\n",
      "4-29 672 15\n",
      "Active\n",
      "Cases\n",
      "4-30 642 -30\n",
      "Active\n",
      "Cases\n",
      "5-1 644 2\n",
      "Active\n",
      "Cases\n",
      "5-2 704 60\n",
      "Active\n",
      "Cases\n",
      "5-3 781 77\n",
      "Active\n",
      "Cases\n",
      "5-4 809 28\n",
      "Active\n",
      "Cases\n",
      "5-5 802 -7\n",
      "Active\n",
      "Cases\n",
      "5-6 791 -11\n",
      "Active\n",
      "Cases\n",
      "5-7 841 50\n",
      "Active\n",
      "Cases\n",
      "5-8 824 -17\n",
      "Active\n",
      "Cases\n",
      "5-9 841 17\n",
      "Active\n",
      "Cases\n",
      "5-10 869 28\n",
      "Active\n",
      "Cases\n",
      "5-11 867 -2\n",
      "Active\n",
      "Cases\n",
      "5-12 835 -32\n",
      "Active\n",
      "Cases\n",
      "5-13 835 0\n",
      "Active\n",
      "Cases\n",
      "5-14 867 32\n",
      "Active\n",
      "Cases\n",
      "5-15 911 44\n",
      "Active\n",
      "Cases\n",
      "5-16 987 76\n",
      "Active\n",
      "Cases\n",
      "5-17 987 0\n",
      "Active\n",
      "Cases\n",
      "5-18 959 -28\n",
      "Active\n",
      "Cases\n",
      "5-19 998 39\n",
      "Active\n",
      "Cases\n",
      "5-20 1052 54\n",
      "Active\n",
      "Cases\n",
      "5-21 1059 7\n",
      "Active\n",
      "Cases\n",
      "5-22 1062 3\n",
      "Active\n",
      "Cases\n",
      "5-23 1064 2\n",
      "Active\n",
      "Cases\n",
      "5-24 1085 21\n",
      "Active\n",
      "Cases\n",
      "5-25 1074 -11\n",
      "Active\n",
      "Cases\n",
      "5-26 1081 7\n",
      "Active\n",
      "Cases\n",
      "5-27 1074 -7\n",
      "Active\n",
      "Cases\n",
      "5-28 1087 13\n",
      "Active\n",
      "Cases\n",
      "5-29 1130 43\n",
      "Active\n",
      "Cases\n",
      "5-30 1144 14\n",
      "Active\n",
      "Cases\n",
      "5-31 1275 131\n",
      "Active\n",
      "Cases\n",
      "6-1 1034 -241\n",
      "Active\n",
      "Cases\n",
      "6-2 1019 -15\n",
      "Active\n",
      "Cases\n",
      "6-3 999 -20\n",
      "Active\n",
      "Cases\n",
      "6-4 1009 10\n",
      "Active\n",
      "Cases\n",
      "6-5 1017 8\n",
      "Active\n",
      "Cases\n",
      "6-6 1104 87\n",
      "Active Cases 06-08 1135 31\n"
     ]
    }
   ],
   "source": [
    "count = 1\n",
    "current_total = 0\n",
    "for x in a.T.Bexar[1:]:\n",
    "    print(a.T.Bexar.index[count], int(x), int(x - current_total))\n",
    "    count += 1\n",
    "    current_total = x"
   ]
  },
  {
   "cell_type": "code",
   "execution_count": 8,
   "metadata": {},
   "outputs": [],
   "source": [
    "import matplotlib.pyplot as plt\n",
    "import numpy as np"
   ]
  },
  {
   "cell_type": "code",
   "execution_count": 9,
   "metadata": {},
   "outputs": [
    {
     "data": {
      "text/plain": [
       "[<matplotlib.lines.Line2D at 0x6d48c570>]"
      ]
     },
     "execution_count": 9,
     "metadata": {},
     "output_type": "execute_result"
    },
    {
     "data": {
      "image/png": "[encoded data removed]",
      "text/plain": [
       "<Figure size 432x288 with 1 Axes>"
      ]
     },
     "metadata": {
      "needs_background": "light"
     },
     "output_type": "display_data"
    }
   ],
   "source": [
    "plt.plot([1,2,3,4])"
   ]
  },
  {
   "cell_type": "code",
   "execution_count": 10,
   "metadata": {},
   "outputs": [
    {
     "data": {
      "text/plain": [
       "[<matplotlib.lines.Line2D at 0x6d30dbb0>]"
      ]
     },
     "execution_count": 10,
     "metadata": {},
     "output_type": "execute_result"
    },
    {
     "data": {
      "image/png": "[encoded data removed]",
      "text/plain": [
       "<Figure size 432x288 with 1 Axes>"
      ]
     },
     "metadata": {
      "needs_background": "light"
     },
     "output_type": "display_data"
    }
   ],
   "source": [
    "plt.plot([1,2,3,4],[1,4,9,16],'ro')"
   ]
  },
  {
   "cell_type": "code",
   "execution_count": 11,
   "metadata": {},
   "outputs": [
    {
     "data": {
      "text/plain": [
       "[<matplotlib.lines.Line2D at 0x6d39c330>]"
      ]
     },
     "execution_count": 11,
     "metadata": {},
     "output_type": "execute_result"
    },
    {
     "data": {
      "image/png": "[encoded data removed]",
      "text/plain": [
       "<Figure size 432x288 with 1 Axes>"
      ]
     },
     "metadata": {
      "needs_background": "light"
     },
     "output_type": "display_data"
    }
   ],
   "source": [
    "plt.axis([0,5,0,20])\n",
    "plt.title('My first plot')\n",
    "plt.xlabel('Counting',color='gray')\n",
    "plt.ylabel('Square Value',color='gray')\n",
    "plt.text(1,1.5,'First')\n",
    "plt.text(2,4.5,'Second')\n",
    "plt.text(3,9.5,'Third')\n",
    "plt.text(4,16.5,'Fourth')\n",
    "plt.text(1.1,12,r'$y = x^2$',fontsize=20,bbox={'facecolor':'yellow','alpha':0.4})\n",
    "plt.plot([1,2,3,4],[1,4,9,16],'ro')"
   ]
  },
  {
   "cell_type": "code",
   "execution_count": 12,
   "metadata": {},
   "outputs": [
    {
     "data": {
      "image/png": "[encoded data removed]",
      "text/plain": [
       "<Figure size 432x288 with 1 Axes>"
      ]
     },
     "metadata": {
      "needs_background": "light"
     },
     "output_type": "display_data"
    }
   ],
   "source": [
    "plt.axis([0,5,0,20])\n",
    "plt.title('My first plot')\n",
    "plt.xlabel('Counting',color='gray')\n",
    "plt.ylabel('Square Value',color='gray')\n",
    "plt.text(1,1.5,'First')\n",
    "plt.text(2,4.5,'Second')\n",
    "plt.text(3,9.5,'Third')\n",
    "plt.text(4,16.5,'Fourth')\n",
    "plt.text(1.1,12,r'$y = x^2$',fontsize=20,bbox={'facecolor':'yellow','alpha':5.9})\n",
    "plt.grid(True)\n",
    "plt.plot([1,2,3,4],[1,4,9,16],'ro')\n",
    "plt.plot([1,2,3,4],[0.8,3.5,8,15],'g^')\n",
    "plt.plot([1,2,3,4],[0.5,2.5,4,12],'b*')\n",
    "plt.legend(['First Series','Second Series','Third Series'])\n",
    "plt.savefig('my_chart.png')"
   ]
  },
  {
   "cell_type": "code",
   "execution_count": 13,
   "metadata": {},
   "outputs": [
    {
     "data": {
      "text/plain": [
       "[<matplotlib.lines.Line2D at 0x6d20b8b0>]"
      ]
     },
     "execution_count": 13,
     "metadata": {},
     "output_type": "execute_result"
    },
    {
     "data": {
      "image/png": "[encoded data removed]",
      "text/plain": [
       "<Figure size 432x288 with 1 Axes>"
      ]
     },
     "metadata": {
      "needs_background": "light"
     },
     "output_type": "display_data"
    }
   ],
   "source": [
    "plt.plot([1,2,4,2,1,0,1,2,1,4],linewidth=5.0)"
   ]
  },
  {
   "cell_type": "code",
   "execution_count": 14,
   "metadata": {},
   "outputs": [],
   "source": [
    "?plt.grid"
   ]
  },
  {
   "cell_type": "code",
   "execution_count": 15,
   "metadata": {},
   "outputs": [
    {
     "data": {
      "text/plain": [
       "[<matplotlib.lines.Line2D at 0x6d190430>]"
      ]
     },
     "execution_count": 15,
     "metadata": {},
     "output_type": "execute_result"
    },
    {
     "data": {
      "image/png": "[encoded data removed]",
      "text/plain": [
       "<Figure size 432x288 with 2 Axes>"
      ]
     },
     "metadata": {
      "needs_background": "light"
     },
     "output_type": "display_data"
    }
   ],
   "source": [
    "t = np.arange(0,5,0.1)\n",
    "y1 = np.sin(2*np.pi*t)\n",
    "y2 = np.cos(2*np.pi*t)\n",
    "plt.subplot(121)\n",
    "plt.plot(t,y1,'b-.')\n",
    "plt.subplot(122)\n",
    "plt.plot(t,y2,'r--')"
   ]
  },
  {
   "cell_type": "code",
   "execution_count": 16,
   "metadata": {},
   "outputs": [],
   "source": [
    "?plt.subplot"
   ]
  },
  {
   "cell_type": "code",
   "execution_count": 17,
   "metadata": {},
   "outputs": [],
   "source": [
    "import datetime\n",
    "import matplotlib.dates as mdates\n",
    "months = mdates.MonthLocator()\n",
    "days = mdates.DayLocator()\n",
    "timeFmt = mdates.DateFormatter('%Y-%m')"
   ]
  },
  {
   "cell_type": "code",
   "execution_count": 18,
   "metadata": {},
   "outputs": [],
   "source": [
    "events = [datetime.date(2015,1,23),datetime.date(2015,1,28),datetime.date(2015,2,3),datetime.date(2015,2,21),datetime.date(2015,3,15),datetime.date(2015,3,24),datetime.date(2015,4,8),datetime.date(2015,4,24)]\n",
    "readings = [12,22,25,20,18,15,17,14]"
   ]
  },
  {
   "cell_type": "code",
   "execution_count": 19,
   "metadata": {},
   "outputs": [
    {
     "data": {
      "text/plain": [
       "[<matplotlib.lines.Line2D at 0x6d143130>]"
      ]
     },
     "execution_count": 19,
     "metadata": {},
     "output_type": "execute_result"
    },
    {
     "data": {
      "image/png": "[encoded data removed]",
      "text/plain": [
       "<Figure size 432x288 with 1 Axes>"
      ]
     },
     "metadata": {
      "needs_background": "light"
     },
     "output_type": "display_data"
    }
   ],
   "source": [
    "fig, ax = plt.subplots()\n",
    "ax.xaxis.set_major_locator(months)\n",
    "ax.xaxis.set_major_formatter(timeFmt)\n",
    "ax.xaxis.set_minor_locator(days)\n",
    "plt.plot(events,readings)"
   ]
  },
  {
   "cell_type": "code",
   "execution_count": 20,
   "metadata": {},
   "outputs": [
    {
     "data": {
      "text/plain": [
       "[<matplotlib.lines.Line2D at 0x6d143d90>]"
      ]
     },
     "execution_count": 20,
     "metadata": {},
     "output_type": "execute_result"
    },
    {
     "data": {
      "image/png": "[encoded data removed]",
      "text/plain": [
       "<Figure size 432x288 with 1 Axes>"
      ]
     },
     "metadata": {
      "needs_background": "light"
     },
     "output_type": "display_data"
    }
   ],
   "source": [
    "plt.plot(a.T.Bexar[1:])"
   ]
  },
  {
   "cell_type": "code",
   "execution_count": 21,
   "metadata": {},
   "outputs": [
    {
     "data": {
      "text/plain": [
       "[<matplotlib.lines.Line2D at 0x6d004730>]"
      ]
     },
     "execution_count": 21,
     "metadata": {},
     "output_type": "execute_result"
    },
    {
     "data": {
      "image/png": "[encoded data removed]",
      "text/plain": [
       "<Figure size 432x288 with 1 Axes>"
      ]
     },
     "metadata": {
      "needs_background": "light"
     },
     "output_type": "display_data"
    }
   ],
   "source": [
    "plt.plot(a.sum(axis=0))"
   ]
  },
  {
   "cell_type": "code",
   "execution_count": 22,
   "metadata": {},
   "outputs": [],
   "source": [
    "b = a.T.Bexar[a.columns[1:]]"
   ]
  },
  {
   "cell_type": "code",
   "execution_count": 23,
   "metadata": {},
   "outputs": [
    {
     "data": {
      "text/plain": [
       "Active\\r\\nCases\\r\\n4-7      399\n",
       "Active\\r\\nCases\\r\\n4-8      431\n",
       "Active\\r\\nCases\\r\\n4-9      469\n",
       "Active\\r\\nCases\\r\\n4-10     507\n",
       "Active\\r\\nCases\\r\\n4-11     545\n",
       "                           ... \n",
       "Active\\r\\nCases\\r\\n6-3      999\n",
       "Active\\r\\nCases\\r\\n6-4     1009\n",
       "Active\\r\\nCases\\r\\n6-5     1017\n",
       "Active\\r\\nCases\\r\\n6-6     1104\n",
       "Active Cases 06-08         1135\n",
       "Name: Bexar, Length: 62, dtype: object"
      ]
     },
     "execution_count": 23,
     "metadata": {},
     "output_type": "execute_result"
    }
   ],
   "source": [
    "b"
   ]
  },
  {
   "cell_type": "code",
   "execution_count": 24,
   "metadata": {},
   "outputs": [
    {
     "data": {
      "text/plain": [
       "'4-7'"
      ]
     },
     "execution_count": 24,
     "metadata": {},
     "output_type": "execute_result"
    }
   ],
   "source": [
    "b.index[0].split('\\n')[2]"
   ]
  },
  {
   "cell_type": "code",
   "execution_count": 25,
   "metadata": {},
   "outputs": [
    {
     "data": {
      "text/plain": [
       "399"
      ]
     },
     "execution_count": 25,
     "metadata": {},
     "output_type": "execute_result"
    }
   ],
   "source": [
    "b[0]"
   ]
  },
  {
   "cell_type": "code",
   "execution_count": null,
   "metadata": {},
   "outputs": [],
   "source": []
  },
  {
   "cell_type": "code",
   "execution_count": 26,
   "metadata": {},
   "outputs": [
    {
     "ename": "IndexError",
     "evalue": "list index out of range",
     "output_type": "error",
     "traceback": [
      "\u001b[0;31m---------------------------------------------------------------------------\u001b[0m",
      "\u001b[0;31mIndexError\u001b[0m                                Traceback (most recent call last)",
      "\u001b[0;32m<ipython-input-26-1d2c0ee7be65>\u001b[0m in \u001b[0;36m<module>\u001b[0;34m()\u001b[0m\n\u001b[1;32m      3\u001b[0m \u001b[0;32mfor\u001b[0m \u001b[0mx\u001b[0m \u001b[0;32min\u001b[0m \u001b[0mb\u001b[0m\u001b[0;34m:\u001b[0m\u001b[0;34m\u001b[0m\u001b[0;34m\u001b[0m\u001b[0m\n\u001b[1;32m      4\u001b[0m \u001b[0;31m#    print(b.index[count].split('\\n')[2],b[count])\u001b[0m\u001b[0;34m\u001b[0m\u001b[0;34m\u001b[0m\u001b[0;34m\u001b[0m\u001b[0m\n\u001b[0;32m----> 5\u001b[0;31m     \u001b[0mmonth_temp\u001b[0m \u001b[0;34m=\u001b[0m \u001b[0mint\u001b[0m\u001b[0;34m(\u001b[0m\u001b[0mb\u001b[0m\u001b[0;34m.\u001b[0m\u001b[0mindex\u001b[0m\u001b[0;34m[\u001b[0m\u001b[0mcount\u001b[0m\u001b[0;34m]\u001b[0m\u001b[0;34m.\u001b[0m\u001b[0msplit\u001b[0m\u001b[0;34m(\u001b[0m\u001b[0;34m'\\n'\u001b[0m\u001b[0;34m)\u001b[0m\u001b[0;34m[\u001b[0m\u001b[0;36m2\u001b[0m\u001b[0;34m]\u001b[0m\u001b[0;34m.\u001b[0m\u001b[0msplit\u001b[0m\u001b[0;34m(\u001b[0m\u001b[0;34m'-'\u001b[0m\u001b[0;34m)\u001b[0m\u001b[0;34m[\u001b[0m\u001b[0;36m0\u001b[0m\u001b[0;34m]\u001b[0m\u001b[0;34m)\u001b[0m\u001b[0;34m\u001b[0m\u001b[0;34m\u001b[0m\u001b[0m\n\u001b[0m\u001b[1;32m      6\u001b[0m     \u001b[0mday_temp\u001b[0m \u001b[0;34m=\u001b[0m \u001b[0mint\u001b[0m\u001b[0;34m(\u001b[0m\u001b[0mb\u001b[0m\u001b[0;34m.\u001b[0m\u001b[0mindex\u001b[0m\u001b[0;34m[\u001b[0m\u001b[0mcount\u001b[0m\u001b[0;34m]\u001b[0m\u001b[0;34m.\u001b[0m\u001b[0msplit\u001b[0m\u001b[0;34m(\u001b[0m\u001b[0;34m'\\n'\u001b[0m\u001b[0;34m)\u001b[0m\u001b[0;34m[\u001b[0m\u001b[0;36m2\u001b[0m\u001b[0;34m]\u001b[0m\u001b[0;34m.\u001b[0m\u001b[0msplit\u001b[0m\u001b[0;34m(\u001b[0m\u001b[0;34m'-'\u001b[0m\u001b[0;34m)\u001b[0m\u001b[0;34m[\u001b[0m\u001b[0;36m1\u001b[0m\u001b[0;34m]\u001b[0m\u001b[0;34m)\u001b[0m\u001b[0;34m\u001b[0m\u001b[0;34m\u001b[0m\u001b[0m\n\u001b[1;32m      7\u001b[0m \u001b[0;31m#    print(datetime.datetime(2020, month_temp, day_temp))\u001b[0m\u001b[0;34m\u001b[0m\u001b[0;34m\u001b[0m\u001b[0;34m\u001b[0m\u001b[0m\n",
      "\u001b[0;31mIndexError\u001b[0m: list index out of range"
     ]
    }
   ],
   "source": [
    "dated_dict = {}\n",
    "count = 0\n",
    "for x in b:\n",
    "#    print(b.index[count].split('\\n')[2],b[count])\n",
    "    month_temp = int(b.index[count].split('\\n')[2].split('-')[0])\n",
    "    day_temp = int(b.index[count].split('\\n')[2].split('-')[1])\n",
    "#    print(datetime.datetime(2020, month_temp, day_temp))\n",
    "    dated_dict[datetime.datetime(2020, month_temp, day_temp)] = b[count]\n",
    "    count += 1"
   ]
  },
  {
   "cell_type": "code",
   "execution_count": null,
   "metadata": {},
   "outputs": [],
   "source": [
    "dated_dict"
   ]
  },
  {
   "cell_type": "code",
   "execution_count": null,
   "metadata": {},
   "outputs": [],
   "source": [
    "dated_df = pd.DataFrame(dated_dict.items(), columns=['Date', 'Active Cases'])"
   ]
  },
  {
   "cell_type": "code",
   "execution_count": null,
   "metadata": {},
   "outputs": [],
   "source": [
    "c = dated_df.set_index('Date')"
   ]
  },
  {
   "cell_type": "code",
   "execution_count": null,
   "metadata": {},
   "outputs": [],
   "source": [
    "c"
   ]
  },
  {
   "cell_type": "code",
   "execution_count": null,
   "metadata": {},
   "outputs": [],
   "source": [
    "plt.plot(c)"
   ]
  },
  {
   "cell_type": "code",
   "execution_count": null,
   "metadata": {},
   "outputs": [],
   "source": [
    "import datetime\n",
    "import matplotlib.dates as mdates\n",
    "months = mdates.MonthLocator()\n",
    "days = mdates.DayLocator()\n",
    "timeFmt = mdates.DateFormatter('%b %Y')\n",
    "fig, ax = plt.subplots()\n",
    "ax.xaxis.set_major_locator(months)\n",
    "ax.xaxis.set_major_formatter(timeFmt)\n",
    "ax.xaxis.set_minor_locator(days)\n",
    "plt.xlabel('Date',color='black')\n",
    "plt.ylabel('Number Active',color='black')\n",
    "plt.plot(c)\n",
    "plt.title('Bexar County Active COVID19 Cases')\n",
    "plt.savefig('test1.png')"
   ]
  },
  {
   "cell_type": "code",
   "execution_count": null,
   "metadata": {},
   "outputs": [],
   "source": []
  },
  {
   "cell_type": "code",
   "execution_count": null,
   "metadata": {},
   "outputs": [],
   "source": []
  }
 ],
 "metadata": {
  "kernelspec": {
   "display_name": "Python 3",
   "language": "python",
   "name": "python3"
  },
  "language_info": {
   "codemirror_mode": {
    "name": "ipython",
    "version": 3
   },
   "file_extension": ".py",
   "mimetype": "text/x-python",
   "name": "python",
   "nbconvert_exporter": "python",
   "pygments_lexer": "ipython3",
   "version": "3.7.3"
  }
 },
 "nbformat": 4,
 "nbformat_minor": 2
}
